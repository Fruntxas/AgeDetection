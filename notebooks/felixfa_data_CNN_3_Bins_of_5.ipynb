{
 "cells": [
  {
   "cell_type": "markdown",
   "id": "cdee948d",
   "metadata": {},
   "source": [
    "# Preparing"
   ]
  },
  {
   "cell_type": "markdown",
   "id": "casual-spectrum",
   "metadata": {
    "heading_collapsed": true,
    "id": "casual-spectrum"
   },
   "source": [
    "## Imports and Functions"
   ]
  },
  {
   "cell_type": "code",
   "execution_count": 1,
   "id": "ancient-workstation",
   "metadata": {
    "hidden": true,
    "id": "ancient-workstation"
   },
   "outputs": [],
   "source": [
    "import os\n",
    "import random\n",
    "import numpy as np\n",
    "import cv2\n",
    "import matplotlib.pyplot as plt\n",
    "import pandas as pd\n",
    "import seaborn as sns\n",
    "import regex as re\n",
    "from sklearn.model_selection import train_test_split\n",
    "from tensorflow.keras.utils import to_categorical\n",
    "from tensorflow.keras import layers, models, Sequential, layers\n",
    "from tensorflow.keras.layers import Conv2D, MaxPooling2D, Activation, Dropout, Flatten, Dense, Dropout, LayerNormalization\n",
    "from tensorflow.keras.callbacks import EarlyStopping"
   ]
  },
  {
   "cell_type": "markdown",
   "id": "0af49983",
   "metadata": {
    "hidden": true
   },
   "source": [
    "### Normal"
   ]
  },
  {
   "cell_type": "code",
   "execution_count": 2,
   "id": "4b54966c",
   "metadata": {
    "hidden": true,
    "id": "4b54966c"
   },
   "outputs": [],
   "source": [
    "folder_path = '/Users/Felix/Google Drive/Felix/code/AgeRecognition/raw_data/Faces'\n",
    "#folder_path = '/content/UTKFaces/UTKFaces/Faces'"
   ]
  },
  {
   "cell_type": "code",
   "execution_count": 3,
   "id": "invisible-cholesterol",
   "metadata": {
    "hidden": true,
    "id": "invisible-cholesterol"
   },
   "outputs": [],
   "source": [
    "def load_images_from_folder(folder_path,percent=100):\n",
    "    filenames = [f for f in os.listdir(folder_path) if not f.startswith('.')]\n",
    "    filenames.sort(key=lambda f: int(re.sub('\\D', '', f)))\n",
    "    images = []\n",
    "    for filename in filenames:\n",
    "        img = cv2.imread(os.path.join(folder_path,filename),cv2.IMREAD_UNCHANGED)\n",
    "        \n",
    "        scale_percent = percent # percent of original size\n",
    "        width = int(img.shape[1] * scale_percent / 100)\n",
    "        height = int(img.shape[0] * scale_percent / 100)\n",
    "        dim = (width, height)\n",
    "        \n",
    "        # resize image\n",
    "        resized = cv2.resize(img, dim, interpolation = cv2.INTER_AREA)\n",
    "        cv2.imshow(\"Resized image\", resized)\n",
    "        #cv2.waitKey(0)\n",
    "        #cv2.destroyAllWindows()\n",
    "        if img is not None:\n",
    "            img_colors = cv2.cvtColor(resized, cv2.COLOR_BGR2RGB)\n",
    "            images.append(img_colors)\n",
    "    return images\n",
    "\n",
    "def show_all_images_from_list(img_list,img_df):\n",
    "    n=int(len(img_list)/5) +1 \n",
    "    f = plt.figure(figsize=(25,n*5))\n",
    "    for i,img in enumerate(img_list):\n",
    "        f.add_subplot(n, 5, i + 1)\n",
    "        plt.title(f'{img_df.iloc[i]}',\n",
    "                  fontweight=\"bold\",\n",
    "                  fontsize=15)\n",
    "        plt.imshow(img)\n",
    "        f.tight_layout()\n",
    "\n",
    "def load_image_data_into_dataframe(folderpath):\n",
    "\n",
    "    filenames = [f for f in os.listdir(folder_path) if not f.startswith('.')]\n",
    "    filenames.sort(key=lambda f: int(re.sub('\\D', '', f)))\n",
    "    df = pd.DataFrame()\n",
    "    for filename in filenames:\n",
    "        if filename.startswith('81'):\n",
    "            break\n",
    "        parsed_name = filename.split('_')\n",
    "        df= df.append({'age' : int(parsed_name[0]),\n",
    "                       'gender' : parsed_name[1],\n",
    "                       'race' : parsed_name[2]}, ignore_index=True)\n",
    "    df['gender'] = df['gender'].map({'0': 'male', '1': 'female'})\n",
    "    df['race'] = df['race'].map({'0': 'White', '1': 'Black', '2': 'Asian', '3': 'Indian', '4': 'Others'})\n",
    "    return df"
   ]
  },
  {
   "cell_type": "code",
   "execution_count": 4,
   "id": "attempted-aruba",
   "metadata": {
    "hidden": true,
    "id": "attempted-aruba",
    "scrolled": false
   },
   "outputs": [],
   "source": [
    "img_pic=load_images_from_folder(folder_path)"
   ]
  },
  {
   "cell_type": "code",
   "execution_count": 5,
   "id": "herbal-twist",
   "metadata": {
    "hidden": true,
    "id": "herbal-twist",
    "scrolled": false
   },
   "outputs": [],
   "source": [
    "img_df = load_image_data_into_dataframe(folder_path)"
   ]
  },
  {
   "cell_type": "markdown",
   "id": "f18f2eb9",
   "metadata": {
    "id": "f18f2eb9"
   },
   "source": [
    "## Targets into Age Bins of 5 (Baseline: 6%)"
   ]
  },
  {
   "cell_type": "code",
   "execution_count": 6,
   "id": "35be04e9",
   "metadata": {},
   "outputs": [
    {
     "data": {
      "text/plain": [
       "[0, 5, 10, 15, 20, 25, 30, 35, 40, 45, 50, 55, 60, 65, 70, 75, 80]"
      ]
     },
     "execution_count": 6,
     "metadata": {},
     "output_type": "execute_result"
    }
   ],
   "source": [
    "bins= [5*i for i in range(17)]\n",
    "bins"
   ]
  },
  {
   "cell_type": "code",
   "execution_count": 7,
   "id": "ec4cc6b2",
   "metadata": {
    "scrolled": true
   },
   "outputs": [],
   "source": [
    "bins= [5*i for i in range(17)]\n",
    "labels = [0,1,2,3,4,5,6,7,8,9,10,11,12,13,14,15]\n",
    "img_df['age_group'] = pd.cut(img_df['age'], bins=bins, labels=labels)"
   ]
  },
  {
   "cell_type": "code",
   "execution_count": 8,
   "id": "e2fc51d7",
   "metadata": {},
   "outputs": [
    {
     "data": {
      "text/html": [
       "<div>\n",
       "<style scoped>\n",
       "    .dataframe tbody tr th:only-of-type {\n",
       "        vertical-align: middle;\n",
       "    }\n",
       "\n",
       "    .dataframe tbody tr th {\n",
       "        vertical-align: top;\n",
       "    }\n",
       "\n",
       "    .dataframe thead th {\n",
       "        text-align: right;\n",
       "    }\n",
       "</style>\n",
       "<table border=\"1\" class=\"dataframe\">\n",
       "  <thead>\n",
       "    <tr style=\"text-align: right;\">\n",
       "      <th></th>\n",
       "      <th>age</th>\n",
       "      <th>gender</th>\n",
       "      <th>race</th>\n",
       "      <th>age_group</th>\n",
       "    </tr>\n",
       "  </thead>\n",
       "  <tbody>\n",
       "    <tr>\n",
       "      <th>21700</th>\n",
       "      <td>75.0</td>\n",
       "      <td>female</td>\n",
       "      <td>Black</td>\n",
       "      <td>14</td>\n",
       "    </tr>\n",
       "    <tr>\n",
       "      <th>21701</th>\n",
       "      <td>75.0</td>\n",
       "      <td>female</td>\n",
       "      <td>Asian</td>\n",
       "      <td>14</td>\n",
       "    </tr>\n",
       "    <tr>\n",
       "      <th>21702</th>\n",
       "      <td>75.0</td>\n",
       "      <td>female</td>\n",
       "      <td>Asian</td>\n",
       "      <td>14</td>\n",
       "    </tr>\n",
       "    <tr>\n",
       "      <th>21703</th>\n",
       "      <td>75.0</td>\n",
       "      <td>female</td>\n",
       "      <td>Indian</td>\n",
       "      <td>14</td>\n",
       "    </tr>\n",
       "    <tr>\n",
       "      <th>21704</th>\n",
       "      <td>76.0</td>\n",
       "      <td>male</td>\n",
       "      <td>White</td>\n",
       "      <td>15</td>\n",
       "    </tr>\n",
       "    <tr>\n",
       "      <th>...</th>\n",
       "      <td>...</td>\n",
       "      <td>...</td>\n",
       "      <td>...</td>\n",
       "      <td>...</td>\n",
       "    </tr>\n",
       "    <tr>\n",
       "      <th>22000</th>\n",
       "      <td>80.0</td>\n",
       "      <td>female</td>\n",
       "      <td>Black</td>\n",
       "      <td>15</td>\n",
       "    </tr>\n",
       "    <tr>\n",
       "      <th>22001</th>\n",
       "      <td>80.0</td>\n",
       "      <td>female</td>\n",
       "      <td>Asian</td>\n",
       "      <td>15</td>\n",
       "    </tr>\n",
       "    <tr>\n",
       "      <th>22002</th>\n",
       "      <td>80.0</td>\n",
       "      <td>female</td>\n",
       "      <td>Asian</td>\n",
       "      <td>15</td>\n",
       "    </tr>\n",
       "    <tr>\n",
       "      <th>22003</th>\n",
       "      <td>80.0</td>\n",
       "      <td>female</td>\n",
       "      <td>Indian</td>\n",
       "      <td>15</td>\n",
       "    </tr>\n",
       "    <tr>\n",
       "      <th>22004</th>\n",
       "      <td>80.0</td>\n",
       "      <td>female</td>\n",
       "      <td>Others</td>\n",
       "      <td>15</td>\n",
       "    </tr>\n",
       "  </tbody>\n",
       "</table>\n",
       "<p>305 rows × 4 columns</p>\n",
       "</div>"
      ],
      "text/plain": [
       "        age  gender    race age_group\n",
       "21700  75.0  female   Black        14\n",
       "21701  75.0  female   Asian        14\n",
       "21702  75.0  female   Asian        14\n",
       "21703  75.0  female  Indian        14\n",
       "21704  76.0    male   White        15\n",
       "...     ...     ...     ...       ...\n",
       "22000  80.0  female   Black        15\n",
       "22001  80.0  female   Asian        15\n",
       "22002  80.0  female   Asian        15\n",
       "22003  80.0  female  Indian        15\n",
       "22004  80.0  female  Others        15\n",
       "\n",
       "[305 rows x 4 columns]"
      ]
     },
     "execution_count": 8,
     "metadata": {},
     "output_type": "execute_result"
    }
   ],
   "source": [
    "img_df.tail(305)"
   ]
  },
  {
   "cell_type": "code",
   "execution_count": 9,
   "id": "c25a740b",
   "metadata": {
    "id": "c25a740b"
   },
   "outputs": [
    {
     "data": {
      "text/plain": [
       "15     301\n",
       "14     359\n",
       "13     463\n",
       "2      583\n",
       "12     674\n",
       "1      816\n",
       "11     944\n",
       "3      971\n",
       "9      971\n",
       "8     1062\n",
       "10    1176\n",
       "7     1825\n",
       "0     2308\n",
       "6     2341\n",
       "4     2545\n",
       "5     4666\n",
       "Name: age_group, dtype: int64"
      ]
     },
     "execution_count": 9,
     "metadata": {},
     "output_type": "execute_result"
    }
   ],
   "source": [
    "img_df['age_group'].value_counts().sort_values()"
   ]
  },
  {
   "cell_type": "markdown",
   "id": "rxucb3l7ZEeK",
   "metadata": {
    "id": "rxucb3l7ZEeK"
   },
   "source": [
    "## CNN 1 Preperations (Size: Original)"
   ]
  },
  {
   "cell_type": "code",
   "execution_count": 10,
   "id": "551b8b67",
   "metadata": {
    "id": "551b8b67"
   },
   "outputs": [
    {
     "data": {
      "text/plain": [
       "(19804, 200, 200, 3)"
      ]
     },
     "execution_count": 10,
     "metadata": {},
     "output_type": "execute_result"
    }
   ],
   "source": [
    "X = img_pic\n",
    "y = img_df['age_group']\n",
    "\n",
    "X_train, X_test, y_train, y_test = train_test_split(X, y, test_size=0.1, random_state=42)\n",
    "\n",
    "X_train = np.array(X_train)\n",
    "X_test =np.array(X_test)\n",
    "y_train = np.array(y_train)\n",
    "y_test =np.array(y_test)\n",
    "X_train.shape"
   ]
  },
  {
   "cell_type": "code",
   "execution_count": 11,
   "id": "ced4cca7",
   "metadata": {
    "id": "ced4cca7"
   },
   "outputs": [],
   "source": [
    "X_train = X_train/255 - 0.5\n",
    "X_test = X_test/255 - 0.5\n",
    "y_train_cat = to_categorical(y_train)\n",
    "y_test_cat = to_categorical(y_test)"
   ]
  },
  {
   "cell_type": "code",
   "execution_count": 12,
   "id": "e5509d4d",
   "metadata": {
    "colab": {
     "base_uri": "https://localhost:8080/",
     "height": 168
    },
    "id": "e5509d4d",
    "outputId": "46693f4f-48e9-4ce4-9fe5-45c36c1f109b"
   },
   "outputs": [],
   "source": [
    "#np.save('X_train', X_train)\n",
    "#np.save('X_test', X_test)\n",
    "#np.save('y_train_cat', y_train_cat)\n",
    "#np.save('y_test_cat', y_test_cat)"
   ]
  },
  {
   "cell_type": "code",
   "execution_count": 13,
   "id": "ac6e8269",
   "metadata": {},
   "outputs": [
    {
     "name": "stdout",
     "output_type": "stream",
     "text": [
      "(19804, 200, 200, 3)\n",
      "(2201, 200, 200, 3)\n"
     ]
    }
   ],
   "source": [
    "print(X_train.shape)\n",
    "print(X_test.shape)"
   ]
  },
  {
   "cell_type": "markdown",
   "id": "d0d86c13",
   "metadata": {
    "heading_collapsed": true
   },
   "source": [
    "## CNN 1 (Accuracy: 29,8 %)"
   ]
  },
  {
   "cell_type": "code",
   "execution_count": 14,
   "id": "8cf04849",
   "metadata": {
    "hidden": true
   },
   "outputs": [],
   "source": [
    "def initialize_model():\n",
    "    model = models.Sequential()\n",
    "    ### First convolution & max-pooling\n",
    "    model.add(layers.Conv2D(8, (4,4), input_shape=(200, 200, 3),\n",
    "                            activation='relu'))\n",
    "    model.add(layers.MaxPool2D(pool_size=(2,2)))\n",
    "\n",
    "    ### Flattening\n",
    "    model.add(layers.Flatten())\n",
    "\n",
    "    ### One fully connected\n",
    "    model.add(layers.Dense(10, activation='relu'))\n",
    "\n",
    "    ### Last layer (let's say a classification with 10 output)\n",
    "    model.add(layers.Dense(16, activation='softmax'))\n",
    "    \n",
    "    ### Model compilation\n",
    "    model.compile(loss='categorical_crossentropy',\n",
    "              optimizer='adam',\n",
    "              metrics=['accuracy'])\n",
    "    return model"
   ]
  },
  {
   "cell_type": "code",
   "execution_count": null,
   "id": "e1867d3b",
   "metadata": {
    "hidden": true
   },
   "outputs": [],
   "source": [
    "model = initialize_model()\n",
    "\n",
    "es = EarlyStopping(patience=2,restore_best_weights=True)\n",
    "\n",
    "# YOUR CODE HERE\n",
    "model.fit(X_train, y_train_cat, \n",
    "          validation_split=0.3,\n",
    "          callbacks=[es],\n",
    "          epochs=10, \n",
    "          batch_size=32, \n",
    "          verbose=1)"
   ]
  },
  {
   "cell_type": "code",
   "execution_count": null,
   "id": "49529dc3",
   "metadata": {
    "hidden": true
   },
   "outputs": [],
   "source": [
    "print(model.evaluate(X_test, y_test_cat, verbose=0)[1])"
   ]
  },
  {
   "cell_type": "markdown",
   "id": "c496b694",
   "metadata": {
    "heading_collapsed": true
   },
   "source": [
    "## CNN Preperations Image Size: 100*100"
   ]
  },
  {
   "cell_type": "code",
   "execution_count": null,
   "id": "7049b6df",
   "metadata": {
    "hidden": true
   },
   "outputs": [],
   "source": [
    "img_pic=load_images_from_folder(folder_path,50)"
   ]
  },
  {
   "cell_type": "code",
   "execution_count": null,
   "id": "27f760cf",
   "metadata": {
    "hidden": true
   },
   "outputs": [],
   "source": [
    "X = img_pic\n",
    "y = img_df['age_group']\n",
    "X_train, X_test, y_train, y_test = train_test_split(X, y, test_size=0.1, random_state=42)\n",
    "\n",
    "X_train = np.array(X_train)\n",
    "X_test =np.array(X_test)\n",
    "y_train = np.array(y_train)\n",
    "y_test =np.array(y_test)\n",
    "X_train.shape"
   ]
  },
  {
   "cell_type": "code",
   "execution_count": null,
   "id": "77af4afd",
   "metadata": {
    "hidden": true
   },
   "outputs": [],
   "source": [
    "X_train = X_train/255 - 0.5\n",
    "X_test = X_test/255 - 0.5\n",
    "y_train_cat = to_categorical(y_train)\n",
    "y_test_cat = to_categorical(y_test)"
   ]
  },
  {
   "cell_type": "code",
   "execution_count": null,
   "id": "888f677d",
   "metadata": {
    "hidden": true
   },
   "outputs": [],
   "source": [
    "print(X_train.shape)\n",
    "print(X_test.shape)"
   ]
  },
  {
   "cell_type": "markdown",
   "id": "fb5a7e0b",
   "metadata": {
    "heading_collapsed": true
   },
   "source": [
    "# CNN A"
   ]
  },
  {
   "cell_type": "markdown",
   "id": "5ca1a907",
   "metadata": {
    "heading_collapsed": true,
    "hidden": true
   },
   "source": [
    "## CNN 2 (1 hidden with 10) 35,7%"
   ]
  },
  {
   "cell_type": "code",
   "execution_count": 26,
   "id": "71684fb0",
   "metadata": {
    "hidden": true
   },
   "outputs": [],
   "source": [
    "def initialize_model():\n",
    "    model = models.Sequential()\n",
    "    ### First convolution & max-pooling\n",
    "    model.add(layers.Conv2D(8, (4,4), input_shape=(100, 100, 3),\n",
    "                            activation='relu'))\n",
    "    model.add(layers.MaxPool2D(pool_size=(2,2)))\n",
    "\n",
    "    ### Flattening\n",
    "    model.add(layers.Flatten())\n",
    "\n",
    "    ### One fully connected\n",
    "    model.add(layers.Dense(10, activation='relu'))\n",
    "\n",
    "    ### Last layer (let's say a classification with 10 output)\n",
    "    model.add(layers.Dense(16, activation='softmax'))\n",
    "    \n",
    "    ### Model compilation\n",
    "    model.compile(loss='categorical_crossentropy',\n",
    "              optimizer='adam',\n",
    "              metrics=['accuracy'])\n",
    "    return model"
   ]
  },
  {
   "cell_type": "code",
   "execution_count": 27,
   "id": "3ebf78ca",
   "metadata": {
    "hidden": true
   },
   "outputs": [
    {
     "name": "stdout",
     "output_type": "stream",
     "text": [
      "Model: \"sequential_1\"\n",
      "_________________________________________________________________\n",
      "Layer (type)                 Output Shape              Param #   \n",
      "=================================================================\n",
      "conv2d_1 (Conv2D)            (None, 197, 197, 8)       392       \n",
      "_________________________________________________________________\n",
      "max_pooling2d_1 (MaxPooling2 (None, 98, 98, 8)         0         \n",
      "_________________________________________________________________\n",
      "flatten_1 (Flatten)          (None, 76832)             0         \n",
      "_________________________________________________________________\n",
      "dense_2 (Dense)              (None, 10)                768330    \n",
      "_________________________________________________________________\n",
      "dense_3 (Dense)              (None, 16)                176       \n",
      "=================================================================\n",
      "Total params: 768,898\n",
      "Trainable params: 768,898\n",
      "Non-trainable params: 0\n",
      "_________________________________________________________________\n",
      "None\n",
      "Epoch 1/10\n",
      "434/434 [==============================] - 34s 77ms/step - loss: 2.2767 - accuracy: 0.2719 - val_loss: 2.1186 - val_accuracy: 0.2997\n",
      "Epoch 2/10\n",
      "434/434 [==============================] - 26s 60ms/step - loss: 1.9672 - accuracy: 0.3197 - val_loss: 1.9669 - val_accuracy: 0.3147\n",
      "Epoch 3/10\n",
      "434/434 [==============================] - 26s 60ms/step - loss: 1.8504 - accuracy: 0.3417 - val_loss: 1.8757 - val_accuracy: 0.3401\n",
      "Epoch 4/10\n",
      "434/434 [==============================] - 28s 64ms/step - loss: 1.7742 - accuracy: 0.3634 - val_loss: 1.8431 - val_accuracy: 0.3339\n",
      "Epoch 5/10\n",
      "434/434 [==============================] - 29s 67ms/step - loss: 1.7186 - accuracy: 0.3766 - val_loss: 1.8526 - val_accuracy: 0.3393\n",
      "Epoch 6/10\n",
      "434/434 [==============================] - 26s 61ms/step - loss: 1.6738 - accuracy: 0.3856 - val_loss: 1.8154 - val_accuracy: 0.3462\n",
      "Epoch 7/10\n",
      "434/434 [==============================] - 27s 61ms/step - loss: 1.6406 - accuracy: 0.3972 - val_loss: 1.7990 - val_accuracy: 0.3442\n",
      "Epoch 8/10\n",
      "434/434 [==============================] - 26s 61ms/step - loss: 1.5997 - accuracy: 0.4051 - val_loss: 1.9126 - val_accuracy: 0.3341\n",
      "Epoch 9/10\n",
      "434/434 [==============================] - 26s 61ms/step - loss: 1.5704 - accuracy: 0.4141 - val_loss: 1.8092 - val_accuracy: 0.3426\n",
      "Epoch 10/10\n",
      "434/434 [==============================] - 27s 61ms/step - loss: 1.5432 - accuracy: 0.4231 - val_loss: 1.8159 - val_accuracy: 0.3379\n"
     ]
    },
    {
     "data": {
      "text/plain": [
       "<tensorflow.python.keras.callbacks.History at 0x157c81970>"
      ]
     },
     "execution_count": 27,
     "metadata": {},
     "output_type": "execute_result"
    }
   ],
   "source": [
    "model2 = initialize_model()\n",
    "print(model.summary())\n",
    "\n",
    "es = EarlyStopping(patience=5,restore_best_weights=True)\n",
    "\n",
    "# YOUR CODE HERE\n",
    "model2.fit(X_train, y_train_cat, \n",
    "          validation_split=0.3,\n",
    "          callbacks=[es],\n",
    "          epochs=10, \n",
    "          batch_size=32, \n",
    "          verbose=1)"
   ]
  },
  {
   "cell_type": "code",
   "execution_count": 28,
   "id": "3a73ed5c",
   "metadata": {
    "hidden": true
   },
   "outputs": [
    {
     "name": "stdout",
     "output_type": "stream",
     "text": [
      "0.3571104109287262\n"
     ]
    }
   ],
   "source": [
    "print(model2.evaluate(X_test, y_test_cat, verbose=0)[1])"
   ]
  },
  {
   "cell_type": "code",
   "execution_count": 42,
   "id": "a00cf8f2",
   "metadata": {
    "hidden": true
   },
   "outputs": [
    {
     "data": {
      "text/plain": [
       "array([3.0347572e-05, 1.6294294e-05, 8.7637331e-05, 1.3797468e-03,\n",
       "       1.6630489e-02, 1.0185414e-01, 1.7867193e-01, 2.0872526e-01,\n",
       "       1.4289308e-01, 1.2883711e-01, 1.3429570e-01, 5.9380196e-02,\n",
       "       1.7223625e-02, 9.0944525e-03, 4.0032846e-04, 4.7971428e-04],\n",
       "      dtype=float32)"
      ]
     },
     "execution_count": 42,
     "metadata": {},
     "output_type": "execute_result"
    }
   ],
   "source": [
    "model2.predict(X_test)[5]"
   ]
  },
  {
   "cell_type": "code",
   "execution_count": 41,
   "id": "e3fd2e9a",
   "metadata": {
    "hidden": true
   },
   "outputs": [
    {
     "data": {
      "text/plain": [
       "array([ 5,  4, 15,  9,  0, 10])"
      ]
     },
     "execution_count": 41,
     "metadata": {},
     "output_type": "execute_result"
    }
   ],
   "source": [
    "y_test[:6]"
   ]
  },
  {
   "cell_type": "markdown",
   "id": "483b89ff",
   "metadata": {
    "heading_collapsed": true,
    "hidden": true
   },
   "source": [
    "## CNN 3 (1 hidden with 50 ) 33,6 %"
   ]
  },
  {
   "cell_type": "code",
   "execution_count": 43,
   "id": "f84afd25",
   "metadata": {
    "hidden": true
   },
   "outputs": [
    {
     "name": "stdout",
     "output_type": "stream",
     "text": [
      "Model: \"sequential_3\"\n",
      "_________________________________________________________________\n",
      "Layer (type)                 Output Shape              Param #   \n",
      "=================================================================\n",
      "conv2d_3 (Conv2D)            (None, 97, 97, 8)         392       \n",
      "_________________________________________________________________\n",
      "max_pooling2d_3 (MaxPooling2 (None, 48, 48, 8)         0         \n",
      "_________________________________________________________________\n",
      "flatten_3 (Flatten)          (None, 18432)             0         \n",
      "_________________________________________________________________\n",
      "dense_6 (Dense)              (None, 50)                921650    \n",
      "_________________________________________________________________\n",
      "dense_7 (Dense)              (None, 16)                816       \n",
      "=================================================================\n",
      "Total params: 922,858\n",
      "Trainable params: 922,858\n",
      "Non-trainable params: 0\n",
      "_________________________________________________________________\n",
      "None\n",
      "Epoch 1/10\n",
      "434/434 [==============================] - 38s 86ms/step - loss: 2.1161 - accuracy: 0.3039 - val_loss: 1.9337 - val_accuracy: 0.3265\n",
      "Epoch 2/10\n",
      "434/434 [==============================] - 30s 69ms/step - loss: 1.7769 - accuracy: 0.3723 - val_loss: 1.8572 - val_accuracy: 0.3432\n",
      "Epoch 3/10\n",
      "434/434 [==============================] - 28s 65ms/step - loss: 1.6264 - accuracy: 0.4183 - val_loss: 1.8307 - val_accuracy: 0.3538\n",
      "Epoch 4/10\n",
      "434/434 [==============================] - 32s 74ms/step - loss: 1.5035 - accuracy: 0.4553 - val_loss: 1.8715 - val_accuracy: 0.3174\n",
      "Epoch 5/10\n",
      "434/434 [==============================] - 30s 69ms/step - loss: 1.3894 - accuracy: 0.4946 - val_loss: 1.8979 - val_accuracy: 0.3556\n",
      "Epoch 6/10\n",
      "434/434 [==============================] - 36s 82ms/step - loss: 1.2887 - accuracy: 0.5266 - val_loss: 1.9259 - val_accuracy: 0.3460\n",
      "Epoch 7/10\n",
      "434/434 [==============================] - 28s 64ms/step - loss: 1.1843 - accuracy: 0.5718 - val_loss: 1.9855 - val_accuracy: 0.3511\n",
      "Epoch 8/10\n",
      "434/434 [==============================] - 26s 60ms/step - loss: 1.0863 - accuracy: 0.6041 - val_loss: 2.0596 - val_accuracy: 0.3445\n",
      "0.33621081709861755\n"
     ]
    }
   ],
   "source": [
    "model = models.Sequential()\n",
    "### First convolution & max-pooling\n",
    "model.add(layers.Conv2D(8, (4,4), input_shape=(100, 100, 3),\n",
    "                        activation='relu'))\n",
    "model.add(layers.MaxPool2D(pool_size=(2,2)))\n",
    "\n",
    "### Flattening\n",
    "model.add(layers.Flatten())\n",
    "\n",
    "### One fully connected\n",
    "model.add(layers.Dense(50, activation='relu'))\n",
    "\n",
    "### Last layer (let's say a classification with 10 output)\n",
    "model.add(layers.Dense(16, activation='softmax'))\n",
    "\n",
    "### Model compilation\n",
    "model.compile(loss='categorical_crossentropy',\n",
    "          optimizer='adam',\n",
    "          metrics=['accuracy'])\n",
    "print(model.summary())\n",
    "\n",
    "es = EarlyStopping(patience=5,restore_best_weights=True)\n",
    "\n",
    "# YOUR CODE HERE\n",
    "model.fit(X_train, y_train_cat, \n",
    "          validation_split=0.3,\n",
    "          callbacks=[es],\n",
    "          epochs=10, \n",
    "          batch_size=32, \n",
    "          verbose=1)\n",
    "\n",
    "print(model.evaluate(X_test, y_test_cat, verbose=0)[1])"
   ]
  },
  {
   "cell_type": "markdown",
   "id": "9d2a6ec5",
   "metadata": {
    "heading_collapsed": true,
    "hidden": true
   },
   "source": [
    "## CNN 4 (1 hidden with 100 )  34,1%"
   ]
  },
  {
   "cell_type": "code",
   "execution_count": 44,
   "id": "e5afec62",
   "metadata": {
    "hidden": true
   },
   "outputs": [
    {
     "name": "stdout",
     "output_type": "stream",
     "text": [
      "Model: \"sequential_4\"\n",
      "_________________________________________________________________\n",
      "Layer (type)                 Output Shape              Param #   \n",
      "=================================================================\n",
      "conv2d_4 (Conv2D)            (None, 97, 97, 8)         392       \n",
      "_________________________________________________________________\n",
      "max_pooling2d_4 (MaxPooling2 (None, 48, 48, 8)         0         \n",
      "_________________________________________________________________\n",
      "flatten_4 (Flatten)          (None, 18432)             0         \n",
      "_________________________________________________________________\n",
      "dense_8 (Dense)              (None, 100)               1843300   \n",
      "_________________________________________________________________\n",
      "dense_9 (Dense)              (None, 16)                1616      \n",
      "=================================================================\n",
      "Total params: 1,845,308\n",
      "Trainable params: 1,845,308\n",
      "Non-trainable params: 0\n",
      "_________________________________________________________________\n",
      "None\n",
      "Epoch 1/10\n",
      "434/434 [==============================] - 36s 82ms/step - loss: 2.1075 - accuracy: 0.3005 - val_loss: 1.9024 - val_accuracy: 0.3297\n",
      "Epoch 2/10\n",
      "434/434 [==============================] - 33s 76ms/step - loss: 1.7615 - accuracy: 0.3708 - val_loss: 1.7918 - val_accuracy: 0.3570\n",
      "Epoch 3/10\n",
      "434/434 [==============================] - 36s 82ms/step - loss: 1.5988 - accuracy: 0.4234 - val_loss: 1.7824 - val_accuracy: 0.3443\n",
      "Epoch 4/10\n",
      "434/434 [==============================] - 33s 77ms/step - loss: 1.4594 - accuracy: 0.4720 - val_loss: 1.8374 - val_accuracy: 0.3492\n",
      "Epoch 5/10\n",
      "434/434 [==============================] - 27s 61ms/step - loss: 1.3265 - accuracy: 0.5177 - val_loss: 1.8616 - val_accuracy: 0.3516\n",
      "Epoch 6/10\n",
      "434/434 [==============================] - 26s 60ms/step - loss: 1.1892 - accuracy: 0.5709 - val_loss: 1.9689 - val_accuracy: 0.3463\n",
      "Epoch 7/10\n",
      "434/434 [==============================] - 26s 60ms/step - loss: 1.0632 - accuracy: 0.6204 - val_loss: 2.0454 - val_accuracy: 0.3322\n",
      "Epoch 8/10\n",
      "434/434 [==============================] - 26s 60ms/step - loss: 0.9409 - accuracy: 0.6646 - val_loss: 2.1998 - val_accuracy: 0.3349\n",
      "0.3407542109489441\n"
     ]
    }
   ],
   "source": [
    "model = models.Sequential()\n",
    "### First convolution & max-pooling\n",
    "model.add(layers.Conv2D(8, (4,4), input_shape=(100, 100, 3),\n",
    "                        activation='relu'))\n",
    "model.add(layers.MaxPool2D(pool_size=(2,2)))\n",
    "\n",
    "### Flattening\n",
    "model.add(layers.Flatten())\n",
    "\n",
    "### One fully connected\n",
    "model.add(layers.Dense(100, activation='relu'))\n",
    "\n",
    "### Last layer (let's say a classification with 10 output)\n",
    "model.add(layers.Dense(16, activation='softmax'))\n",
    "\n",
    "### Model compilation\n",
    "model.compile(loss='categorical_crossentropy',\n",
    "          optimizer='adam',\n",
    "          metrics=['accuracy'])\n",
    "print(model.summary())\n",
    "\n",
    "es = EarlyStopping(patience=5,restore_best_weights=True)\n",
    "\n",
    "# YOUR CODE HERE\n",
    "model.fit(X_train, y_train_cat, \n",
    "          validation_split=0.3,\n",
    "          callbacks=[es],\n",
    "          epochs=10, \n",
    "          batch_size=32, \n",
    "          verbose=1)\n",
    "\n",
    "print(model.evaluate(X_test, y_test_cat, verbose=0)[1])"
   ]
  },
  {
   "cell_type": "markdown",
   "id": "ec2567c6",
   "metadata": {
    "heading_collapsed": true,
    "hidden": true
   },
   "source": [
    "## CNN 5 (2 hidden with 100,50 )  34,94%"
   ]
  },
  {
   "cell_type": "code",
   "execution_count": 45,
   "id": "778a3b62",
   "metadata": {
    "hidden": true
   },
   "outputs": [
    {
     "name": "stdout",
     "output_type": "stream",
     "text": [
      "Epoch 1/10\n",
      "434/434 [==============================] - 29s 66ms/step - loss: 2.1312 - accuracy: 0.2988 - val_loss: 1.9583 - val_accuracy: 0.3167\n",
      "Epoch 2/10\n",
      "434/434 [==============================] - 26s 61ms/step - loss: 1.7922 - accuracy: 0.3606 - val_loss: 1.8258 - val_accuracy: 0.3462\n",
      "Epoch 3/10\n",
      "434/434 [==============================] - 27s 61ms/step - loss: 1.6449 - accuracy: 0.4015 - val_loss: 1.7820 - val_accuracy: 0.3575\n",
      "Epoch 4/10\n",
      "434/434 [==============================] - 25s 58ms/step - loss: 1.5320 - accuracy: 0.4354 - val_loss: 1.7728 - val_accuracy: 0.3521\n",
      "Epoch 5/10\n",
      "434/434 [==============================] - 25s 58ms/step - loss: 1.4243 - accuracy: 0.4735 - val_loss: 1.8733 - val_accuracy: 0.3509\n",
      "Epoch 6/10\n",
      "434/434 [==============================] - 26s 61ms/step - loss: 1.3152 - accuracy: 0.5130 - val_loss: 1.9021 - val_accuracy: 0.3490\n",
      "Epoch 7/10\n",
      "434/434 [==============================] - 26s 59ms/step - loss: 1.1920 - accuracy: 0.5553 - val_loss: 1.9568 - val_accuracy: 0.3383\n",
      "Epoch 8/10\n",
      "434/434 [==============================] - 25s 58ms/step - loss: 1.0818 - accuracy: 0.5990 - val_loss: 2.0763 - val_accuracy: 0.3541\n",
      "Epoch 9/10\n",
      "434/434 [==============================] - 25s 58ms/step - loss: 0.9660 - accuracy: 0.6388 - val_loss: 2.2132 - val_accuracy: 0.3432\n",
      "0.34938663244247437\n"
     ]
    }
   ],
   "source": [
    "model = models.Sequential()\n",
    "### First convolution & max-pooling\n",
    "model.add(layers.Conv2D(8, (4,4), input_shape=(100, 100, 3),\n",
    "                        activation='relu'))\n",
    "model.add(layers.MaxPool2D(pool_size=(2,2)))\n",
    "\n",
    "### Flattening\n",
    "model.add(layers.Flatten())\n",
    "\n",
    "### One fully connected\n",
    "model.add(layers.Dense(100, activation='relu'))\n",
    "\n",
    "### Second fully connected\n",
    "model.add(layers.Dense(50, activation='relu'))\n",
    "\n",
    "### Last layer (let's say a classification with 10 output)\n",
    "model.add(layers.Dense(16, activation='softmax'))\n",
    "\n",
    "### Model compilation\n",
    "model.compile(loss='categorical_crossentropy',\n",
    "          optimizer='adam',\n",
    "          metrics=['accuracy'])\n",
    "\n",
    "es = EarlyStopping(patience=5,restore_best_weights=True)\n",
    "\n",
    "# YOUR CODE HERE\n",
    "model.fit(X_train, y_train_cat, \n",
    "          validation_split=0.3,\n",
    "          callbacks=[es],\n",
    "          epochs=10, \n",
    "          batch_size=32, \n",
    "          verbose=1)\n",
    "\n",
    "print(model.evaluate(X_test, y_test_cat, verbose=0)[1])"
   ]
  },
  {
   "cell_type": "markdown",
   "id": "2adfd583",
   "metadata": {
    "heading_collapsed": true,
    "hidden": true
   },
   "source": [
    "## CNN 6 (2 hidden with 100,100 ) 34,3%"
   ]
  },
  {
   "cell_type": "code",
   "execution_count": 46,
   "id": "0f78cb0f",
   "metadata": {
    "hidden": true
   },
   "outputs": [
    {
     "name": "stdout",
     "output_type": "stream",
     "text": [
      "Epoch 1/10\n",
      "434/434 [==============================] - 30s 67ms/step - loss: 2.0320 - accuracy: 0.3155 - val_loss: 1.8347 - val_accuracy: 0.3470\n",
      "Epoch 2/10\n",
      "434/434 [==============================] - 28s 64ms/step - loss: 1.7145 - accuracy: 0.3788 - val_loss: 1.8049 - val_accuracy: 0.3549\n",
      "Epoch 3/10\n",
      "434/434 [==============================] - 28s 64ms/step - loss: 1.5892 - accuracy: 0.4150 - val_loss: 1.7649 - val_accuracy: 0.3517\n",
      "Epoch 4/10\n",
      "434/434 [==============================] - 27s 62ms/step - loss: 1.4658 - accuracy: 0.4591 - val_loss: 1.7736 - val_accuracy: 0.3470\n",
      "Epoch 5/10\n",
      "434/434 [==============================] - 29s 66ms/step - loss: 1.3481 - accuracy: 0.5020 - val_loss: 1.8986 - val_accuracy: 0.3564\n",
      "Epoch 6/10\n",
      "434/434 [==============================] - 28s 64ms/step - loss: 1.2186 - accuracy: 0.5517 - val_loss: 1.9102 - val_accuracy: 0.3437\n",
      "Epoch 7/10\n",
      "434/434 [==============================] - 26s 60ms/step - loss: 1.0664 - accuracy: 0.6078 - val_loss: 2.0424 - val_accuracy: 0.3398\n",
      "Epoch 8/10\n",
      "434/434 [==============================] - 27s 63ms/step - loss: 0.9252 - accuracy: 0.6673 - val_loss: 2.2501 - val_accuracy: 0.3386\n",
      "0.34302589297294617\n"
     ]
    }
   ],
   "source": [
    "model = models.Sequential()\n",
    "### First convolution & max-pooling\n",
    "model.add(layers.Conv2D(8, (4,4), input_shape=(100, 100, 3),\n",
    "                        activation='relu'))\n",
    "model.add(layers.MaxPool2D(pool_size=(2,2)))\n",
    "\n",
    "### Flattening\n",
    "model.add(layers.Flatten())\n",
    "\n",
    "### One fully connected\n",
    "model.add(layers.Dense(100, activation='relu'))\n",
    "\n",
    "### Second fully connected\n",
    "model.add(layers.Dense(100, activation='relu'))\n",
    "\n",
    "### Last layer (let's say a classification with 10 output)\n",
    "model.add(layers.Dense(16, activation='softmax'))\n",
    "\n",
    "### Model compilation\n",
    "model.compile(loss='categorical_crossentropy',\n",
    "          optimizer='adam',\n",
    "          metrics=['accuracy'])\n",
    "\n",
    "es = EarlyStopping(patience=5,restore_best_weights=True)\n",
    "\n",
    "# YOUR CODE HERE\n",
    "model.fit(X_train, y_train_cat, \n",
    "          validation_split=0.3,\n",
    "          callbacks=[es],\n",
    "          epochs=10, \n",
    "          batch_size=32, \n",
    "          verbose=1)\n",
    "\n",
    "print(model.evaluate(X_test, y_test_cat, verbose=0)[1])"
   ]
  },
  {
   "cell_type": "markdown",
   "id": "02a18c3d",
   "metadata": {
    "heading_collapsed": true,
    "hidden": true
   },
   "source": [
    "## CNN 7 (3 hidden with 50,100,50 )  36,4%"
   ]
  },
  {
   "cell_type": "code",
   "execution_count": 47,
   "id": "dfb5acae",
   "metadata": {
    "hidden": true
   },
   "outputs": [
    {
     "name": "stdout",
     "output_type": "stream",
     "text": [
      "Model: \"sequential_7\"\n",
      "_________________________________________________________________\n",
      "Layer (type)                 Output Shape              Param #   \n",
      "=================================================================\n",
      "conv2d_7 (Conv2D)            (None, 97, 97, 8)         392       \n",
      "_________________________________________________________________\n",
      "max_pooling2d_7 (MaxPooling2 (None, 48, 48, 8)         0         \n",
      "_________________________________________________________________\n",
      "flatten_7 (Flatten)          (None, 18432)             0         \n",
      "_________________________________________________________________\n",
      "dense_16 (Dense)             (None, 50)                921650    \n",
      "_________________________________________________________________\n",
      "dense_17 (Dense)             (None, 100)               5100      \n",
      "_________________________________________________________________\n",
      "dense_18 (Dense)             (None, 50)                5050      \n",
      "_________________________________________________________________\n",
      "dense_19 (Dense)             (None, 16)                816       \n",
      "=================================================================\n",
      "Total params: 933,008\n",
      "Trainable params: 933,008\n",
      "Non-trainable params: 0\n",
      "_________________________________________________________________\n",
      "None\n",
      "Epoch 1/10\n",
      "434/434 [==============================] - 31s 69ms/step - loss: 2.1139 - accuracy: 0.3003 - val_loss: 1.9258 - val_accuracy: 0.3322\n",
      "Epoch 2/10\n",
      "434/434 [==============================] - 28s 64ms/step - loss: 1.7630 - accuracy: 0.3626 - val_loss: 1.7763 - val_accuracy: 0.3516\n",
      "Epoch 3/10\n",
      "434/434 [==============================] - 26s 61ms/step - loss: 1.6273 - accuracy: 0.3945 - val_loss: 1.8034 - val_accuracy: 0.3564\n",
      "Epoch 4/10\n",
      "434/434 [==============================] - 25s 58ms/step - loss: 1.5190 - accuracy: 0.4276 - val_loss: 1.7530 - val_accuracy: 0.3590\n",
      "Epoch 5/10\n",
      "434/434 [==============================] - 27s 63ms/step - loss: 1.4386 - accuracy: 0.4540 - val_loss: 1.7877 - val_accuracy: 0.3701\n",
      "Epoch 6/10\n",
      "434/434 [==============================] - 24s 54ms/step - loss: 1.3283 - accuracy: 0.5005 - val_loss: 1.8409 - val_accuracy: 0.3601\n",
      "Epoch 7/10\n",
      "434/434 [==============================] - 24s 54ms/step - loss: 1.2317 - accuracy: 0.5313 - val_loss: 1.9250 - val_accuracy: 0.3408\n",
      "Epoch 8/10\n",
      "434/434 [==============================] - 25s 58ms/step - loss: 1.1372 - accuracy: 0.5727 - val_loss: 2.0272 - val_accuracy: 0.3458\n",
      "Epoch 9/10\n",
      "434/434 [==============================] - 26s 60ms/step - loss: 1.0182 - accuracy: 0.6175 - val_loss: 2.1597 - val_accuracy: 0.3337\n",
      "0.3634711503982544\n"
     ]
    }
   ],
   "source": [
    "model = models.Sequential()\n",
    "### First convolution & max-pooling\n",
    "model.add(layers.Conv2D(8, (4,4), input_shape=(100, 100, 3),\n",
    "                        activation='relu'))\n",
    "model.add(layers.MaxPool2D(pool_size=(2,2)))\n",
    "\n",
    "### Flattening\n",
    "model.add(layers.Flatten())\n",
    "\n",
    "### One fully connected\n",
    "model.add(layers.Dense(50, activation='relu'))\n",
    "\n",
    "### Second fully connected\n",
    "model.add(layers.Dense(100, activation='relu'))\n",
    "\n",
    "### Third fully connected\n",
    "model.add(layers.Dense(50, activation='relu'))\n",
    "\n",
    "### Last layer (let's say a classification with 10 output)\n",
    "model.add(layers.Dense(16, activation='softmax'))\n",
    "\n",
    "### Model compilation\n",
    "model.compile(loss='categorical_crossentropy',\n",
    "          optimizer='adam',\n",
    "          metrics=['accuracy'])\n",
    "print(model.summary())\n",
    "\n",
    "es = EarlyStopping(patience=5,restore_best_weights=True)\n",
    "\n",
    "# YOUR CODE HERE\n",
    "model.fit(X_train, y_train_cat, \n",
    "          validation_split=0.3,\n",
    "          callbacks=[es],\n",
    "          epochs=10, \n",
    "          batch_size=32, \n",
    "          verbose=1)\n",
    "\n",
    "print(model.evaluate(X_test, y_test_cat, verbose=0)[1])"
   ]
  },
  {
   "cell_type": "markdown",
   "id": "5f8b333b",
   "metadata": {
    "heading_collapsed": true,
    "hidden": true
   },
   "source": [
    "## CNN 8 (1 hidden with 300 )  34,2%"
   ]
  },
  {
   "cell_type": "code",
   "execution_count": 48,
   "id": "86890eab",
   "metadata": {
    "hidden": true
   },
   "outputs": [
    {
     "name": "stdout",
     "output_type": "stream",
     "text": [
      "Model: \"sequential_8\"\n",
      "_________________________________________________________________\n",
      "Layer (type)                 Output Shape              Param #   \n",
      "=================================================================\n",
      "conv2d_8 (Conv2D)            (None, 97, 97, 8)         392       \n",
      "_________________________________________________________________\n",
      "max_pooling2d_8 (MaxPooling2 (None, 48, 48, 8)         0         \n",
      "_________________________________________________________________\n",
      "flatten_8 (Flatten)          (None, 18432)             0         \n",
      "_________________________________________________________________\n",
      "dense_20 (Dense)             (None, 300)               5529900   \n",
      "_________________________________________________________________\n",
      "dense_21 (Dense)             (None, 16)                4816      \n",
      "=================================================================\n",
      "Total params: 5,535,108\n",
      "Trainable params: 5,535,108\n",
      "Non-trainable params: 0\n",
      "_________________________________________________________________\n",
      "None\n",
      "Epoch 1/10\n",
      "434/434 [==============================] - 38s 87ms/step - loss: 2.0260 - accuracy: 0.3130 - val_loss: 1.8499 - val_accuracy: 0.3435\n",
      "Epoch 2/10\n",
      "434/434 [==============================] - 34s 79ms/step - loss: 1.7013 - accuracy: 0.3865 - val_loss: 1.8145 - val_accuracy: 0.3455\n",
      "Epoch 3/10\n",
      "434/434 [==============================] - 35s 82ms/step - loss: 1.5328 - accuracy: 0.4457 - val_loss: 1.8244 - val_accuracy: 0.3511\n",
      "Epoch 4/10\n",
      "434/434 [==============================] - 46s 106ms/step - loss: 1.3686 - accuracy: 0.5028 - val_loss: 1.8611 - val_accuracy: 0.3615\n",
      "Epoch 5/10\n",
      "434/434 [==============================] - 48s 111ms/step - loss: 1.1830 - accuracy: 0.5743 - val_loss: 1.9621 - val_accuracy: 0.3331\n",
      "Epoch 6/10\n",
      "434/434 [==============================] - 39s 90ms/step - loss: 0.9885 - accuracy: 0.6449 - val_loss: 2.1134 - val_accuracy: 0.3571\n",
      "Epoch 7/10\n",
      "434/434 [==============================] - 40s 93ms/step - loss: 0.7867 - accuracy: 0.7257 - val_loss: 2.2921 - val_accuracy: 0.3347\n",
      "0.3416628837585449\n"
     ]
    }
   ],
   "source": [
    "model = models.Sequential()\n",
    "### First convolution & max-pooling\n",
    "model.add(layers.Conv2D(8, (4,4), input_shape=(100, 100, 3),\n",
    "                        activation='relu'))\n",
    "model.add(layers.MaxPool2D(pool_size=(2,2)))\n",
    "\n",
    "### Flattening\n",
    "model.add(layers.Flatten())\n",
    "\n",
    "### One fully connected\n",
    "model.add(layers.Dense(300, activation='relu'))\n",
    "\n",
    "### Last layer (let's say a classification with 10 output)\n",
    "model.add(layers.Dense(16, activation='softmax'))\n",
    "\n",
    "### Model compilation\n",
    "model.compile(loss='categorical_crossentropy',\n",
    "          optimizer='adam',\n",
    "          metrics=['accuracy'])\n",
    "\n",
    "print(model.summary())\n",
    "\n",
    "es = EarlyStopping(patience=5,restore_best_weights=True)\n",
    "\n",
    "# YOUR CODE HERE\n",
    "model.fit(X_train, y_train_cat, \n",
    "          validation_split=0.3,\n",
    "          callbacks=[es],\n",
    "          epochs=10, \n",
    "          batch_size=32, \n",
    "          verbose=1)\n",
    "\n",
    "print(model.evaluate(X_test, y_test_cat, verbose=0)[1])"
   ]
  },
  {
   "cell_type": "markdown",
   "id": "048b38b6",
   "metadata": {
    "heading_collapsed": true,
    "hidden": true
   },
   "source": [
    "## CNN 9 (2 hidden with 100,20 )  35,3%"
   ]
  },
  {
   "cell_type": "code",
   "execution_count": 49,
   "id": "3cdfff5c",
   "metadata": {
    "hidden": true
   },
   "outputs": [
    {
     "name": "stdout",
     "output_type": "stream",
     "text": [
      "Model: \"sequential_9\"\n",
      "_________________________________________________________________\n",
      "Layer (type)                 Output Shape              Param #   \n",
      "=================================================================\n",
      "conv2d_9 (Conv2D)            (None, 97, 97, 8)         392       \n",
      "_________________________________________________________________\n",
      "max_pooling2d_9 (MaxPooling2 (None, 48, 48, 8)         0         \n",
      "_________________________________________________________________\n",
      "flatten_9 (Flatten)          (None, 18432)             0         \n",
      "_________________________________________________________________\n",
      "dense_22 (Dense)             (None, 100)               1843300   \n",
      "_________________________________________________________________\n",
      "dense_23 (Dense)             (None, 20)                2020      \n",
      "_________________________________________________________________\n",
      "dense_24 (Dense)             (None, 16)                336       \n",
      "=================================================================\n",
      "Total params: 1,846,048\n",
      "Trainable params: 1,846,048\n",
      "Non-trainable params: 0\n",
      "_________________________________________________________________\n",
      "None\n",
      "Epoch 1/10\n",
      "434/434 [==============================] - 35s 72ms/step - loss: 2.1358 - accuracy: 0.2995 - val_loss: 1.8995 - val_accuracy: 0.3361\n",
      "Epoch 2/10\n",
      "434/434 [==============================] - 32s 73ms/step - loss: 1.7774 - accuracy: 0.3642 - val_loss: 1.7791 - val_accuracy: 0.3553\n",
      "Epoch 3/10\n",
      "434/434 [==============================] - 35s 80ms/step - loss: 1.6312 - accuracy: 0.4042 - val_loss: 1.7485 - val_accuracy: 0.3536\n",
      "Epoch 4/10\n",
      "434/434 [==============================] - 33s 76ms/step - loss: 1.5399 - accuracy: 0.4292 - val_loss: 1.7490 - val_accuracy: 0.3660\n",
      "Epoch 5/10\n",
      "434/434 [==============================] - 30s 68ms/step - loss: 1.4518 - accuracy: 0.4595 - val_loss: 1.7987 - val_accuracy: 0.3627\n",
      "Epoch 6/10\n",
      "434/434 [==============================] - 30s 69ms/step - loss: 1.3674 - accuracy: 0.4836 - val_loss: 1.8612 - val_accuracy: 0.3495\n",
      "Epoch 7/10\n",
      "434/434 [==============================] - 30s 70ms/step - loss: 1.2826 - accuracy: 0.5171 - val_loss: 1.8940 - val_accuracy: 0.3497\n",
      "Epoch 8/10\n",
      "434/434 [==============================] - 30s 70ms/step - loss: 1.1846 - accuracy: 0.5534 - val_loss: 1.9479 - val_accuracy: 0.3437\n",
      "0.3534756898880005\n"
     ]
    }
   ],
   "source": [
    "model = models.Sequential()\n",
    "### First convolution & max-pooling\n",
    "model.add(layers.Conv2D(8, (4,4), input_shape=(100, 100, 3),\n",
    "                        activation='relu'))\n",
    "model.add(layers.MaxPool2D(pool_size=(2,2)))\n",
    "\n",
    "### Flattening\n",
    "model.add(layers.Flatten())\n",
    "\n",
    "### One fully connected\n",
    "model.add(layers.Dense(100, activation='relu'))\n",
    "\n",
    "### Second fully connected\n",
    "model.add(layers.Dense(20, activation='relu'))\n",
    "\n",
    "### Last layer (let's say a classification with 10 output)\n",
    "model.add(layers.Dense(16, activation='softmax'))\n",
    "\n",
    "### Model compilation\n",
    "model.compile(loss='categorical_crossentropy',\n",
    "          optimizer='adam',\n",
    "          metrics=['accuracy'])\n",
    "print(model.summary())\n",
    "\n",
    "es = EarlyStopping(patience=5,restore_best_weights=True)\n",
    "\n",
    "# YOUR CODE HERE\n",
    "model.fit(X_train, y_train_cat, \n",
    "          validation_split=0.3,\n",
    "          callbacks=[es],\n",
    "          epochs=10, \n",
    "          batch_size=32, \n",
    "          verbose=1)\n",
    "\n",
    "print(model.evaluate(X_test, y_test_cat, verbose=0)[1])"
   ]
  },
  {
   "cell_type": "markdown",
   "id": "0b5b998d",
   "metadata": {
    "heading_collapsed": true,
    "hidden": true
   },
   "source": [
    "## CNN 10 (3 hidden with 20, 50, 20 )  34,76%"
   ]
  },
  {
   "cell_type": "code",
   "execution_count": 50,
   "id": "1d0662cb",
   "metadata": {
    "hidden": true
   },
   "outputs": [
    {
     "name": "stdout",
     "output_type": "stream",
     "text": [
      "Model: \"sequential_10\"\n",
      "_________________________________________________________________\n",
      "Layer (type)                 Output Shape              Param #   \n",
      "=================================================================\n",
      "conv2d_10 (Conv2D)           (None, 97, 97, 8)         392       \n",
      "_________________________________________________________________\n",
      "max_pooling2d_10 (MaxPooling (None, 48, 48, 8)         0         \n",
      "_________________________________________________________________\n",
      "flatten_10 (Flatten)         (None, 18432)             0         \n",
      "_________________________________________________________________\n",
      "dense_25 (Dense)             (None, 20)                368660    \n",
      "_________________________________________________________________\n",
      "dense_26 (Dense)             (None, 50)                1050      \n",
      "_________________________________________________________________\n",
      "dense_27 (Dense)             (None, 20)                1020      \n",
      "_________________________________________________________________\n",
      "dense_28 (Dense)             (None, 16)                336       \n",
      "=================================================================\n",
      "Total params: 371,458\n",
      "Trainable params: 371,458\n",
      "Non-trainable params: 0\n",
      "_________________________________________________________________\n",
      "None\n",
      "Epoch 1/10\n",
      "434/434 [==============================] - 30s 68ms/step - loss: 2.1456 - accuracy: 0.3002 - val_loss: 1.8970 - val_accuracy: 0.3349\n",
      "Epoch 2/10\n",
      "434/434 [==============================] - 28s 65ms/step - loss: 1.7936 - accuracy: 0.3605 - val_loss: 1.8388 - val_accuracy: 0.3384\n",
      "Epoch 3/10\n",
      "434/434 [==============================] - 27s 63ms/step - loss: 1.6712 - accuracy: 0.3834 - val_loss: 1.7363 - val_accuracy: 0.3538\n",
      "Epoch 4/10\n",
      "434/434 [==============================] - 33s 75ms/step - loss: 1.6053 - accuracy: 0.3979 - val_loss: 1.7450 - val_accuracy: 0.3588\n",
      "Epoch 5/10\n",
      "434/434 [==============================] - 32s 73ms/step - loss: 1.5485 - accuracy: 0.4139 - val_loss: 1.7529 - val_accuracy: 0.3539\n",
      "Epoch 6/10\n",
      "434/434 [==============================] - 31s 70ms/step - loss: 1.4928 - accuracy: 0.4336 - val_loss: 1.8041 - val_accuracy: 0.3538\n",
      "Epoch 7/10\n",
      "434/434 [==============================] - 28s 65ms/step - loss: 1.4531 - accuracy: 0.4440 - val_loss: 1.7966 - val_accuracy: 0.3499\n",
      "Epoch 8/10\n",
      "434/434 [==============================] - 26s 60ms/step - loss: 1.3978 - accuracy: 0.4621 - val_loss: 1.8003 - val_accuracy: 0.3453\n",
      "0.3475692868232727\n"
     ]
    }
   ],
   "source": [
    "model = models.Sequential()\n",
    "### First convolution & max-pooling\n",
    "model.add(layers.Conv2D(8, (4,4), input_shape=(100, 100, 3),\n",
    "                        activation='relu'))\n",
    "model.add(layers.MaxPool2D(pool_size=(2,2)))\n",
    "\n",
    "### Flattening\n",
    "model.add(layers.Flatten())\n",
    "\n",
    "### One fully connected\n",
    "model.add(layers.Dense(20, activation='relu'))\n",
    "\n",
    "### Second fully connected\n",
    "model.add(layers.Dense(50, activation='relu'))\n",
    "\n",
    "### Third fully connected\n",
    "model.add(layers.Dense(20, activation='relu'))\n",
    "\n",
    "### Last layer (let's say a classification with 10 output)\n",
    "model.add(layers.Dense(16, activation='softmax'))\n",
    "\n",
    "### Model compilation\n",
    "model.compile(loss='categorical_crossentropy',\n",
    "          optimizer='adam',\n",
    "          metrics=['accuracy'])\n",
    "print(model.summary())\n",
    "\n",
    "es = EarlyStopping(patience=5,restore_best_weights=True)\n",
    "\n",
    "# YOUR CODE HERE\n",
    "model.fit(X_train, y_train_cat, \n",
    "          validation_split=0.3,\n",
    "          callbacks=[es],\n",
    "          epochs=10, \n",
    "          batch_size=32, \n",
    "          verbose=1)\n",
    "\n",
    "print(model.evaluate(X_test, y_test_cat, verbose=0)[1])"
   ]
  },
  {
   "cell_type": "markdown",
   "id": "ebb07a80",
   "metadata": {
    "heading_collapsed": true
   },
   "source": [
    "# CNN B"
   ]
  },
  {
   "cell_type": "markdown",
   "id": "c2e39416",
   "metadata": {
    "heading_collapsed": true,
    "hidden": true
   },
   "source": [
    "## CNN 1 (3 hidden with 50,100,50 ) - (Epochs:100, Patience: 10)   35,58%\n",
    "**High_Acc - low Val_Acc**"
   ]
  },
  {
   "cell_type": "code",
   "execution_count": 53,
   "id": "80112815",
   "metadata": {
    "hidden": true
   },
   "outputs": [
    {
     "name": "stdout",
     "output_type": "stream",
     "text": [
      "Model: \"sequential_13\"\n",
      "_________________________________________________________________\n",
      "Layer (type)                 Output Shape              Param #   \n",
      "=================================================================\n",
      "conv2d_13 (Conv2D)           (None, 97, 97, 8)         392       \n",
      "_________________________________________________________________\n",
      "max_pooling2d_13 (MaxPooling (None, 48, 48, 8)         0         \n",
      "_________________________________________________________________\n",
      "flatten_13 (Flatten)         (None, 18432)             0         \n",
      "_________________________________________________________________\n",
      "dense_34 (Dense)             (None, 50)                921650    \n",
      "_________________________________________________________________\n",
      "dense_35 (Dense)             (None, 100)               5100      \n",
      "_________________________________________________________________\n",
      "dense_36 (Dense)             (None, 50)                5050      \n",
      "_________________________________________________________________\n",
      "dense_37 (Dense)             (None, 16)                816       \n",
      "=================================================================\n",
      "Total params: 933,008\n",
      "Trainable params: 933,008\n",
      "Non-trainable params: 0\n",
      "_________________________________________________________________\n",
      "None\n",
      "Epoch 1/100\n",
      "434/434 [==============================] - 40s 90ms/step - loss: 2.0899 - accuracy: 0.3042 - val_loss: 1.9114 - val_accuracy: 0.3282\n",
      "Epoch 2/100\n",
      "434/434 [==============================] - 38s 88ms/step - loss: 1.7799 - accuracy: 0.3574 - val_loss: 1.7769 - val_accuracy: 0.3465\n",
      "Epoch 3/100\n",
      "434/434 [==============================] - 35s 80ms/step - loss: 1.6506 - accuracy: 0.3853 - val_loss: 1.8103 - val_accuracy: 0.3401\n",
      "Epoch 4/100\n",
      "434/434 [==============================] - 29s 66ms/step - loss: 1.5643 - accuracy: 0.4160 - val_loss: 1.7275 - val_accuracy: 0.3553\n",
      "Epoch 5/100\n",
      "434/434 [==============================] - 28s 65ms/step - loss: 1.4839 - accuracy: 0.4333 - val_loss: 1.8154 - val_accuracy: 0.3588\n",
      "Epoch 6/100\n",
      "434/434 [==============================] - 28s 65ms/step - loss: 1.4113 - accuracy: 0.4543 - val_loss: 1.8096 - val_accuracy: 0.3605\n",
      "Epoch 7/100\n",
      "434/434 [==============================] - 28s 64ms/step - loss: 1.3325 - accuracy: 0.4823 - val_loss: 1.8691 - val_accuracy: 0.3575\n",
      "Epoch 8/100\n",
      "434/434 [==============================] - 28s 64ms/step - loss: 1.2582 - accuracy: 0.5096 - val_loss: 1.9666 - val_accuracy: 0.3489\n",
      "Epoch 9/100\n",
      "434/434 [==============================] - 28s 64ms/step - loss: 1.1802 - accuracy: 0.5400 - val_loss: 2.0339 - val_accuracy: 0.3487\n",
      "0.35574740171432495\n"
     ]
    }
   ],
   "source": [
    "model = models.Sequential()\n",
    "### First convolution & max-pooling & Flattening\n",
    "model.add(layers.Conv2D(8, (4,4), input_shape=(100, 100, 3),activation='relu'))\n",
    "model.add(layers.MaxPool2D(pool_size=(2,2)))\n",
    "model.add(layers.Flatten())\n",
    "\n",
    "### One fully connected\n",
    "model.add(layers.Dense(50, activation='relu'))\n",
    "\n",
    "### Second fully connected\n",
    "model.add(layers.Dense(100, activation='relu'))\n",
    "\n",
    "### Third fully connected\n",
    "model.add(layers.Dense(50, activation='relu'))\n",
    "\n",
    "model.add(layers.Dense(16, activation='softmax'))\n",
    "\n",
    "### Model compilation\n",
    "model.compile(loss='categorical_crossentropy',\n",
    "          optimizer='adam',\n",
    "          metrics=['accuracy'])\n",
    "print(model.summary())\n",
    "\n",
    "es = EarlyStopping(patience=5,restore_best_weights=True)\n",
    "\n",
    "# YOUR CODE HERE\n",
    "model.fit(X_train, y_train_cat, \n",
    "          validation_split=0.3,\n",
    "          callbacks=[es],\n",
    "          epochs=100, \n",
    "          batch_size=32, \n",
    "          verbose=1)\n",
    "\n",
    "print(model.evaluate(X_test, y_test_cat, verbose=0)[1])"
   ]
  },
  {
   "cell_type": "markdown",
   "id": "bf2665a6",
   "metadata": {
    "heading_collapsed": true,
    "hidden": true
   },
   "source": [
    "## CNN 1.2 - Dropout, Hidden Layer 50% => 30,7%"
   ]
  },
  {
   "cell_type": "code",
   "execution_count": 57,
   "id": "2812c89f",
   "metadata": {
    "hidden": true,
    "scrolled": false
   },
   "outputs": [
    {
     "name": "stdout",
     "output_type": "stream",
     "text": [
      "Model: \"sequential_17\"\n",
      "_________________________________________________________________\n",
      "Layer (type)                 Output Shape              Param #   \n",
      "=================================================================\n",
      "conv2d_21 (Conv2D)           (None, 97, 97, 8)         392       \n",
      "_________________________________________________________________\n",
      "max_pooling2d_21 (MaxPooling (None, 48, 48, 8)         0         \n",
      "_________________________________________________________________\n",
      "flatten_17 (Flatten)         (None, 18432)             0         \n",
      "_________________________________________________________________\n",
      "dense_46 (Dense)             (None, 50)                921650    \n",
      "_________________________________________________________________\n",
      "dropout_11 (Dropout)         (None, 50)                0         \n",
      "_________________________________________________________________\n",
      "dense_47 (Dense)             (None, 100)               5100      \n",
      "_________________________________________________________________\n",
      "dropout_12 (Dropout)         (None, 100)               0         \n",
      "_________________________________________________________________\n",
      "dense_48 (Dense)             (None, 50)                5050      \n",
      "_________________________________________________________________\n",
      "dropout_13 (Dropout)         (None, 50)                0         \n",
      "_________________________________________________________________\n",
      "dense_49 (Dense)             (None, 16)                816       \n",
      "=================================================================\n",
      "Total params: 933,008\n",
      "Trainable params: 933,008\n",
      "Non-trainable params: 0\n",
      "_________________________________________________________________\n",
      "None\n",
      "Epoch 1/100\n",
      "434/434 [==============================] - 47s 106ms/step - loss: 2.5300 - accuracy: 0.2267 - val_loss: 2.3070 - val_accuracy: 0.2918\n",
      "Epoch 2/100\n",
      "434/434 [==============================] - 34s 77ms/step - loss: 2.3898 - accuracy: 0.2560 - val_loss: 2.1959 - val_accuracy: 0.3004\n",
      "Epoch 3/100\n",
      "434/434 [==============================] - 27s 61ms/step - loss: 2.3411 - accuracy: 0.2627 - val_loss: 2.1339 - val_accuracy: 0.3026\n",
      "Epoch 4/100\n",
      "434/434 [==============================] - 27s 62ms/step - loss: 2.3288 - accuracy: 0.2637 - val_loss: 2.1364 - val_accuracy: 0.3034\n",
      "Epoch 5/100\n",
      "434/434 [==============================] - 27s 62ms/step - loss: 2.3138 - accuracy: 0.2636 - val_loss: 2.1498 - val_accuracy: 0.3026\n",
      "Epoch 6/100\n",
      "434/434 [==============================] - 27s 61ms/step - loss: 2.2982 - accuracy: 0.2629 - val_loss: 2.1254 - val_accuracy: 0.3061\n",
      "Epoch 7/100\n",
      "434/434 [==============================] - 27s 61ms/step - loss: 2.2906 - accuracy: 0.2649 - val_loss: 2.1440 - val_accuracy: 0.3029\n",
      "Epoch 8/100\n",
      "434/434 [==============================] - 27s 62ms/step - loss: 2.2860 - accuracy: 0.2668 - val_loss: 2.1463 - val_accuracy: 0.3012\n",
      "Epoch 9/100\n",
      "434/434 [==============================] - 27s 61ms/step - loss: 2.2854 - accuracy: 0.2652 - val_loss: 2.0909 - val_accuracy: 0.3048\n",
      "Epoch 10/100\n",
      "434/434 [==============================] - 27s 63ms/step - loss: 2.2681 - accuracy: 0.2651 - val_loss: 2.1175 - val_accuracy: 0.3034\n",
      "Epoch 11/100\n",
      "434/434 [==============================] - 26s 61ms/step - loss: 2.2680 - accuracy: 0.2658 - val_loss: 2.0967 - val_accuracy: 0.3048\n",
      "Epoch 12/100\n",
      "434/434 [==============================] - 29s 67ms/step - loss: 2.2591 - accuracy: 0.2656 - val_loss: 2.1405 - val_accuracy: 0.3048\n",
      "Epoch 13/100\n",
      "434/434 [==============================] - 28s 63ms/step - loss: 2.2474 - accuracy: 0.2679 - val_loss: 2.0886 - val_accuracy: 0.3055\n",
      "Epoch 14/100\n",
      "434/434 [==============================] - 26s 60ms/step - loss: 2.2600 - accuracy: 0.2660 - val_loss: 2.0952 - val_accuracy: 0.3060\n",
      "Epoch 15/100\n",
      "434/434 [==============================] - 30s 69ms/step - loss: 2.2354 - accuracy: 0.2672 - val_loss: 2.0880 - val_accuracy: 0.3060\n",
      "Epoch 16/100\n",
      "434/434 [==============================] - 32s 74ms/step - loss: 2.2460 - accuracy: 0.2627 - val_loss: 2.0854 - val_accuracy: 0.3060\n",
      "Epoch 17/100\n",
      "434/434 [==============================] - 29s 68ms/step - loss: 2.2378 - accuracy: 0.2676 - val_loss: 2.0938 - val_accuracy: 0.3061\n",
      "Epoch 18/100\n",
      "434/434 [==============================] - 26s 60ms/step - loss: 2.2376 - accuracy: 0.2658 - val_loss: 2.0852 - val_accuracy: 0.3058\n",
      "Epoch 19/100\n",
      "434/434 [==============================] - 28s 64ms/step - loss: 2.2227 - accuracy: 0.2669 - val_loss: 2.1035 - val_accuracy: 0.3051\n",
      "Epoch 20/100\n",
      "434/434 [==============================] - 33s 76ms/step - loss: 2.2226 - accuracy: 0.2686 - val_loss: 2.0781 - val_accuracy: 0.3058\n",
      "Epoch 21/100\n",
      "434/434 [==============================] - 30s 69ms/step - loss: 2.2347 - accuracy: 0.2646 - val_loss: 2.1031 - val_accuracy: 0.3048\n",
      "Epoch 22/100\n",
      "434/434 [==============================] - 26s 59ms/step - loss: 2.2207 - accuracy: 0.2668 - val_loss: 2.0928 - val_accuracy: 0.3049\n",
      "Epoch 23/100\n",
      "434/434 [==============================] - 28s 65ms/step - loss: 2.2264 - accuracy: 0.2686 - val_loss: 2.1310 - val_accuracy: 0.2947\n",
      "Epoch 24/100\n",
      "434/434 [==============================] - 27s 63ms/step - loss: 2.2126 - accuracy: 0.2662 - val_loss: 2.0884 - val_accuracy: 0.2851\n",
      "Epoch 25/100\n",
      "434/434 [==============================] - 26s 60ms/step - loss: 2.2116 - accuracy: 0.2682 - val_loss: 2.0837 - val_accuracy: 0.2920\n",
      "Epoch 26/100\n",
      "434/434 [==============================] - 28s 64ms/step - loss: 2.2131 - accuracy: 0.2679 - val_loss: 2.0818 - val_accuracy: 0.3004\n",
      "Epoch 27/100\n",
      "434/434 [==============================] - 27s 61ms/step - loss: 2.2105 - accuracy: 0.2720 - val_loss: 2.0673 - val_accuracy: 0.3006\n",
      "Epoch 28/100\n",
      "434/434 [==============================] - 27s 63ms/step - loss: 2.2029 - accuracy: 0.2707 - val_loss: 2.0587 - val_accuracy: 0.3075\n",
      "Epoch 29/100\n",
      "434/434 [==============================] - 27s 63ms/step - loss: 2.2057 - accuracy: 0.2708 - val_loss: 2.0878 - val_accuracy: 0.2804\n",
      "Epoch 30/100\n",
      "434/434 [==============================] - 28s 63ms/step - loss: 2.1970 - accuracy: 0.2717 - val_loss: 2.1076 - val_accuracy: 0.2853\n",
      "Epoch 31/100\n",
      "434/434 [==============================] - 27s 62ms/step - loss: 2.1990 - accuracy: 0.2718 - val_loss: 2.0866 - val_accuracy: 0.2930\n",
      "Epoch 32/100\n",
      "434/434 [==============================] - 26s 60ms/step - loss: 2.1920 - accuracy: 0.2735 - val_loss: 2.0876 - val_accuracy: 0.3076\n",
      "Epoch 33/100\n",
      "434/434 [==============================] - 26s 60ms/step - loss: 2.1881 - accuracy: 0.2727 - val_loss: 2.0932 - val_accuracy: 0.2910\n",
      "Epoch 34/100\n",
      "434/434 [==============================] - 26s 60ms/step - loss: 2.1925 - accuracy: 0.2742 - val_loss: 2.0756 - val_accuracy: 0.2994\n",
      "Epoch 35/100\n",
      "434/434 [==============================] - 27s 62ms/step - loss: 2.1877 - accuracy: 0.2738 - val_loss: 2.0998 - val_accuracy: 0.2811\n",
      "Epoch 36/100\n",
      "434/434 [==============================] - 32s 74ms/step - loss: 2.1815 - accuracy: 0.2746 - val_loss: 2.1084 - val_accuracy: 0.2938\n",
      "Epoch 37/100\n",
      "434/434 [==============================] - 39s 90ms/step - loss: 2.1900 - accuracy: 0.2732 - val_loss: 2.1048 - val_accuracy: 0.2935\n",
      "Epoch 38/100\n",
      "434/434 [==============================] - 30s 70ms/step - loss: 2.1847 - accuracy: 0.2758 - val_loss: 2.1205 - val_accuracy: 0.2763\n",
      "0.30713310837745667\n"
     ]
    }
   ],
   "source": [
    "model = models.Sequential()\n",
    "### First convolution & max-pooling & Flattening\n",
    "model.add(layers.Conv2D(8, (4,4), input_shape=(100, 100, 3),activation='relu'))\n",
    "model.add(layers.MaxPool2D(pool_size=(2,2)))\n",
    "model.add(layers.Flatten())\n",
    "\n",
    "\n",
    "### One fully connected\n",
    "model.add(layers.Dense(50, activation='relu'))\n",
    "model.add(Dropout(0.5))\n",
    "\n",
    "### Second fully connected\n",
    "model.add(layers.Dense(100, activation='relu'))\n",
    "model.add(Dropout(0.5))\n",
    "\n",
    "### Third fully connected\n",
    "model.add(layers.Dense(50, activation='relu'))\n",
    "model.add(Dropout(0.5))\n",
    "\n",
    "model.add(layers.Dense(16, activation='softmax'))\n",
    "\n",
    "### Model compilation\n",
    "model.compile(loss='categorical_crossentropy',\n",
    "          optimizer='adam',\n",
    "          metrics=['accuracy'])\n",
    "print(model.summary())\n",
    "\n",
    "es = EarlyStopping(patience=10,restore_best_weights=True)\n",
    "\n",
    "# YOUR CODE HERE\n",
    "model.fit(X_train, y_train_cat, \n",
    "          validation_split=0.3,\n",
    "          callbacks=[es],\n",
    "          epochs=100, \n",
    "          batch_size=32, \n",
    "          verbose=1)\n",
    "\n",
    "print(model.evaluate(X_test, y_test_cat, verbose=0)[1])"
   ]
  },
  {
   "cell_type": "markdown",
   "id": "4c740ee9",
   "metadata": {
    "heading_collapsed": true,
    "hidden": true
   },
   "source": [
    "## CNN 1.3 Dropout First and Hidden Layer 20%    34,2 %"
   ]
  },
  {
   "cell_type": "code",
   "execution_count": 58,
   "id": "bd5dd151",
   "metadata": {
    "hidden": true
   },
   "outputs": [
    {
     "name": "stdout",
     "output_type": "stream",
     "text": [
      "Model: \"sequential_18\"\n",
      "_________________________________________________________________\n",
      "Layer (type)                 Output Shape              Param #   \n",
      "=================================================================\n",
      "dropout_14 (Dropout)         (None, 100, 100, 3)       0         \n",
      "_________________________________________________________________\n",
      "conv2d_22 (Conv2D)           (None, 97, 97, 8)         392       \n",
      "_________________________________________________________________\n",
      "max_pooling2d_22 (MaxPooling (None, 48, 48, 8)         0         \n",
      "_________________________________________________________________\n",
      "flatten_18 (Flatten)         (None, 18432)             0         \n",
      "_________________________________________________________________\n",
      "dense_50 (Dense)             (None, 50)                921650    \n",
      "_________________________________________________________________\n",
      "dropout_15 (Dropout)         (None, 50)                0         \n",
      "_________________________________________________________________\n",
      "dense_51 (Dense)             (None, 100)               5100      \n",
      "_________________________________________________________________\n",
      "dropout_16 (Dropout)         (None, 100)               0         \n",
      "_________________________________________________________________\n",
      "dense_52 (Dense)             (None, 50)                5050      \n",
      "_________________________________________________________________\n",
      "dropout_17 (Dropout)         (None, 50)                0         \n",
      "_________________________________________________________________\n",
      "dense_53 (Dense)             (None, 16)                816       \n",
      "=================================================================\n",
      "Total params: 933,008\n",
      "Trainable params: 933,008\n",
      "Non-trainable params: 0\n",
      "_________________________________________________________________\n",
      "None\n",
      "Epoch 1/100\n",
      "434/434 [==============================] - 45s 97ms/step - loss: 2.3031 - accuracy: 0.2629 - val_loss: 2.0960 - val_accuracy: 0.3036\n",
      "Epoch 2/100\n",
      "434/434 [==============================] - 40s 93ms/step - loss: 2.0673 - accuracy: 0.3089 - val_loss: 2.0860 - val_accuracy: 0.3135\n",
      "Epoch 3/100\n",
      "434/434 [==============================] - 37s 85ms/step - loss: 1.9547 - accuracy: 0.3240 - val_loss: 1.9432 - val_accuracy: 0.3312\n",
      "Epoch 4/100\n",
      "434/434 [==============================] - 36s 83ms/step - loss: 1.8838 - accuracy: 0.3348 - val_loss: 1.9255 - val_accuracy: 0.3307\n",
      "Epoch 5/100\n",
      "434/434 [==============================] - 36s 84ms/step - loss: 1.8346 - accuracy: 0.3441 - val_loss: 1.9022 - val_accuracy: 0.3302\n",
      "Epoch 6/100\n",
      "434/434 [==============================] - 30s 69ms/step - loss: 1.8062 - accuracy: 0.3497 - val_loss: 1.8653 - val_accuracy: 0.3364\n",
      "Epoch 7/100\n",
      "434/434 [==============================] - 35s 80ms/step - loss: 1.7735 - accuracy: 0.3538 - val_loss: 1.8688 - val_accuracy: 0.3389\n",
      "Epoch 8/100\n",
      "434/434 [==============================] - 32s 73ms/step - loss: 1.7474 - accuracy: 0.3634 - val_loss: 1.8131 - val_accuracy: 0.3480\n",
      "Epoch 9/100\n",
      "434/434 [==============================] - 31s 72ms/step - loss: 1.7192 - accuracy: 0.3652 - val_loss: 1.8080 - val_accuracy: 0.3475\n",
      "Epoch 10/100\n",
      "434/434 [==============================] - 33s 75ms/step - loss: 1.7076 - accuracy: 0.3685 - val_loss: 1.8231 - val_accuracy: 0.3469\n",
      "Epoch 11/100\n",
      "434/434 [==============================] - 32s 73ms/step - loss: 1.6719 - accuracy: 0.3786 - val_loss: 1.8487 - val_accuracy: 0.3411\n",
      "Epoch 12/100\n",
      "434/434 [==============================] - 42s 96ms/step - loss: 1.6726 - accuracy: 0.3743 - val_loss: 1.8478 - val_accuracy: 0.3458\n",
      "Epoch 13/100\n",
      "434/434 [==============================] - 31s 71ms/step - loss: 1.6525 - accuracy: 0.3813 - val_loss: 1.8167 - val_accuracy: 0.3455\n",
      "Epoch 14/100\n",
      "434/434 [==============================] - 34s 78ms/step - loss: 1.6447 - accuracy: 0.3800 - val_loss: 1.8652 - val_accuracy: 0.3364\n",
      "Epoch 15/100\n",
      "434/434 [==============================] - 31s 72ms/step - loss: 1.6437 - accuracy: 0.3823 - val_loss: 1.8562 - val_accuracy: 0.3322\n",
      "Epoch 16/100\n",
      "434/434 [==============================] - 33s 76ms/step - loss: 1.6317 - accuracy: 0.3900 - val_loss: 1.8580 - val_accuracy: 0.3376\n",
      "Epoch 17/100\n",
      "434/434 [==============================] - 31s 72ms/step - loss: 1.6179 - accuracy: 0.3885 - val_loss: 1.8192 - val_accuracy: 0.3450\n",
      "Epoch 18/100\n",
      "434/434 [==============================] - 34s 77ms/step - loss: 1.6044 - accuracy: 0.3909 - val_loss: 1.8530 - val_accuracy: 0.3430\n",
      "Epoch 19/100\n",
      "434/434 [==============================] - 37s 85ms/step - loss: 1.5785 - accuracy: 0.3979 - val_loss: 1.8898 - val_accuracy: 0.3368\n",
      "0.34211722016334534\n"
     ]
    }
   ],
   "source": [
    "model = models.Sequential()\n",
    "### First convolution & max-pooling & Flattening\n",
    "model.add(Dropout(0.2, input_shape=(100,100,3,)))\n",
    "model.add(layers.Conv2D(8, (4,4), activation='relu'))\n",
    "model.add(layers.MaxPool2D(pool_size=(2,2)))\n",
    "model.add(layers.Flatten())\n",
    "\n",
    "### One fully connected\n",
    "model.add(layers.Dense(50, activation='relu'))\n",
    "model.add(Dropout(0.2))\n",
    "\n",
    "### Second fully connected\n",
    "model.add(layers.Dense(100, activation='relu'))\n",
    "model.add(Dropout(0.2))\n",
    "\n",
    "### Third fully connected\n",
    "model.add(layers.Dense(50, activation='relu'))\n",
    "model.add(Dropout(0.2))\n",
    "\n",
    "### Last layer \n",
    "model.add(layers.Dense(16, activation='softmax'))\n",
    "\n",
    "### Model compilation\n",
    "model.compile(loss='categorical_crossentropy',\n",
    "          optimizer='adam',\n",
    "          metrics=['accuracy'])\n",
    "print(model.summary())\n",
    "\n",
    "es = EarlyStopping(patience=10,restore_best_weights=True)\n",
    "\n",
    "# YOUR CODE HERE\n",
    "model.fit(X_train, y_train_cat, \n",
    "          validation_split=0.3,\n",
    "          callbacks=[es],\n",
    "          epochs=100, \n",
    "          batch_size=32, \n",
    "          verbose=1)\n",
    "\n",
    "print(model.evaluate(X_test, y_test_cat, verbose=0)[1])"
   ]
  },
  {
   "cell_type": "markdown",
   "id": "7791a613",
   "metadata": {
    "heading_collapsed": true,
    "hidden": true
   },
   "source": [
    "## CNN 1.4 Dropout, Hidden Layer 40% => 33,8%"
   ]
  },
  {
   "cell_type": "code",
   "execution_count": 59,
   "id": "f07982b8",
   "metadata": {
    "hidden": true,
    "scrolled": false
   },
   "outputs": [
    {
     "name": "stdout",
     "output_type": "stream",
     "text": [
      "Model: \"sequential_19\"\n",
      "_________________________________________________________________\n",
      "Layer (type)                 Output Shape              Param #   \n",
      "=================================================================\n",
      "conv2d_23 (Conv2D)           (None, 97, 97, 8)         392       \n",
      "_________________________________________________________________\n",
      "max_pooling2d_23 (MaxPooling (None, 48, 48, 8)         0         \n",
      "_________________________________________________________________\n",
      "flatten_19 (Flatten)         (None, 18432)             0         \n",
      "_________________________________________________________________\n",
      "dense_54 (Dense)             (None, 50)                921650    \n",
      "_________________________________________________________________\n",
      "dropout_18 (Dropout)         (None, 50)                0         \n",
      "_________________________________________________________________\n",
      "dense_55 (Dense)             (None, 100)               5100      \n",
      "_________________________________________________________________\n",
      "dropout_19 (Dropout)         (None, 100)               0         \n",
      "_________________________________________________________________\n",
      "dense_56 (Dense)             (None, 50)                5050      \n",
      "_________________________________________________________________\n",
      "dropout_20 (Dropout)         (None, 50)                0         \n",
      "_________________________________________________________________\n",
      "dense_57 (Dense)             (None, 16)                816       \n",
      "=================================================================\n",
      "Total params: 933,008\n",
      "Trainable params: 933,008\n",
      "Non-trainable params: 0\n",
      "_________________________________________________________________\n",
      "None\n",
      "Epoch 1/100\n",
      "434/434 [==============================] - 34s 77ms/step - loss: 2.4553 - accuracy: 0.2333 - val_loss: 2.1564 - val_accuracy: 0.2957\n",
      "Epoch 2/100\n",
      "434/434 [==============================] - 39s 90ms/step - loss: 2.1839 - accuracy: 0.2923 - val_loss: 2.0591 - val_accuracy: 0.3039\n",
      "Epoch 3/100\n",
      "434/434 [==============================] - 27s 63ms/step - loss: 2.1008 - accuracy: 0.3000 - val_loss: 2.0744 - val_accuracy: 0.3046\n",
      "Epoch 4/100\n",
      "434/434 [==============================] - 28s 64ms/step - loss: 2.0539 - accuracy: 0.3074 - val_loss: 2.0215 - val_accuracy: 0.3260\n",
      "Epoch 5/100\n",
      "434/434 [==============================] - 29s 66ms/step - loss: 2.0107 - accuracy: 0.3152 - val_loss: 1.9493 - val_accuracy: 0.3226\n",
      "Epoch 6/100\n",
      "434/434 [==============================] - 28s 65ms/step - loss: 1.9842 - accuracy: 0.3192 - val_loss: 1.9723 - val_accuracy: 0.3315\n",
      "Epoch 7/100\n",
      "434/434 [==============================] - 27s 62ms/step - loss: 1.9495 - accuracy: 0.3216 - val_loss: 1.9264 - val_accuracy: 0.3282\n",
      "Epoch 8/100\n",
      "434/434 [==============================] - 27s 62ms/step - loss: 1.9358 - accuracy: 0.3234 - val_loss: 1.8984 - val_accuracy: 0.3336\n",
      "Epoch 9/100\n",
      "434/434 [==============================] - 26s 61ms/step - loss: 1.9110 - accuracy: 0.3287 - val_loss: 1.8815 - val_accuracy: 0.3317\n",
      "Epoch 10/100\n",
      "434/434 [==============================] - 26s 60ms/step - loss: 1.8905 - accuracy: 0.3321 - val_loss: 1.8680 - val_accuracy: 0.3322\n",
      "Epoch 11/100\n",
      "434/434 [==============================] - 26s 61ms/step - loss: 1.8747 - accuracy: 0.3326 - val_loss: 1.8647 - val_accuracy: 0.3359\n",
      "Epoch 12/100\n",
      "434/434 [==============================] - 26s 60ms/step - loss: 1.8678 - accuracy: 0.3337 - val_loss: 1.8737 - val_accuracy: 0.3388\n",
      "Epoch 13/100\n",
      "434/434 [==============================] - 27s 61ms/step - loss: 1.8505 - accuracy: 0.3404 - val_loss: 1.8558 - val_accuracy: 0.3374\n",
      "Epoch 14/100\n",
      "434/434 [==============================] - 27s 61ms/step - loss: 1.8357 - accuracy: 0.3458 - val_loss: 1.8849 - val_accuracy: 0.3363\n",
      "Epoch 15/100\n",
      "434/434 [==============================] - 27s 62ms/step - loss: 1.8315 - accuracy: 0.3370 - val_loss: 1.8500 - val_accuracy: 0.3420\n",
      "Epoch 16/100\n",
      "434/434 [==============================] - 27s 61ms/step - loss: 1.8118 - accuracy: 0.3432 - val_loss: 1.8362 - val_accuracy: 0.3401\n",
      "Epoch 17/100\n",
      "434/434 [==============================] - 27s 61ms/step - loss: 1.8048 - accuracy: 0.3481 - val_loss: 1.8903 - val_accuracy: 0.3400\n",
      "Epoch 18/100\n",
      "434/434 [==============================] - 26s 61ms/step - loss: 1.7981 - accuracy: 0.3456 - val_loss: 1.8906 - val_accuracy: 0.3233\n",
      "Epoch 19/100\n",
      "434/434 [==============================] - 27s 62ms/step - loss: 1.7897 - accuracy: 0.3445 - val_loss: 1.8801 - val_accuracy: 0.3363\n",
      "Epoch 20/100\n",
      "434/434 [==============================] - 27s 62ms/step - loss: 1.7615 - accuracy: 0.3532 - val_loss: 1.9020 - val_accuracy: 0.3246\n",
      "Epoch 21/100\n",
      "434/434 [==============================] - 27s 62ms/step - loss: 1.7789 - accuracy: 0.3544 - val_loss: 1.8569 - val_accuracy: 0.3304\n",
      "Epoch 22/100\n",
      "434/434 [==============================] - 27s 61ms/step - loss: 1.7518 - accuracy: 0.3533 - val_loss: 1.9190 - val_accuracy: 0.3135\n",
      "Epoch 23/100\n",
      "434/434 [==============================] - 26s 60ms/step - loss: 1.7475 - accuracy: 0.3562 - val_loss: 1.8904 - val_accuracy: 0.3196\n",
      "Epoch 24/100\n",
      "434/434 [==============================] - 26s 60ms/step - loss: 1.7435 - accuracy: 0.3627 - val_loss: 1.9308 - val_accuracy: 0.3177\n",
      "Epoch 25/100\n",
      "434/434 [==============================] - 26s 61ms/step - loss: 1.7339 - accuracy: 0.3563 - val_loss: 1.8548 - val_accuracy: 0.3349\n",
      "Epoch 26/100\n",
      "434/434 [==============================] - 27s 61ms/step - loss: 1.7302 - accuracy: 0.3632 - val_loss: 1.9123 - val_accuracy: 0.3262\n",
      "0.3380281627178192\n"
     ]
    }
   ],
   "source": [
    "model = models.Sequential()\n",
    "### First convolution & max-pooling & Flattening\n",
    "model.add(layers.Conv2D(8, (4,4), input_shape=(100, 100, 3),activation='relu'))\n",
    "model.add(layers.MaxPool2D(pool_size=(2,2)))\n",
    "model.add(layers.Flatten())\n",
    "\n",
    "### One fully connected\n",
    "model.add(layers.Dense(50, activation='relu'))\n",
    "model.add(Dropout(0.4))\n",
    "\n",
    "### Second fully connected\n",
    "model.add(layers.Dense(100, activation='relu'))\n",
    "model.add(Dropout(0.4))\n",
    "\n",
    "### Third fully connected\n",
    "model.add(layers.Dense(50, activation='relu'))\n",
    "model.add(Dropout(0.4))\n",
    "\n",
    "### Last layer \n",
    "model.add(layers.Dense(16, activation='softmax'))\n",
    "\n",
    "### Model compilation\n",
    "model.compile(loss='categorical_crossentropy',\n",
    "          optimizer='adam',\n",
    "          metrics=['accuracy'])\n",
    "print(model.summary())\n",
    "\n",
    "es = EarlyStopping(patience=10,restore_best_weights=True)\n",
    "\n",
    "# YOUR CODE HERE\n",
    "model.fit(X_train, y_train_cat, \n",
    "          validation_split=0.3,\n",
    "          callbacks=[es],\n",
    "          epochs=100, \n",
    "          batch_size=32, \n",
    "          verbose=1)\n",
    "\n",
    "print(model.evaluate(X_test, y_test_cat, verbose=0)[1])"
   ]
  },
  {
   "cell_type": "markdown",
   "id": "5842f4df",
   "metadata": {
    "heading_collapsed": true,
    "hidden": true
   },
   "source": [
    "## CNN 1.5 Dropout, Hidden Layer 30% => 35,1%"
   ]
  },
  {
   "cell_type": "code",
   "execution_count": 60,
   "id": "deb31894",
   "metadata": {
    "hidden": true
   },
   "outputs": [
    {
     "name": "stdout",
     "output_type": "stream",
     "text": [
      "Model: \"sequential_20\"\n",
      "_________________________________________________________________\n",
      "Layer (type)                 Output Shape              Param #   \n",
      "=================================================================\n",
      "conv2d_24 (Conv2D)           (None, 97, 97, 8)         392       \n",
      "_________________________________________________________________\n",
      "max_pooling2d_24 (MaxPooling (None, 48, 48, 8)         0         \n",
      "_________________________________________________________________\n",
      "flatten_20 (Flatten)         (None, 18432)             0         \n",
      "_________________________________________________________________\n",
      "dense_58 (Dense)             (None, 50)                921650    \n",
      "_________________________________________________________________\n",
      "dropout_21 (Dropout)         (None, 50)                0         \n",
      "_________________________________________________________________\n",
      "dense_59 (Dense)             (None, 100)               5100      \n",
      "_________________________________________________________________\n",
      "dropout_22 (Dropout)         (None, 100)               0         \n",
      "_________________________________________________________________\n",
      "dense_60 (Dense)             (None, 50)                5050      \n",
      "_________________________________________________________________\n",
      "dropout_23 (Dropout)         (None, 50)                0         \n",
      "_________________________________________________________________\n",
      "dense_61 (Dense)             (None, 16)                816       \n",
      "=================================================================\n",
      "Total params: 933,008\n",
      "Trainable params: 933,008\n",
      "Non-trainable params: 0\n",
      "_________________________________________________________________\n",
      "None\n",
      "Epoch 1/100\n",
      "434/434 [==============================] - 28s 63ms/step - loss: 2.3578 - accuracy: 0.2543 - val_loss: 2.0994 - val_accuracy: 0.3009\n",
      "Epoch 2/100\n",
      "434/434 [==============================] - 25s 59ms/step - loss: 2.0852 - accuracy: 0.3046 - val_loss: 1.9822 - val_accuracy: 0.3238\n",
      "Epoch 3/100\n",
      "434/434 [==============================] - 25s 58ms/step - loss: 1.9875 - accuracy: 0.3179 - val_loss: 1.8865 - val_accuracy: 0.3275\n",
      "Epoch 4/100\n",
      "434/434 [==============================] - 25s 58ms/step - loss: 1.9075 - accuracy: 0.3323 - val_loss: 1.8477 - val_accuracy: 0.3438\n",
      "Epoch 5/100\n",
      "434/434 [==============================] - 25s 58ms/step - loss: 1.8645 - accuracy: 0.3383 - val_loss: 1.8265 - val_accuracy: 0.3470\n",
      "Epoch 6/100\n",
      "434/434 [==============================] - 27s 62ms/step - loss: 1.8211 - accuracy: 0.3409 - val_loss: 1.8105 - val_accuracy: 0.3453\n",
      "Epoch 7/100\n",
      "434/434 [==============================] - 25s 58ms/step - loss: 1.7860 - accuracy: 0.3483 - val_loss: 1.8146 - val_accuracy: 0.3425\n",
      "Epoch 8/100\n",
      "434/434 [==============================] - 26s 59ms/step - loss: 1.7656 - accuracy: 0.3523 - val_loss: 1.8458 - val_accuracy: 0.3415\n",
      "Epoch 9/100\n",
      "434/434 [==============================] - 29s 67ms/step - loss: 1.7371 - accuracy: 0.3590 - val_loss: 1.7850 - val_accuracy: 0.3543\n",
      "Epoch 10/100\n",
      "434/434 [==============================] - 25s 58ms/step - loss: 1.7212 - accuracy: 0.3630 - val_loss: 1.7947 - val_accuracy: 0.3474\n",
      "Epoch 11/100\n",
      "434/434 [==============================] - 26s 60ms/step - loss: 1.6966 - accuracy: 0.3668 - val_loss: 1.7986 - val_accuracy: 0.3490\n",
      "Epoch 12/100\n",
      "434/434 [==============================] - 25s 58ms/step - loss: 1.6674 - accuracy: 0.3751 - val_loss: 1.7824 - val_accuracy: 0.3539\n",
      "Epoch 13/100\n",
      "434/434 [==============================] - 25s 58ms/step - loss: 1.6674 - accuracy: 0.3748 - val_loss: 1.8029 - val_accuracy: 0.3457\n",
      "Epoch 14/100\n",
      "434/434 [==============================] - 26s 59ms/step - loss: 1.6465 - accuracy: 0.3737 - val_loss: 1.8190 - val_accuracy: 0.3455\n",
      "Epoch 15/100\n",
      "434/434 [==============================] - 25s 58ms/step - loss: 1.6164 - accuracy: 0.3888 - val_loss: 1.7975 - val_accuracy: 0.3529\n",
      "Epoch 16/100\n",
      "434/434 [==============================] - 25s 58ms/step - loss: 1.6081 - accuracy: 0.3896 - val_loss: 1.7990 - val_accuracy: 0.3465\n",
      "Epoch 17/100\n",
      "434/434 [==============================] - 26s 59ms/step - loss: 1.5983 - accuracy: 0.3924 - val_loss: 1.8173 - val_accuracy: 0.3457\n",
      "Epoch 18/100\n",
      "434/434 [==============================] - 25s 58ms/step - loss: 1.5800 - accuracy: 0.3906 - val_loss: 1.8008 - val_accuracy: 0.3526\n",
      "Epoch 19/100\n",
      "434/434 [==============================] - 25s 58ms/step - loss: 1.5583 - accuracy: 0.3962 - val_loss: 1.8200 - val_accuracy: 0.3544\n",
      "Epoch 20/100\n",
      "434/434 [==============================] - 25s 58ms/step - loss: 1.5425 - accuracy: 0.3992 - val_loss: 1.8242 - val_accuracy: 0.3458\n",
      "Epoch 21/100\n",
      "434/434 [==============================] - 25s 58ms/step - loss: 1.5341 - accuracy: 0.4076 - val_loss: 1.8342 - val_accuracy: 0.3438\n",
      "Epoch 22/100\n",
      "434/434 [==============================] - 25s 59ms/step - loss: 1.5224 - accuracy: 0.4137 - val_loss: 1.8491 - val_accuracy: 0.3506\n",
      "0.3512040078639984\n"
     ]
    }
   ],
   "source": [
    "model = models.Sequential()\n",
    "### First convolution & max-pooling & Flattening\n",
    "model.add(layers.Conv2D(8, (4,4), input_shape=(100, 100, 3),activation='relu'))\n",
    "model.add(layers.MaxPool2D(pool_size=(2,2)))\n",
    "model.add(layers.Flatten())\n",
    "\n",
    "### One fully connected\n",
    "model.add(layers.Dense(50, activation='relu'))\n",
    "model.add(Dropout(0.3))\n",
    "\n",
    "### Second fully connected\n",
    "model.add(layers.Dense(100, activation='relu'))\n",
    "model.add(Dropout(0.3))\n",
    "\n",
    "### Third fully connected\n",
    "model.add(layers.Dense(50, activation='relu'))\n",
    "model.add(Dropout(0.3))\n",
    "\n",
    "### Last layer \n",
    "model.add(layers.Dense(16, activation='softmax'))\n",
    "\n",
    "### Model compilation\n",
    "model.compile(loss='categorical_crossentropy',\n",
    "          optimizer='adam',\n",
    "          metrics=['accuracy'])\n",
    "print(model.summary())\n",
    "\n",
    "es = EarlyStopping(patience=10,restore_best_weights=True)\n",
    "\n",
    "# YOUR CODE HERE\n",
    "model.fit(X_train, y_train_cat, \n",
    "          validation_split=0.3,\n",
    "          callbacks=[es],\n",
    "          epochs=100, \n",
    "          batch_size=32, \n",
    "          verbose=1)\n",
    "\n",
    "print(model.evaluate(X_test, y_test_cat, verbose=0)[1])"
   ]
  },
  {
   "cell_type": "markdown",
   "id": "0f77a343",
   "metadata": {
    "heading_collapsed": true,
    "hidden": true
   },
   "source": [
    "## CNN 1.6 Dropout, Hidden Layer 20% => 34,98%"
   ]
  },
  {
   "cell_type": "code",
   "execution_count": 61,
   "id": "56c89ab3",
   "metadata": {
    "hidden": true
   },
   "outputs": [
    {
     "name": "stdout",
     "output_type": "stream",
     "text": [
      "Model: \"sequential_21\"\n",
      "_________________________________________________________________\n",
      "Layer (type)                 Output Shape              Param #   \n",
      "=================================================================\n",
      "conv2d_25 (Conv2D)           (None, 97, 97, 8)         392       \n",
      "_________________________________________________________________\n",
      "max_pooling2d_25 (MaxPooling (None, 48, 48, 8)         0         \n",
      "_________________________________________________________________\n",
      "flatten_21 (Flatten)         (None, 18432)             0         \n",
      "_________________________________________________________________\n",
      "dense_62 (Dense)             (None, 50)                921650    \n",
      "_________________________________________________________________\n",
      "dropout_24 (Dropout)         (None, 50)                0         \n",
      "_________________________________________________________________\n",
      "dense_63 (Dense)             (None, 100)               5100      \n",
      "_________________________________________________________________\n",
      "dropout_25 (Dropout)         (None, 100)               0         \n",
      "_________________________________________________________________\n",
      "dense_64 (Dense)             (None, 50)                5050      \n",
      "_________________________________________________________________\n",
      "dropout_26 (Dropout)         (None, 50)                0         \n",
      "_________________________________________________________________\n",
      "dense_65 (Dense)             (None, 16)                816       \n",
      "=================================================================\n",
      "Total params: 933,008\n",
      "Trainable params: 933,008\n",
      "Non-trainable params: 0\n",
      "_________________________________________________________________\n",
      "None\n",
      "Epoch 1/100\n",
      "434/434 [==============================] - 29s 66ms/step - loss: 2.2727 - accuracy: 0.2673 - val_loss: 2.0227 - val_accuracy: 0.3043\n",
      "Epoch 2/100\n",
      "434/434 [==============================] - 27s 62ms/step - loss: 2.0059 - accuracy: 0.3154 - val_loss: 1.9120 - val_accuracy: 0.3342\n",
      "Epoch 3/100\n",
      "434/434 [==============================] - 26s 60ms/step - loss: 1.9167 - accuracy: 0.3318 - val_loss: 1.8723 - val_accuracy: 0.3425\n",
      "Epoch 4/100\n",
      "434/434 [==============================] - 25s 58ms/step - loss: 1.8364 - accuracy: 0.3441 - val_loss: 1.7945 - val_accuracy: 0.3438\n",
      "Epoch 5/100\n",
      "434/434 [==============================] - 25s 57ms/step - loss: 1.7972 - accuracy: 0.3493 - val_loss: 1.7932 - val_accuracy: 0.3423\n",
      "Epoch 6/100\n",
      "434/434 [==============================] - 25s 58ms/step - loss: 1.7521 - accuracy: 0.3584 - val_loss: 1.8157 - val_accuracy: 0.3445\n",
      "Epoch 7/100\n",
      "434/434 [==============================] - 25s 58ms/step - loss: 1.7240 - accuracy: 0.3666 - val_loss: 1.7919 - val_accuracy: 0.3472\n",
      "Epoch 8/100\n",
      "434/434 [==============================] - 25s 58ms/step - loss: 1.6941 - accuracy: 0.3763 - val_loss: 1.7774 - val_accuracy: 0.3506\n",
      "Epoch 9/100\n",
      "434/434 [==============================] - 26s 59ms/step - loss: 1.6689 - accuracy: 0.3778 - val_loss: 1.7525 - val_accuracy: 0.3499\n",
      "Epoch 10/100\n",
      "434/434 [==============================] - 25s 59ms/step - loss: 1.6506 - accuracy: 0.3878 - val_loss: 1.7754 - val_accuracy: 0.3588\n",
      "Epoch 11/100\n",
      "434/434 [==============================] - 25s 59ms/step - loss: 1.6205 - accuracy: 0.3872 - val_loss: 1.7802 - val_accuracy: 0.3494\n",
      "Epoch 12/100\n",
      "434/434 [==============================] - 26s 60ms/step - loss: 1.6087 - accuracy: 0.3939 - val_loss: 1.7671 - val_accuracy: 0.3527\n",
      "Epoch 13/100\n",
      "434/434 [==============================] - 25s 58ms/step - loss: 1.5859 - accuracy: 0.4003 - val_loss: 1.8027 - val_accuracy: 0.3405\n",
      "Epoch 14/100\n",
      "434/434 [==============================] - 26s 59ms/step - loss: 1.5669 - accuracy: 0.4079 - val_loss: 1.8246 - val_accuracy: 0.3485\n",
      "Epoch 15/100\n",
      "434/434 [==============================] - 25s 59ms/step - loss: 1.5460 - accuracy: 0.4122 - val_loss: 1.8230 - val_accuracy: 0.3494\n",
      "Epoch 16/100\n",
      "434/434 [==============================] - 26s 59ms/step - loss: 1.5389 - accuracy: 0.4129 - val_loss: 1.8348 - val_accuracy: 0.3410\n",
      "Epoch 17/100\n",
      "434/434 [==============================] - 25s 58ms/step - loss: 1.5210 - accuracy: 0.4168 - val_loss: 1.8244 - val_accuracy: 0.3504\n",
      "Epoch 18/100\n",
      "434/434 [==============================] - 26s 60ms/step - loss: 1.4917 - accuracy: 0.4271 - val_loss: 1.8600 - val_accuracy: 0.3554\n",
      "Epoch 19/100\n",
      "434/434 [==============================] - 26s 60ms/step - loss: 1.4775 - accuracy: 0.4259 - val_loss: 1.8692 - val_accuracy: 0.3546\n",
      "0.3498409688472748\n"
     ]
    }
   ],
   "source": [
    "model = models.Sequential()\n",
    "### First convolution & max-pooling & Flattening\n",
    "model.add(layers.Conv2D(8, (4,4), input_shape=(100, 100, 3),activation='relu'))\n",
    "model.add(layers.MaxPool2D(pool_size=(2,2)))\n",
    "model.add(layers.Flatten())\n",
    "\n",
    "### One fully connected\n",
    "model.add(layers.Dense(50, activation='relu'))\n",
    "model.add(Dropout(0.2))\n",
    "\n",
    "### Second fully connected\n",
    "model.add(layers.Dense(100, activation='relu'))\n",
    "model.add(Dropout(0.2))\n",
    "\n",
    "### Third fully connected\n",
    "model.add(layers.Dense(50, activation='relu'))\n",
    "model.add(Dropout(0.2))\n",
    "\n",
    "### Last layer \n",
    "model.add(layers.Dense(16, activation='softmax'))\n",
    "\n",
    "### Model compilation\n",
    "model.compile(loss='categorical_crossentropy',\n",
    "          optimizer='adam',\n",
    "          metrics=['accuracy'])\n",
    "print(model.summary())\n",
    "\n",
    "es = EarlyStopping(patience=10,restore_best_weights=True)\n",
    "\n",
    "# YOUR CODE HERE\n",
    "model.fit(X_train, y_train_cat, \n",
    "          validation_split=0.3,\n",
    "          callbacks=[es],\n",
    "          epochs=100, \n",
    "          batch_size=32, \n",
    "          verbose=1)\n",
    "\n",
    "print(model.evaluate(X_test, y_test_cat, verbose=0)[1])"
   ]
  },
  {
   "cell_type": "markdown",
   "id": "3725010a",
   "metadata": {},
   "source": [
    "# CNN C Something new (Copy from Cifar Classification) 37,6 %"
   ]
  },
  {
   "cell_type": "code",
   "execution_count": null,
   "id": "3ec41b1e",
   "metadata": {
    "scrolled": false
   },
   "outputs": [],
   "source": [
    "model = models.Sequential()\n",
    "model.add(Conv2D(32, (3, 3), activation='relu', padding='same', input_shape=(100, 100, 3)))\n",
    "#model.add(Conv2D(32, (3, 3), activation='relu', padding='same'))\n",
    "model.add(MaxPooling2D((2, 2)))\n",
    "model.add(Dropout(0.2))\n",
    "model.add(Conv2D(64, (3, 3), activation='relu', padding='same'))\n",
    "#model.add(Conv2D(64, (3, 3), activation='relu', padding='same'))\n",
    "model.add(MaxPooling2D((2, 2)))\n",
    "model.add(Dropout(0.2))\n",
    "model.add(Conv2D(128, (2, 2), activation='relu', padding='same'))\n",
    "#model.add(Conv2D(128, (3, 3), activation='relu', padding='same'))\n",
    "model.add(Dropout(0.3))\n",
    "model.add(MaxPooling2D((2, 2)))\n",
    "\n",
    "model.add(Flatten())\n",
    "model.add(Dense(100, activation='relu'))\n",
    "model.add(Dropout(0.4))\n",
    "model.add(Dense(16, activation='softmax'))\n",
    "\n",
    "model.compile(loss='categorical_crossentropy',\n",
    "              optimizer='adam',\n",
    "              metrics=['accuracy'])\n",
    "\n",
    "print(model.summary())\n",
    "\n",
    "es = EarlyStopping(patience=10,restore_best_weights=True)\n",
    "\n",
    "# YOUR CODE HERE\n",
    "model.fit(X_train, y_train_cat, \n",
    "          validation_split=0.3,\n",
    "          callbacks=[es],\n",
    "          epochs=100, \n",
    "          batch_size=32, \n",
    "          verbose=1)"
   ]
  },
  {
   "cell_type": "code",
   "execution_count": null,
   "id": "35dced4f",
   "metadata": {},
   "outputs": [],
   "source": [
    "print(model.evaluate(X_test, y_test_cat, verbose=0)[1])"
   ]
  },
  {
   "cell_type": "markdown",
   "id": "770179f2",
   "metadata": {
    "heading_collapsed": true
   },
   "source": [
    "# CNN D Copy from Internet   36,7 %"
   ]
  },
  {
   "cell_type": "code",
   "execution_count": 76,
   "id": "91790a76",
   "metadata": {
    "hidden": true
   },
   "outputs": [
    {
     "name": "stdout",
     "output_type": "stream",
     "text": [
      "Model: \"sequential_26\"\n",
      "_________________________________________________________________\n",
      "Layer (type)                 Output Shape              Param #   \n",
      "=================================================================\n",
      "conv2d_33 (Conv2D)           (None, 47, 47, 96)        14208     \n",
      "_________________________________________________________________\n",
      "max_pooling2d_33 (MaxPooling (None, 23, 23, 96)        0         \n",
      "_________________________________________________________________\n",
      "layer_normalization_3 (Layer (None, 23, 23, 96)        192       \n",
      "_________________________________________________________________\n",
      "conv2d_34 (Conv2D)           (None, 23, 23, 256)       614656    \n",
      "_________________________________________________________________\n",
      "max_pooling2d_34 (MaxPooling (None, 11, 11, 256)       0         \n",
      "_________________________________________________________________\n",
      "layer_normalization_4 (Layer (None, 11, 11, 256)       512       \n",
      "_________________________________________________________________\n",
      "conv2d_35 (Conv2D)           (None, 11, 11, 256)       590080    \n",
      "_________________________________________________________________\n",
      "max_pooling2d_35 (MaxPooling (None, 5, 5, 256)         0         \n",
      "_________________________________________________________________\n",
      "layer_normalization_5 (Layer (None, 5, 5, 256)         512       \n",
      "_________________________________________________________________\n",
      "flatten_24 (Flatten)         (None, 6400)              0         \n",
      "_________________________________________________________________\n",
      "dense_71 (Dense)             (None, 512)               3277312   \n",
      "_________________________________________________________________\n",
      "dropout_33 (Dropout)         (None, 512)               0         \n",
      "_________________________________________________________________\n",
      "dense_72 (Dense)             (None, 512)               262656    \n",
      "_________________________________________________________________\n",
      "dropout_34 (Dropout)         (None, 512)               0         \n",
      "_________________________________________________________________\n",
      "dense_73 (Dense)             (None, 16)                8208      \n",
      "=================================================================\n",
      "Total params: 4,768,336\n",
      "Trainable params: 4,768,336\n",
      "Non-trainable params: 0\n",
      "_________________________________________________________________\n",
      "None\n",
      "Epoch 1/100\n",
      "434/434 [==============================] - 393s 902ms/step - loss: 2.5189 - accuracy: 0.2334 - val_loss: 2.2628 - val_accuracy: 0.2725\n",
      "Epoch 2/100\n",
      "434/434 [==============================] - 337s 776ms/step - loss: 2.2044 - accuracy: 0.2894 - val_loss: 2.0758 - val_accuracy: 0.3024\n",
      "Epoch 3/100\n",
      "434/434 [==============================] - 339s 781ms/step - loss: 2.0704 - accuracy: 0.3043 - val_loss: 2.0261 - val_accuracy: 0.3149\n",
      "Epoch 4/100\n",
      "434/434 [==============================] - 341s 787ms/step - loss: 1.9682 - accuracy: 0.3195 - val_loss: 1.8695 - val_accuracy: 0.3235\n",
      "Epoch 5/100\n",
      "434/434 [==============================] - 390s 899ms/step - loss: 1.8775 - accuracy: 0.3351 - val_loss: 1.8099 - val_accuracy: 0.3394\n",
      "Epoch 6/100\n",
      "434/434 [==============================] - 396s 913ms/step - loss: 1.7998 - accuracy: 0.3456 - val_loss: 1.7936 - val_accuracy: 0.3492\n",
      "Epoch 7/100\n",
      "434/434 [==============================] - 435s 1s/step - loss: 1.7174 - accuracy: 0.3618 - val_loss: 1.7692 - val_accuracy: 0.3559\n",
      "Epoch 8/100\n",
      "434/434 [==============================] - 470s 1s/step - loss: 1.6668 - accuracy: 0.3691 - val_loss: 1.7369 - val_accuracy: 0.3578\n",
      "Epoch 9/100\n",
      "434/434 [==============================] - 378s 870ms/step - loss: 1.6095 - accuracy: 0.3867 - val_loss: 1.6938 - val_accuracy: 0.3637\n",
      "Epoch 10/100\n",
      "434/434 [==============================] - 370s 852ms/step - loss: 1.5523 - accuracy: 0.3922 - val_loss: 1.6796 - val_accuracy: 0.3702\n",
      "Epoch 11/100\n",
      "434/434 [==============================] - 460s 1s/step - loss: 1.4901 - accuracy: 0.4149 - val_loss: 1.6854 - val_accuracy: 0.3635\n",
      "Epoch 12/100\n",
      "434/434 [==============================] - 751s 2s/step - loss: 1.4331 - accuracy: 0.4382 - val_loss: 1.6820 - val_accuracy: 0.3713\n",
      "Epoch 13/100\n",
      "434/434 [==============================] - 1236s 3s/step - loss: 1.3704 - accuracy: 0.4502 - val_loss: 1.6781 - val_accuracy: 0.3645\n",
      "Epoch 14/100\n",
      "434/434 [==============================] - 1003s 2s/step - loss: 1.3005 - accuracy: 0.4753 - val_loss: 1.7291 - val_accuracy: 0.3713\n",
      "Epoch 15/100\n",
      "434/434 [==============================] - 965s 2s/step - loss: 1.2314 - accuracy: 0.5062 - val_loss: 1.7705 - val_accuracy: 0.3637\n",
      "Epoch 16/100\n",
      "434/434 [==============================] - 1114s 3s/step - loss: 1.1511 - accuracy: 0.5403 - val_loss: 1.8316 - val_accuracy: 0.3662\n",
      "Epoch 17/100\n",
      "434/434 [==============================] - 1153s 3s/step - loss: 1.0613 - accuracy: 0.5736 - val_loss: 1.8823 - val_accuracy: 0.3797\n",
      "Epoch 18/100\n",
      "434/434 [==============================] - 1184s 3s/step - loss: 0.9821 - accuracy: 0.6073 - val_loss: 1.9717 - val_accuracy: 0.3692\n",
      "Epoch 19/100\n",
      "434/434 [==============================] - 1337s 3s/step - loss: 0.9016 - accuracy: 0.6473 - val_loss: 2.0110 - val_accuracy: 0.3628\n",
      "Epoch 20/100\n",
      "434/434 [==============================] - 1262s 3s/step - loss: 0.8170 - accuracy: 0.6825 - val_loss: 2.2345 - val_accuracy: 0.3716\n",
      "Epoch 21/100\n",
      "434/434 [==============================] - 1078s 2s/step - loss: 0.7572 - accuracy: 0.7118 - val_loss: 2.2503 - val_accuracy: 0.3642\n",
      "Epoch 22/100\n",
      "434/434 [==============================] - 1037s 2s/step - loss: 0.6712 - accuracy: 0.7447 - val_loss: 2.3372 - val_accuracy: 0.3570\n",
      "Epoch 23/100\n",
      "434/434 [==============================] - 1006s 2s/step - loss: 0.6324 - accuracy: 0.7578 - val_loss: 2.6304 - val_accuracy: 0.3613\n"
     ]
    },
    {
     "data": {
      "text/plain": [
       "<tensorflow.python.keras.callbacks.History at 0x15ab3a040>"
      ]
     },
     "execution_count": 76,
     "metadata": {},
     "output_type": "execute_result"
    }
   ],
   "source": [
    "model = Sequential()\n",
    "model.add(Conv2D(input_shape=(100, 100, 3), filters=96, kernel_size=(7, 7), strides=(2, 2), padding='valid', activation='relu'))\n",
    "model.add(MaxPooling2D(pool_size=(2,2),strides=(2,2)))\n",
    "model.add(LayerNormalization())\n",
    "model.add(Conv2D(filters=256, kernel_size=(5, 5), strides=1, padding='same', activation='relu'))\n",
    "model.add(MaxPooling2D(pool_size=(2,2),strides=(2,2)))\n",
    "model.add(LayerNormalization())\n",
    "model.add(Conv2D(filters=256, kernel_size=(3, 3), strides=1, padding='same', activation='relu'))\n",
    "model.add(MaxPooling2D(pool_size=(2,2),strides=(2,2)))\n",
    "model.add(LayerNormalization())\n",
    "\n",
    "model.add(Flatten())\n",
    "model.add(Dense(units=512, activation='relu'))\n",
    "model.add(Dropout(rate=0.25))\n",
    "model.add(Dense(units=512, activation='relu'))\n",
    "model.add(Dropout(rate=0.25))\n",
    "model.add(Dense(units=16, activation='softmax'))\n",
    "\n",
    "print(model.summary())\n",
    "\n",
    "model.compile(loss='categorical_crossentropy',\n",
    "              optimizer='adam',\n",
    "              metrics=['accuracy'])\n",
    "\n",
    "es = EarlyStopping(patience=10,restore_best_weights=True)\n",
    "\n",
    "# YOUR CODE HERE\n",
    "model.fit(X_train, y_train_cat, \n",
    "          validation_split=0.3,\n",
    "          callbacks=[es],\n",
    "          epochs=100, \n",
    "          batch_size=32, \n",
    "          verbose=1)"
   ]
  },
  {
   "cell_type": "code",
   "execution_count": 77,
   "id": "54899261",
   "metadata": {
    "hidden": true
   },
   "outputs": [
    {
     "name": "stdout",
     "output_type": "stream",
     "text": [
      "0.3671058714389801\n"
     ]
    }
   ],
   "source": [
    "print(model.evaluate(X_test, y_test_cat, verbose=0)[1])"
   ]
  },
  {
   "cell_type": "markdown",
   "id": "fe529b2a",
   "metadata": {},
   "source": [
    "# Evaluation of the Best Model"
   ]
  },
  {
   "cell_type": "code",
   "execution_count": null,
   "id": "bebcf105",
   "metadata": {},
   "outputs": [],
   "source": [
    "best_model = model"
   ]
  }
 ],
 "metadata": {
  "colab": {
   "name": "felixfa_data_exploration_visualization.ipynb",
   "provenance": [],
   "toc_visible": true
  },
  "kernelspec": {
   "display_name": "Python 3",
   "language": "python",
   "name": "python3"
  },
  "language_info": {
   "codemirror_mode": {
    "name": "ipython",
    "version": 3
   },
   "file_extension": ".py",
   "mimetype": "text/x-python",
   "name": "python",
   "nbconvert_exporter": "python",
   "pygments_lexer": "ipython3",
   "version": "3.8.6"
  },
  "toc": {
   "base_numbering": 1,
   "nav_menu": {},
   "number_sections": false,
   "sideBar": true,
   "skip_h1_title": false,
   "title_cell": "Table of Contents",
   "title_sidebar": "Contents",
   "toc_cell": false,
   "toc_position": {},
   "toc_section_display": true,
   "toc_window_display": false
  }
 },
 "nbformat": 4,
 "nbformat_minor": 5
}
