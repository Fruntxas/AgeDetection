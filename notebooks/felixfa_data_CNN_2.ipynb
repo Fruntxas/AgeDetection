{
 "cells": [
  {
   "cell_type": "markdown",
   "id": "cdee948d",
   "metadata": {},
   "source": [
    "# Preparing"
   ]
  },
  {
   "cell_type": "markdown",
   "id": "casual-spectrum",
   "metadata": {
    "heading_collapsed": true,
    "id": "casual-spectrum"
   },
   "source": [
    "## Imports and Functions"
   ]
  },
  {
   "cell_type": "code",
   "execution_count": 1,
   "id": "ancient-workstation",
   "metadata": {
    "hidden": true,
    "id": "ancient-workstation"
   },
   "outputs": [],
   "source": [
    "import os\n",
    "import random\n",
    "import numpy as np\n",
    "import cv2\n",
    "import matplotlib.pyplot as plt\n",
    "import pandas as pd\n",
    "import seaborn as sns\n",
    "import regex as re\n",
    "from sklearn.model_selection import train_test_split\n",
    "from tensorflow.keras.utils import to_categorical\n",
    "from tensorflow.keras import layers, models, Sequential, layers\n",
    "from tensorflow.keras.layers import Conv2D, MaxPooling2D, Flatten, Dropout, Dense\n",
    "from tensorflow.keras.callbacks import EarlyStopping"
   ]
  },
  {
   "cell_type": "markdown",
   "id": "0af49983",
   "metadata": {
    "heading_collapsed": true,
    "hidden": true
   },
   "source": [
    "### Normal"
   ]
  },
  {
   "cell_type": "code",
   "execution_count": 2,
   "id": "4b54966c",
   "metadata": {
    "hidden": true,
    "id": "4b54966c"
   },
   "outputs": [],
   "source": [
    "folder_path = '/Users/Felix/Google Drive/Felix/code/AgeRecognition/raw_data/Faces'\n",
    "#folder_path = '/content/UTKFaces/UTKFaces/Faces'"
   ]
  },
  {
   "cell_type": "code",
   "execution_count": 41,
   "id": "invisible-cholesterol",
   "metadata": {
    "hidden": true,
    "id": "invisible-cholesterol"
   },
   "outputs": [],
   "source": [
    "def load_images_from_folder(folder_path,percent=100):\n",
    "    filenames = [f for f in os.listdir(folder_path) if not f.startswith('.')]\n",
    "    filenames.sort(key=lambda f: int(re.sub('\\D', '', f)))\n",
    "    images = []\n",
    "    for filename in filenames:\n",
    "        img = cv2.imread(os.path.join(folder_path,filename),cv2.IMREAD_UNCHANGED)\n",
    "        \n",
    "        scale_percent = percent # percent of original size\n",
    "        width = int(img.shape[1] * scale_percent / 100)\n",
    "        height = int(img.shape[0] * scale_percent / 100)\n",
    "        dim = (width, height)\n",
    "        \n",
    "        # resize image\n",
    "        resized = cv2.resize(img, dim, interpolation = cv2.INTER_AREA)\n",
    "        cv2.imshow(\"Resized image\", resized)\n",
    "        #cv2.waitKey(0)\n",
    "        #cv2.destroyAllWindows()\n",
    "        if img is not None:\n",
    "            img_colors = cv2.cvtColor(resized, cv2.COLOR_BGR2RGB)\n",
    "            images.append(img_colors)\n",
    "    return images\n",
    "\n",
    "def show_all_images_from_list(img_list,img_df):\n",
    "    n=int(len(img_list)/5) +1 \n",
    "    f = plt.figure(figsize=(25,n*5))\n",
    "    for i,img in enumerate(img_list):\n",
    "        f.add_subplot(n, 5, i + 1)\n",
    "        plt.title(f'{img_df.iloc[i]}',\n",
    "                  fontweight=\"bold\",\n",
    "                  fontsize=15)\n",
    "        plt.imshow(img)\n",
    "        f.tight_layout()\n",
    "\n",
    "def load_image_data_into_dataframe(folderpath):\n",
    "\n",
    "    filenames = [f for f in os.listdir(folder_path) if not f.startswith('.')]\n",
    "    filenames.sort(key=lambda f: int(re.sub('\\D', '', f)))\n",
    "    df = pd.DataFrame()\n",
    "    for filename in filenames:\n",
    "        if filename.startswith('81'):\n",
    "            break\n",
    "        parsed_name = filename.split('_')\n",
    "        df= df.append({'age' : int(parsed_name[0]),\n",
    "                       'gender' : parsed_name[1],\n",
    "                       'race' : parsed_name[2]}, ignore_index=True)\n",
    "    df['gender'] = df['gender'].map({'0': 'male', '1': 'female'})\n",
    "    df['race'] = df['race'].map({'0': 'White', '1': 'Black', '2': 'Asian', '3': 'Indian', '4': 'Others'})\n",
    "    return df"
   ]
  },
  {
   "cell_type": "code",
   "execution_count": 29,
   "id": "attempted-aruba",
   "metadata": {
    "hidden": true,
    "id": "attempted-aruba",
    "scrolled": false
   },
   "outputs": [],
   "source": [
    "img_pic=load_images_from_folder(folder_path)"
   ]
  },
  {
   "cell_type": "code",
   "execution_count": 30,
   "id": "herbal-twist",
   "metadata": {
    "hidden": true,
    "id": "herbal-twist",
    "scrolled": false
   },
   "outputs": [],
   "source": [
    "img_df = load_image_data_into_dataframe(folder_path)"
   ]
  },
  {
   "cell_type": "markdown",
   "id": "f18f2eb9",
   "metadata": {
    "heading_collapsed": true,
    "id": "f18f2eb9"
   },
   "source": [
    "## Targets into Age Bins of 8 (Baseline: 10%)"
   ]
  },
  {
   "cell_type": "code",
   "execution_count": 31,
   "id": "8e4e24ed",
   "metadata": {
    "hidden": true
   },
   "outputs": [
    {
     "data": {
      "text/plain": [
       "[0, 8, 16, 24, 32, 40, 48, 56, 64, 72, 80]"
      ]
     },
     "execution_count": 31,
     "metadata": {},
     "output_type": "execute_result"
    }
   ],
   "source": [
    "bins= [8*i for i in range(11)]\n",
    "bins"
   ]
  },
  {
   "cell_type": "code",
   "execution_count": 32,
   "id": "ad53b1c8",
   "metadata": {
    "hidden": true,
    "scrolled": true
   },
   "outputs": [],
   "source": [
    "labels = [0,1,2,3,4,5,6,7,8,9]\n",
    "img_df['age_group'] = pd.cut(img_df['age'], bins=bins, labels=labels)"
   ]
  },
  {
   "cell_type": "code",
   "execution_count": 33,
   "id": "42bc7598",
   "metadata": {
    "hidden": true
   },
   "outputs": [
    {
     "data": {
      "text/html": [
       "<div>\n",
       "<style scoped>\n",
       "    .dataframe tbody tr th:only-of-type {\n",
       "        vertical-align: middle;\n",
       "    }\n",
       "\n",
       "    .dataframe tbody tr th {\n",
       "        vertical-align: top;\n",
       "    }\n",
       "\n",
       "    .dataframe thead th {\n",
       "        text-align: right;\n",
       "    }\n",
       "</style>\n",
       "<table border=\"1\" class=\"dataframe\">\n",
       "  <thead>\n",
       "    <tr style=\"text-align: right;\">\n",
       "      <th></th>\n",
       "      <th>age</th>\n",
       "      <th>gender</th>\n",
       "      <th>race</th>\n",
       "      <th>age_group</th>\n",
       "    </tr>\n",
       "  </thead>\n",
       "  <tbody>\n",
       "    <tr>\n",
       "      <th>0</th>\n",
       "      <td>1.0</td>\n",
       "      <td>male</td>\n",
       "      <td>White</td>\n",
       "      <td>0</td>\n",
       "    </tr>\n",
       "    <tr>\n",
       "      <th>1</th>\n",
       "      <td>1.0</td>\n",
       "      <td>male</td>\n",
       "      <td>White</td>\n",
       "      <td>0</td>\n",
       "    </tr>\n",
       "    <tr>\n",
       "      <th>2</th>\n",
       "      <td>1.0</td>\n",
       "      <td>male</td>\n",
       "      <td>White</td>\n",
       "      <td>0</td>\n",
       "    </tr>\n",
       "    <tr>\n",
       "      <th>3</th>\n",
       "      <td>1.0</td>\n",
       "      <td>male</td>\n",
       "      <td>White</td>\n",
       "      <td>0</td>\n",
       "    </tr>\n",
       "    <tr>\n",
       "      <th>4</th>\n",
       "      <td>1.0</td>\n",
       "      <td>male</td>\n",
       "      <td>White</td>\n",
       "      <td>0</td>\n",
       "    </tr>\n",
       "    <tr>\n",
       "      <th>...</th>\n",
       "      <td>...</td>\n",
       "      <td>...</td>\n",
       "      <td>...</td>\n",
       "      <td>...</td>\n",
       "    </tr>\n",
       "    <tr>\n",
       "      <th>22000</th>\n",
       "      <td>80.0</td>\n",
       "      <td>female</td>\n",
       "      <td>Black</td>\n",
       "      <td>9</td>\n",
       "    </tr>\n",
       "    <tr>\n",
       "      <th>22001</th>\n",
       "      <td>80.0</td>\n",
       "      <td>female</td>\n",
       "      <td>Asian</td>\n",
       "      <td>9</td>\n",
       "    </tr>\n",
       "    <tr>\n",
       "      <th>22002</th>\n",
       "      <td>80.0</td>\n",
       "      <td>female</td>\n",
       "      <td>Asian</td>\n",
       "      <td>9</td>\n",
       "    </tr>\n",
       "    <tr>\n",
       "      <th>22003</th>\n",
       "      <td>80.0</td>\n",
       "      <td>female</td>\n",
       "      <td>Indian</td>\n",
       "      <td>9</td>\n",
       "    </tr>\n",
       "    <tr>\n",
       "      <th>22004</th>\n",
       "      <td>80.0</td>\n",
       "      <td>female</td>\n",
       "      <td>Others</td>\n",
       "      <td>9</td>\n",
       "    </tr>\n",
       "  </tbody>\n",
       "</table>\n",
       "<p>22005 rows × 4 columns</p>\n",
       "</div>"
      ],
      "text/plain": [
       "        age  gender    race age_group\n",
       "0       1.0    male   White         0\n",
       "1       1.0    male   White         0\n",
       "2       1.0    male   White         0\n",
       "3       1.0    male   White         0\n",
       "4       1.0    male   White         0\n",
       "...     ...     ...     ...       ...\n",
       "22000  80.0  female   Black         9\n",
       "22001  80.0  female   Asian         9\n",
       "22002  80.0  female   Asian         9\n",
       "22003  80.0  female  Indian         9\n",
       "22004  80.0  female  Others         9\n",
       "\n",
       "[22005 rows x 4 columns]"
      ]
     },
     "execution_count": 33,
     "metadata": {},
     "output_type": "execute_result"
    }
   ],
   "source": [
    "img_df"
   ]
  },
  {
   "cell_type": "code",
   "execution_count": 34,
   "id": "c25a740b",
   "metadata": {
    "hidden": true,
    "id": "c25a740b"
   },
   "outputs": [
    {
     "data": {
      "text/plain": [
       "9     533\n",
       "8     843\n",
       "1    1133\n",
       "7    1137\n",
       "5    1517\n",
       "6    1920\n",
       "2    2600\n",
       "0    2817\n",
       "4    3195\n",
       "3    6310\n",
       "Name: age_group, dtype: int64"
      ]
     },
     "execution_count": 34,
     "metadata": {},
     "output_type": "execute_result"
    }
   ],
   "source": [
    "img_df['age_group'].value_counts().sort_values()"
   ]
  },
  {
   "cell_type": "markdown",
   "id": "rxucb3l7ZEeK",
   "metadata": {
    "heading_collapsed": true,
    "id": "rxucb3l7ZEeK"
   },
   "source": [
    "## CNN 1 Preperations (Size: Original)"
   ]
  },
  {
   "cell_type": "code",
   "execution_count": 35,
   "id": "551b8b67",
   "metadata": {
    "hidden": true,
    "id": "551b8b67"
   },
   "outputs": [
    {
     "data": {
      "text/plain": [
       "(19804, 200, 200, 3)"
      ]
     },
     "execution_count": 35,
     "metadata": {},
     "output_type": "execute_result"
    }
   ],
   "source": [
    "X = img_pic\n",
    "y = img_df['age_group']\n",
    "\n",
    "X_train, X_test, y_train, y_test = train_test_split(X, y, test_size=0.1, random_state=42)\n",
    "\n",
    "X_train = np.array(X_train)\n",
    "X_test =np.array(X_test)\n",
    "y_train = np.array(y_train)\n",
    "y_test =np.array(y_test)\n",
    "X_train.shape"
   ]
  },
  {
   "cell_type": "code",
   "execution_count": 36,
   "id": "ced4cca7",
   "metadata": {
    "hidden": true,
    "id": "ced4cca7"
   },
   "outputs": [],
   "source": [
    "X_train = X_train/255 - 0.5\n",
    "X_test = X_test/255 - 0.5\n",
    "y_train_cat = to_categorical(y_train)\n",
    "y_test_cat = to_categorical(y_test)"
   ]
  },
  {
   "cell_type": "code",
   "execution_count": 37,
   "id": "e5509d4d",
   "metadata": {
    "colab": {
     "base_uri": "https://localhost:8080/",
     "height": 168
    },
    "hidden": true,
    "id": "e5509d4d",
    "outputId": "46693f4f-48e9-4ce4-9fe5-45c36c1f109b"
   },
   "outputs": [],
   "source": [
    "#np.save('X_train', X_train)\n",
    "#np.save('X_test', X_test)\n",
    "#np.save('y_train_cat', y_train_cat)\n",
    "#np.save('y_test_cat', y_test_cat)"
   ]
  },
  {
   "cell_type": "code",
   "execution_count": 38,
   "id": "ac6e8269",
   "metadata": {
    "hidden": true
   },
   "outputs": [
    {
     "name": "stdout",
     "output_type": "stream",
     "text": [
      "(19804, 200, 200, 3)\n",
      "(2201, 200, 200, 3)\n"
     ]
    }
   ],
   "source": [
    "print(X_train.shape)\n",
    "print(X_test.shape)"
   ]
  },
  {
   "cell_type": "markdown",
   "id": "d0d86c13",
   "metadata": {
    "heading_collapsed": true
   },
   "source": [
    "## CNN 1 (Accuracy: 27,6 %)"
   ]
  },
  {
   "cell_type": "code",
   "execution_count": 39,
   "id": "8cf04849",
   "metadata": {
    "hidden": true
   },
   "outputs": [],
   "source": [
    "def initialize_model():\n",
    "    model = models.Sequential()\n",
    "    ### First convolution & max-pooling\n",
    "    model.add(layers.Conv2D(8, (4,4), input_shape=(200, 200, 3),\n",
    "                            activation='relu'))\n",
    "    model.add(layers.MaxPool2D(pool_size=(2,2)))\n",
    "\n",
    "    ### Flattening\n",
    "    model.add(layers.Flatten())\n",
    "\n",
    "    ### One fully connected\n",
    "    model.add(layers.Dense(10, activation='relu'))\n",
    "\n",
    "    ### Last layer (let's say a classification with 10 output)\n",
    "    model.add(layers.Dense(10, activation='softmax'))\n",
    "    \n",
    "    ### Model compilation\n",
    "    model.compile(loss='categorical_crossentropy',\n",
    "              optimizer='adam',\n",
    "              metrics=['accuracy'])\n",
    "    return model"
   ]
  },
  {
   "cell_type": "code",
   "execution_count": 40,
   "id": "e1867d3b",
   "metadata": {
    "hidden": true
   },
   "outputs": [
    {
     "name": "stdout",
     "output_type": "stream",
     "text": [
      "Epoch 1/10\n",
      "434/434 [==============================] - 146s 333ms/step - loss: 2.2307 - accuracy: 0.2888 - val_loss: 2.1731 - val_accuracy: 0.2790\n",
      "Epoch 2/10\n",
      "434/434 [==============================] - 104s 238ms/step - loss: 2.1301 - accuracy: 0.2918 - val_loss: 2.1145 - val_accuracy: 0.2790\n",
      "Epoch 3/10\n",
      "434/434 [==============================] - 103s 236ms/step - loss: 2.0875 - accuracy: 0.2918 - val_loss: 2.0930 - val_accuracy: 0.2790\n",
      "Epoch 4/10\n",
      "434/434 [==============================] - 94s 216ms/step - loss: 2.0718 - accuracy: 0.2918 - val_loss: 2.0867 - val_accuracy: 0.2790\n",
      "Epoch 5/10\n",
      "434/434 [==============================] - 92s 211ms/step - loss: 2.0666 - accuracy: 0.2918 - val_loss: 2.0850 - val_accuracy: 0.2790\n",
      "Epoch 6/10\n",
      "434/434 [==============================] - 91s 209ms/step - loss: 2.0647 - accuracy: 0.2918 - val_loss: 2.0847 - val_accuracy: 0.2790\n",
      "Epoch 7/10\n",
      "434/434 [==============================] - 92s 212ms/step - loss: 2.0639 - accuracy: 0.2918 - val_loss: 2.0847 - val_accuracy: 0.2790\n",
      "Epoch 8/10\n",
      "434/434 [==============================] - 97s 222ms/step - loss: 2.0637 - accuracy: 0.2918 - val_loss: 2.0848 - val_accuracy: 0.2790\n",
      "Epoch 9/10\n",
      "434/434 [==============================] - 93s 214ms/step - loss: 2.0636 - accuracy: 0.2918 - val_loss: 2.0848 - val_accuracy: 0.2790\n"
     ]
    },
    {
     "data": {
      "text/plain": [
       "<tensorflow.python.keras.callbacks.History at 0x1658260d0>"
      ]
     },
     "execution_count": 40,
     "metadata": {},
     "output_type": "execute_result"
    }
   ],
   "source": [
    "model = initialize_model()\n",
    "\n",
    "es = EarlyStopping(patience=2,restore_best_weights=True)\n",
    "\n",
    "# YOUR CODE HERE\n",
    "model.fit(X_train, y_train_cat, \n",
    "          validation_split=0.3,\n",
    "          callbacks=[es],\n",
    "          epochs=10, \n",
    "          batch_size=32, \n",
    "          verbose=1)"
   ]
  },
  {
   "cell_type": "code",
   "execution_count": 42,
   "id": "49529dc3",
   "metadata": {
    "hidden": true
   },
   "outputs": [
    {
     "name": "stdout",
     "output_type": "stream",
     "text": [
      "0.2757837474346161\n"
     ]
    }
   ],
   "source": [
    "print(model.evaluate(X_test, y_test_cat, verbose=0)[1])"
   ]
  },
  {
   "cell_type": "markdown",
   "id": "c496b694",
   "metadata": {
    "heading_collapsed": true
   },
   "source": [
    "## CNN Preperations Image Size: 100*100"
   ]
  },
  {
   "cell_type": "code",
   "execution_count": 43,
   "id": "391f417c",
   "metadata": {
    "hidden": true
   },
   "outputs": [],
   "source": [
    "img_pic=load_images_from_folder(folder_path,50)"
   ]
  },
  {
   "cell_type": "code",
   "execution_count": 44,
   "id": "27f760cf",
   "metadata": {
    "hidden": true
   },
   "outputs": [
    {
     "data": {
      "text/plain": [
       "(19804, 100, 100, 3)"
      ]
     },
     "execution_count": 44,
     "metadata": {},
     "output_type": "execute_result"
    }
   ],
   "source": [
    "X = img_pic\n",
    "y = img_df['age_group']\n",
    "X_train, X_test, y_train, y_test = train_test_split(X, y, test_size=0.1, random_state=42)\n",
    "\n",
    "X_train = np.array(X_train)\n",
    "X_test =np.array(X_test)\n",
    "y_train = np.array(y_train)\n",
    "y_test =np.array(y_test)\n",
    "X_train.shape"
   ]
  },
  {
   "cell_type": "code",
   "execution_count": 45,
   "id": "77af4afd",
   "metadata": {
    "hidden": true
   },
   "outputs": [],
   "source": [
    "X_train = X_train/255 - 0.5\n",
    "X_test = X_test/255 - 0.5\n",
    "y_train_cat = to_categorical(y_train)\n",
    "y_test_cat = to_categorical(y_test)"
   ]
  },
  {
   "cell_type": "code",
   "execution_count": 46,
   "id": "888f677d",
   "metadata": {
    "hidden": true
   },
   "outputs": [
    {
     "name": "stdout",
     "output_type": "stream",
     "text": [
      "(19804, 100, 100, 3)\n",
      "(2201, 100, 100, 3)\n"
     ]
    }
   ],
   "source": [
    "print(X_train.shape)\n",
    "print(X_test.shape)"
   ]
  },
  {
   "cell_type": "markdown",
   "id": "fb5a7e0b",
   "metadata": {},
   "source": [
    "# CNN A"
   ]
  },
  {
   "cell_type": "markdown",
   "id": "5ca1a907",
   "metadata": {
    "heading_collapsed": true
   },
   "source": [
    "## CNN 2 (1 hidden with 10) 43,4%"
   ]
  },
  {
   "cell_type": "code",
   "execution_count": 57,
   "id": "71684fb0",
   "metadata": {
    "hidden": true
   },
   "outputs": [],
   "source": [
    "def initialize_model():\n",
    "    model = models.Sequential()\n",
    "    ### First convolution & max-pooling\n",
    "    model.add(layers.Conv2D(8, (4,4), input_shape=(100, 100, 3),\n",
    "                            activation='relu'))\n",
    "    model.add(layers.MaxPool2D(pool_size=(2,2)))\n",
    "\n",
    "    ### Flattening\n",
    "    model.add(layers.Flatten())\n",
    "\n",
    "    ### One fully connected\n",
    "    model.add(layers.Dense(10, activation='relu'))\n",
    "\n",
    "    ### Last layer (let's say a classification with 10 output)\n",
    "    model.add(layers.Dense(10, activation='softmax'))\n",
    "    \n",
    "    ### Model compilation\n",
    "    model.compile(loss='categorical_crossentropy',\n",
    "              optimizer='adam',\n",
    "              metrics=['accuracy'])\n",
    "    return model"
   ]
  },
  {
   "cell_type": "code",
   "execution_count": 58,
   "id": "3ebf78ca",
   "metadata": {
    "hidden": true
   },
   "outputs": [
    {
     "name": "stdout",
     "output_type": "stream",
     "text": [
      "Epoch 1/10\n",
      "434/434 [==============================] - 37s 84ms/step - loss: 1.8578 - accuracy: 0.3365 - val_loss: 1.6862 - val_accuracy: 0.3904\n",
      "Epoch 2/10\n",
      "434/434 [==============================] - 31s 72ms/step - loss: 1.5432 - accuracy: 0.4149 - val_loss: 1.5343 - val_accuracy: 0.4157\n",
      "Epoch 3/10\n",
      "434/434 [==============================] - 29s 68ms/step - loss: 1.4030 - accuracy: 0.4686 - val_loss: 1.4550 - val_accuracy: 0.4458\n",
      "Epoch 4/10\n",
      "434/434 [==============================] - 29s 67ms/step - loss: 1.3169 - accuracy: 0.5010 - val_loss: 1.4277 - val_accuracy: 0.4527\n",
      "Epoch 5/10\n",
      "434/434 [==============================] - 27s 62ms/step - loss: 1.2502 - accuracy: 0.5170 - val_loss: 1.4060 - val_accuracy: 0.4500\n",
      "Epoch 6/10\n",
      "434/434 [==============================] - 26s 60ms/step - loss: 1.2033 - accuracy: 0.5314 - val_loss: 1.4034 - val_accuracy: 0.4547\n",
      "Epoch 7/10\n",
      "434/434 [==============================] - 26s 59ms/step - loss: 1.1538 - accuracy: 0.5473 - val_loss: 1.4265 - val_accuracy: 0.4509\n",
      "Epoch 8/10\n",
      "434/434 [==============================] - 29s 67ms/step - loss: 1.1113 - accuracy: 0.5635 - val_loss: 1.4633 - val_accuracy: 0.4389\n",
      "Epoch 9/10\n",
      "434/434 [==============================] - 24s 55ms/step - loss: 1.0700 - accuracy: 0.5827 - val_loss: 1.5110 - val_accuracy: 0.4475\n",
      "Epoch 10/10\n",
      "434/434 [==============================] - 25s 57ms/step - loss: 1.0327 - accuracy: 0.5949 - val_loss: 1.5204 - val_accuracy: 0.4399\n"
     ]
    },
    {
     "data": {
      "text/plain": [
       "<tensorflow.python.keras.callbacks.History at 0x16377db50>"
      ]
     },
     "execution_count": 58,
     "metadata": {},
     "output_type": "execute_result"
    }
   ],
   "source": [
    "model2 = initialize_model()\n",
    "print(model.summary())\n",
    "\n",
    "es = EarlyStopping(patience=5,restore_best_weights=True)\n",
    "\n",
    "# YOUR CODE HERE\n",
    "model2.fit(X_train, y_train_cat, \n",
    "          validation_split=0.3,\n",
    "          callbacks=[es],\n",
    "          epochs=10, \n",
    "          batch_size=32, \n",
    "          verbose=1)"
   ]
  },
  {
   "cell_type": "code",
   "execution_count": 59,
   "id": "3a73ed5c",
   "metadata": {
    "hidden": true
   },
   "outputs": [
    {
     "name": "stdout",
     "output_type": "stream",
     "text": [
      "0.4343480169773102\n"
     ]
    }
   ],
   "source": [
    "print(model2.evaluate(X_test, y_test_cat, verbose=0)[1])"
   ]
  },
  {
   "cell_type": "markdown",
   "id": "483b89ff",
   "metadata": {
    "heading_collapsed": true
   },
   "source": [
    "## CNN 3 (1 hidden with 50 ) 45,6 %"
   ]
  },
  {
   "cell_type": "code",
   "execution_count": 60,
   "id": "f84afd25",
   "metadata": {
    "hidden": true
   },
   "outputs": [
    {
     "name": "stdout",
     "output_type": "stream",
     "text": [
      "Model: \"sequential_11\"\n",
      "_________________________________________________________________\n",
      "Layer (type)                 Output Shape              Param #   \n",
      "=================================================================\n",
      "conv2d_11 (Conv2D)           (None, 97, 97, 8)         392       \n",
      "_________________________________________________________________\n",
      "max_pooling2d_11 (MaxPooling (None, 48, 48, 8)         0         \n",
      "_________________________________________________________________\n",
      "flatten_11 (Flatten)         (None, 18432)             0         \n",
      "_________________________________________________________________\n",
      "dense_27 (Dense)             (None, 50)                921650    \n",
      "_________________________________________________________________\n",
      "dense_28 (Dense)             (None, 10)                510       \n",
      "=================================================================\n",
      "Total params: 922,552\n",
      "Trainable params: 922,552\n",
      "Non-trainable params: 0\n",
      "_________________________________________________________________\n",
      "None\n",
      "Epoch 1/10\n",
      "434/434 [==============================] - 33s 76ms/step - loss: 1.6255 - accuracy: 0.4092 - val_loss: 1.4562 - val_accuracy: 0.4403\n",
      "Epoch 2/10\n",
      "434/434 [==============================] - 32s 75ms/step - loss: 1.3351 - accuracy: 0.4868 - val_loss: 1.3930 - val_accuracy: 0.4591\n",
      "Epoch 3/10\n",
      "434/434 [==============================] - 25s 58ms/step - loss: 1.2101 - accuracy: 0.5296 - val_loss: 1.4271 - val_accuracy: 0.4653\n",
      "Epoch 4/10\n",
      "434/434 [==============================] - 26s 61ms/step - loss: 1.1138 - accuracy: 0.5661 - val_loss: 1.4062 - val_accuracy: 0.4387\n",
      "Epoch 5/10\n",
      "434/434 [==============================] - 26s 60ms/step - loss: 1.0318 - accuracy: 0.6024 - val_loss: 1.4119 - val_accuracy: 0.4589\n",
      "Epoch 6/10\n",
      "434/434 [==============================] - 26s 61ms/step - loss: 0.9382 - accuracy: 0.6392 - val_loss: 1.5115 - val_accuracy: 0.4473\n",
      "Epoch 7/10\n",
      "434/434 [==============================] - 27s 62ms/step - loss: 0.8544 - accuracy: 0.6672 - val_loss: 1.5913 - val_accuracy: 0.4221\n",
      "0.45615628361701965\n"
     ]
    }
   ],
   "source": [
    "model = models.Sequential()\n",
    "### First convolution & max-pooling\n",
    "model.add(layers.Conv2D(8, (4,4), input_shape=(100, 100, 3),\n",
    "                        activation='relu'))\n",
    "model.add(layers.MaxPool2D(pool_size=(2,2)))\n",
    "\n",
    "### Flattening\n",
    "model.add(layers.Flatten())\n",
    "\n",
    "### One fully connected\n",
    "model.add(layers.Dense(50, activation='relu'))\n",
    "\n",
    "### Last layer (let's say a classification with 10 output)\n",
    "model.add(layers.Dense(10, activation='softmax'))\n",
    "\n",
    "### Model compilation\n",
    "model.compile(loss='categorical_crossentropy',\n",
    "          optimizer='adam',\n",
    "          metrics=['accuracy'])\n",
    "print(model.summary())\n",
    "\n",
    "es = EarlyStopping(patience=5,restore_best_weights=True)\n",
    "\n",
    "# YOUR CODE HERE\n",
    "model.fit(X_train, y_train_cat, \n",
    "          validation_split=0.3,\n",
    "          callbacks=[es],\n",
    "          epochs=10, \n",
    "          batch_size=32, \n",
    "          verbose=1)\n",
    "\n",
    "print(model.evaluate(X_test, y_test_cat, verbose=0)[1])"
   ]
  },
  {
   "cell_type": "markdown",
   "id": "9d2a6ec5",
   "metadata": {
    "heading_collapsed": true
   },
   "source": [
    "## CNN 4 (1 hidden with 100 )  46,5%"
   ]
  },
  {
   "cell_type": "code",
   "execution_count": 61,
   "id": "e5afec62",
   "metadata": {
    "hidden": true
   },
   "outputs": [
    {
     "name": "stdout",
     "output_type": "stream",
     "text": [
      "Model: \"sequential_12\"\n",
      "_________________________________________________________________\n",
      "Layer (type)                 Output Shape              Param #   \n",
      "=================================================================\n",
      "conv2d_12 (Conv2D)           (None, 97, 97, 8)         392       \n",
      "_________________________________________________________________\n",
      "max_pooling2d_12 (MaxPooling (None, 48, 48, 8)         0         \n",
      "_________________________________________________________________\n",
      "flatten_12 (Flatten)         (None, 18432)             0         \n",
      "_________________________________________________________________\n",
      "dense_29 (Dense)             (None, 100)               1843300   \n",
      "_________________________________________________________________\n",
      "dense_30 (Dense)             (None, 10)                1010      \n",
      "=================================================================\n",
      "Total params: 1,844,702\n",
      "Trainable params: 1,844,702\n",
      "Non-trainable params: 0\n",
      "_________________________________________________________________\n",
      "None\n",
      "Epoch 1/10\n",
      "434/434 [==============================] - 31s 70ms/step - loss: 1.6552 - accuracy: 0.4008 - val_loss: 1.4607 - val_accuracy: 0.4322\n",
      "Epoch 2/10\n",
      "434/434 [==============================] - 29s 67ms/step - loss: 1.3302 - accuracy: 0.4862 - val_loss: 1.4498 - val_accuracy: 0.4423\n",
      "Epoch 3/10\n",
      "434/434 [==============================] - 26s 61ms/step - loss: 1.2179 - accuracy: 0.5271 - val_loss: 1.3958 - val_accuracy: 0.4576\n",
      "Epoch 4/10\n",
      "434/434 [==============================] - 26s 61ms/step - loss: 1.1275 - accuracy: 0.5581 - val_loss: 1.4274 - val_accuracy: 0.4554\n",
      "Epoch 5/10\n",
      "434/434 [==============================] - 27s 62ms/step - loss: 1.0474 - accuracy: 0.5932 - val_loss: 1.4488 - val_accuracy: 0.4510\n",
      "Epoch 6/10\n",
      "434/434 [==============================] - 26s 61ms/step - loss: 0.9672 - accuracy: 0.6273 - val_loss: 1.4331 - val_accuracy: 0.4663\n",
      "Epoch 7/10\n",
      "434/434 [==============================] - 26s 60ms/step - loss: 0.8937 - accuracy: 0.6564 - val_loss: 1.5276 - val_accuracy: 0.4588\n",
      "Epoch 8/10\n",
      "434/434 [==============================] - 37s 85ms/step - loss: 0.8066 - accuracy: 0.6895 - val_loss: 1.5855 - val_accuracy: 0.4569\n",
      "0.46524307131767273\n"
     ]
    }
   ],
   "source": [
    "model = models.Sequential()\n",
    "### First convolution & max-pooling\n",
    "model.add(layers.Conv2D(8, (4,4), input_shape=(100, 100, 3),\n",
    "                        activation='relu'))\n",
    "model.add(layers.MaxPool2D(pool_size=(2,2)))\n",
    "\n",
    "### Flattening\n",
    "model.add(layers.Flatten())\n",
    "\n",
    "### One fully connected\n",
    "model.add(layers.Dense(100, activation='relu'))\n",
    "\n",
    "### Last layer (let's say a classification with 10 output)\n",
    "model.add(layers.Dense(10, activation='softmax'))\n",
    "\n",
    "### Model compilation\n",
    "model.compile(loss='categorical_crossentropy',\n",
    "          optimizer='adam',\n",
    "          metrics=['accuracy'])\n",
    "print(model.summary())\n",
    "\n",
    "es = EarlyStopping(patience=5,restore_best_weights=True)\n",
    "\n",
    "# YOUR CODE HERE\n",
    "model.fit(X_train, y_train_cat, \n",
    "          validation_split=0.3,\n",
    "          callbacks=[es],\n",
    "          epochs=10, \n",
    "          batch_size=32, \n",
    "          verbose=1)\n",
    "\n",
    "print(model.evaluate(X_test, y_test_cat, verbose=0)[1])"
   ]
  },
  {
   "cell_type": "markdown",
   "id": "ec2567c6",
   "metadata": {
    "heading_collapsed": true
   },
   "source": [
    "## CNN 5 (2 hidden with 100,50 )  45,3%"
   ]
  },
  {
   "cell_type": "code",
   "execution_count": 62,
   "id": "778a3b62",
   "metadata": {
    "hidden": true
   },
   "outputs": [
    {
     "name": "stdout",
     "output_type": "stream",
     "text": [
      "Epoch 1/10\n",
      "434/434 [==============================] - 39s 89ms/step - loss: 1.6326 - accuracy: 0.4055 - val_loss: 1.4644 - val_accuracy: 0.4354\n",
      "Epoch 2/10\n",
      "434/434 [==============================] - 27s 62ms/step - loss: 1.3458 - accuracy: 0.4796 - val_loss: 1.3871 - val_accuracy: 0.4534\n",
      "Epoch 3/10\n",
      "434/434 [==============================] - 27s 62ms/step - loss: 1.2347 - accuracy: 0.5141 - val_loss: 1.4053 - val_accuracy: 0.4490\n",
      "Epoch 4/10\n",
      "434/434 [==============================] - 26s 61ms/step - loss: 1.1454 - accuracy: 0.5504 - val_loss: 1.4324 - val_accuracy: 0.4647\n",
      "Epoch 5/10\n",
      "434/434 [==============================] - 26s 60ms/step - loss: 1.0361 - accuracy: 0.5956 - val_loss: 1.4529 - val_accuracy: 0.4461\n",
      "Epoch 6/10\n",
      "434/434 [==============================] - 27s 61ms/step - loss: 0.9449 - accuracy: 0.6325 - val_loss: 1.4941 - val_accuracy: 0.4504\n",
      "Epoch 7/10\n",
      "434/434 [==============================] - 26s 61ms/step - loss: 0.8470 - accuracy: 0.6702 - val_loss: 1.5151 - val_accuracy: 0.4599\n",
      "0.45297592878341675\n"
     ]
    }
   ],
   "source": [
    "model = models.Sequential()\n",
    "### First convolution & max-pooling\n",
    "model.add(layers.Conv2D(8, (4,4), input_shape=(100, 100, 3),\n",
    "                        activation='relu'))\n",
    "model.add(layers.MaxPool2D(pool_size=(2,2)))\n",
    "\n",
    "### Flattening\n",
    "model.add(layers.Flatten())\n",
    "\n",
    "### One fully connected\n",
    "model.add(layers.Dense(100, activation='relu'))\n",
    "\n",
    "### Second fully connected\n",
    "model.add(layers.Dense(50, activation='relu'))\n",
    "\n",
    "### Last layer (let's say a classification with 10 output)\n",
    "model.add(layers.Dense(10, activation='softmax'))\n",
    "\n",
    "### Model compilation\n",
    "model.compile(loss='categorical_crossentropy',\n",
    "          optimizer='adam',\n",
    "          metrics=['accuracy'])\n",
    "\n",
    "es = EarlyStopping(patience=5,restore_best_weights=True)\n",
    "\n",
    "# YOUR CODE HERE\n",
    "model.fit(X_train, y_train_cat, \n",
    "          validation_split=0.3,\n",
    "          callbacks=[es],\n",
    "          epochs=10, \n",
    "          batch_size=32, \n",
    "          verbose=1)\n",
    "\n",
    "print(model.evaluate(X_test, y_test_cat, verbose=0)[1])"
   ]
  },
  {
   "cell_type": "markdown",
   "id": "2adfd583",
   "metadata": {
    "heading_collapsed": true
   },
   "source": [
    "## CNN 6 (2 hidden with 100,100 ) 45,2%"
   ]
  },
  {
   "cell_type": "code",
   "execution_count": 63,
   "id": "0f78cb0f",
   "metadata": {
    "hidden": true
   },
   "outputs": [
    {
     "name": "stdout",
     "output_type": "stream",
     "text": [
      "Epoch 1/10\n",
      "434/434 [==============================] - 31s 70ms/step - loss: 1.5683 - accuracy: 0.4185 - val_loss: 1.4176 - val_accuracy: 0.4488\n",
      "Epoch 2/10\n",
      "434/434 [==============================] - 28s 65ms/step - loss: 1.3106 - accuracy: 0.4864 - val_loss: 1.3446 - val_accuracy: 0.4663\n",
      "Epoch 3/10\n",
      "434/434 [==============================] - 28s 65ms/step - loss: 1.1936 - accuracy: 0.5270 - val_loss: 1.3717 - val_accuracy: 0.4631\n",
      "Epoch 4/10\n",
      "434/434 [==============================] - 27s 63ms/step - loss: 1.0730 - accuracy: 0.5753 - val_loss: 1.3739 - val_accuracy: 0.4589\n",
      "Epoch 5/10\n",
      "434/434 [==============================] - 29s 66ms/step - loss: 0.9493 - accuracy: 0.6244 - val_loss: 1.4551 - val_accuracy: 0.4679\n",
      "Epoch 6/10\n",
      "434/434 [==============================] - 29s 67ms/step - loss: 0.8280 - accuracy: 0.6738 - val_loss: 1.5430 - val_accuracy: 0.4478\n",
      "Epoch 7/10\n",
      "434/434 [==============================] - 28s 64ms/step - loss: 0.6904 - accuracy: 0.7342 - val_loss: 1.7176 - val_accuracy: 0.4421\n",
      "0.4520672559738159\n"
     ]
    }
   ],
   "source": [
    "model = models.Sequential()\n",
    "### First convolution & max-pooling\n",
    "model.add(layers.Conv2D(8, (4,4), input_shape=(100, 100, 3),\n",
    "                        activation='relu'))\n",
    "model.add(layers.MaxPool2D(pool_size=(2,2)))\n",
    "\n",
    "### Flattening\n",
    "model.add(layers.Flatten())\n",
    "\n",
    "### One fully connected\n",
    "model.add(layers.Dense(100, activation='relu'))\n",
    "\n",
    "### Second fully connected\n",
    "model.add(layers.Dense(100, activation='relu'))\n",
    "\n",
    "### Last layer (let's say a classification with 10 output)\n",
    "model.add(layers.Dense(10, activation='softmax'))\n",
    "\n",
    "### Model compilation\n",
    "model.compile(loss='categorical_crossentropy',\n",
    "          optimizer='adam',\n",
    "          metrics=['accuracy'])\n",
    "\n",
    "es = EarlyStopping(patience=5,restore_best_weights=True)\n",
    "\n",
    "# YOUR CODE HERE\n",
    "model.fit(X_train, y_train_cat, \n",
    "          validation_split=0.3,\n",
    "          callbacks=[es],\n",
    "          epochs=10, \n",
    "          batch_size=32, \n",
    "          verbose=1)\n",
    "\n",
    "print(model.evaluate(X_test, y_test_cat, verbose=0)[1])"
   ]
  },
  {
   "cell_type": "markdown",
   "id": "02a18c3d",
   "metadata": {
    "heading_collapsed": true
   },
   "source": [
    "## CNN 7 (3 hidden with 50,100,50 )  46,4%"
   ]
  },
  {
   "cell_type": "code",
   "execution_count": 64,
   "id": "dfb5acae",
   "metadata": {
    "hidden": true
   },
   "outputs": [
    {
     "name": "stdout",
     "output_type": "stream",
     "text": [
      "Model: \"sequential_15\"\n",
      "_________________________________________________________________\n",
      "Layer (type)                 Output Shape              Param #   \n",
      "=================================================================\n",
      "conv2d_15 (Conv2D)           (None, 97, 97, 8)         392       \n",
      "_________________________________________________________________\n",
      "max_pooling2d_15 (MaxPooling (None, 48, 48, 8)         0         \n",
      "_________________________________________________________________\n",
      "flatten_15 (Flatten)         (None, 18432)             0         \n",
      "_________________________________________________________________\n",
      "dense_37 (Dense)             (None, 50)                921650    \n",
      "_________________________________________________________________\n",
      "dense_38 (Dense)             (None, 100)               5100      \n",
      "_________________________________________________________________\n",
      "dense_39 (Dense)             (None, 50)                5050      \n",
      "_________________________________________________________________\n",
      "dense_40 (Dense)             (None, 10)                510       \n",
      "=================================================================\n",
      "Total params: 932,702\n",
      "Trainable params: 932,702\n",
      "Non-trainable params: 0\n",
      "_________________________________________________________________\n",
      "None\n",
      "Epoch 1/10\n",
      "434/434 [==============================] - 27s 61ms/step - loss: 1.6334 - accuracy: 0.4037 - val_loss: 1.4902 - val_accuracy: 0.4317\n",
      "Epoch 2/10\n",
      "434/434 [==============================] - 25s 57ms/step - loss: 1.3555 - accuracy: 0.4741 - val_loss: 1.3834 - val_accuracy: 0.4500\n",
      "Epoch 3/10\n",
      "434/434 [==============================] - 25s 58ms/step - loss: 1.2575 - accuracy: 0.5001 - val_loss: 1.3892 - val_accuracy: 0.4571\n",
      "Epoch 4/10\n",
      "434/434 [==============================] - 24s 56ms/step - loss: 1.1936 - accuracy: 0.5182 - val_loss: 1.3467 - val_accuracy: 0.4697\n",
      "Epoch 5/10\n",
      "434/434 [==============================] - 25s 58ms/step - loss: 1.1235 - accuracy: 0.5509 - val_loss: 1.3861 - val_accuracy: 0.4650\n",
      "Epoch 6/10\n",
      "434/434 [==============================] - 25s 58ms/step - loss: 1.0569 - accuracy: 0.5762 - val_loss: 1.4755 - val_accuracy: 0.4551\n",
      "Epoch 7/10\n",
      "434/434 [==============================] - 25s 58ms/step - loss: 0.9951 - accuracy: 0.6007 - val_loss: 1.4317 - val_accuracy: 0.4677\n",
      "Epoch 8/10\n",
      "434/434 [==============================] - 25s 57ms/step - loss: 0.9180 - accuracy: 0.6314 - val_loss: 1.5266 - val_accuracy: 0.4493\n",
      "Epoch 9/10\n",
      "434/434 [==============================] - 26s 60ms/step - loss: 0.8467 - accuracy: 0.6610 - val_loss: 1.6312 - val_accuracy: 0.4509\n",
      "0.473421186208725\n"
     ]
    }
   ],
   "source": [
    "model = models.Sequential()\n",
    "### First convolution & max-pooling\n",
    "model.add(layers.Conv2D(8, (4,4), input_shape=(100, 100, 3),\n",
    "                        activation='relu'))\n",
    "model.add(layers.MaxPool2D(pool_size=(2,2)))\n",
    "\n",
    "### Flattening\n",
    "model.add(layers.Flatten())\n",
    "\n",
    "### One fully connected\n",
    "model.add(layers.Dense(50, activation='relu'))\n",
    "\n",
    "### Second fully connected\n",
    "model.add(layers.Dense(100, activation='relu'))\n",
    "\n",
    "### Third fully connected\n",
    "model.add(layers.Dense(50, activation='relu'))\n",
    "\n",
    "### Last layer (let's say a classification with 10 output)\n",
    "model.add(layers.Dense(10, activation='softmax'))\n",
    "\n",
    "### Model compilation\n",
    "model.compile(loss='categorical_crossentropy',\n",
    "          optimizer='adam',\n",
    "          metrics=['accuracy'])\n",
    "print(model.summary())\n",
    "\n",
    "es = EarlyStopping(patience=5,restore_best_weights=True)\n",
    "\n",
    "# YOUR CODE HERE\n",
    "model.fit(X_train, y_train_cat, \n",
    "          validation_split=0.3,\n",
    "          callbacks=[es],\n",
    "          epochs=10, \n",
    "          batch_size=32, \n",
    "          verbose=1)\n",
    "\n",
    "print(model.evaluate(X_test, y_test_cat, verbose=0)[1])"
   ]
  },
  {
   "cell_type": "markdown",
   "id": "5f8b333b",
   "metadata": {
    "heading_collapsed": true
   },
   "source": [
    "## CNN 8 (1 hidden with 300 )  46,4%"
   ]
  },
  {
   "cell_type": "code",
   "execution_count": 65,
   "id": "86890eab",
   "metadata": {
    "hidden": true
   },
   "outputs": [
    {
     "name": "stdout",
     "output_type": "stream",
     "text": [
      "Model: \"sequential_16\"\n",
      "_________________________________________________________________\n",
      "Layer (type)                 Output Shape              Param #   \n",
      "=================================================================\n",
      "conv2d_16 (Conv2D)           (None, 97, 97, 8)         392       \n",
      "_________________________________________________________________\n",
      "max_pooling2d_16 (MaxPooling (None, 48, 48, 8)         0         \n",
      "_________________________________________________________________\n",
      "flatten_16 (Flatten)         (None, 18432)             0         \n",
      "_________________________________________________________________\n",
      "dense_41 (Dense)             (None, 300)               5529900   \n",
      "_________________________________________________________________\n",
      "dense_42 (Dense)             (None, 10)                3010      \n",
      "=================================================================\n",
      "Total params: 5,533,302\n",
      "Trainable params: 5,533,302\n",
      "Non-trainable params: 0\n",
      "_________________________________________________________________\n",
      "None\n",
      "Epoch 1/10\n",
      "434/434 [==============================] - 36s 82ms/step - loss: 1.5864 - accuracy: 0.4217 - val_loss: 1.4536 - val_accuracy: 0.4500\n",
      "Epoch 2/10\n",
      "434/434 [==============================] - 34s 77ms/step - loss: 1.2945 - accuracy: 0.4942 - val_loss: 1.3566 - val_accuracy: 0.4642\n",
      "Epoch 3/10\n",
      "434/434 [==============================] - 32s 75ms/step - loss: 1.1650 - accuracy: 0.5470 - val_loss: 1.3918 - val_accuracy: 0.4578\n",
      "Epoch 4/10\n",
      "434/434 [==============================] - 33s 76ms/step - loss: 1.0318 - accuracy: 0.5983 - val_loss: 1.4443 - val_accuracy: 0.4603\n",
      "Epoch 5/10\n",
      "434/434 [==============================] - 33s 77ms/step - loss: 0.8955 - accuracy: 0.6596 - val_loss: 1.4971 - val_accuracy: 0.4670\n",
      "Epoch 6/10\n",
      "434/434 [==============================] - 32s 73ms/step - loss: 0.7396 - accuracy: 0.7199 - val_loss: 1.6635 - val_accuracy: 0.4465\n",
      "Epoch 7/10\n",
      "434/434 [==============================] - 33s 76ms/step - loss: 0.5805 - accuracy: 0.7884 - val_loss: 1.8496 - val_accuracy: 0.4258\n",
      "0.46524307131767273\n"
     ]
    }
   ],
   "source": [
    "model = models.Sequential()\n",
    "### First convolution & max-pooling\n",
    "model.add(layers.Conv2D(8, (4,4), input_shape=(100, 100, 3),\n",
    "                        activation='relu'))\n",
    "model.add(layers.MaxPool2D(pool_size=(2,2)))\n",
    "\n",
    "### Flattening\n",
    "model.add(layers.Flatten())\n",
    "\n",
    "### One fully connected\n",
    "model.add(layers.Dense(300, activation='relu'))\n",
    "\n",
    "### Last layer (let's say a classification with 10 output)\n",
    "model.add(layers.Dense(10, activation='softmax'))\n",
    "\n",
    "### Model compilation\n",
    "model.compile(loss='categorical_crossentropy',\n",
    "          optimizer='adam',\n",
    "          metrics=['accuracy'])\n",
    "\n",
    "print(model.summary())\n",
    "\n",
    "es = EarlyStopping(patience=5,restore_best_weights=True)\n",
    "\n",
    "# YOUR CODE HERE\n",
    "model.fit(X_train, y_train_cat, \n",
    "          validation_split=0.3,\n",
    "          callbacks=[es],\n",
    "          epochs=10, \n",
    "          batch_size=32, \n",
    "          verbose=1)\n",
    "\n",
    "print(model.evaluate(X_test, y_test_cat, verbose=0)[1])"
   ]
  },
  {
   "cell_type": "markdown",
   "id": "048b38b6",
   "metadata": {
    "heading_collapsed": true
   },
   "source": [
    "## CNN 9 (2 hidden with 100,20 )  47,3%"
   ]
  },
  {
   "cell_type": "code",
   "execution_count": 66,
   "id": "3cdfff5c",
   "metadata": {
    "hidden": true
   },
   "outputs": [
    {
     "name": "stdout",
     "output_type": "stream",
     "text": [
      "Model: \"sequential_17\"\n",
      "_________________________________________________________________\n",
      "Layer (type)                 Output Shape              Param #   \n",
      "=================================================================\n",
      "conv2d_17 (Conv2D)           (None, 97, 97, 8)         392       \n",
      "_________________________________________________________________\n",
      "max_pooling2d_17 (MaxPooling (None, 48, 48, 8)         0         \n",
      "_________________________________________________________________\n",
      "flatten_17 (Flatten)         (None, 18432)             0         \n",
      "_________________________________________________________________\n",
      "dense_43 (Dense)             (None, 100)               1843300   \n",
      "_________________________________________________________________\n",
      "dense_44 (Dense)             (None, 20)                2020      \n",
      "_________________________________________________________________\n",
      "dense_45 (Dense)             (None, 10)                210       \n",
      "=================================================================\n",
      "Total params: 1,845,922\n",
      "Trainable params: 1,845,922\n",
      "Non-trainable params: 0\n",
      "_________________________________________________________________\n",
      "None\n",
      "Epoch 1/10\n",
      "434/434 [==============================] - 35s 80ms/step - loss: 1.7940 - accuracy: 0.3822 - val_loss: 1.6259 - val_accuracy: 0.4053\n",
      "Epoch 2/10\n",
      "434/434 [==============================] - 29s 66ms/step - loss: 1.4431 - accuracy: 0.4468 - val_loss: 1.4026 - val_accuracy: 0.4446\n",
      "Epoch 3/10\n",
      "434/434 [==============================] - 27s 62ms/step - loss: 1.2743 - accuracy: 0.4924 - val_loss: 1.3670 - val_accuracy: 0.4537\n",
      "Epoch 4/10\n",
      "434/434 [==============================] - 29s 66ms/step - loss: 1.1810 - accuracy: 0.5253 - val_loss: 1.3837 - val_accuracy: 0.4640\n",
      "Epoch 5/10\n",
      "434/434 [==============================] - 26s 59ms/step - loss: 1.1011 - accuracy: 0.5450 - val_loss: 1.3391 - val_accuracy: 0.4699\n",
      "Epoch 6/10\n",
      "434/434 [==============================] - 26s 60ms/step - loss: 1.0298 - accuracy: 0.5804 - val_loss: 1.3862 - val_accuracy: 0.4586\n",
      "Epoch 7/10\n",
      "434/434 [==============================] - 26s 59ms/step - loss: 0.9514 - accuracy: 0.6057 - val_loss: 1.4908 - val_accuracy: 0.4642\n",
      "Epoch 8/10\n",
      "434/434 [==============================] - 25s 58ms/step - loss: 0.8674 - accuracy: 0.6405 - val_loss: 1.5053 - val_accuracy: 0.4537\n",
      "Epoch 9/10\n",
      "434/434 [==============================] - 26s 60ms/step - loss: 0.7986 - accuracy: 0.6711 - val_loss: 1.5893 - val_accuracy: 0.4578\n",
      "Epoch 10/10\n",
      "434/434 [==============================] - 26s 61ms/step - loss: 0.7205 - accuracy: 0.7083 - val_loss: 1.9756 - val_accuracy: 0.4522\n",
      "0.473421186208725\n"
     ]
    }
   ],
   "source": [
    "model = models.Sequential()\n",
    "### First convolution & max-pooling\n",
    "model.add(layers.Conv2D(8, (4,4), input_shape=(100, 100, 3),\n",
    "                        activation='relu'))\n",
    "model.add(layers.MaxPool2D(pool_size=(2,2)))\n",
    "\n",
    "### Flattening\n",
    "model.add(layers.Flatten())\n",
    "\n",
    "### One fully connected\n",
    "model.add(layers.Dense(100, activation='relu'))\n",
    "\n",
    "### Second fully connected\n",
    "model.add(layers.Dense(20, activation='relu'))\n",
    "\n",
    "### Last layer (let's say a classification with 10 output)\n",
    "model.add(layers.Dense(10, activation='softmax'))\n",
    "\n",
    "### Model compilation\n",
    "model.compile(loss='categorical_crossentropy',\n",
    "          optimizer='adam',\n",
    "          metrics=['accuracy'])\n",
    "print(model.summary())\n",
    "\n",
    "es = EarlyStopping(patience=5,restore_best_weights=True)\n",
    "\n",
    "# YOUR CODE HERE\n",
    "model.fit(X_train, y_train_cat, \n",
    "          validation_split=0.3,\n",
    "          callbacks=[es],\n",
    "          epochs=10, \n",
    "          batch_size=32, \n",
    "          verbose=1)\n",
    "\n",
    "print(model.evaluate(X_test, y_test_cat, verbose=0)[1])"
   ]
  },
  {
   "cell_type": "markdown",
   "id": "0b5b998d",
   "metadata": {
    "heading_collapsed": true
   },
   "source": [
    "## CNN 10 (3 hidden with 20, 50, 20 )  45,6%"
   ]
  },
  {
   "cell_type": "code",
   "execution_count": 67,
   "id": "1d0662cb",
   "metadata": {
    "hidden": true
   },
   "outputs": [
    {
     "name": "stdout",
     "output_type": "stream",
     "text": [
      "Model: \"sequential_18\"\n",
      "_________________________________________________________________\n",
      "Layer (type)                 Output Shape              Param #   \n",
      "=================================================================\n",
      "conv2d_18 (Conv2D)           (None, 97, 97, 8)         392       \n",
      "_________________________________________________________________\n",
      "max_pooling2d_18 (MaxPooling (None, 48, 48, 8)         0         \n",
      "_________________________________________________________________\n",
      "flatten_18 (Flatten)         (None, 18432)             0         \n",
      "_________________________________________________________________\n",
      "dense_46 (Dense)             (None, 20)                368660    \n",
      "_________________________________________________________________\n",
      "dense_47 (Dense)             (None, 50)                1050      \n",
      "_________________________________________________________________\n",
      "dense_48 (Dense)             (None, 20)                1020      \n",
      "_________________________________________________________________\n",
      "dense_49 (Dense)             (None, 10)                210       \n",
      "=================================================================\n",
      "Total params: 371,332\n",
      "Trainable params: 371,332\n",
      "Non-trainable params: 0\n",
      "_________________________________________________________________\n",
      "None\n",
      "Epoch 1/10\n",
      "434/434 [==============================] - 25s 56ms/step - loss: 1.7508 - accuracy: 0.3817 - val_loss: 1.5464 - val_accuracy: 0.4175\n",
      "Epoch 2/10\n",
      "434/434 [==============================] - 24s 54ms/step - loss: 1.4490 - accuracy: 0.4398 - val_loss: 1.4339 - val_accuracy: 0.4408\n",
      "Epoch 3/10\n",
      "434/434 [==============================] - 23s 54ms/step - loss: 1.3423 - accuracy: 0.4709 - val_loss: 1.4122 - val_accuracy: 0.4473\n",
      "Epoch 4/10\n",
      "434/434 [==============================] - 23s 54ms/step - loss: 1.2707 - accuracy: 0.4946 - val_loss: 1.3728 - val_accuracy: 0.4603\n",
      "Epoch 5/10\n",
      "434/434 [==============================] - 24s 55ms/step - loss: 1.2277 - accuracy: 0.5038 - val_loss: 1.3720 - val_accuracy: 0.4596\n",
      "Epoch 6/10\n",
      "434/434 [==============================] - 24s 56ms/step - loss: 1.1805 - accuracy: 0.5227 - val_loss: 1.3821 - val_accuracy: 0.4584\n",
      "Epoch 7/10\n",
      "434/434 [==============================] - 24s 55ms/step - loss: 1.1398 - accuracy: 0.5360 - val_loss: 1.3809 - val_accuracy: 0.4615\n",
      "Epoch 8/10\n",
      "434/434 [==============================] - 23s 54ms/step - loss: 1.1054 - accuracy: 0.5439 - val_loss: 1.4395 - val_accuracy: 0.4615\n",
      "Epoch 9/10\n",
      "434/434 [==============================] - 24s 55ms/step - loss: 1.0687 - accuracy: 0.5594 - val_loss: 1.4062 - val_accuracy: 0.4628\n",
      "Epoch 10/10\n",
      "434/434 [==============================] - 23s 54ms/step - loss: 1.0418 - accuracy: 0.5750 - val_loss: 1.4279 - val_accuracy: 0.4648\n",
      "0.45615628361701965\n"
     ]
    }
   ],
   "source": [
    "model = models.Sequential()\n",
    "### First convolution & max-pooling\n",
    "model.add(layers.Conv2D(8, (4,4), input_shape=(100, 100, 3),\n",
    "                        activation='relu'))\n",
    "model.add(layers.MaxPool2D(pool_size=(2,2)))\n",
    "\n",
    "### Flattening\n",
    "model.add(layers.Flatten())\n",
    "\n",
    "### One fully connected\n",
    "model.add(layers.Dense(20, activation='relu'))\n",
    "\n",
    "### Second fully connected\n",
    "model.add(layers.Dense(50, activation='relu'))\n",
    "\n",
    "### Third fully connected\n",
    "model.add(layers.Dense(20, activation='relu'))\n",
    "\n",
    "### Last layer (let's say a classification with 10 output)\n",
    "model.add(layers.Dense(10, activation='softmax'))\n",
    "\n",
    "### Model compilation\n",
    "model.compile(loss='categorical_crossentropy',\n",
    "          optimizer='adam',\n",
    "          metrics=['accuracy'])\n",
    "print(model.summary())\n",
    "\n",
    "es = EarlyStopping(patience=5,restore_best_weights=True)\n",
    "\n",
    "# YOUR CODE HERE\n",
    "model.fit(X_train, y_train_cat, \n",
    "          validation_split=0.3,\n",
    "          callbacks=[es],\n",
    "          epochs=10, \n",
    "          batch_size=32, \n",
    "          verbose=1)\n",
    "\n",
    "print(model.evaluate(X_test, y_test_cat, verbose=0)[1])"
   ]
  },
  {
   "cell_type": "markdown",
   "id": "ebb07a80",
   "metadata": {},
   "source": [
    "# CNN B"
   ]
  },
  {
   "cell_type": "markdown",
   "id": "c2e39416",
   "metadata": {
    "heading_collapsed": true
   },
   "source": [
    "## CNN 1 (1 hidden with 100) - (Epochs:100, Patience: 10)   46,6%\n",
    "**High_Acc - low Val_Acc**"
   ]
  },
  {
   "cell_type": "code",
   "execution_count": 68,
   "id": "80112815",
   "metadata": {
    "hidden": true
   },
   "outputs": [
    {
     "name": "stdout",
     "output_type": "stream",
     "text": [
      "Model: \"sequential_19\"\n",
      "_________________________________________________________________\n",
      "Layer (type)                 Output Shape              Param #   \n",
      "=================================================================\n",
      "conv2d_19 (Conv2D)           (None, 97, 97, 8)         392       \n",
      "_________________________________________________________________\n",
      "max_pooling2d_19 (MaxPooling (None, 48, 48, 8)         0         \n",
      "_________________________________________________________________\n",
      "flatten_19 (Flatten)         (None, 18432)             0         \n",
      "_________________________________________________________________\n",
      "dense_50 (Dense)             (None, 100)               1843300   \n",
      "_________________________________________________________________\n",
      "dense_51 (Dense)             (None, 10)                1010      \n",
      "=================================================================\n",
      "Total params: 1,844,702\n",
      "Trainable params: 1,844,702\n",
      "Non-trainable params: 0\n",
      "_________________________________________________________________\n",
      "None\n",
      "Epoch 1/100\n",
      "434/434 [==============================] - 32s 73ms/step - loss: 1.6793 - accuracy: 0.3927 - val_loss: 1.4691 - val_accuracy: 0.4310\n",
      "Epoch 2/100\n",
      "434/434 [==============================] - 28s 65ms/step - loss: 1.3668 - accuracy: 0.4719 - val_loss: 1.3740 - val_accuracy: 0.4478\n",
      "Epoch 3/100\n",
      "434/434 [==============================] - 27s 63ms/step - loss: 1.2469 - accuracy: 0.5125 - val_loss: 1.3527 - val_accuracy: 0.4675\n",
      "Epoch 4/100\n",
      "434/434 [==============================] - 28s 65ms/step - loss: 1.1554 - accuracy: 0.5499 - val_loss: 1.3771 - val_accuracy: 0.4711\n",
      "Epoch 5/100\n",
      "434/434 [==============================] - 26s 60ms/step - loss: 1.0591 - accuracy: 0.5862 - val_loss: 1.3661 - val_accuracy: 0.4689\n",
      "Epoch 6/100\n",
      "434/434 [==============================] - 26s 61ms/step - loss: 0.9732 - accuracy: 0.6200 - val_loss: 1.4649 - val_accuracy: 0.4505\n",
      "Epoch 7/100\n",
      "434/434 [==============================] - 27s 62ms/step - loss: 0.8832 - accuracy: 0.6586 - val_loss: 1.5033 - val_accuracy: 0.4504\n",
      "Epoch 8/100\n",
      "434/434 [==============================] - 27s 61ms/step - loss: 0.7847 - accuracy: 0.7021 - val_loss: 1.5843 - val_accuracy: 0.4593\n",
      "Epoch 9/100\n",
      "434/434 [==============================] - 26s 59ms/step - loss: 0.6876 - accuracy: 0.7452 - val_loss: 1.7075 - val_accuracy: 0.4450\n",
      "Epoch 10/100\n",
      "434/434 [==============================] - 26s 61ms/step - loss: 0.6000 - accuracy: 0.7793 - val_loss: 1.7971 - val_accuracy: 0.4329\n",
      "Epoch 11/100\n",
      "434/434 [==============================] - 26s 61ms/step - loss: 0.5200 - accuracy: 0.8122 - val_loss: 1.9557 - val_accuracy: 0.4428\n",
      "Epoch 12/100\n",
      "434/434 [==============================] - 26s 60ms/step - loss: 0.4435 - accuracy: 0.8416 - val_loss: 2.1523 - val_accuracy: 0.4392\n",
      "Epoch 13/100\n",
      "434/434 [==============================] - 26s 60ms/step - loss: 0.3775 - accuracy: 0.8689 - val_loss: 2.4014 - val_accuracy: 0.4347\n",
      "0.46569740772247314\n"
     ]
    }
   ],
   "source": [
    "model = models.Sequential()\n",
    "### First convolution & max-pooling & Flattening\n",
    "model.add(layers.Conv2D(8, (4,4), input_shape=(100, 100, 3),activation='relu'))\n",
    "model.add(layers.MaxPool2D(pool_size=(2,2)))\n",
    "model.add(layers.Flatten())\n",
    "\n",
    "### Hidden Layers\n",
    "model.add(layers.Dense(100, activation='relu'))\n",
    "\n",
    "### Last layer \n",
    "model.add(layers.Dense(10, activation='softmax'))\n",
    "\n",
    "### Model compilation\n",
    "model.compile(loss='categorical_crossentropy',\n",
    "          optimizer='adam',\n",
    "          metrics=['accuracy'])\n",
    "print(model.summary())\n",
    "\n",
    "es = EarlyStopping(patience=10,restore_best_weights=True)\n",
    "\n",
    "# YOUR CODE HERE\n",
    "model.fit(X_train, y_train_cat, \n",
    "          validation_split=0.3,\n",
    "          callbacks=[es],\n",
    "          epochs=100, \n",
    "          batch_size=32, \n",
    "          verbose=1)\n",
    "\n",
    "print(model.evaluate(X_test, y_test_cat, verbose=0)[1])"
   ]
  },
  {
   "cell_type": "markdown",
   "id": "bf2665a6",
   "metadata": {
    "heading_collapsed": true
   },
   "source": [
    "## CNN 1.2 - Dropout, Hidden Layer 50% => 46,4%"
   ]
  },
  {
   "cell_type": "code",
   "execution_count": 69,
   "id": "2812c89f",
   "metadata": {
    "hidden": true
   },
   "outputs": [
    {
     "name": "stdout",
     "output_type": "stream",
     "text": [
      "Model: \"sequential_20\"\n",
      "_________________________________________________________________\n",
      "Layer (type)                 Output Shape              Param #   \n",
      "=================================================================\n",
      "conv2d_20 (Conv2D)           (None, 97, 97, 8)         392       \n",
      "_________________________________________________________________\n",
      "max_pooling2d_20 (MaxPooling (None, 48, 48, 8)         0         \n",
      "_________________________________________________________________\n",
      "flatten_20 (Flatten)         (None, 18432)             0         \n",
      "_________________________________________________________________\n",
      "dense_52 (Dense)             (None, 100)               1843300   \n",
      "_________________________________________________________________\n",
      "dropout (Dropout)            (None, 100)               0         \n",
      "_________________________________________________________________\n",
      "dense_53 (Dense)             (None, 10)                1010      \n",
      "=================================================================\n",
      "Total params: 1,844,702\n",
      "Trainable params: 1,844,702\n",
      "Non-trainable params: 0\n",
      "_________________________________________________________________\n",
      "None\n",
      "Epoch 1/100\n",
      "434/434 [==============================] - 31s 69ms/step - loss: 1.8220 - accuracy: 0.3657 - val_loss: 1.5942 - val_accuracy: 0.4024\n",
      "Epoch 2/100\n",
      "434/434 [==============================] - 27s 61ms/step - loss: 1.5626 - accuracy: 0.4233 - val_loss: 1.4386 - val_accuracy: 0.4367\n",
      "Epoch 3/100\n",
      "434/434 [==============================] - 26s 60ms/step - loss: 1.4602 - accuracy: 0.4468 - val_loss: 1.4015 - val_accuracy: 0.4495\n",
      "Epoch 4/100\n",
      "434/434 [==============================] - 25s 58ms/step - loss: 1.3965 - accuracy: 0.4597 - val_loss: 1.3641 - val_accuracy: 0.4591\n",
      "Epoch 5/100\n",
      "434/434 [==============================] - 25s 57ms/step - loss: 1.3455 - accuracy: 0.4715 - val_loss: 1.3444 - val_accuracy: 0.4631\n",
      "Epoch 6/100\n",
      "434/434 [==============================] - 25s 57ms/step - loss: 1.2982 - accuracy: 0.4838 - val_loss: 1.3412 - val_accuracy: 0.4616\n",
      "Epoch 7/100\n",
      "434/434 [==============================] - 25s 58ms/step - loss: 1.2717 - accuracy: 0.4929 - val_loss: 1.3449 - val_accuracy: 0.4593\n",
      "Epoch 8/100\n",
      "434/434 [==============================] - 25s 57ms/step - loss: 1.2337 - accuracy: 0.5071 - val_loss: 1.3421 - val_accuracy: 0.4638\n",
      "Epoch 9/100\n",
      "434/434 [==============================] - 25s 57ms/step - loss: 1.2107 - accuracy: 0.5156 - val_loss: 1.3274 - val_accuracy: 0.4714\n",
      "Epoch 10/100\n",
      "434/434 [==============================] - 25s 57ms/step - loss: 1.1751 - accuracy: 0.5212 - val_loss: 1.3634 - val_accuracy: 0.4694\n",
      "Epoch 11/100\n",
      "434/434 [==============================] - 26s 60ms/step - loss: 1.1542 - accuracy: 0.5333 - val_loss: 1.3458 - val_accuracy: 0.4744\n",
      "Epoch 12/100\n",
      "434/434 [==============================] - 25s 58ms/step - loss: 1.1251 - accuracy: 0.5388 - val_loss: 1.3491 - val_accuracy: 0.4744\n",
      "Epoch 13/100\n",
      "434/434 [==============================] - 26s 59ms/step - loss: 1.1049 - accuracy: 0.5469 - val_loss: 1.4285 - val_accuracy: 0.4631\n",
      "Epoch 14/100\n",
      "434/434 [==============================] - 26s 59ms/step - loss: 1.0819 - accuracy: 0.5610 - val_loss: 1.3907 - val_accuracy: 0.4670\n",
      "Epoch 15/100\n",
      "434/434 [==============================] - 26s 59ms/step - loss: 1.0401 - accuracy: 0.5707 - val_loss: 1.3939 - val_accuracy: 0.4621\n",
      "Epoch 16/100\n",
      "434/434 [==============================] - 25s 59ms/step - loss: 1.0171 - accuracy: 0.5751 - val_loss: 1.4949 - val_accuracy: 0.4650\n",
      "Epoch 17/100\n",
      "434/434 [==============================] - 26s 59ms/step - loss: 0.9957 - accuracy: 0.5920 - val_loss: 1.4505 - val_accuracy: 0.4657\n",
      "Epoch 18/100\n",
      "434/434 [==============================] - 25s 58ms/step - loss: 0.9809 - accuracy: 0.5934 - val_loss: 1.4766 - val_accuracy: 0.4754\n",
      "Epoch 19/100\n",
      "434/434 [==============================] - 26s 59ms/step - loss: 0.9538 - accuracy: 0.5970 - val_loss: 1.4426 - val_accuracy: 0.4741\n",
      "0.4643343985080719\n"
     ]
    }
   ],
   "source": [
    "model = models.Sequential()\n",
    "### First convolution & max-pooling & Flattening\n",
    "model.add(layers.Conv2D(8, (4,4), input_shape=(100, 100, 3),activation='relu'))\n",
    "model.add(layers.MaxPool2D(pool_size=(2,2)))\n",
    "model.add(layers.Flatten())\n",
    "\n",
    "### Hidden Layers\n",
    "model.add(layers.Dense(100, activation='relu'))\n",
    "model.add(Dropout(0.5))\n",
    "\n",
    "### Last layer \n",
    "model.add(layers.Dense(10, activation='softmax'))\n",
    "\n",
    "### Model compilation\n",
    "model.compile(loss='categorical_crossentropy',\n",
    "          optimizer='adam',\n",
    "          metrics=['accuracy'])\n",
    "print(model.summary())\n",
    "\n",
    "es = EarlyStopping(patience=10,restore_best_weights=True)\n",
    "\n",
    "# YOUR CODE HERE\n",
    "model.fit(X_train, y_train_cat, \n",
    "          validation_split=0.3,\n",
    "          callbacks=[es],\n",
    "          epochs=100, \n",
    "          batch_size=32, \n",
    "          verbose=1)\n",
    "\n",
    "print(model.evaluate(X_test, y_test_cat, verbose=0)[1])"
   ]
  },
  {
   "cell_type": "markdown",
   "id": "4c740ee9",
   "metadata": {
    "heading_collapsed": true
   },
   "source": [
    "## CNN 1.3 Dropout First and Hidden Layer 20%    45,5 %"
   ]
  },
  {
   "cell_type": "code",
   "execution_count": 70,
   "id": "bd5dd151",
   "metadata": {
    "hidden": true
   },
   "outputs": [
    {
     "name": "stdout",
     "output_type": "stream",
     "text": [
      "Model: \"sequential_21\"\n",
      "_________________________________________________________________\n",
      "Layer (type)                 Output Shape              Param #   \n",
      "=================================================================\n",
      "dropout_1 (Dropout)          (None, 100, 100, 3)       0         \n",
      "_________________________________________________________________\n",
      "conv2d_21 (Conv2D)           (None, 97, 97, 8)         392       \n",
      "_________________________________________________________________\n",
      "max_pooling2d_21 (MaxPooling (None, 48, 48, 8)         0         \n",
      "_________________________________________________________________\n",
      "flatten_21 (Flatten)         (None, 18432)             0         \n",
      "_________________________________________________________________\n",
      "dense_54 (Dense)             (None, 100)               1843300   \n",
      "_________________________________________________________________\n",
      "dropout_2 (Dropout)          (None, 100)               0         \n",
      "_________________________________________________________________\n",
      "dense_55 (Dense)             (None, 10)                1010      \n",
      "=================================================================\n",
      "Total params: 1,844,702\n",
      "Trainable params: 1,844,702\n",
      "Non-trainable params: 0\n",
      "_________________________________________________________________\n",
      "None\n",
      "Epoch 1/100\n",
      "434/434 [==============================] - 32s 73ms/step - loss: 1.8489 - accuracy: 0.3533 - val_loss: 1.6774 - val_accuracy: 0.3948\n",
      "Epoch 2/100\n",
      "434/434 [==============================] - 28s 64ms/step - loss: 1.6218 - accuracy: 0.4049 - val_loss: 1.6321 - val_accuracy: 0.4073\n",
      "Epoch 3/100\n",
      "434/434 [==============================] - 29s 66ms/step - loss: 1.5306 - accuracy: 0.4250 - val_loss: 1.5129 - val_accuracy: 0.4189\n",
      "Epoch 4/100\n",
      "434/434 [==============================] - 28s 66ms/step - loss: 1.4693 - accuracy: 0.4388 - val_loss: 1.4781 - val_accuracy: 0.4374\n",
      "Epoch 5/100\n",
      "434/434 [==============================] - 28s 65ms/step - loss: 1.4190 - accuracy: 0.4511 - val_loss: 1.4404 - val_accuracy: 0.4445\n",
      "Epoch 6/100\n",
      "434/434 [==============================] - 29s 66ms/step - loss: 1.3885 - accuracy: 0.4585 - val_loss: 1.4299 - val_accuracy: 0.4510\n",
      "Epoch 7/100\n",
      "434/434 [==============================] - 28s 65ms/step - loss: 1.3614 - accuracy: 0.4620 - val_loss: 1.4271 - val_accuracy: 0.4495\n",
      "Epoch 8/100\n",
      "434/434 [==============================] - 28s 65ms/step - loss: 1.3484 - accuracy: 0.4688 - val_loss: 1.4205 - val_accuracy: 0.4492\n",
      "Epoch 9/100\n",
      "434/434 [==============================] - 29s 66ms/step - loss: 1.3165 - accuracy: 0.4709 - val_loss: 1.3936 - val_accuracy: 0.4549\n",
      "Epoch 10/100\n",
      "434/434 [==============================] - 29s 66ms/step - loss: 1.2983 - accuracy: 0.4832 - val_loss: 1.4315 - val_accuracy: 0.4515\n",
      "Epoch 11/100\n",
      "434/434 [==============================] - 28s 66ms/step - loss: 1.2753 - accuracy: 0.4895 - val_loss: 1.4277 - val_accuracy: 0.4401\n",
      "Epoch 12/100\n",
      "434/434 [==============================] - 30s 68ms/step - loss: 1.2650 - accuracy: 0.4903 - val_loss: 1.4069 - val_accuracy: 0.4556\n",
      "Epoch 13/100\n",
      "434/434 [==============================] - 32s 73ms/step - loss: 1.2519 - accuracy: 0.4967 - val_loss: 1.4080 - val_accuracy: 0.4549\n",
      "Epoch 14/100\n",
      "434/434 [==============================] - 29s 67ms/step - loss: 1.2348 - accuracy: 0.4978 - val_loss: 1.4332 - val_accuracy: 0.4419\n",
      "Epoch 15/100\n",
      "434/434 [==============================] - 28s 65ms/step - loss: 1.2315 - accuracy: 0.4997 - val_loss: 1.4121 - val_accuracy: 0.4546\n",
      "Epoch 16/100\n",
      "434/434 [==============================] - 29s 67ms/step - loss: 1.2212 - accuracy: 0.4989 - val_loss: 1.4477 - val_accuracy: 0.4510\n",
      "Epoch 17/100\n",
      "434/434 [==============================] - 29s 66ms/step - loss: 1.2086 - accuracy: 0.5042 - val_loss: 1.4078 - val_accuracy: 0.4537\n",
      "Epoch 18/100\n",
      "434/434 [==============================] - 28s 65ms/step - loss: 1.2030 - accuracy: 0.5094 - val_loss: 1.4272 - val_accuracy: 0.4541\n",
      "Epoch 19/100\n",
      "434/434 [==============================] - 29s 66ms/step - loss: 1.1790 - accuracy: 0.5122 - val_loss: 1.4446 - val_accuracy: 0.4510\n",
      "0.4547932744026184\n"
     ]
    }
   ],
   "source": [
    "model = models.Sequential()\n",
    "### First convolution & max-pooling & Flattening\n",
    "model.add(Dropout(0.2, input_shape=(100,100,3,)))\n",
    "model.add(layers.Conv2D(8, (4,4), activation='relu'))\n",
    "model.add(layers.MaxPool2D(pool_size=(2,2)))\n",
    "model.add(layers.Flatten())\n",
    "\n",
    "### Hidden Layers\n",
    "model.add(layers.Dense(100, activation='relu'))\n",
    "model.add(Dropout(0.2))\n",
    "\n",
    "### Last layer \n",
    "model.add(layers.Dense(10, activation='softmax'))\n",
    "\n",
    "### Model compilation\n",
    "model.compile(loss='categorical_crossentropy',\n",
    "          optimizer='adam',\n",
    "          metrics=['accuracy'])\n",
    "print(model.summary())\n",
    "\n",
    "es = EarlyStopping(patience=10,restore_best_weights=True)\n",
    "\n",
    "# YOUR CODE HERE\n",
    "model.fit(X_train, y_train_cat, \n",
    "          validation_split=0.3,\n",
    "          callbacks=[es],\n",
    "          epochs=100, \n",
    "          batch_size=32, \n",
    "          verbose=1)\n",
    "\n",
    "print(model.evaluate(X_test, y_test_cat, verbose=0)[1])"
   ]
  },
  {
   "cell_type": "markdown",
   "id": "7791a613",
   "metadata": {
    "heading_collapsed": true
   },
   "source": [
    "## CNN 1.4 Dropout, Hidden Layer 40% => 47,4%"
   ]
  },
  {
   "cell_type": "code",
   "execution_count": 71,
   "id": "f07982b8",
   "metadata": {
    "hidden": true
   },
   "outputs": [
    {
     "name": "stdout",
     "output_type": "stream",
     "text": [
      "Model: \"sequential_22\"\n",
      "_________________________________________________________________\n",
      "Layer (type)                 Output Shape              Param #   \n",
      "=================================================================\n",
      "conv2d_22 (Conv2D)           (None, 97, 97, 8)         392       \n",
      "_________________________________________________________________\n",
      "max_pooling2d_22 (MaxPooling (None, 48, 48, 8)         0         \n",
      "_________________________________________________________________\n",
      "flatten_22 (Flatten)         (None, 18432)             0         \n",
      "_________________________________________________________________\n",
      "dense_56 (Dense)             (None, 100)               1843300   \n",
      "_________________________________________________________________\n",
      "dropout_3 (Dropout)          (None, 100)               0         \n",
      "_________________________________________________________________\n",
      "dense_57 (Dense)             (None, 10)                1010      \n",
      "=================================================================\n",
      "Total params: 1,844,702\n",
      "Trainable params: 1,844,702\n",
      "Non-trainable params: 0\n",
      "_________________________________________________________________\n",
      "None\n",
      "Epoch 1/100\n",
      "434/434 [==============================] - 31s 70ms/step - loss: 1.7722 - accuracy: 0.3702 - val_loss: 1.5829 - val_accuracy: 0.4053\n",
      "Epoch 2/100\n",
      "434/434 [==============================] - 26s 61ms/step - loss: 1.5359 - accuracy: 0.4261 - val_loss: 1.4496 - val_accuracy: 0.4438\n",
      "Epoch 3/100\n",
      "434/434 [==============================] - 29s 66ms/step - loss: 1.4425 - accuracy: 0.4512 - val_loss: 1.4089 - val_accuracy: 0.4443\n",
      "Epoch 4/100\n",
      "434/434 [==============================] - 27s 62ms/step - loss: 1.3867 - accuracy: 0.4600 - val_loss: 1.3613 - val_accuracy: 0.4611\n",
      "Epoch 5/100\n",
      "434/434 [==============================] - 27s 62ms/step - loss: 1.3365 - accuracy: 0.4753 - val_loss: 1.3341 - val_accuracy: 0.4716\n",
      "Epoch 6/100\n",
      "434/434 [==============================] - 27s 62ms/step - loss: 1.2952 - accuracy: 0.4889 - val_loss: 1.3401 - val_accuracy: 0.4626\n",
      "Epoch 7/100\n",
      "434/434 [==============================] - 28s 64ms/step - loss: 1.2723 - accuracy: 0.4927 - val_loss: 1.3544 - val_accuracy: 0.4583\n",
      "Epoch 8/100\n",
      "434/434 [==============================] - 26s 60ms/step - loss: 1.2314 - accuracy: 0.5051 - val_loss: 1.3588 - val_accuracy: 0.4616\n",
      "Epoch 9/100\n",
      "434/434 [==============================] - 26s 59ms/step - loss: 1.2044 - accuracy: 0.5113 - val_loss: 1.3546 - val_accuracy: 0.4727\n",
      "Epoch 10/100\n",
      "434/434 [==============================] - 26s 59ms/step - loss: 1.1735 - accuracy: 0.5265 - val_loss: 1.3643 - val_accuracy: 0.4616\n",
      "Epoch 11/100\n",
      "434/434 [==============================] - 26s 59ms/step - loss: 1.1452 - accuracy: 0.5317 - val_loss: 1.3777 - val_accuracy: 0.4495\n",
      "Epoch 12/100\n",
      "434/434 [==============================] - 32s 73ms/step - loss: 1.1239 - accuracy: 0.5405 - val_loss: 1.3759 - val_accuracy: 0.4699\n",
      "Epoch 13/100\n",
      "434/434 [==============================] - 36s 83ms/step - loss: 1.1063 - accuracy: 0.5408 - val_loss: 1.3846 - val_accuracy: 0.4726\n",
      "Epoch 14/100\n",
      "434/434 [==============================] - 41s 94ms/step - loss: 1.0694 - accuracy: 0.5561 - val_loss: 1.3823 - val_accuracy: 0.4753\n",
      "Epoch 15/100\n",
      "434/434 [==============================] - 35s 79ms/step - loss: 1.0514 - accuracy: 0.5690 - val_loss: 1.4064 - val_accuracy: 0.4608\n",
      "0.4743298590183258\n"
     ]
    }
   ],
   "source": [
    "model = models.Sequential()\n",
    "### First convolution & max-pooling & Flattening\n",
    "model.add(layers.Conv2D(8, (4,4), input_shape=(100, 100, 3),activation='relu'))\n",
    "model.add(layers.MaxPool2D(pool_size=(2,2)))\n",
    "model.add(layers.Flatten())\n",
    "\n",
    "### Hidden Layers\n",
    "model.add(layers.Dense(100, activation='relu'))\n",
    "model.add(Dropout(0.4))\n",
    "\n",
    "### Last layer \n",
    "model.add(layers.Dense(10, activation='softmax'))\n",
    "\n",
    "### Model compilation\n",
    "model.compile(loss='categorical_crossentropy',\n",
    "          optimizer='adam',\n",
    "          metrics=['accuracy'])\n",
    "print(model.summary())\n",
    "\n",
    "es = EarlyStopping(patience=10,restore_best_weights=True)\n",
    "\n",
    "# YOUR CODE HERE\n",
    "model.fit(X_train, y_train_cat, \n",
    "          validation_split=0.3,\n",
    "          callbacks=[es],\n",
    "          epochs=100, \n",
    "          batch_size=32, \n",
    "          verbose=1)\n",
    "\n",
    "print(model.evaluate(X_test, y_test_cat, verbose=0)[1])"
   ]
  },
  {
   "cell_type": "markdown",
   "id": "5842f4df",
   "metadata": {
    "heading_collapsed": true
   },
   "source": [
    "## CNN 1.5 Dropout, Hidden Layer 30% => 46,7%"
   ]
  },
  {
   "cell_type": "code",
   "execution_count": 72,
   "id": "deb31894",
   "metadata": {
    "hidden": true
   },
   "outputs": [
    {
     "name": "stdout",
     "output_type": "stream",
     "text": [
      "Model: \"sequential_23\"\n",
      "_________________________________________________________________\n",
      "Layer (type)                 Output Shape              Param #   \n",
      "=================================================================\n",
      "conv2d_23 (Conv2D)           (None, 97, 97, 8)         392       \n",
      "_________________________________________________________________\n",
      "max_pooling2d_23 (MaxPooling (None, 48, 48, 8)         0         \n",
      "_________________________________________________________________\n",
      "flatten_23 (Flatten)         (None, 18432)             0         \n",
      "_________________________________________________________________\n",
      "dense_58 (Dense)             (None, 100)               1843300   \n",
      "_________________________________________________________________\n",
      "dropout_4 (Dropout)          (None, 100)               0         \n",
      "_________________________________________________________________\n",
      "dense_59 (Dense)             (None, 10)                1010      \n",
      "=================================================================\n",
      "Total params: 1,844,702\n",
      "Trainable params: 1,844,702\n",
      "Non-trainable params: 0\n",
      "_________________________________________________________________\n",
      "None\n",
      "Epoch 1/100\n",
      "434/434 [==============================] - 42s 94ms/step - loss: 1.7301 - accuracy: 0.3758 - val_loss: 1.5116 - val_accuracy: 0.4263\n",
      "Epoch 2/100\n",
      "434/434 [==============================] - 25s 59ms/step - loss: 1.4541 - accuracy: 0.4443 - val_loss: 1.3992 - val_accuracy: 0.4541\n",
      "Epoch 3/100\n",
      "434/434 [==============================] - 25s 58ms/step - loss: 1.3409 - accuracy: 0.4787 - val_loss: 1.4083 - val_accuracy: 0.4472\n",
      "Epoch 4/100\n",
      "434/434 [==============================] - 27s 61ms/step - loss: 1.2690 - accuracy: 0.5009 - val_loss: 1.3786 - val_accuracy: 0.4583\n",
      "Epoch 5/100\n",
      "434/434 [==============================] - 26s 59ms/step - loss: 1.2059 - accuracy: 0.5203 - val_loss: 1.3521 - val_accuracy: 0.4648\n",
      "Epoch 6/100\n",
      "434/434 [==============================] - 26s 59ms/step - loss: 1.1370 - accuracy: 0.5499 - val_loss: 1.3684 - val_accuracy: 0.4628\n",
      "Epoch 7/100\n",
      "434/434 [==============================] - 25s 59ms/step - loss: 1.0672 - accuracy: 0.5679 - val_loss: 1.4416 - val_accuracy: 0.4650\n",
      "Epoch 8/100\n",
      "434/434 [==============================] - 26s 60ms/step - loss: 1.0211 - accuracy: 0.5900 - val_loss: 1.4247 - val_accuracy: 0.4593\n",
      "Epoch 9/100\n",
      "434/434 [==============================] - 26s 59ms/step - loss: 0.9608 - accuracy: 0.6136 - val_loss: 1.4266 - val_accuracy: 0.4642\n",
      "Epoch 10/100\n",
      "434/434 [==============================] - 26s 59ms/step - loss: 0.8999 - accuracy: 0.6366 - val_loss: 1.4516 - val_accuracy: 0.4530\n",
      "Epoch 11/100\n",
      "434/434 [==============================] - 26s 61ms/step - loss: 0.8426 - accuracy: 0.6637 - val_loss: 1.5691 - val_accuracy: 0.4556\n",
      "Epoch 12/100\n",
      "434/434 [==============================] - 27s 61ms/step - loss: 0.7931 - accuracy: 0.6811 - val_loss: 1.6117 - val_accuracy: 0.4542\n",
      "Epoch 13/100\n",
      "434/434 [==============================] - 27s 61ms/step - loss: 0.7420 - accuracy: 0.7021 - val_loss: 1.7187 - val_accuracy: 0.4596\n",
      "Epoch 14/100\n",
      "434/434 [==============================] - 26s 61ms/step - loss: 0.7004 - accuracy: 0.7202 - val_loss: 1.7091 - val_accuracy: 0.4431\n",
      "Epoch 15/100\n",
      "434/434 [==============================] - 25s 58ms/step - loss: 0.6480 - accuracy: 0.7415 - val_loss: 1.8393 - val_accuracy: 0.4591\n",
      "0.4675147533416748\n"
     ]
    }
   ],
   "source": [
    "model = models.Sequential()\n",
    "### First convolution & max-pooling & Flattening\n",
    "model.add(layers.Conv2D(8, (4,4), input_shape=(100, 100, 3),activation='relu'))\n",
    "model.add(layers.MaxPool2D(pool_size=(2,2)))\n",
    "model.add(layers.Flatten())\n",
    "\n",
    "### Hidden Layers\n",
    "model.add(layers.Dense(100, activation='relu'))\n",
    "model.add(Dropout(0.3))\n",
    "\n",
    "### Last layer \n",
    "model.add(layers.Dense(10, activation='softmax'))\n",
    "\n",
    "### Model compilation\n",
    "model.compile(loss='categorical_crossentropy',\n",
    "          optimizer='adam',\n",
    "          metrics=['accuracy'])\n",
    "print(model.summary())\n",
    "\n",
    "es = EarlyStopping(patience=10,restore_best_weights=True)\n",
    "\n",
    "# YOUR CODE HERE\n",
    "model.fit(X_train, y_train_cat, \n",
    "          validation_split=0.3,\n",
    "          callbacks=[es],\n",
    "          epochs=100, \n",
    "          batch_size=32, \n",
    "          verbose=1)\n",
    "\n",
    "print(model.evaluate(X_test, y_test_cat, verbose=0)[1])"
   ]
  },
  {
   "cell_type": "markdown",
   "id": "0f77a343",
   "metadata": {
    "heading_collapsed": true
   },
   "source": [
    "## CNN 1.6 Dropout, Hidden Layer 20% => 46,7%"
   ]
  },
  {
   "cell_type": "code",
   "execution_count": 73,
   "id": "56c89ab3",
   "metadata": {
    "hidden": true
   },
   "outputs": [
    {
     "name": "stdout",
     "output_type": "stream",
     "text": [
      "Model: \"sequential_24\"\n",
      "_________________________________________________________________\n",
      "Layer (type)                 Output Shape              Param #   \n",
      "=================================================================\n",
      "conv2d_24 (Conv2D)           (None, 97, 97, 8)         392       \n",
      "_________________________________________________________________\n",
      "max_pooling2d_24 (MaxPooling (None, 48, 48, 8)         0         \n",
      "_________________________________________________________________\n",
      "flatten_24 (Flatten)         (None, 18432)             0         \n",
      "_________________________________________________________________\n",
      "dense_60 (Dense)             (None, 100)               1843300   \n",
      "_________________________________________________________________\n",
      "dropout_5 (Dropout)          (None, 100)               0         \n",
      "_________________________________________________________________\n",
      "dense_61 (Dense)             (None, 10)                1010      \n",
      "=================================================================\n",
      "Total params: 1,844,702\n",
      "Trainable params: 1,844,702\n",
      "Non-trainable params: 0\n",
      "_________________________________________________________________\n",
      "None\n",
      "Epoch 1/100\n",
      "434/434 [==============================] - 27s 61ms/step - loss: 1.7293 - accuracy: 0.3797 - val_loss: 1.5022 - val_accuracy: 0.4313\n",
      "Epoch 2/100\n",
      "434/434 [==============================] - 26s 59ms/step - loss: 1.4455 - accuracy: 0.4523 - val_loss: 1.3868 - val_accuracy: 0.4573\n",
      "Epoch 3/100\n",
      "434/434 [==============================] - 25s 58ms/step - loss: 1.3335 - accuracy: 0.4768 - val_loss: 1.3610 - val_accuracy: 0.4606\n",
      "Epoch 4/100\n",
      "434/434 [==============================] - 25s 58ms/step - loss: 1.2675 - accuracy: 0.4962 - val_loss: 1.3530 - val_accuracy: 0.4705\n",
      "Epoch 5/100\n",
      "434/434 [==============================] - 26s 60ms/step - loss: 1.1993 - accuracy: 0.5195 - val_loss: 1.3544 - val_accuracy: 0.4594\n",
      "Epoch 6/100\n",
      "434/434 [==============================] - 25s 57ms/step - loss: 1.1370 - accuracy: 0.5378 - val_loss: 1.4286 - val_accuracy: 0.4685\n",
      "Epoch 7/100\n",
      "434/434 [==============================] - 25s 58ms/step - loss: 1.1077 - accuracy: 0.5566 - val_loss: 1.3556 - val_accuracy: 0.4719\n",
      "Epoch 8/100\n",
      "434/434 [==============================] - 25s 58ms/step - loss: 1.0414 - accuracy: 0.5744 - val_loss: 1.4046 - val_accuracy: 0.4764\n",
      "Epoch 9/100\n",
      "434/434 [==============================] - 25s 58ms/step - loss: 1.0028 - accuracy: 0.5865 - val_loss: 1.4842 - val_accuracy: 0.4726\n",
      "Epoch 10/100\n",
      "434/434 [==============================] - 25s 59ms/step - loss: 0.9505 - accuracy: 0.6133 - val_loss: 1.4901 - val_accuracy: 0.4709\n",
      "Epoch 11/100\n",
      "434/434 [==============================] - 26s 61ms/step - loss: 0.9265 - accuracy: 0.6198 - val_loss: 1.4990 - val_accuracy: 0.4547\n",
      "Epoch 12/100\n",
      "434/434 [==============================] - 27s 61ms/step - loss: 0.8665 - accuracy: 0.6472 - val_loss: 1.5322 - val_accuracy: 0.4761\n",
      "Epoch 13/100\n",
      "434/434 [==============================] - 26s 59ms/step - loss: 0.8330 - accuracy: 0.6600 - val_loss: 1.5923 - val_accuracy: 0.4672\n",
      "Epoch 14/100\n",
      "434/434 [==============================] - 25s 59ms/step - loss: 0.8072 - accuracy: 0.6697 - val_loss: 1.6718 - val_accuracy: 0.4652\n",
      "0.4670604169368744\n"
     ]
    }
   ],
   "source": [
    "model = models.Sequential()\n",
    "### First convolution & max-pooling & Flattening\n",
    "model.add(layers.Conv2D(8, (4,4), input_shape=(100, 100, 3),activation='relu'))\n",
    "model.add(layers.MaxPool2D(pool_size=(2,2)))\n",
    "model.add(layers.Flatten())\n",
    "\n",
    "### Hidden Layers\n",
    "model.add(layers.Dense(100, activation='relu'))\n",
    "model.add(Dropout(0.2))\n",
    "\n",
    "### Last layer \n",
    "model.add(layers.Dense(10, activation='softmax'))\n",
    "\n",
    "### Model compilation\n",
    "model.compile(loss='categorical_crossentropy',\n",
    "          optimizer='adam',\n",
    "          metrics=['accuracy'])\n",
    "print(model.summary())\n",
    "\n",
    "es = EarlyStopping(patience=10,restore_best_weights=True)\n",
    "\n",
    "# YOUR CODE HERE\n",
    "model.fit(X_train, y_train_cat, \n",
    "          validation_split=0.3,\n",
    "          callbacks=[es],\n",
    "          epochs=100, \n",
    "          batch_size=32, \n",
    "          verbose=1)\n",
    "\n",
    "print(model.evaluate(X_test, y_test_cat, verbose=0)[1])"
   ]
  },
  {
   "cell_type": "markdown",
   "id": "3725010a",
   "metadata": {
    "heading_collapsed": true
   },
   "source": [
    "## CNN 2 Something new (Copy from Cifar Classification) 48,5 %"
   ]
  },
  {
   "cell_type": "code",
   "execution_count": 74,
   "id": "3ec41b1e",
   "metadata": {
    "hidden": true,
    "scrolled": false
   },
   "outputs": [
    {
     "name": "stdout",
     "output_type": "stream",
     "text": [
      "Model: \"sequential_25\"\n",
      "_________________________________________________________________\n",
      "Layer (type)                 Output Shape              Param #   \n",
      "=================================================================\n",
      "conv2d_25 (Conv2D)           (None, 100, 100, 32)      896       \n",
      "_________________________________________________________________\n",
      "max_pooling2d_25 (MaxPooling (None, 50, 50, 32)        0         \n",
      "_________________________________________________________________\n",
      "dropout_6 (Dropout)          (None, 50, 50, 32)        0         \n",
      "_________________________________________________________________\n",
      "conv2d_26 (Conv2D)           (None, 50, 50, 64)        18496     \n",
      "_________________________________________________________________\n",
      "max_pooling2d_26 (MaxPooling (None, 25, 25, 64)        0         \n",
      "_________________________________________________________________\n",
      "dropout_7 (Dropout)          (None, 25, 25, 64)        0         \n",
      "_________________________________________________________________\n",
      "conv2d_27 (Conv2D)           (None, 25, 25, 128)       32896     \n",
      "_________________________________________________________________\n",
      "dropout_8 (Dropout)          (None, 25, 25, 128)       0         \n",
      "_________________________________________________________________\n",
      "max_pooling2d_27 (MaxPooling (None, 12, 12, 128)       0         \n",
      "_________________________________________________________________\n",
      "flatten_25 (Flatten)         (None, 18432)             0         \n",
      "_________________________________________________________________\n",
      "dense_62 (Dense)             (None, 100)               1843300   \n",
      "_________________________________________________________________\n",
      "dropout_9 (Dropout)          (None, 100)               0         \n",
      "_________________________________________________________________\n",
      "dense_63 (Dense)             (None, 10)                1010      \n",
      "=================================================================\n",
      "Total params: 1,896,598\n",
      "Trainable params: 1,896,598\n",
      "Non-trainable params: 0\n",
      "_________________________________________________________________\n",
      "None\n",
      "Epoch 1/100\n",
      "434/434 [==============================] - 132s 303ms/step - loss: 1.7906 - accuracy: 0.3665 - val_loss: 1.6411 - val_accuracy: 0.4143\n",
      "Epoch 2/100\n",
      "434/434 [==============================] - 130s 299ms/step - loss: 1.5584 - accuracy: 0.4197 - val_loss: 1.4982 - val_accuracy: 0.4409\n",
      "Epoch 3/100\n",
      "434/434 [==============================] - 131s 302ms/step - loss: 1.4510 - accuracy: 0.4424 - val_loss: 1.4350 - val_accuracy: 0.4546\n",
      "Epoch 4/100\n",
      "434/434 [==============================] - 127s 292ms/step - loss: 1.3885 - accuracy: 0.4592 - val_loss: 1.3742 - val_accuracy: 0.4603\n",
      "Epoch 5/100\n",
      "434/434 [==============================] - 126s 291ms/step - loss: 1.3218 - accuracy: 0.4754 - val_loss: 1.3147 - val_accuracy: 0.4694\n",
      "Epoch 6/100\n",
      "434/434 [==============================] - 125s 289ms/step - loss: 1.2931 - accuracy: 0.4816 - val_loss: 1.3040 - val_accuracy: 0.4761\n",
      "Epoch 7/100\n",
      "434/434 [==============================] - 126s 289ms/step - loss: 1.2505 - accuracy: 0.4962 - val_loss: 1.2780 - val_accuracy: 0.4830\n",
      "Epoch 8/100\n",
      "434/434 [==============================] - 125s 288ms/step - loss: 1.2084 - accuracy: 0.5089 - val_loss: 1.2742 - val_accuracy: 0.4805\n",
      "Epoch 9/100\n",
      "434/434 [==============================] - 124s 286ms/step - loss: 1.1756 - accuracy: 0.5204 - val_loss: 1.2759 - val_accuracy: 0.4768\n",
      "Epoch 10/100\n",
      "434/434 [==============================] - 129s 298ms/step - loss: 1.1487 - accuracy: 0.5242 - val_loss: 1.2616 - val_accuracy: 0.4892\n",
      "Epoch 11/100\n",
      "434/434 [==============================] - 118s 273ms/step - loss: 1.1245 - accuracy: 0.5383 - val_loss: 1.2598 - val_accuracy: 0.4886\n",
      "Epoch 12/100\n",
      "434/434 [==============================] - 129s 297ms/step - loss: 1.0924 - accuracy: 0.5513 - val_loss: 1.2752 - val_accuracy: 0.4707\n",
      "Epoch 13/100\n",
      "434/434 [==============================] - 129s 297ms/step - loss: 1.0648 - accuracy: 0.5582 - val_loss: 1.2688 - val_accuracy: 0.4828\n",
      "Epoch 14/100\n",
      "434/434 [==============================] - 140s 323ms/step - loss: 1.0345 - accuracy: 0.5723 - val_loss: 1.3009 - val_accuracy: 0.4820\n",
      "Epoch 15/100\n",
      "434/434 [==============================] - 142s 326ms/step - loss: 1.0150 - accuracy: 0.5761 - val_loss: 1.3007 - val_accuracy: 0.4881\n",
      "Epoch 16/100\n",
      "434/434 [==============================] - 142s 328ms/step - loss: 1.0095 - accuracy: 0.5781 - val_loss: 1.3154 - val_accuracy: 0.4914\n",
      "Epoch 17/100\n",
      "434/434 [==============================] - 134s 308ms/step - loss: 0.9783 - accuracy: 0.5939 - val_loss: 1.2976 - val_accuracy: 0.4783\n",
      "Epoch 18/100\n",
      "434/434 [==============================] - 129s 297ms/step - loss: 0.9551 - accuracy: 0.6016 - val_loss: 1.3041 - val_accuracy: 0.4911\n",
      "Epoch 19/100\n",
      "434/434 [==============================] - 120s 277ms/step - loss: 0.9241 - accuracy: 0.6058 - val_loss: 1.3519 - val_accuracy: 0.4894\n",
      "Epoch 20/100\n",
      "434/434 [==============================] - 119s 274ms/step - loss: 0.9216 - accuracy: 0.6109 - val_loss: 1.3047 - val_accuracy: 0.4899\n",
      "Epoch 21/100\n",
      "434/434 [==============================] - 135s 311ms/step - loss: 0.8974 - accuracy: 0.6267 - val_loss: 1.3458 - val_accuracy: 0.4946\n"
     ]
    },
    {
     "data": {
      "text/plain": [
       "<tensorflow.python.keras.callbacks.History at 0x16ac42c10>"
      ]
     },
     "execution_count": 74,
     "metadata": {},
     "output_type": "execute_result"
    }
   ],
   "source": [
    "model = models.Sequential()\n",
    "model.add(Conv2D(32, (3, 3), activation='relu', padding='same', input_shape=(100, 100, 3)))\n",
    "#model.add(Conv2D(32, (3, 3), activation='relu', padding='same'))\n",
    "model.add(MaxPooling2D((2, 2)))\n",
    "model.add(Dropout(0.2))\n",
    "model.add(Conv2D(64, (3, 3), activation='relu', padding='same'))\n",
    "#model.add(Conv2D(64, (3, 3), activation='relu', padding='same'))\n",
    "model.add(MaxPooling2D((2, 2)))\n",
    "model.add(Dropout(0.2))\n",
    "model.add(Conv2D(128, (2, 2), activation='relu', padding='same'))\n",
    "#model.add(Conv2D(128, (3, 3), activation='relu', padding='same'))\n",
    "model.add(Dropout(0.3))\n",
    "model.add(MaxPooling2D((2, 2)))\n",
    "\n",
    "model.add(Flatten())\n",
    "model.add(Dense(100, activation='relu'))\n",
    "model.add(Dropout(0.4))\n",
    "model.add(Dense(10, activation='softmax'))\n",
    "\n",
    "model.compile(loss='categorical_crossentropy',\n",
    "              optimizer='adam',\n",
    "              metrics=['accuracy'])\n",
    "\n",
    "print(model.summary())\n",
    "\n",
    "es = EarlyStopping(patience=10,restore_best_weights=True)\n",
    "\n",
    "# YOUR CODE HERE\n",
    "model.fit(X_train, y_train_cat, \n",
    "          validation_split=0.3,\n",
    "          callbacks=[es],\n",
    "          epochs=100, \n",
    "          batch_size=32, \n",
    "          verbose=1)"
   ]
  },
  {
   "cell_type": "code",
   "execution_count": 75,
   "id": "35dced4f",
   "metadata": {
    "hidden": true
   },
   "outputs": [
    {
     "name": "stdout",
     "output_type": "stream",
     "text": [
      "0.48523399233818054\n"
     ]
    }
   ],
   "source": [
    "print(model.evaluate(X_test, y_test_cat, verbose=0)[1])"
   ]
  },
  {
   "cell_type": "code",
   "execution_count": null,
   "id": "465227c8",
   "metadata": {
    "hidden": true
   },
   "outputs": [],
   "source": []
  },
  {
   "cell_type": "code",
   "execution_count": null,
   "id": "91790a76",
   "metadata": {
    "hidden": true
   },
   "outputs": [],
   "source": []
  },
  {
   "cell_type": "code",
   "execution_count": null,
   "id": "54899261",
   "metadata": {
    "hidden": true
   },
   "outputs": [],
   "source": []
  },
  {
   "cell_type": "code",
   "execution_count": null,
   "id": "40e1aad9",
   "metadata": {
    "hidden": true
   },
   "outputs": [],
   "source": []
  }
 ],
 "metadata": {
  "colab": {
   "name": "felixfa_data_exploration_visualization.ipynb",
   "provenance": [],
   "toc_visible": true
  },
  "kernelspec": {
   "display_name": "Python 3",
   "language": "python",
   "name": "python3"
  },
  "language_info": {
   "codemirror_mode": {
    "name": "ipython",
    "version": 3
   },
   "file_extension": ".py",
   "mimetype": "text/x-python",
   "name": "python",
   "nbconvert_exporter": "python",
   "pygments_lexer": "ipython3",
   "version": "3.8.6"
  },
  "toc": {
   "base_numbering": 1,
   "nav_menu": {},
   "number_sections": false,
   "sideBar": true,
   "skip_h1_title": false,
   "title_cell": "Table of Contents",
   "title_sidebar": "Contents",
   "toc_cell": false,
   "toc_position": {},
   "toc_section_display": true,
   "toc_window_display": false
  }
 },
 "nbformat": 4,
 "nbformat_minor": 5
}
