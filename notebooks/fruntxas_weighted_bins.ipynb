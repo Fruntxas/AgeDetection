{
 "cells": [
  {
   "cell_type": "markdown",
   "metadata": {
    "id": "begijz1M21BJ"
   },
   "source": [
    "# Imports"
   ]
  },
  {
   "cell_type": "code",
   "execution_count": 1,
   "metadata": {
    "colab": {
     "base_uri": "https://localhost:8080/"
    },
    "executionInfo": {
     "elapsed": 34640,
     "status": "ok",
     "timestamp": 1622021076357,
     "user": {
      "displayName": "Tiago Pereira",
      "photoUrl": "https://lh3.googleusercontent.com/a-/AOh14GgTc2Zjwr7wX1qdbApHL5tu_fV3A8TkRCVnZ_SH6Hk=s64",
      "userId": "17974310180584634598"
     },
     "user_tz": -60
    },
    "id": "xJQD2C5z1tiR",
    "outputId": "a165747d-0c03-4e9c-caf4-932bc32945d6"
   },
   "outputs": [],
   "source": [
    "import numpy as np\n",
    "import pandas as pd\n",
    "import matplotlib.pyplot as plt\n",
    "from autocrop import Cropper\n",
    "\n",
    "from tensorflow.keras import models"
   ]
  },
  {
   "cell_type": "markdown",
   "metadata": {
    "id": "fBscILg3mWOE"
   },
   "source": [
    "# Loading transformed splits"
   ]
  },
  {
   "cell_type": "code",
   "execution_count": 2,
   "metadata": {},
   "outputs": [
    {
     "name": "stdout",
     "output_type": "stream",
     "text": [
      "X_test.npy   y_pred.npy      y_test.npy       y_train.npy\r\n",
      "X_train.npy  y_test_cat.npy  y_train_cat.npy\r\n"
     ]
    }
   ],
   "source": [
    "!ls ../raw_data/cnn_inputs/"
   ]
  },
  {
   "cell_type": "code",
   "execution_count": 5,
   "metadata": {
    "id": "S2jf1ZQ_nUaK"
   },
   "outputs": [
    {
     "name": "stdout",
     "output_type": "stream",
     "text": [
      "2201 ..... (2201,)\n"
     ]
    }
   ],
   "source": [
    "#del y_test,X_test,y_pred\n",
    "y_test = np.load(\"../raw_data/cnn_inputs/y_test.npy\")\n",
    "#y_test_cat = np.load(\"../raw_data/cnn_inputs/y_test_cat.npy\")\n",
    "X_test = np.load(\"../raw_data/cnn_inputs/X_test.npy\")\n",
    "#print(X_train_transformed.shape,\".....\",y_train.shape)\n",
    "print(len(y_test),\".....\",y_test.shape)"
   ]
  },
  {
   "cell_type": "markdown",
   "metadata": {
    "id": "TclwR2zs67ra"
   },
   "source": [
    "# Model Imports"
   ]
  },
  {
   "cell_type": "code",
   "execution_count": 6,
   "metadata": {
    "id": "oUVFPmNR72ql"
   },
   "outputs": [],
   "source": [
    "model_path = '../models/best_model'\n",
    "model = models.load_model(model_path)"
   ]
  },
  {
   "cell_type": "code",
   "execution_count": 93,
   "metadata": {},
   "outputs": [],
   "source": [
    "def weighted_accuracy(y_pred):\n",
    "    for i, element in enumerate(y_pred):\n",
    "        num1 = int(np.argsort(y_pred[i])[-1])\n",
    "        num2 = int(np.argsort(y_pred[i])[-2])\n",
    "        num3 = int(np.argsort(y_pred[i])[-3])\n",
    "        prop1 = y_pred[i][num1]\n",
    "        prop2 = y_pred[i][num2]\n",
    "        prop3 = y_pred[i][num3]\n",
    "        prop_sum = prop1+prop2+prop3\n",
    "        print(prop_sum)\n",
    "        pred = num1*prop1/prop_sum+num2*prop2/prop_sum+num3*prop3/prop_sum\n",
    "    return pred"
   ]
  },
  {
   "cell_type": "code",
   "execution_count": 9,
   "metadata": {
    "collapsed": true
   },
   "outputs": [
    {
     "name": "stdout",
     "output_type": "stream",
     "text": [
      "0 / 2201\n",
      "100 / 2201\n",
      "200 / 2201\n",
      "300 / 2201\n",
      "400 / 2201\n",
      "500 / 2201\n",
      "600 / 2201\n",
      "700 / 2201\n",
      "800 / 2201\n",
      "900 / 2201\n",
      "1000 / 2201\n",
      "1100 / 2201\n",
      "1200 / 2201\n",
      "1300 / 2201\n",
      "1400 / 2201\n",
      "1500 / 2201\n",
      "1600 / 2201\n",
      "1700 / 2201\n",
      "1800 / 2201\n",
      "1900 / 2201\n",
      "2000 / 2201\n",
      "2100 / 2201\n",
      "2200 / 2201\n"
     ]
    }
   ],
   "source": [
    "df = pd.DataFrame(data=0,dtype='int8'\n",
    "                  ,index=np.linspace(0,len(y_test)-1,len(y_test),dtype=\"int32\")\n",
    "                  ,columns=['RealAge','PredictedAge'])\n",
    "\n",
    "for i in range(0,len(y_test)):\n",
    "    df.at[i,\"RealAge\"] = int(y_test[i]*5+1)\n",
    "    if (i % 100) == 0:\n",
    "        print(i,\"/\",len(y_test))"
   ]
  },
  {
   "cell_type": "code",
   "execution_count": 10,
   "metadata": {
    "collapsed": true
   },
   "outputs": [
    {
     "name": "stdout",
     "output_type": "stream",
     "text": [
      "0 / 2201\n",
      "100 / 2201\n",
      "200 / 2201\n",
      "300 / 2201\n",
      "400 / 2201\n",
      "500 / 2201\n",
      "600 / 2201\n",
      "700 / 2201\n",
      "800 / 2201\n",
      "900 / 2201\n",
      "1000 / 2201\n",
      "1100 / 2201\n",
      "1200 / 2201\n",
      "1300 / 2201\n",
      "1400 / 2201\n",
      "1500 / 2201\n",
      "1600 / 2201\n",
      "1700 / 2201\n",
      "1800 / 2201\n",
      "1900 / 2201\n",
      "2000 / 2201\n",
      "2100 / 2201\n",
      "2200 / 2201\n"
     ]
    }
   ],
   "source": [
    "for i in range(0,len(y_test)):\n",
    "    a = []\n",
    "    a = np.expand_dims(X_test[i], axis=0)\n",
    "    y_pred = model.predict(a)\n",
    "    if (i % 100) == 0:\n",
    "        print(i,\"/\",len(y_test))\n",
    "    df.at[i,\"PredictedAge\"] = int(weighted_accuracy(y_pred)*5+1)"
   ]
  },
  {
   "cell_type": "code",
   "execution_count": 11,
   "metadata": {
    "collapsed": true
   },
   "outputs": [
    {
     "data": {
      "text/html": [
       "<div>\n",
       "<style scoped>\n",
       "    .dataframe tbody tr th:only-of-type {\n",
       "        vertical-align: middle;\n",
       "    }\n",
       "\n",
       "    .dataframe tbody tr th {\n",
       "        vertical-align: top;\n",
       "    }\n",
       "\n",
       "    .dataframe thead th {\n",
       "        text-align: right;\n",
       "    }\n",
       "</style>\n",
       "<table border=\"1\" class=\"dataframe\">\n",
       "  <thead>\n",
       "    <tr style=\"text-align: right;\">\n",
       "      <th></th>\n",
       "      <th>RealAge</th>\n",
       "      <th>PredictedAge</th>\n",
       "    </tr>\n",
       "  </thead>\n",
       "  <tbody>\n",
       "    <tr>\n",
       "      <th>0</th>\n",
       "      <td>26</td>\n",
       "      <td>29</td>\n",
       "    </tr>\n",
       "    <tr>\n",
       "      <th>1</th>\n",
       "      <td>31</td>\n",
       "      <td>25</td>\n",
       "    </tr>\n",
       "    <tr>\n",
       "      <th>2</th>\n",
       "      <td>21</td>\n",
       "      <td>25</td>\n",
       "    </tr>\n",
       "    <tr>\n",
       "      <th>3</th>\n",
       "      <td>41</td>\n",
       "      <td>37</td>\n",
       "    </tr>\n",
       "    <tr>\n",
       "      <th>4</th>\n",
       "      <td>16</td>\n",
       "      <td>9</td>\n",
       "    </tr>\n",
       "    <tr>\n",
       "      <th>...</th>\n",
       "      <td>...</td>\n",
       "      <td>...</td>\n",
       "    </tr>\n",
       "    <tr>\n",
       "      <th>2196</th>\n",
       "      <td>61</td>\n",
       "      <td>56</td>\n",
       "    </tr>\n",
       "    <tr>\n",
       "      <th>2197</th>\n",
       "      <td>26</td>\n",
       "      <td>30</td>\n",
       "    </tr>\n",
       "    <tr>\n",
       "      <th>2198</th>\n",
       "      <td>26</td>\n",
       "      <td>25</td>\n",
       "    </tr>\n",
       "    <tr>\n",
       "      <th>2199</th>\n",
       "      <td>26</td>\n",
       "      <td>29</td>\n",
       "    </tr>\n",
       "    <tr>\n",
       "      <th>2200</th>\n",
       "      <td>11</td>\n",
       "      <td>10</td>\n",
       "    </tr>\n",
       "  </tbody>\n",
       "</table>\n",
       "<p>2201 rows × 2 columns</p>\n",
       "</div>"
      ],
      "text/plain": [
       "      RealAge  PredictedAge\n",
       "0          26            29\n",
       "1          31            25\n",
       "2          21            25\n",
       "3          41            37\n",
       "4          16             9\n",
       "...       ...           ...\n",
       "2196       61            56\n",
       "2197       26            30\n",
       "2198       26            25\n",
       "2199       26            29\n",
       "2200       11            10\n",
       "\n",
       "[2201 rows x 2 columns]"
      ]
     },
     "execution_count": 11,
     "metadata": {},
     "output_type": "execute_result"
    }
   ],
   "source": [
    "df"
   ]
  },
  {
   "cell_type": "code",
   "execution_count": 12,
   "metadata": {},
   "outputs": [],
   "source": [
    "df['Difference'] = df.RealAge - df.PredictedAge"
   ]
  },
  {
   "cell_type": "code",
   "execution_count": 19,
   "metadata": {},
   "outputs": [
    {
     "data": {
      "text/plain": [
       "1.161744661517492"
      ]
     },
     "execution_count": 19,
     "metadata": {},
     "output_type": "execute_result"
    }
   ],
   "source": [
    "df.Difference.mean()"
   ]
  },
  {
   "cell_type": "code",
   "execution_count": 20,
   "metadata": {},
   "outputs": [
    {
     "data": {
      "text/plain": [
       "7.23835801635664"
      ]
     },
     "execution_count": 20,
     "metadata": {},
     "output_type": "execute_result"
    }
   ],
   "source": [
    "df.Difference.std()"
   ]
  },
  {
   "cell_type": "code",
   "execution_count": 177,
   "metadata": {},
   "outputs": [
    {
     "name": "stdout",
     "output_type": "stream",
     "text": [
      "0 / 2201\n",
      "1000 / 2201\n",
      "2000 / 2201\n"
     ]
    }
   ],
   "source": [
    "df2 = pd.DataFrame(data=0,dtype='int8'\n",
    "                  ,index=np.linspace(0,len(y_test)-1,len(y_test),dtype=\"int32\")\n",
    "                  ,columns=['RealAge','PredictedAge'])\n",
    "\n",
    "for i in range(0,len(y_test)):\n",
    "    df2.at[i,\"RealAge\"] = int(y_test[i]*5+1)\n",
    "    if (i % 1000) == 0:\n",
    "        print(i,\"/\",len(y_test))"
   ]
  },
  {
   "cell_type": "code",
   "execution_count": 190,
   "metadata": {},
   "outputs": [
    {
     "name": "stdout",
     "output_type": "stream",
     "text": [
      "0 / 2201\n",
      "0 ......... 1.0315905e-08\n",
      "1 ......... 6.198664e-08\n",
      "2 ......... 1.3923578e-07\n",
      "3 ......... 5.8448213e-06\n",
      "4 ......... 1.3574798e-05\n",
      "5 ......... 0.00019273302\n",
      "6 ......... 0.0010451303\n",
      "7 ......... 0.0046578674\n",
      "8 ......... 0.014261597\n",
      "9 ......... 0.017364213\n",
      "10 ......... 0.026790652\n",
      "11 ......... 0.061822094\n",
      "12 ......... 0.09264663\n",
      "13 ......... 0.16444576\n",
      "14 ......... 0.22593424\n",
      "15 ......... 0.39081946\n",
      "0.9997876380803064\n",
      "0 ......... 8.73142e-09\n",
      "1 ......... 4.822008e-07\n",
      "2 ......... 4.179682e-06\n",
      "3 ......... 2.3553072e-05\n",
      "4 ......... 3.057648e-05\n",
      "5 ......... 0.00030873966\n",
      "6 ......... 0.0013321295\n",
      "7 ......... 0.0027948222\n",
      "8 ......... 0.0103027355\n",
      "9 ......... 0.010497482\n",
      "10 ......... 0.016529838\n",
      "11 ......... 0.072120994\n",
      "12 ......... 0.080159165\n",
      "13 ......... 0.15921661\n",
      "14 ......... 0.22193944\n",
      "15 ......... 0.4247392\n",
      "0.9996324345702305\n",
      "0 ......... 3.8933266e-14\n",
      "1 ......... 2.9224415e-11\n",
      "2 ......... 5.7424225e-09\n",
      "3 ......... 1.9585602e-08\n",
      "4 ......... 3.751307e-08\n",
      "5 ......... 1.039082e-06\n",
      "6 ......... 1.807006e-05\n",
      "7 ......... 0.00018099994\n",
      "8 ......... 0.00037095946\n",
      "9 ......... 0.0007517351\n",
      "10 ......... 0.0032743022\n",
      "11 ......... 0.029739257\n",
      "12 ......... 0.036288165\n",
      "13 ......... 0.1433139\n",
      "14 ......... 0.25397438\n",
      "15 ......... 0.53208715\n",
      "0.9999989132938936\n"
     ]
    }
   ],
   "source": [
    "for i in range(0,3):#len(y_test)):\n",
    "    a = []\n",
    "    a = np.expand_dims(X_test[i], axis=0)\n",
    "    y_pred = model.predict(a)\n",
    "    if (i % 100) == 0:\n",
    "        print(i,\"/\",len(y_test))\n",
    "    df2.at[i,\"PredictedAge\"] = int(weight_accuracy_v2(y_pred))"
   ]
  },
  {
   "cell_type": "code",
   "execution_count": 181,
   "metadata": {},
   "outputs": [],
   "source": [
    "df2['Difference'] = df2.RealAge - df2.PredictedAge"
   ]
  },
  {
   "cell_type": "code",
   "execution_count": 182,
   "metadata": {},
   "outputs": [
    {
     "data": {
      "text/plain": [
       "9.907314856883234"
      ]
     },
     "execution_count": 182,
     "metadata": {},
     "output_type": "execute_result"
    }
   ],
   "source": [
    "df2.Difference.mean()"
   ]
  },
  {
   "cell_type": "code",
   "execution_count": 183,
   "metadata": {},
   "outputs": [
    {
     "data": {
      "text/plain": [
       "19.004342712209038"
      ]
     },
     "execution_count": 183,
     "metadata": {},
     "output_type": "execute_result"
    }
   ],
   "source": [
    "df2.Difference.std()"
   ]
  },
  {
   "cell_type": "code",
   "execution_count": 189,
   "metadata": {},
   "outputs": [],
   "source": [
    "def weight_accuracy_v2(y_pred):\n",
    "    for i in np.sort(y_pred):\n",
    "        pred = 0\n",
    "        prop_sum = 0\n",
    "        for k,element in enumerate(i): #print(i)\n",
    "            print(k,\".........\",element)\n",
    "            if k > 5:\n",
    "                pred += convert_weight(k) * element\n",
    "                prop_sum += element\n",
    "    pred = pred / prop_sum\n",
    "    print(prop_sum)\n",
    "    return pred        "
   ]
  },
  {
   "cell_type": "code",
   "execution_count": 91,
   "metadata": {},
   "outputs": [],
   "source": [
    "def convert_weight(num):\n",
    "    return num*5+3"
   ]
  },
  {
   "cell_type": "code",
   "execution_count": 174,
   "metadata": {},
   "outputs": [
    {
     "data": {
      "text/html": [
       "<div>\n",
       "<style scoped>\n",
       "    .dataframe tbody tr th:only-of-type {\n",
       "        vertical-align: middle;\n",
       "    }\n",
       "\n",
       "    .dataframe tbody tr th {\n",
       "        vertical-align: top;\n",
       "    }\n",
       "\n",
       "    .dataframe thead th {\n",
       "        text-align: right;\n",
       "    }\n",
       "</style>\n",
       "<table border=\"1\" class=\"dataframe\">\n",
       "  <thead>\n",
       "    <tr style=\"text-align: right;\">\n",
       "      <th></th>\n",
       "      <th>RealAge</th>\n",
       "      <th>PredictedAge</th>\n",
       "      <th>Difference</th>\n",
       "    </tr>\n",
       "  </thead>\n",
       "  <tbody>\n",
       "    <tr>\n",
       "      <th>0</th>\n",
       "      <td>26</td>\n",
       "      <td>21</td>\n",
       "      <td>5</td>\n",
       "    </tr>\n",
       "    <tr>\n",
       "      <th>1</th>\n",
       "      <td>31</td>\n",
       "      <td>20</td>\n",
       "      <td>11</td>\n",
       "    </tr>\n",
       "    <tr>\n",
       "      <th>2</th>\n",
       "      <td>21</td>\n",
       "      <td>20</td>\n",
       "      <td>1</td>\n",
       "    </tr>\n",
       "    <tr>\n",
       "      <th>3</th>\n",
       "      <td>41</td>\n",
       "      <td>18</td>\n",
       "      <td>23</td>\n",
       "    </tr>\n",
       "    <tr>\n",
       "      <th>4</th>\n",
       "      <td>16</td>\n",
       "      <td>20</td>\n",
       "      <td>-4</td>\n",
       "    </tr>\n",
       "  </tbody>\n",
       "</table>\n",
       "</div>"
      ],
      "text/plain": [
       "   RealAge  PredictedAge  Difference\n",
       "0       26            21           5\n",
       "1       31            20          11\n",
       "2       21            20           1\n",
       "3       41            18          23\n",
       "4       16            20          -4"
      ]
     },
     "execution_count": 174,
     "metadata": {},
     "output_type": "execute_result"
    }
   ],
   "source": [
    "df2.head()"
   ]
  },
  {
   "cell_type": "code",
   "execution_count": null,
   "metadata": {},
   "outputs": [],
   "source": []
  }
 ],
 "metadata": {
  "colab": {
   "authorship_tag": "ABX9TyMLe+i7afyYSIXYc9yJXB0j",
   "collapsed_sections": [
    "begijz1M21BJ",
    "xh00esxnXkSo",
    "RZDhTeke26JQ",
    "-G_5SX6r3c4A",
    "XXsXpdUu37zh",
    "0eFYT5hM4H7m",
    "F0r7-GVP4QkV",
    "YxINAVPg6r2W",
    "cxX3oBgTNbsU",
    "0xNInasr48tm",
    "xae0idE85I4u",
    "DjAtY0_C5QQW",
    "o84pT_xg6kTq",
    "fBscILg3mWOE",
    "UAPVRUbl70s1"
   ],
   "name": "fruntxas_colab_exploration.ipynb",
   "provenance": [],
   "toc_visible": true
  },
  "hide_input": false,
  "kernelspec": {
   "display_name": "Python 3",
   "language": "python",
   "name": "python3"
  },
  "language_info": {
   "codemirror_mode": {
    "name": "ipython",
    "version": 3
   },
   "file_extension": ".py",
   "mimetype": "text/x-python",
   "name": "python",
   "nbconvert_exporter": "python",
   "pygments_lexer": "ipython3",
   "version": "3.8.6"
  },
  "toc": {
   "base_numbering": 1,
   "nav_menu": {},
   "number_sections": true,
   "sideBar": true,
   "skip_h1_title": false,
   "title_cell": "Table of Contents",
   "title_sidebar": "Contents",
   "toc_cell": false,
   "toc_position": {
    "height": "calc(100% - 180px)",
    "left": "10px",
    "top": "150px",
    "width": "384px"
   },
   "toc_section_display": true,
   "toc_window_display": true
  },
  "varInspector": {
   "cols": {
    "lenName": 16,
    "lenType": 16,
    "lenVar": 40
   },
   "kernels_config": {
    "python": {
     "delete_cmd_postfix": "",
     "delete_cmd_prefix": "del ",
     "library": "var_list.py",
     "varRefreshCmd": "print(var_dic_list())"
    },
    "r": {
     "delete_cmd_postfix": ") ",
     "delete_cmd_prefix": "rm(",
     "library": "var_list.r",
     "varRefreshCmd": "cat(var_dic_list()) "
    }
   },
   "position": {
    "height": "417.85px",
    "left": "1551px",
    "right": "20px",
    "top": "120px",
    "width": "360px"
   },
   "types_to_exclude": [
    "module",
    "function",
    "builtin_function_or_method",
    "instance",
    "_Feature"
   ],
   "window_display": true
  }
 },
 "nbformat": 4,
 "nbformat_minor": 1
}
