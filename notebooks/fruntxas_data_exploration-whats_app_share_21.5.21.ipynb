{
 "cells": [
  {
   "cell_type": "markdown",
   "id": "signed-notification",
   "metadata": {
    "heading_collapsed": true
   },
   "source": [
    "## Introduction"
   ]
  },
  {
   "cell_type": "markdown",
   "id": "neural-sauce",
   "metadata": {
    "hidden": true
   },
   "source": [
    "The labels of each face image is embedded in the file name\n",
    ", formated like [age]_[gender]_[race]_[date&time].jpg\n",
    "\n",
    " - **[age]** is an integer from **0 to 116**, indicating the age\n",
    " - **[gender]** is either **0 (male) or 1 (female)**\n",
    " - **[race]** is an integer from **0 to 4**, denoting _White, Black, Asian, Indian, and Others_ (like Hispanic, Latino, Middle Eastern).\n",
    " - **[date&time]** is in the format of **yyyymmddHHMMSSFFF**, showing the date and time an image was collected to UTKFace\n",
    "\n",
    "\n",
    "Images Shape:\n",
    " - **200 x 200 x 3**"
   ]
  },
  {
   "cell_type": "markdown",
   "id": "documentary-discovery",
   "metadata": {
    "heading_collapsed": true
   },
   "source": [
    "## IMPORTS"
   ]
  },
  {
   "cell_type": "code",
   "execution_count": 1,
   "id": "bored-tourist",
   "metadata": {
    "hidden": true
   },
   "outputs": [],
   "source": [
    "import os\n",
    "import cv2\n",
    "\n",
    "import numpy as np\n",
    "import pandas as pd\n",
    "import matplotlib.pyplot as plt\n",
    "import seaborn as sns\n",
    "\n",
    "import regex as re"
   ]
  },
  {
   "cell_type": "markdown",
   "id": "supreme-cleanup",
   "metadata": {},
   "source": [
    "## Analysis Functions"
   ]
  },
  {
   "cell_type": "code",
   "execution_count": 2,
   "id": "stable-auction",
   "metadata": {},
   "outputs": [],
   "source": [
    "def load_images_from_folder(folder_path):\n",
    "    filenames = [f for f in os.listdir(folder_path) if not f.startswith('.')]\n",
    "    filenames.sort(key=lambda f: int(re.sub('\\D', '', f)))\n",
    "    images = []\n",
    "    \n",
    "    for filename in filenames:\n",
    "        img_cv = cv2.imread(os.path.join(folder_path,filename))\n",
    "        if img_cv is not None:\n",
    "            img = cv2.cvtColor(img_cv, cv2.COLOR_BGR2RGB)\n",
    "            images.append(img)\n",
    "    return images"
   ]
  },
  {
   "cell_type": "code",
   "execution_count": 3,
   "id": "a76fa350",
   "metadata": {},
   "outputs": [],
   "source": [
    "def load_image_data_into_dataframe(folderpath):\n",
    "    filenames = [f for f in os.listdir(folder_path) if not f.startswith('.')]\n",
    "    filenames.sort(key=lambda f: int(re.sub('\\D', '', f)))\n",
    "    df = pd.DataFrame()\n",
    "    \n",
    "    for filename in filenames:\n",
    "        parsed_name = filename.split('_')\n",
    "        df= df.append({'age' : int(parsed_name[0]),\n",
    "                       'gender' : parsed_name[1],\n",
    "                       'race' : parsed_name[2]}, ignore_index=True)\n",
    "        \n",
    "    df['gender'] = df['gender'].map({'0': 'male', '1': 'female'})\n",
    "    df['race'] = df['race'].map({'0': 'White', '1': 'Black', '2': 'Asian', '3': 'Indian', '4': 'Others'})\n",
    "    \n",
    "    return df"
   ]
  },
  {
   "cell_type": "code",
   "execution_count": 4,
   "id": "67b05ba7",
   "metadata": {},
   "outputs": [],
   "source": [
    "def show_images(img_list,img_df):\n",
    "    n=int(len(img_list)/5) +1 \n",
    "    f = plt.figure(figsize=(25,n*5))\n",
    "    \n",
    "    for i,img in enumerate(img_list):\n",
    "        f.add_subplot(n, 5, i + 1)\n",
    "        plt.title(f'Age: {img_df.iloc[i][\"age\"]}; Race: {img_df.iloc[i][\"race\"]} Index: {i}',\n",
    "                  fontweight=\"bold\",fontsize=15)\n",
    "        plt.imshow(img)"
   ]
  },
  {
   "cell_type": "markdown",
   "id": "adeb3c94",
   "metadata": {},
   "source": [
    "## Dataset Analysis"
   ]
  },
  {
   "cell_type": "code",
   "execution_count": 39,
   "id": "certain-williams",
   "metadata": {},
   "outputs": [],
   "source": [
    "folder_path = \"/Users/Felix/Google Drive/Felix/code/AgeRecognition/raw_data/Faces\""
   ]
  },
  {
   "cell_type": "code",
   "execution_count": 40,
   "id": "attempted-aruba",
   "metadata": {},
   "outputs": [
    {
     "ename": "ValueError",
     "evalue": "invalid literal for int() with base 10: ''",
     "output_type": "error",
     "traceback": [
      "\u001b[0;31m---------------------------------------------------------------------------\u001b[0m",
      "\u001b[0;31mValueError\u001b[0m                                Traceback (most recent call last)",
      "\u001b[0;32m<ipython-input-40-21444516362a>\u001b[0m in \u001b[0;36m<module>\u001b[0;34m\u001b[0m\n\u001b[0;32m----> 1\u001b[0;31m \u001b[0mimages\u001b[0m\u001b[0;34m=\u001b[0m\u001b[0mload_images_from_folder\u001b[0m\u001b[0;34m(\u001b[0m\u001b[0mfolder_path\u001b[0m\u001b[0;34m)\u001b[0m\u001b[0;34m\u001b[0m\u001b[0;34m\u001b[0m\u001b[0m\n\u001b[0m\u001b[1;32m      2\u001b[0m \u001b[0mprint\u001b[0m\u001b[0;34m(\u001b[0m\u001b[0;34m\"Images Loaded\"\u001b[0m\u001b[0;34m)\u001b[0m\u001b[0;34m\u001b[0m\u001b[0;34m\u001b[0m\u001b[0m\n",
      "\u001b[0;32m<ipython-input-2-338e91503501>\u001b[0m in \u001b[0;36mload_images_from_folder\u001b[0;34m(folder_path)\u001b[0m\n\u001b[1;32m      1\u001b[0m \u001b[0;32mdef\u001b[0m \u001b[0mload_images_from_folder\u001b[0m\u001b[0;34m(\u001b[0m\u001b[0mfolder_path\u001b[0m\u001b[0;34m)\u001b[0m\u001b[0;34m:\u001b[0m\u001b[0;34m\u001b[0m\u001b[0;34m\u001b[0m\u001b[0m\n\u001b[1;32m      2\u001b[0m     \u001b[0mfilenames\u001b[0m \u001b[0;34m=\u001b[0m \u001b[0;34m[\u001b[0m\u001b[0mf\u001b[0m \u001b[0;32mfor\u001b[0m \u001b[0mf\u001b[0m \u001b[0;32min\u001b[0m \u001b[0mos\u001b[0m\u001b[0;34m.\u001b[0m\u001b[0mlistdir\u001b[0m\u001b[0;34m(\u001b[0m\u001b[0mfolder_path\u001b[0m\u001b[0;34m)\u001b[0m \u001b[0;32mif\u001b[0m \u001b[0;32mnot\u001b[0m \u001b[0mf\u001b[0m\u001b[0;34m.\u001b[0m\u001b[0mstartswith\u001b[0m\u001b[0;34m(\u001b[0m\u001b[0;34m'.'\u001b[0m\u001b[0;34m)\u001b[0m\u001b[0;34m]\u001b[0m\u001b[0;34m\u001b[0m\u001b[0;34m\u001b[0m\u001b[0m\n\u001b[0;32m----> 3\u001b[0;31m     \u001b[0mfilenames\u001b[0m\u001b[0;34m.\u001b[0m\u001b[0msort\u001b[0m\u001b[0;34m(\u001b[0m\u001b[0mkey\u001b[0m\u001b[0;34m=\u001b[0m\u001b[0;32mlambda\u001b[0m \u001b[0mf\u001b[0m\u001b[0;34m:\u001b[0m \u001b[0mint\u001b[0m\u001b[0;34m(\u001b[0m\u001b[0mre\u001b[0m\u001b[0;34m.\u001b[0m\u001b[0msub\u001b[0m\u001b[0;34m(\u001b[0m\u001b[0;34m'\\D'\u001b[0m\u001b[0;34m,\u001b[0m \u001b[0;34m''\u001b[0m\u001b[0;34m,\u001b[0m \u001b[0mf\u001b[0m\u001b[0;34m)\u001b[0m\u001b[0;34m)\u001b[0m\u001b[0;34m)\u001b[0m\u001b[0;34m\u001b[0m\u001b[0;34m\u001b[0m\u001b[0m\n\u001b[0m\u001b[1;32m      4\u001b[0m     \u001b[0mimages\u001b[0m \u001b[0;34m=\u001b[0m \u001b[0;34m[\u001b[0m\u001b[0;34m]\u001b[0m\u001b[0;34m\u001b[0m\u001b[0;34m\u001b[0m\u001b[0m\n\u001b[1;32m      5\u001b[0m \u001b[0;34m\u001b[0m\u001b[0m\n",
      "\u001b[0;32m<ipython-input-2-338e91503501>\u001b[0m in \u001b[0;36m<lambda>\u001b[0;34m(f)\u001b[0m\n\u001b[1;32m      1\u001b[0m \u001b[0;32mdef\u001b[0m \u001b[0mload_images_from_folder\u001b[0m\u001b[0;34m(\u001b[0m\u001b[0mfolder_path\u001b[0m\u001b[0;34m)\u001b[0m\u001b[0;34m:\u001b[0m\u001b[0;34m\u001b[0m\u001b[0;34m\u001b[0m\u001b[0m\n\u001b[1;32m      2\u001b[0m     \u001b[0mfilenames\u001b[0m \u001b[0;34m=\u001b[0m \u001b[0;34m[\u001b[0m\u001b[0mf\u001b[0m \u001b[0;32mfor\u001b[0m \u001b[0mf\u001b[0m \u001b[0;32min\u001b[0m \u001b[0mos\u001b[0m\u001b[0;34m.\u001b[0m\u001b[0mlistdir\u001b[0m\u001b[0;34m(\u001b[0m\u001b[0mfolder_path\u001b[0m\u001b[0;34m)\u001b[0m \u001b[0;32mif\u001b[0m \u001b[0;32mnot\u001b[0m \u001b[0mf\u001b[0m\u001b[0;34m.\u001b[0m\u001b[0mstartswith\u001b[0m\u001b[0;34m(\u001b[0m\u001b[0;34m'.'\u001b[0m\u001b[0;34m)\u001b[0m\u001b[0;34m]\u001b[0m\u001b[0;34m\u001b[0m\u001b[0;34m\u001b[0m\u001b[0m\n\u001b[0;32m----> 3\u001b[0;31m     \u001b[0mfilenames\u001b[0m\u001b[0;34m.\u001b[0m\u001b[0msort\u001b[0m\u001b[0;34m(\u001b[0m\u001b[0mkey\u001b[0m\u001b[0;34m=\u001b[0m\u001b[0;32mlambda\u001b[0m \u001b[0mf\u001b[0m\u001b[0;34m:\u001b[0m \u001b[0mint\u001b[0m\u001b[0;34m(\u001b[0m\u001b[0mre\u001b[0m\u001b[0;34m.\u001b[0m\u001b[0msub\u001b[0m\u001b[0;34m(\u001b[0m\u001b[0;34m'\\D'\u001b[0m\u001b[0;34m,\u001b[0m \u001b[0;34m''\u001b[0m\u001b[0;34m,\u001b[0m \u001b[0mf\u001b[0m\u001b[0;34m)\u001b[0m\u001b[0;34m)\u001b[0m\u001b[0;34m)\u001b[0m\u001b[0;34m\u001b[0m\u001b[0;34m\u001b[0m\u001b[0m\n\u001b[0m\u001b[1;32m      4\u001b[0m     \u001b[0mimages\u001b[0m \u001b[0;34m=\u001b[0m \u001b[0;34m[\u001b[0m\u001b[0;34m]\u001b[0m\u001b[0;34m\u001b[0m\u001b[0;34m\u001b[0m\u001b[0m\n\u001b[1;32m      5\u001b[0m \u001b[0;34m\u001b[0m\u001b[0m\n",
      "\u001b[0;31mValueError\u001b[0m: invalid literal for int() with base 10: ''"
     ]
    }
   ],
   "source": [
    "images=load_images_from_folder(folder_path)\n",
    "print(\"Images Loaded\")"
   ]
  },
  {
   "cell_type": "code",
   "execution_count": 25,
   "id": "a349ebeb",
   "metadata": {},
   "outputs": [
    {
     "name": "stdout",
     "output_type": "stream",
     "text": [
      "Dataframe Loaded\n"
     ]
    }
   ],
   "source": [
    "features = load_image_data_into_dataframe(folder_path)\n",
    "print(\"Dataframe Loaded\")"
   ]
  },
  {
   "cell_type": "code",
   "execution_count": 26,
   "id": "ff79604b",
   "metadata": {},
   "outputs": [
    {
     "name": "stdout",
     "output_type": "stream",
     "text": [
      "6\n",
      "6\n"
     ]
    }
   ],
   "source": [
    "print(len(images))\n",
    "print(len(features))"
   ]
  },
  {
   "cell_type": "markdown",
   "id": "7c4cd346",
   "metadata": {
    "heading_collapsed": true
   },
   "source": [
    "## Visualization"
   ]
  },
  {
   "cell_type": "code",
   "execution_count": 29,
   "id": "excited-rover",
   "metadata": {
    "hidden": true
   },
   "outputs": [
    {
     "data": {
      "image/png": "[encoded data removed]",
      "text/plain": [
       "<Figure size 1800x360 with 1 Axes>"
      ]
     },
     "metadata": {
      "needs_background": "light"
     },
     "output_type": "display_data"
    }
   ],
   "source": [
    "show_images(images[-2:-1],features.iloc[-2:-1])"
   ]
  },
  {
   "cell_type": "markdown",
   "id": "ad824c9b",
   "metadata": {
    "heading_collapsed": true,
    "hidden": true
   },
   "source": [
    "### Image Resizing"
   ]
  },
  {
   "cell_type": "code",
   "execution_count": null,
   "id": "694932fd",
   "metadata": {
    "hidden": true
   },
   "outputs": [],
   "source": [
    "import Image\n",
    "\n",
    "img = Image.open(\"face.jpg\")\n",
    "\n",
    "height = img.shape[0]\n",
    "width = img.shape[1]\n",
    "\n",
    "new_width  = 200\n",
    "new_height = 200\n",
    "img = img.resize((new_width, new_height), Image.ANTIALIAS)"
   ]
  },
  {
   "cell_type": "code",
   "execution_count": null,
   "id": "31b62f5d",
   "metadata": {
    "hidden": true
   },
   "outputs": [],
   "source": [
    "plt.imshow(img)"
   ]
  },
  {
   "cell_type": "markdown",
   "id": "satisfactory-neighbor",
   "metadata": {
    "heading_collapsed": true
   },
   "source": [
    "## Distribution"
   ]
  },
  {
   "cell_type": "code",
   "execution_count": null,
   "id": "a83ca154",
   "metadata": {
    "hidden": true
   },
   "outputs": [],
   "source": [
    "f = plt.figure(figsize=(25,15))\n",
    "#bins_value=[0,5,10,15,20,25,30,35,40,45,50,55,60,65,70,75,80,85,90,95,100,105,110,115,120]\n",
    "bins_value = list(range(0,85,5))\n",
    "\n",
    "# Age Histogram\n",
    "f.add_subplot(211)\n",
    "sns.histplot(data=img_df,x = 'age', bins=bins_value)\n",
    "plt.title('Age Distribution',fontweight=\"bold\",fontsize=30)\n",
    "plt.xlabel('Age',fontsize=20)\n",
    "plt.ylabel('Frequency',fontsize=20)\n",
    "plt.xticks(bins_value, rotation = 25)\n",
    "\n",
    "# Gender Histogram\n",
    "f.add_subplot(223)\n",
    "sns.histplot(img_df['gender'])\n",
    "plt.title('Gender Distribution',fontweight=\"bold\",fontsize=30)\n",
    "plt.xlabel('Gender',fontsize=20)\n",
    "plt.ylabel('Frequency',fontsize=20)\n",
    "\n",
    "# Race Histogram\n",
    "f.add_subplot(224)\n",
    "sns.histplot(img_df['race'])\n",
    "plt.title('Race Distribution',fontweight=\"bold\",fontsize=30)\n",
    "plt.xlabel('Race',fontsize=20)\n",
    "plt.ylabel('Frequency',fontsize=20)\n",
    "plt.xticks()\n",
    "\n",
    "plt.show()"
   ]
  },
  {
   "cell_type": "markdown",
   "id": "05d71497",
   "metadata": {
    "heading_collapsed": true
   },
   "source": [
    "## Image Preprocessing"
   ]
  },
  {
   "cell_type": "code",
   "execution_count": null,
   "id": "a8da5824",
   "metadata": {
    "hidden": true
   },
   "outputs": [],
   "source": [
    "from PIL import Image\n",
    "from autocrop import Cropper"
   ]
  },
  {
   "cell_type": "code",
   "execution_count": null,
   "id": "5c2376ee",
   "metadata": {
    "hidden": true
   },
   "outputs": [],
   "source": [
    "img = Image.open('_felix.png')\n",
    "a = np.asarray(img)\n",
    "a = cv2.cvtColor(a, cv2.COLOR_BGR2RGB)\n",
    "\n",
    "cropper = Cropper(width=200,height=200)\n",
    "cropped_array = cropper.crop(a)"
   ]
  },
  {
   "cell_type": "code",
   "execution_count": null,
   "id": "3585769f",
   "metadata": {
    "hidden": true
   },
   "outputs": [],
   "source": [
    "cropped_image = Image.fromarray(cropped_array)\n",
    "cropped_image.save('cropped.png')"
   ]
  },
  {
   "cell_type": "code",
   "execution_count": null,
   "id": "aaed894a",
   "metadata": {
    "hidden": true
   },
   "outputs": [],
   "source": [
    "fig, (ax1,ax2) = plt.subplots(1,2)\n",
    "\n",
    "ax1.imshow(im)\n",
    "ax2.imshow(cropped_image)"
   ]
  },
  {
   "cell_type": "markdown",
   "id": "66272f38",
   "metadata": {},
   "source": [
    "## Variable Setup"
   ]
  },
  {
   "cell_type": "markdown",
   "id": "8709ace4",
   "metadata": {},
   "source": [
    "1. Flatten the images **(200,200,3)**\n",
    "2. Add the target\n",
    "3. After action 1, a split is performed on each age (randomly). **90/10** per age.\n",
    "4. The target for the **1st Model is Age.**\n",
    "5. Age is to be binned on **5y intervals** ([1,5],[6,10],[11,15],...,...,[76,80])\n",
    "6. To check: Verify if **(Age, Sex and Race)** can also be used as inputs"
   ]
  },
  {
   "cell_type": "markdown",
   "id": "4562206a",
   "metadata": {},
   "source": [
    "### 1. Flatenning"
   ]
  },
  {
   "cell_type": "code",
   "execution_count": 30,
   "id": "414032e2",
   "metadata": {},
   "outputs": [
    {
     "name": "stdout",
     "output_type": "stream",
     "text": [
      "6\n"
     ]
    }
   ],
   "source": [
    "print(len(images))\n",
    "img_array = np.array(images)"
   ]
  },
  {
   "cell_type": "code",
   "execution_count": 32,
   "id": "e1395742",
   "metadata": {},
   "outputs": [
    {
     "data": {
      "text/plain": [
       "(6, 200, 200, 3)"
      ]
     },
     "execution_count": 32,
     "metadata": {},
     "output_type": "execute_result"
    }
   ],
   "source": [
    "img_array.shape"
   ]
  },
  {
   "cell_type": "code",
   "execution_count": 34,
   "id": "c83cad49",
   "metadata": {},
   "outputs": [
    {
     "data": {
      "text/plain": [
       "(6, 120000)"
      ]
     },
     "execution_count": 34,
     "metadata": {},
     "output_type": "execute_result"
    }
   ],
   "source": [
    "img_array.flatten().reshape(6, 120000).shape"
   ]
  },
  {
   "cell_type": "code",
   "execution_count": 36,
   "id": "8c648b97",
   "metadata": {},
   "outputs": [],
   "source": [
    "images_input = img_array.flatten().reshape(6, 120000)"
   ]
  },
  {
   "cell_type": "markdown",
   "id": "4a433baa",
   "metadata": {},
   "source": [
    "### 2. Appending Target"
   ]
  },
  {
   "cell_type": "code",
   "execution_count": 38,
   "id": "25b3724e",
   "metadata": {
    "scrolled": true
   },
   "outputs": [
    {
     "name": "stdout",
     "output_type": "stream",
     "text": [
      "(120001,)\n"
     ]
    },
    {
     "data": {
      "text/plain": [
       "array([147., 118.,  78., ...,   0.,   0.,   1.])"
      ]
     },
     "execution_count": 38,
     "metadata": {},
     "output_type": "execute_result"
    }
   ],
   "source": [
    "print(np.hstack((images_input[0],np.array(features['age'])[0])).shape)\n",
    "np.hstack((images_input[0],np.array(features['age'])[0]))"
   ]
  },
  {
   "cell_type": "code",
   "execution_count": 50,
   "id": "0479b63b",
   "metadata": {},
   "outputs": [],
   "source": [
    "#test = images_input.copy()"
   ]
  },
  {
   "cell_type": "code",
   "execution_count": 57,
   "id": "f56fa30f",
   "metadata": {},
   "outputs": [
    {
     "data": {
      "text/plain": [
       "array([147, 118,  78, ...,   0,   0,   0], dtype=uint8)"
      ]
     },
     "execution_count": 57,
     "metadata": {},
     "output_type": "execute_result"
    }
   ],
   "source": [
    "#test[0]"
   ]
  },
  {
   "cell_type": "code",
   "execution_count": 56,
   "id": "b73edf00",
   "metadata": {},
   "outputs": [
    {
     "data": {
      "text/plain": [
       "array([1.])"
      ]
     },
     "execution_count": 56,
     "metadata": {},
     "output_type": "execute_result"
    }
   ],
   "source": [
    "np.array([features['age'][0]])"
   ]
  },
  {
   "cell_type": "code",
   "execution_count": 68,
   "id": "dfcd7108",
   "metadata": {},
   "outputs": [
    {
     "data": {
      "text/plain": [
       "numpy.ndarray"
      ]
     },
     "execution_count": 68,
     "metadata": {},
     "output_type": "execute_result"
    }
   ],
   "source": [
    "#tt = np.append(test[0] ,np.array([features['age'][0]]))\n",
    "#tt\n",
    "\n",
    "#x = np.array([])\n",
    "#type(x)\n"
   ]
  },
  {
   "cell_type": "code",
   "execution_count": 73,
   "id": "d9dc5812",
   "metadata": {},
   "outputs": [
    {
     "ename": "MemoryError",
     "evalue": "Unable to allocate 9.84 GiB for an array with shape (22006, 120000) and data type int32",
     "output_type": "error",
     "traceback": [
      "\u001b[0;31m---------------------------------------------------------------------------\u001b[0m",
      "\u001b[0;31mMemoryError\u001b[0m                               Traceback (most recent call last)",
      "\u001b[0;32m<ipython-input-73-d2d2f52eae4b>\u001b[0m in \u001b[0;36m<module>\u001b[0;34m\u001b[0m\n\u001b[0;32m----> 1\u001b[0;31m \u001b[0mx\u001b[0m \u001b[0;34m=\u001b[0m \u001b[0mnp\u001b[0m\u001b[0;34m.\u001b[0m\u001b[0mempty\u001b[0m\u001b[0;34m(\u001b[0m\u001b[0;34m[\u001b[0m\u001b[0;36m22006\u001b[0m\u001b[0;34m,\u001b[0m \u001b[0;36m120000\u001b[0m\u001b[0;34m]\u001b[0m\u001b[0;34m,\u001b[0m\u001b[0mdtype\u001b[0m \u001b[0;34m=\u001b[0m \u001b[0;34m\"int32\"\u001b[0m\u001b[0;34m)\u001b[0m\u001b[0;34m\u001b[0m\u001b[0;34m\u001b[0m\u001b[0m\n\u001b[0m\u001b[1;32m      2\u001b[0m \u001b[0;32mfor\u001b[0m \u001b[0mi\u001b[0m \u001b[0;32min\u001b[0m \u001b[0mrange\u001b[0m\u001b[0;34m(\u001b[0m\u001b[0;36m0\u001b[0m\u001b[0;34m,\u001b[0m\u001b[0;36m2\u001b[0m\u001b[0;34m)\u001b[0m\u001b[0;34m:\u001b[0m\u001b[0;34m\u001b[0m\u001b[0;34m\u001b[0m\u001b[0m\n\u001b[1;32m      3\u001b[0m     \u001b[0mx\u001b[0m\u001b[0;34m[\u001b[0m\u001b[0mi\u001b[0m\u001b[0;34m]\u001b[0m \u001b[0;34m=\u001b[0m \u001b[0mnp\u001b[0m\u001b[0;34m.\u001b[0m\u001b[0mappend\u001b[0m\u001b[0;34m(\u001b[0m\u001b[0mtest\u001b[0m\u001b[0;34m[\u001b[0m\u001b[0mi\u001b[0m\u001b[0;34m]\u001b[0m \u001b[0;34m,\u001b[0m\u001b[0mnp\u001b[0m\u001b[0;34m.\u001b[0m\u001b[0marray\u001b[0m\u001b[0;34m(\u001b[0m\u001b[0;34m[\u001b[0m\u001b[0mfeatures\u001b[0m\u001b[0;34m[\u001b[0m\u001b[0;34m'age'\u001b[0m\u001b[0;34m]\u001b[0m\u001b[0;34m[\u001b[0m\u001b[0mi\u001b[0m\u001b[0;34m]\u001b[0m\u001b[0;34m]\u001b[0m\u001b[0;34m)\u001b[0m\u001b[0;34m)\u001b[0m\u001b[0;34m\u001b[0m\u001b[0;34m\u001b[0m\u001b[0m\n\u001b[1;32m      4\u001b[0m     \u001b[0;31m#print(test[-1])\u001b[0m\u001b[0;34m\u001b[0m\u001b[0;34m\u001b[0m\u001b[0;34m\u001b[0m\u001b[0m\n",
      "\u001b[0;31mMemoryError\u001b[0m: Unable to allocate 9.84 GiB for an array with shape (22006, 120000) and data type int32"
     ]
    }
   ],
   "source": [
    "x = np.empty([22006, 120000],dtype = \"int32\")\n",
    "for i in range(0,2):\n",
    "    x[i] = np.append(test[i] ,np.array([features['age'][i]]))\n",
    "    #print(test[-1])"
   ]
  },
  {
   "cell_type": "code",
   "execution_count": null,
   "id": "5a491562",
   "metadata": {},
   "outputs": [],
   "source": []
  }
 ],
 "metadata": {
  "hide_input": false,
  "kernelspec": {
   "display_name": "Python 3",
   "language": "python",
   "name": "python3"
  },
  "language_info": {
   "codemirror_mode": {
    "name": "ipython",
    "version": 3
   },
   "file_extension": ".py",
   "mimetype": "text/x-python",
   "name": "python",
   "nbconvert_exporter": "python",
   "pygments_lexer": "ipython3",
   "version": "3.8.6"
  },
  "toc": {
   "base_numbering": 1,
   "nav_menu": {},
   "number_sections": false,
   "sideBar": true,
   "skip_h1_title": false,
   "title_cell": "Table of Contents",
   "title_sidebar": "Contents",
   "toc_cell": false,
   "toc_position": {
    "height": "calc(100% - 180px)",
    "left": "10px",
    "top": "150px",
    "width": "198px"
   },
   "toc_section_display": true,
   "toc_window_display": true
  },
  "varInspector": {
   "cols": {
    "lenName": 16,
    "lenType": 16,
    "lenVar": 40
   },
   "kernels_config": {
    "python": {
     "delete_cmd_postfix": "",
     "delete_cmd_prefix": "del ",
     "library": "var_list.py",
     "varRefreshCmd": "print(var_dic_list())"
    },
    "r": {
     "delete_cmd_postfix": ") ",
     "delete_cmd_prefix": "rm(",
     "library": "var_list.r",
     "varRefreshCmd": "cat(var_dic_list()) "
    }
   },
   "position": {
    "height": "399.85px",
    "left": "1524px",
    "right": "20px",
    "top": "114px",
    "width": "358px"
   },
   "types_to_exclude": [
    "module",
    "function",
    "builtin_function_or_method",
    "instance",
    "_Feature"
   ],
   "window_display": true
  }
 },
 "nbformat": 4,
 "nbformat_minor": 5
}
