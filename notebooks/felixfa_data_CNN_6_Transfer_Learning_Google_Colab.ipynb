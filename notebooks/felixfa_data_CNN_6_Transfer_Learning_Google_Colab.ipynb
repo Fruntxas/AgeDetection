{
 "cells": [
  {
   "cell_type": "markdown",
   "id": "cdee948d",
   "metadata": {
    "id": "cdee948d"
   },
   "source": [
    "# Preparing"
   ]
  },
  {
   "cell_type": "markdown",
   "id": "casual-spectrum",
   "metadata": {
    "id": "casual-spectrum"
   },
   "source": [
    "## Imports and Functions"
   ]
  },
  {
   "cell_type": "code",
   "execution_count": 1,
   "id": "ancient-workstation",
   "metadata": {
    "id": "ancient-workstation"
   },
   "outputs": [],
   "source": [
    "import os\n",
    "import random\n",
    "import numpy as np\n",
    "import cv2\n",
    "import matplotlib.pyplot as plt\n",
    "import pandas as pd\n",
    "import seaborn as sns\n",
    "import regex as re\n",
    "from sklearn.model_selection import train_test_split\n",
    "from tensorflow.keras.utils import to_categorical\n",
    "from tensorflow.keras import layers, models, Sequential, layers, optimizers\n",
    "from tensorflow.keras.layers import Conv2D, MaxPooling2D, Activation, Dropout, Flatten, Dense, Dropout, LayerNormalization\n",
    "from tensorflow.keras.callbacks import EarlyStopping"
   ]
  },
  {
   "cell_type": "markdown",
   "id": "BuVviEFABSqd",
   "metadata": {
    "id": "BuVviEFABSqd"
   },
   "source": [
    "### Google Import"
   ]
  },
  {
   "cell_type": "code",
   "execution_count": 2,
   "id": "qfERpT48BQry",
   "metadata": {
    "colab": {
     "base_uri": "https://localhost:8080/"
    },
    "id": "qfERpT48BQry",
    "outputId": "727b0dd4-7fe3-4f6a-da67-aa5a4cdfd3f4"
   },
   "outputs": [
    {
     "name": "stdout",
     "output_type": "stream",
     "text": [
      "Drive already mounted at /content/drive; to attempt to forcibly remount, call drive.mount(\"/content/drive\", force_remount=True).\n"
     ]
    }
   ],
   "source": [
    "from google.colab import drive\n",
    "drive.mount('/content/drive')"
   ]
  },
  {
   "cell_type": "markdown",
   "id": "Gs1rLmZmFctU",
   "metadata": {
    "id": "Gs1rLmZmFctU"
   },
   "source": []
  },
  {
   "cell_type": "code",
   "execution_count": 3,
   "id": "rsh2e4EtBR-p",
   "metadata": {
    "id": "rsh2e4EtBR-p"
   },
   "outputs": [],
   "source": [
    "!unzip -uq \"/content/drive/My Drive/Felix/code/AgeRecognition/raw_data/UTKFace.zip\" -d \"/content/\"\n",
    "#folder_path = '/content/drive/My Drive/Felix/code/AgeRecognition/raw_data/Faces'\n",
    "folder_path = '/content/Faces'"
   ]
  },
  {
   "cell_type": "code",
   "execution_count": 5,
   "id": "invisible-cholesterol",
   "metadata": {
    "id": "invisible-cholesterol"
   },
   "outputs": [],
   "source": [
    "def load_images_from_folder(folder_path,percent=100,gender=None):\n",
    "    filenames = [f for f in os.listdir(folder_path) if not f.startswith('.')]\n",
    "    filenames.sort(key=lambda f: int(re.sub('\\D', '', f)))\n",
    "    images = []\n",
    "    for filename in filenames:\n",
    "        parsed_name = filename.split('_')\n",
    "        if gender == None or parsed_name[1] == gender:\n",
    "            img = cv2.imread(os.path.join(folder_path,filename),cv2.IMREAD_UNCHANGED)\n",
    "\n",
    "            scale_percent = percent # percent of original size\n",
    "            width = int(img.shape[1] * scale_percent / 100)\n",
    "            height = int(img.shape[0] * scale_percent / 100)\n",
    "            dim = (width, height)\n",
    "\n",
    "            # resize image\n",
    "            resized = cv2.resize(img, dim, interpolation = cv2.INTER_AREA)\n",
    "            #cv2.imshow(\"Resized image\", resized)\n",
    "            if img is not None:\n",
    "                img_colors = cv2.cvtColor(resized, cv2.COLOR_BGR2RGB)\n",
    "                images.append(img_colors)\n",
    "    return images\n",
    "\n",
    "def load_image_data_into_dataframe(folderpath, gender = None):\n",
    "\n",
    "    filenames = [f for f in os.listdir(folder_path) if not f.startswith('.')]\n",
    "    filenames.sort(key=lambda f: int(re.sub('\\D', '', f)))\n",
    "    df = pd.DataFrame()\n",
    "    for filename in filenames:\n",
    "        parsed_name = filename.split('_')\n",
    "        #print(parsed_name[1])\n",
    "        if gender == None or parsed_name[1] == gender:\n",
    "            df= df.append({'age' : int(parsed_name[0]),\n",
    "                           'gender' : parsed_name[1],\n",
    "                           'race' : parsed_name[2]}, ignore_index=True)\n",
    "    df['gender'] = df['gender'].map({'0': 'male', '1': 'female'})\n",
    "    df['race'] = df['race'].map({'0': 'White', '1': 'Black', '2': 'Asian', '3': 'Indian', '4': 'Others'})\n",
    "    return df\n",
    "\n",
    "def show_all_images_from_list(img_list,img_df):\n",
    "    n=int(len(img_list)/5) +1 \n",
    "    f = plt.figure(figsize=(25,n*5))\n",
    "    for i,img in enumerate(img_list):\n",
    "        f.add_subplot(n, 5, i + 1)\n",
    "        plt.title(f'{img_df.iloc[i]}',\n",
    "                  fontweight=\"bold\",\n",
    "                  fontsize=15)\n",
    "        plt.imshow(img)\n",
    "        f.tight_layout()"
   ]
  },
  {
   "cell_type": "code",
   "execution_count": 6,
   "id": "attempted-aruba",
   "metadata": {
    "id": "attempted-aruba",
    "scrolled": false
   },
   "outputs": [],
   "source": [
    "img_pic=load_images_from_folder(folder_path)"
   ]
  },
  {
   "cell_type": "code",
   "execution_count": 7,
   "id": "herbal-twist",
   "metadata": {
    "id": "herbal-twist",
    "scrolled": false
   },
   "outputs": [],
   "source": [
    "img_df = load_image_data_into_dataframe(folder_path)"
   ]
  },
  {
   "cell_type": "markdown",
   "id": "f18f2eb9",
   "metadata": {
    "id": "f18f2eb9"
   },
   "source": [
    "## Targets into Age Bins of 5 (Baseline: 6%)"
   ]
  },
  {
   "cell_type": "code",
   "execution_count": 8,
   "id": "35be04e9",
   "metadata": {
    "colab": {
     "base_uri": "https://localhost:8080/"
    },
    "id": "35be04e9",
    "outputId": "604efeb6-b028-4394-89d5-b5a8eaf000bf"
   },
   "outputs": [
    {
     "data": {
      "text/plain": [
       "[0, 5, 10, 15, 20, 25, 30, 35, 40, 45, 50, 55, 60, 65, 70, 75, 80]"
      ]
     },
     "execution_count": 8,
     "metadata": {
      "tags": []
     },
     "output_type": "execute_result"
    }
   ],
   "source": [
    "bins= [5*i for i in range(17)]\n",
    "bins"
   ]
  },
  {
   "cell_type": "code",
   "execution_count": 9,
   "id": "ec4cc6b2",
   "metadata": {
    "id": "ec4cc6b2",
    "scrolled": true
   },
   "outputs": [],
   "source": [
    "labels = [0,1,2,3,4,5,6,7,8,9,10,11,12,13,14,15]\n",
    "img_df['age_group'] = pd.cut(img_df['age'], bins=bins, labels=labels)"
   ]
  },
  {
   "cell_type": "code",
   "execution_count": 10,
   "id": "e2fc51d7",
   "metadata": {
    "colab": {
     "base_uri": "https://localhost:8080/",
     "height": 406
    },
    "id": "e2fc51d7",
    "outputId": "6f9428fc-5eaf-4145-e63b-cb4628d65223"
   },
   "outputs": [
    {
     "data": {
      "text/html": [
       "<div>\n",
       "<style scoped>\n",
       "    .dataframe tbody tr th:only-of-type {\n",
       "        vertical-align: middle;\n",
       "    }\n",
       "\n",
       "    .dataframe tbody tr th {\n",
       "        vertical-align: top;\n",
       "    }\n",
       "\n",
       "    .dataframe thead th {\n",
       "        text-align: right;\n",
       "    }\n",
       "</style>\n",
       "<table border=\"1\" class=\"dataframe\">\n",
       "  <thead>\n",
       "    <tr style=\"text-align: right;\">\n",
       "      <th></th>\n",
       "      <th>age</th>\n",
       "      <th>gender</th>\n",
       "      <th>race</th>\n",
       "      <th>age_group</th>\n",
       "    </tr>\n",
       "  </thead>\n",
       "  <tbody>\n",
       "    <tr>\n",
       "      <th>0</th>\n",
       "      <td>1.0</td>\n",
       "      <td>male</td>\n",
       "      <td>White</td>\n",
       "      <td>0</td>\n",
       "    </tr>\n",
       "    <tr>\n",
       "      <th>1</th>\n",
       "      <td>1.0</td>\n",
       "      <td>male</td>\n",
       "      <td>White</td>\n",
       "      <td>0</td>\n",
       "    </tr>\n",
       "    <tr>\n",
       "      <th>2</th>\n",
       "      <td>1.0</td>\n",
       "      <td>male</td>\n",
       "      <td>White</td>\n",
       "      <td>0</td>\n",
       "    </tr>\n",
       "    <tr>\n",
       "      <th>3</th>\n",
       "      <td>1.0</td>\n",
       "      <td>male</td>\n",
       "      <td>White</td>\n",
       "      <td>0</td>\n",
       "    </tr>\n",
       "    <tr>\n",
       "      <th>4</th>\n",
       "      <td>1.0</td>\n",
       "      <td>male</td>\n",
       "      <td>White</td>\n",
       "      <td>0</td>\n",
       "    </tr>\n",
       "    <tr>\n",
       "      <th>...</th>\n",
       "      <td>...</td>\n",
       "      <td>...</td>\n",
       "      <td>...</td>\n",
       "      <td>...</td>\n",
       "    </tr>\n",
       "    <tr>\n",
       "      <th>22000</th>\n",
       "      <td>80.0</td>\n",
       "      <td>female</td>\n",
       "      <td>Black</td>\n",
       "      <td>15</td>\n",
       "    </tr>\n",
       "    <tr>\n",
       "      <th>22001</th>\n",
       "      <td>80.0</td>\n",
       "      <td>female</td>\n",
       "      <td>Asian</td>\n",
       "      <td>15</td>\n",
       "    </tr>\n",
       "    <tr>\n",
       "      <th>22002</th>\n",
       "      <td>80.0</td>\n",
       "      <td>female</td>\n",
       "      <td>Asian</td>\n",
       "      <td>15</td>\n",
       "    </tr>\n",
       "    <tr>\n",
       "      <th>22003</th>\n",
       "      <td>80.0</td>\n",
       "      <td>female</td>\n",
       "      <td>Indian</td>\n",
       "      <td>15</td>\n",
       "    </tr>\n",
       "    <tr>\n",
       "      <th>22004</th>\n",
       "      <td>80.0</td>\n",
       "      <td>female</td>\n",
       "      <td>Others</td>\n",
       "      <td>15</td>\n",
       "    </tr>\n",
       "  </tbody>\n",
       "</table>\n",
       "<p>22005 rows × 4 columns</p>\n",
       "</div>"
      ],
      "text/plain": [
       "        age  gender    race age_group\n",
       "0       1.0    male   White         0\n",
       "1       1.0    male   White         0\n",
       "2       1.0    male   White         0\n",
       "3       1.0    male   White         0\n",
       "4       1.0    male   White         0\n",
       "...     ...     ...     ...       ...\n",
       "22000  80.0  female   Black        15\n",
       "22001  80.0  female   Asian        15\n",
       "22002  80.0  female   Asian        15\n",
       "22003  80.0  female  Indian        15\n",
       "22004  80.0  female  Others        15\n",
       "\n",
       "[22005 rows x 4 columns]"
      ]
     },
     "execution_count": 10,
     "metadata": {
      "tags": []
     },
     "output_type": "execute_result"
    }
   ],
   "source": [
    "img_df"
   ]
  },
  {
   "cell_type": "code",
   "execution_count": 11,
   "id": "c25a740b",
   "metadata": {
    "colab": {
     "base_uri": "https://localhost:8080/"
    },
    "id": "c25a740b",
    "outputId": "945294bc-534c-4f27-e23e-93ab7a264aa7"
   },
   "outputs": [
    {
     "data": {
      "text/plain": [
       "15     301\n",
       "14     359\n",
       "13     463\n",
       "2      583\n",
       "12     674\n",
       "1      816\n",
       "11     944\n",
       "9      971\n",
       "3      971\n",
       "8     1062\n",
       "10    1176\n",
       "7     1825\n",
       "0     2308\n",
       "6     2341\n",
       "4     2545\n",
       "5     4666\n",
       "Name: age_group, dtype: int64"
      ]
     },
     "execution_count": 11,
     "metadata": {
      "tags": []
     },
     "output_type": "execute_result"
    }
   ],
   "source": [
    "img_df['age_group'].value_counts().sort_values()"
   ]
  },
  {
   "cell_type": "markdown",
   "id": "c496b694",
   "metadata": {
    "id": "c496b694"
   },
   "source": [
    "## CNN Preperations Image Size: 100*100"
   ]
  },
  {
   "cell_type": "code",
   "execution_count": 12,
   "id": "7049b6df",
   "metadata": {
    "id": "7049b6df"
   },
   "outputs": [],
   "source": [
    "img_pic=load_images_from_folder(folder_path,50)"
   ]
  },
  {
   "cell_type": "code",
   "execution_count": 13,
   "id": "27f760cf",
   "metadata": {
    "colab": {
     "base_uri": "https://localhost:8080/"
    },
    "id": "27f760cf",
    "outputId": "9fde5059-dcd9-4660-8841-204f07de9e82"
   },
   "outputs": [
    {
     "data": {
      "text/plain": [
       "(19804, 100, 100, 3)"
      ]
     },
     "execution_count": 13,
     "metadata": {
      "tags": []
     },
     "output_type": "execute_result"
    }
   ],
   "source": [
    "X = img_pic\n",
    "y = img_df['age_group']\n",
    "X_train, X_test, y_train, y_test = train_test_split(X, y, test_size=0.1, random_state=42)\n",
    "\n",
    "X_train = np.array(X_train)\n",
    "X_test =np.array(X_test)\n",
    "y_train = np.array(y_train)\n",
    "y_test =np.array(y_test)\n",
    "X_train.shape"
   ]
  },
  {
   "cell_type": "code",
   "execution_count": 14,
   "id": "77af4afd",
   "metadata": {
    "id": "77af4afd"
   },
   "outputs": [],
   "source": [
    "X_train = X_train/255 - 0.5\n",
    "X_test = X_test/255 - 0.5\n",
    "y_train_cat = to_categorical(y_train)\n",
    "y_test_cat = to_categorical(y_test)"
   ]
  },
  {
   "cell_type": "code",
   "execution_count": 15,
   "id": "888f677d",
   "metadata": {
    "colab": {
     "base_uri": "https://localhost:8080/"
    },
    "id": "888f677d",
    "outputId": "45e32f85-fa0b-45e9-9851-baec2a13f41e"
   },
   "outputs": [
    {
     "name": "stdout",
     "output_type": "stream",
     "text": [
      "(19804, 100, 100, 3)\n",
      "(2201, 100, 100, 3)\n"
     ]
    }
   ],
   "source": [
    "print(X_train.shape)\n",
    "print(X_test.shape)"
   ]
  },
  {
   "cell_type": "markdown",
   "id": "fb5a7e0b",
   "metadata": {
    "id": "fb5a7e0b"
   },
   "source": [
    "# CNN Transfer Learning"
   ]
  },
  {
   "cell_type": "code",
   "execution_count": 16,
   "id": "54899261",
   "metadata": {
    "colab": {
     "base_uri": "https://localhost:8080/"
    },
    "id": "54899261",
    "outputId": "72932457-1ed5-4439-b2ef-5ace56a118bc"
   },
   "outputs": [
    {
     "name": "stdout",
     "output_type": "stream",
     "text": [
      "Model: \"vgg16\"\n",
      "_________________________________________________________________\n",
      "Layer (type)                 Output Shape              Param #   \n",
      "=================================================================\n",
      "input_1 (InputLayer)         [(None, 100, 100, 3)]     0         \n",
      "_________________________________________________________________\n",
      "block1_conv1 (Conv2D)        (None, 100, 100, 64)      1792      \n",
      "_________________________________________________________________\n",
      "block1_conv2 (Conv2D)        (None, 100, 100, 64)      36928     \n",
      "_________________________________________________________________\n",
      "block1_pool (MaxPooling2D)   (None, 50, 50, 64)        0         \n",
      "_________________________________________________________________\n",
      "block2_conv1 (Conv2D)        (None, 50, 50, 128)       73856     \n",
      "_________________________________________________________________\n",
      "block2_conv2 (Conv2D)        (None, 50, 50, 128)       147584    \n",
      "_________________________________________________________________\n",
      "block2_pool (MaxPooling2D)   (None, 25, 25, 128)       0         \n",
      "_________________________________________________________________\n",
      "block3_conv1 (Conv2D)        (None, 25, 25, 256)       295168    \n",
      "_________________________________________________________________\n",
      "block3_conv2 (Conv2D)        (None, 25, 25, 256)       590080    \n",
      "_________________________________________________________________\n",
      "block3_conv3 (Conv2D)        (None, 25, 25, 256)       590080    \n",
      "_________________________________________________________________\n",
      "block3_pool (MaxPooling2D)   (None, 12, 12, 256)       0         \n",
      "_________________________________________________________________\n",
      "block4_conv1 (Conv2D)        (None, 12, 12, 512)       1180160   \n",
      "_________________________________________________________________\n",
      "block4_conv2 (Conv2D)        (None, 12, 12, 512)       2359808   \n",
      "_________________________________________________________________\n",
      "block4_conv3 (Conv2D)        (None, 12, 12, 512)       2359808   \n",
      "_________________________________________________________________\n",
      "block4_pool (MaxPooling2D)   (None, 6, 6, 512)         0         \n",
      "_________________________________________________________________\n",
      "block5_conv1 (Conv2D)        (None, 6, 6, 512)         2359808   \n",
      "_________________________________________________________________\n",
      "block5_conv2 (Conv2D)        (None, 6, 6, 512)         2359808   \n",
      "_________________________________________________________________\n",
      "block5_conv3 (Conv2D)        (None, 6, 6, 512)         2359808   \n",
      "_________________________________________________________________\n",
      "block5_pool (MaxPooling2D)   (None, 3, 3, 512)         0         \n",
      "=================================================================\n",
      "Total params: 14,714,688\n",
      "Trainable params: 14,714,688\n",
      "Non-trainable params: 0\n",
      "_________________________________________________________________\n"
     ]
    }
   ],
   "source": [
    "from tensorflow.keras.applications.vgg16 import VGG16\n",
    "\n",
    "def load_model():\n",
    "    model = VGG16(include_top=False, \n",
    "                  weights='imagenet', \n",
    "                  input_shape=X_train[0].shape\n",
    ")\n",
    "    return model\n",
    "\n",
    "model = load_model()\n",
    "\n",
    "model.summary()"
   ]
  },
  {
   "cell_type": "code",
   "execution_count": 17,
   "id": "40e1aad9",
   "metadata": {
    "colab": {
     "base_uri": "https://localhost:8080/"
    },
    "id": "40e1aad9",
    "outputId": "107fa3dc-86c3-4d39-e892-9d764cd32a13"
   },
   "outputs": [
    {
     "name": "stdout",
     "output_type": "stream",
     "text": [
      "Model: \"vgg16\"\n",
      "_________________________________________________________________\n",
      "Layer (type)                 Output Shape              Param #   \n",
      "=================================================================\n",
      "input_1 (InputLayer)         [(None, 100, 100, 3)]     0         \n",
      "_________________________________________________________________\n",
      "block1_conv1 (Conv2D)        (None, 100, 100, 64)      1792      \n",
      "_________________________________________________________________\n",
      "block1_conv2 (Conv2D)        (None, 100, 100, 64)      36928     \n",
      "_________________________________________________________________\n",
      "block1_pool (MaxPooling2D)   (None, 50, 50, 64)        0         \n",
      "_________________________________________________________________\n",
      "block2_conv1 (Conv2D)        (None, 50, 50, 128)       73856     \n",
      "_________________________________________________________________\n",
      "block2_conv2 (Conv2D)        (None, 50, 50, 128)       147584    \n",
      "_________________________________________________________________\n",
      "block2_pool (MaxPooling2D)   (None, 25, 25, 128)       0         \n",
      "_________________________________________________________________\n",
      "block3_conv1 (Conv2D)        (None, 25, 25, 256)       295168    \n",
      "_________________________________________________________________\n",
      "block3_conv2 (Conv2D)        (None, 25, 25, 256)       590080    \n",
      "_________________________________________________________________\n",
      "block3_conv3 (Conv2D)        (None, 25, 25, 256)       590080    \n",
      "_________________________________________________________________\n",
      "block3_pool (MaxPooling2D)   (None, 12, 12, 256)       0         \n",
      "_________________________________________________________________\n",
      "block4_conv1 (Conv2D)        (None, 12, 12, 512)       1180160   \n",
      "_________________________________________________________________\n",
      "block4_conv2 (Conv2D)        (None, 12, 12, 512)       2359808   \n",
      "_________________________________________________________________\n",
      "block4_conv3 (Conv2D)        (None, 12, 12, 512)       2359808   \n",
      "_________________________________________________________________\n",
      "block4_pool (MaxPooling2D)   (None, 6, 6, 512)         0         \n",
      "_________________________________________________________________\n",
      "block5_conv1 (Conv2D)        (None, 6, 6, 512)         2359808   \n",
      "_________________________________________________________________\n",
      "block5_conv2 (Conv2D)        (None, 6, 6, 512)         2359808   \n",
      "_________________________________________________________________\n",
      "block5_conv3 (Conv2D)        (None, 6, 6, 512)         2359808   \n",
      "_________________________________________________________________\n",
      "block5_pool (MaxPooling2D)   (None, 3, 3, 512)         0         \n",
      "=================================================================\n",
      "Total params: 14,714,688\n",
      "Trainable params: 0\n",
      "Non-trainable params: 14,714,688\n",
      "_________________________________________________________________\n"
     ]
    }
   ],
   "source": [
    "def set_nontrainable_layers(model):\n",
    "    model.trainable = False\n",
    "    return model \n",
    "    \n",
    "model = set_nontrainable_layers(model)\n",
    "\n",
    "model.summary()"
   ]
  },
  {
   "cell_type": "code",
   "execution_count": 18,
   "id": "0f97dc0d",
   "metadata": {
    "colab": {
     "base_uri": "https://localhost:8080/"
    },
    "id": "0f97dc0d",
    "outputId": "ab7c3c51-7306-4209-abf8-8b590d609c82"
   },
   "outputs": [
    {
     "name": "stdout",
     "output_type": "stream",
     "text": [
      "Model: \"sequential\"\n",
      "_________________________________________________________________\n",
      "Layer (type)                 Output Shape              Param #   \n",
      "=================================================================\n",
      "vgg16 (Functional)           (None, 3, 3, 512)         14714688  \n",
      "_________________________________________________________________\n",
      "flatten (Flatten)            (None, 4608)              0         \n",
      "_________________________________________________________________\n",
      "dense (Dense)                (None, 100)               460900    \n",
      "_________________________________________________________________\n",
      "dense_1 (Dense)              (None, 16)                1616      \n",
      "=================================================================\n",
      "Total params: 15,177,204\n",
      "Trainable params: 462,516\n",
      "Non-trainable params: 14,714,688\n",
      "_________________________________________________________________\n"
     ]
    }
   ],
   "source": [
    "def add_last_layers(model):\n",
    "    base_model = set_nontrainable_layers(model)\n",
    "    flatten_layer = layers.Flatten()\n",
    "    dense_layer = layers.Dense(100, activation='relu')\n",
    "    prediction_layer = layers.Dense(16, activation='softmax')\n",
    "    \n",
    "    \n",
    "    model = models.Sequential([\n",
    "        base_model,\n",
    "        flatten_layer,\n",
    "        dense_layer,\n",
    "        prediction_layer\n",
    "    ])\n",
    "    \n",
    "    return model\n",
    "\n",
    "model = add_last_layers(model)\n",
    "model.summary()"
   ]
  },
  {
   "cell_type": "code",
   "execution_count": 19,
   "id": "52c94ef1",
   "metadata": {
    "id": "52c94ef1"
   },
   "outputs": [],
   "source": [
    "def compile_model(model):\n",
    "    \n",
    "    opt = optimizers.Adam(learning_rate=0.001)\n",
    "    model.compile(loss='categorical_crossentropy',\n",
    "                  optimizer=opt,\n",
    "                  metrics=['accuracy'])\n",
    "    \n",
    "    return model"
   ]
  },
  {
   "cell_type": "code",
   "execution_count": 20,
   "id": "50b5b929",
   "metadata": {
    "id": "50b5b929"
   },
   "outputs": [],
   "source": [
    "def build_model():\n",
    "    model = load_model()\n",
    "    model = add_last_layers(model)\n",
    "    model = compile_model(model)\n",
    "    \n",
    "    return model\n",
    "\n",
    "model = build_model()"
   ]
  },
  {
   "cell_type": "code",
   "execution_count": 21,
   "id": "c5c942ca",
   "metadata": {
    "colab": {
     "base_uri": "https://localhost:8080/"
    },
    "id": "c5c942ca",
    "outputId": "e4d86380-52a1-4ec6-eb6d-f85ef515451b"
   },
   "outputs": [
    {
     "name": "stdout",
     "output_type": "stream",
     "text": [
      "Epoch 1/50\n",
      "434/434 [==============================] - 77s 104ms/step - loss: 2.2315 - accuracy: 0.2758 - val_loss: 1.9238 - val_accuracy: 0.3278\n",
      "Epoch 2/50\n",
      "434/434 [==============================] - 42s 98ms/step - loss: 1.8265 - accuracy: 0.3601 - val_loss: 1.8540 - val_accuracy: 0.3383\n",
      "Epoch 3/50\n",
      "434/434 [==============================] - 42s 97ms/step - loss: 1.7070 - accuracy: 0.3914 - val_loss: 1.8449 - val_accuracy: 0.3405\n",
      "Epoch 4/50\n",
      "434/434 [==============================] - 42s 97ms/step - loss: 1.6298 - accuracy: 0.4185 - val_loss: 1.8418 - val_accuracy: 0.3339\n",
      "Epoch 5/50\n",
      "434/434 [==============================] - 42s 97ms/step - loss: 1.5665 - accuracy: 0.4379 - val_loss: 1.8442 - val_accuracy: 0.3206\n",
      "Epoch 6/50\n",
      "434/434 [==============================] - 42s 97ms/step - loss: 1.5007 - accuracy: 0.4538 - val_loss: 1.9758 - val_accuracy: 0.3280\n",
      "Epoch 7/50\n",
      "434/434 [==============================] - 42s 97ms/step - loss: 1.4246 - accuracy: 0.4919 - val_loss: 1.8705 - val_accuracy: 0.3164\n",
      "Epoch 8/50\n",
      "434/434 [==============================] - 42s 97ms/step - loss: 1.3570 - accuracy: 0.5224 - val_loss: 1.9620 - val_accuracy: 0.3113\n",
      "Epoch 9/50\n",
      "434/434 [==============================] - 42s 97ms/step - loss: 1.3385 - accuracy: 0.5231 - val_loss: 1.9201 - val_accuracy: 0.3315\n",
      "Restoring model weights from the end of the best epoch.\n",
      "Epoch 00009: early stopping\n"
     ]
    }
   ],
   "source": [
    "es = EarlyStopping(patience=5, verbose=1, restore_best_weights=True)\n",
    "\n",
    "history = model.fit(X_train, y_train_cat, \n",
    "                    validation_split=0.3, \n",
    "                    callbacks=[es],\n",
    "                    epochs=50, \n",
    "                    batch_size=32, \n",
    "                    verbose=1)"
   ]
  },
  {
   "cell_type": "code",
   "execution_count": 22,
   "id": "be956579",
   "metadata": {
    "colab": {
     "base_uri": "https://localhost:8080/"
    },
    "id": "be956579",
    "outputId": "ffcf17c9-fd5a-487b-d3db-4835a3a321bf"
   },
   "outputs": [
    {
     "name": "stdout",
     "output_type": "stream",
     "text": [
      "0.3412085473537445\n"
     ]
    }
   ],
   "source": [
    "print(model.evaluate(X_test, y_test_cat, verbose=0)[1])"
   ]
  },
  {
   "cell_type": "code",
   "execution_count": 22,
   "id": "WTx6XfZRI3nh",
   "metadata": {
    "id": "WTx6XfZRI3nh"
   },
   "outputs": [],
   "source": []
  }
 ],
 "metadata": {
  "accelerator": "GPU",
  "colab": {
   "collapsed_sections": [],
   "name": "felixfa_data_CNN_6_Transfer_Learning.ipynb",
   "provenance": []
  },
  "kernelspec": {
   "display_name": "Python 3",
   "language": "python",
   "name": "python3"
  },
  "language_info": {
   "codemirror_mode": {
    "name": "ipython",
    "version": 3
   },
   "file_extension": ".py",
   "mimetype": "text/x-python",
   "name": "python",
   "nbconvert_exporter": "python",
   "pygments_lexer": "ipython3",
   "version": "3.8.6"
  },
  "toc": {
   "base_numbering": 1,
   "nav_menu": {},
   "number_sections": false,
   "sideBar": true,
   "skip_h1_title": false,
   "title_cell": "Table of Contents",
   "title_sidebar": "Contents",
   "toc_cell": false,
   "toc_position": {},
   "toc_section_display": true,
   "toc_window_display": false
  }
 },
 "nbformat": 4,
 "nbformat_minor": 5
}
