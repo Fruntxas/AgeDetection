{
 "cells": [
  {
   "cell_type": "markdown",
   "metadata": {
    "id": "begijz1M21BJ"
   },
   "source": [
    "# Imports"
   ]
  },
  {
   "cell_type": "code",
   "execution_count": 2,
   "metadata": {
    "colab": {
     "base_uri": "https://localhost:8080/"
    },
    "executionInfo": {
     "elapsed": 34640,
     "status": "ok",
     "timestamp": 1622021076357,
     "user": {
      "displayName": "Tiago Pereira",
      "photoUrl": "https://lh3.googleusercontent.com/a-/AOh14GgTc2Zjwr7wX1qdbApHL5tu_fV3A8TkRCVnZ_SH6Hk=s64",
      "userId": "17974310180584634598"
     },
     "user_tz": -60
    },
    "id": "xJQD2C5z1tiR",
    "outputId": "a165747d-0c03-4e9c-caf4-932bc32945d6"
   },
   "outputs": [],
   "source": [
    "import numpy as np\n",
    "import pandas as pd\n",
    "import matplotlib.pyplot as plt\n",
    "\n",
    "from sklearn.model_selection import train_test_split, GridSearchCV, RandomizedSearchCV\n",
    "from sklearn.metrics import classification_report, accuracy_score\n",
    "\n",
    "from sklearn.svm import SVC"
   ]
  },
  {
   "cell_type": "markdown",
   "metadata": {
    "id": "fBscILg3mWOE"
   },
   "source": [
    "# Loading transformed splits"
   ]
  },
  {
   "cell_type": "code",
   "execution_count": 3,
   "metadata": {},
   "outputs": [],
   "source": [
    "pca_path = \"../data/pca_files/\""
   ]
  },
  {
   "cell_type": "code",
   "execution_count": 4,
   "metadata": {
    "id": "S2jf1ZQ_nUaK"
   },
   "outputs": [
    {
     "name": "stdout",
     "output_type": "stream",
     "text": [
      "(19805, 227) ..... (19805,)\n",
      "(2201, 227) ..... (2201,)\n"
     ]
    }
   ],
   "source": [
    "X_test_transformed = np.load(pca_path+\"100x100x3_X_test_transformed.npy\")\n",
    "X_train_transformed = np.load(pca_path+\"100x100x3_X_train_transformed.npy\")\n",
    "y_test = np.load(pca_path+\"100x100x3_y_test.npy\")\n",
    "y_train = np.load(pca_path+\"100x100x3_y_train.npy\")\n",
    "print(X_train_transformed.shape,\".....\",y_train.shape)\n",
    "print(X_test_transformed.shape,\".....\",y_test.shape)"
   ]
  },
  {
   "cell_type": "markdown",
   "metadata": {
    "id": "TclwR2zs67ra"
   },
   "source": [
    "# Model Imports"
   ]
  },
  {
   "cell_type": "code",
   "execution_count": 8,
   "metadata": {
    "executionInfo": {
     "elapsed": 302,
     "status": "ok",
     "timestamp": 1621975645699,
     "user": {
      "displayName": "Tiago Pereira",
      "photoUrl": "https://lh3.googleusercontent.com/a-/AOh14GgTc2Zjwr7wX1qdbApHL5tu_fV3A8TkRCVnZ_SH6Hk=s64",
      "userId": "17974310180584634598"
     },
     "user_tz": -60
    },
    "id": "K253Fez5Ffx3"
   },
   "outputs": [],
   "source": [
    "from sklearn.svm import SVC\n",
    "from sklearn.ensemble import RandomForestClassifier, AdaBoostClassifier, StackingClassifier\n",
    "from sklearn.linear_model import LogisticRegression, SGDClassifier\n",
    "from sklearn.neighbors import KNeighborsClassifier, RadiusNeighborsClassifier\n",
    "from catboost import CatBoostClassifier\n",
    "from sklearn.model_selection import cross_validate"
   ]
  },
  {
   "cell_type": "markdown",
   "metadata": {
    "heading_collapsed": true
   },
   "source": [
    "## RandomForestClassifier --> Train 37.3% | Test 38.5%"
   ]
  },
  {
   "cell_type": "code",
   "execution_count": 65,
   "metadata": {
    "hidden": true,
    "id": "X5Nw1lahlJyn"
   },
   "outputs": [],
   "source": [
    "accuracy = []\n",
    "\n",
    "model = RandomForestClassifier(n_estimators = 3600, n_jobs = -1, criterion=\"entropy\"\n",
    "                                ,min_samples_split=15,min_samples_leaf=11,min_weight_fraction_leaf=0\n",
    "                                ,max_depth=90,min_impurity_decrease=0\n",
    "                                ,bootstrap = False\n",
    "                                ,max_features = \"auto\",class_weight='balanced_subsample')\n",
    "model.fit(X_train_transformed, y_train)\n",
    "y_pred = model.predict(X_test_transformed)\n",
    "accuracy.append(accuracy_score(y_test,y_pred))"
   ]
  },
  {
   "cell_type": "code",
   "execution_count": 69,
   "metadata": {
    "hidden": true
   },
   "outputs": [],
   "source": [
    "scores = cross_validate(model,X_train_transformed, y_train, cv=3, scoring = \"accuracy\")"
   ]
  },
  {
   "cell_type": "code",
   "execution_count": 72,
   "metadata": {
    "hidden": true
   },
   "outputs": [
    {
     "data": {
      "text/plain": [
       "0.3734406442079139"
      ]
     },
     "execution_count": 72,
     "metadata": {},
     "output_type": "execute_result"
    }
   ],
   "source": [
    "scores[\"test_score\"].mean()"
   ]
  },
  {
   "cell_type": "code",
   "execution_count": 78,
   "metadata": {
    "hidden": true
   },
   "outputs": [
    {
     "data": {
      "text/plain": [
       "0.38573375738300775"
      ]
     },
     "execution_count": 78,
     "metadata": {},
     "output_type": "execute_result"
    }
   ],
   "source": [
    "y_pred = model.predict(X_test_transformed)\n",
    "accuracy_score(y_test,y_pred)"
   ]
  },
  {
   "cell_type": "markdown",
   "metadata": {
    "heading_collapsed": true
   },
   "source": [
    "## SGD --> Train: 37.97 | Test: 38.39"
   ]
  },
  {
   "cell_type": "code",
   "execution_count": 11,
   "metadata": {
    "hidden": true
   },
   "outputs": [
    {
     "data": {
      "text/plain": [
       "0.3839164016356202"
      ]
     },
     "execution_count": 11,
     "metadata": {},
     "output_type": "execute_result"
    }
   ],
   "source": [
    "accuracy = []\n",
    "\n",
    "#penalty=[\"l2\",\"l1\",\"elasticnet\"]\n",
    "#alpha = np.linspace(0.0001,5,10) --> ignore\n",
    "\n",
    "#learning_rate = [\"invscaling\",\"optimal\",\"constant\",\"adaptive\"]\n",
    "#eta0 = np.linspace(4,10,10) -> re-test\n",
    "\n",
    "#max_iter = [int(x) for x in np.linspace(start = 4000, stop = 4700, num = 5,dtype=\"int\")]\n",
    "\n",
    "#for i in max_iter:\n",
    "#    print(i,\"in\",max_iter)\n",
    "\n",
    "sgd = SGDClassifier(n_jobs=-1,max_iter=4200\n",
    "                 ,penalty=\"l1\",learning_rate=\"adaptive\",eta0 = 4\n",
    "                 ,loss = \"hinge\",fit_intercept = True)\n",
    "\n",
    "sgd.fit(X_train_transformed, y_train)\n",
    "y_pred = sgd.predict(X_test_transformed)\n",
    "accuracy_score(y_test,y_pred)"
   ]
  },
  {
   "cell_type": "code",
   "execution_count": 81,
   "metadata": {
    "hidden": true
   },
   "outputs": [
    {
     "data": {
      "text/plain": [
       "0.3797020954304469"
      ]
     },
     "execution_count": 81,
     "metadata": {},
     "output_type": "execute_result"
    }
   ],
   "source": [
    "scores = cross_validate(model,X_train_transformed, y_train, cv=5, scoring = \"accuracy\")\n",
    "scores[\"test_score\"].mean()"
   ]
  },
  {
   "cell_type": "markdown",
   "metadata": {
    "heading_collapsed": true
   },
   "source": [
    "## ExtraTreesClassifier --> Train 39.09% || Test 41.66%"
   ]
  },
  {
   "cell_type": "code",
   "execution_count": 46,
   "metadata": {
    "hidden": true
   },
   "outputs": [],
   "source": [
    "from sklearn.ensemble import ExtraTreesClassifier"
   ]
  },
  {
   "cell_type": "code",
   "execution_count": 82,
   "metadata": {
    "hidden": true
   },
   "outputs": [
    {
     "name": "stderr",
     "output_type": "stream",
     "text": [
      "[Parallel(n_jobs=-1)]: Using backend ThreadingBackend with 12 concurrent workers.\n",
      "[Parallel(n_jobs=-1)]: Done  26 tasks      | elapsed:    0.6s\n",
      "[Parallel(n_jobs=-1)]: Done 176 tasks      | elapsed:    3.3s\n",
      "[Parallel(n_jobs=-1)]: Done 426 tasks      | elapsed:    7.4s\n",
      "[Parallel(n_jobs=-1)]: Done 776 tasks      | elapsed:   15.9s\n",
      "[Parallel(n_jobs=-1)]: Done 1226 tasks      | elapsed:   37.8s\n",
      "[Parallel(n_jobs=-1)]: Done 1776 tasks      | elapsed:  6.6min\n",
      "[Parallel(n_jobs=-1)]: Done 1800 out of 1800 | elapsed:  6.6min finished\n",
      "[Parallel(n_jobs=12)]: Using backend ThreadingBackend with 12 concurrent workers.\n",
      "[Parallel(n_jobs=12)]: Done  26 tasks      | elapsed:    0.0s\n",
      "[Parallel(n_jobs=12)]: Done 176 tasks      | elapsed:    0.2s\n",
      "[Parallel(n_jobs=12)]: Done 426 tasks      | elapsed:    5.8s\n",
      "[Parallel(n_jobs=12)]: Done 776 tasks      | elapsed:   28.0s\n",
      "[Parallel(n_jobs=12)]: Done 1226 tasks      | elapsed:  1.2min\n",
      "[Parallel(n_jobs=12)]: Done 1776 tasks      | elapsed:  1.3min\n",
      "[Parallel(n_jobs=12)]: Done 1800 out of 1800 | elapsed:  1.4min finished\n"
     ]
    },
    {
     "data": {
      "text/plain": [
       "0.41662880508859607"
      ]
     },
     "execution_count": 82,
     "metadata": {},
     "output_type": "execute_result"
    }
   ],
   "source": [
    "accuracy = []\n",
    "\n",
    "# Number of trees in random forest\n",
    "#min_samples_split = [int(x) for x in np.linspace(start = 2, stop = 6, num = 4,dtype=\"int\")]\n",
    "#min_samples_leaf = [int(x) for x in np.linspace(start = 2, stop = 30, num = 10,dtype=\"int\")]\n",
    "\n",
    "#for i in max_depth:\n",
    "#    print(i,\"in\",max_depth)\n",
    "\n",
    "model = ExtraTreesClassifier(verbose = 1,random_state=42, n_estimators = 1800, n_jobs = -1\n",
    "                                #, criterion=\"entropy\"\n",
    "                                ,min_samples_split=3\n",
    "                                ,min_samples_leaf=1\n",
    "                                #,min_weight_fraction_leaf=0\n",
    "                                #,min_impurity_decrease=0\n",
    "                                #,bootstrap = False\n",
    "                                #,max_features = \"auto\"\n",
    "                                #,class_weight='balanced_subsample'\n",
    "                              )\n",
    "model.fit(X_train_transformed, y_train)\n",
    "y_pred = model.predict(X_test_transformed)\n",
    "#accuracy.append(\n",
    "accuracy_score(y_test,y_pred)\n",
    "#)"
   ]
  },
  {
   "cell_type": "code",
   "execution_count": 83,
   "metadata": {
    "hidden": true
   },
   "outputs": [
    {
     "name": "stderr",
     "output_type": "stream",
     "text": [
      "[Parallel(n_jobs=-1)]: Using backend LokyBackend with 12 concurrent workers.\n",
      "[Parallel(n_jobs=-1)]: Done  27 tasks      | elapsed:  7.4min\n",
      "[Parallel(n_jobs=-1)]: Done 177 tasks      | elapsed:  8.0min\n",
      "[Parallel(n_jobs=-1)]: Done 427 tasks      | elapsed:  8.5min\n",
      "[Parallel(n_jobs=-1)]: Done 777 tasks      | elapsed:  9.7min\n",
      "[Parallel(n_jobs=-1)]: Done 1227 tasks      | elapsed: 15.1min\n",
      "[Parallel(n_jobs=-1)]: Done 1777 tasks      | elapsed: 15.8min\n",
      "[Parallel(n_jobs=-1)]: Done 1800 out of 1800 | elapsed: 16.0min finished\n",
      "[Parallel(n_jobs=12)]: Using backend ThreadingBackend with 12 concurrent workers.\n",
      "[Parallel(n_jobs=12)]: Done  26 tasks      | elapsed:   45.5s\n",
      "[Parallel(n_jobs=12)]: Done 176 tasks      | elapsed:   48.7s\n",
      "[Parallel(n_jobs=12)]: Done 426 tasks      | elapsed:  1.0min\n",
      "[Parallel(n_jobs=12)]: Done 776 tasks      | elapsed:  3.2min\n",
      "[Parallel(n_jobs=12)]: Done 1226 tasks      | elapsed:  4.7min\n",
      "[Parallel(n_jobs=12)]: Done 1776 tasks      | elapsed:  4.7min\n",
      "[Parallel(n_jobs=12)]: Done 1800 out of 1800 | elapsed:  4.8min finished\n",
      "[Parallel(n_jobs=-1)]: Using backend LokyBackend with 12 concurrent workers.\n",
      "/home/fruntxas/.pyenv/versions/3.8.6/envs/agedetection/lib/python3.8/site-packages/joblib/externals/loky/process_executor.py:688: UserWarning: A worker stopped while some jobs were given to the executor. This can be caused by a too short worker timeout or by a memory leak.\n",
      "  warnings.warn(\n",
      "[Parallel(n_jobs=-1)]: Done  26 tasks      | elapsed:  5.8min\n",
      "[Parallel(n_jobs=-1)]: Done 176 tasks      | elapsed:  7.2min\n",
      "[Parallel(n_jobs=-1)]: Done 426 tasks      | elapsed:  7.3min\n",
      "[Parallel(n_jobs=-1)]: Done 776 tasks      | elapsed:  7.5min\n",
      "[Parallel(n_jobs=-1)]: Done 1226 tasks      | elapsed:  7.6min\n",
      "[Parallel(n_jobs=-1)]: Done 1776 tasks      | elapsed: 10.4min\n",
      "[Parallel(n_jobs=-1)]: Done 1800 out of 1800 | elapsed: 10.6min finished\n",
      "[Parallel(n_jobs=12)]: Using backend ThreadingBackend with 12 concurrent workers.\n",
      "[Parallel(n_jobs=12)]: Done  26 tasks      | elapsed:    1.4s\n",
      "[Parallel(n_jobs=12)]: Done 176 tasks      | elapsed:    1.6s\n",
      "[Parallel(n_jobs=12)]: Done 426 tasks      | elapsed:   31.0s\n",
      "[Parallel(n_jobs=12)]: Done 776 tasks      | elapsed:  2.8min\n",
      "[Parallel(n_jobs=12)]: Done 1226 tasks      | elapsed:  3.8min\n",
      "[Parallel(n_jobs=12)]: Done 1776 tasks      | elapsed:  3.8min\n",
      "[Parallel(n_jobs=12)]: Done 1800 out of 1800 | elapsed:  3.8min finished\n",
      "[Parallel(n_jobs=-1)]: Using backend LokyBackend with 12 concurrent workers.\n",
      "[Parallel(n_jobs=-1)]: Done  26 tasks      | elapsed:   16.1s\n",
      "[Parallel(n_jobs=-1)]: Done 176 tasks      | elapsed:   17.9s\n",
      "[Parallel(n_jobs=-1)]: Done 426 tasks      | elapsed:   26.7s\n",
      "[Parallel(n_jobs=-1)]: Done 776 tasks      | elapsed:  1.3min\n",
      "[Parallel(n_jobs=-1)]: Done 1226 tasks      | elapsed:  1.9min\n",
      "[Parallel(n_jobs=-1)]: Done 1776 tasks      | elapsed:  2.1min\n",
      "[Parallel(n_jobs=-1)]: Done 1800 out of 1800 | elapsed:  2.1min finished\n",
      "[Parallel(n_jobs=12)]: Using backend ThreadingBackend with 12 concurrent workers.\n",
      "[Parallel(n_jobs=12)]: Done  26 tasks      | elapsed:    0.1s\n",
      "[Parallel(n_jobs=12)]: Done 176 tasks      | elapsed:    0.2s\n",
      "[Parallel(n_jobs=12)]: Done 426 tasks      | elapsed:    0.5s\n",
      "[Parallel(n_jobs=12)]: Done 776 tasks      | elapsed:    1.7s\n",
      "[Parallel(n_jobs=12)]: Done 1226 tasks      | elapsed:    2.1s\n",
      "[Parallel(n_jobs=12)]: Done 1776 tasks      | elapsed:    2.6s\n",
      "[Parallel(n_jobs=12)]: Done 1800 out of 1800 | elapsed:    2.6s finished\n",
      "[Parallel(n_jobs=-1)]: Using backend LokyBackend with 12 concurrent workers.\n",
      "[Parallel(n_jobs=-1)]: Done  28 tasks      | elapsed:   15.3s\n",
      "[Parallel(n_jobs=-1)]: Done 200 tasks      | elapsed:   40.6s\n",
      "[Parallel(n_jobs=-1)]: Done 450 tasks      | elapsed:  1.3min\n",
      "[Parallel(n_jobs=-1)]: Done 800 tasks      | elapsed:  1.3min\n",
      "[Parallel(n_jobs=-1)]: Done 1250 tasks      | elapsed:  1.5min\n",
      "[Parallel(n_jobs=-1)]: Done 1800 out of 1800 | elapsed:  1.6min finished\n",
      "[Parallel(n_jobs=12)]: Using backend ThreadingBackend with 12 concurrent workers.\n",
      "[Parallel(n_jobs=12)]: Done  26 tasks      | elapsed:    0.0s\n",
      "[Parallel(n_jobs=12)]: Done 176 tasks      | elapsed:    0.2s\n",
      "[Parallel(n_jobs=12)]: Done 426 tasks      | elapsed:    0.5s\n",
      "[Parallel(n_jobs=12)]: Done 776 tasks      | elapsed:    0.8s\n",
      "[Parallel(n_jobs=12)]: Done 1226 tasks      | elapsed:    1.2s\n",
      "[Parallel(n_jobs=12)]: Done 1776 tasks      | elapsed:    1.8s\n",
      "[Parallel(n_jobs=12)]: Done 1800 out of 1800 | elapsed:    1.8s finished\n",
      "[Parallel(n_jobs=-1)]: Using backend LokyBackend with 12 concurrent workers.\n",
      "[Parallel(n_jobs=-1)]: Done  28 tasks      | elapsed:    0.6s\n",
      "[Parallel(n_jobs=-1)]: Done 224 tasks      | elapsed:    5.2s\n",
      "[Parallel(n_jobs=-1)]: Done 474 tasks      | elapsed:   10.5s\n",
      "[Parallel(n_jobs=-1)]: Done 824 tasks      | elapsed:   16.1s\n",
      "[Parallel(n_jobs=-1)]: Done 1274 tasks      | elapsed:   26.1s\n",
      "[Parallel(n_jobs=-1)]: Done 1800 out of 1800 | elapsed:   32.3s finished\n",
      "[Parallel(n_jobs=12)]: Using backend ThreadingBackend with 12 concurrent workers.\n",
      "[Parallel(n_jobs=12)]: Done  26 tasks      | elapsed:    0.1s\n",
      "[Parallel(n_jobs=12)]: Done 176 tasks      | elapsed:    0.2s\n",
      "[Parallel(n_jobs=12)]: Done 426 tasks      | elapsed:    0.5s\n",
      "[Parallel(n_jobs=12)]: Done 776 tasks      | elapsed:    0.8s\n",
      "[Parallel(n_jobs=12)]: Done 1226 tasks      | elapsed:    1.2s\n",
      "[Parallel(n_jobs=12)]: Done 1776 tasks      | elapsed:    1.7s\n",
      "[Parallel(n_jobs=12)]: Done 1800 out of 1800 | elapsed:    1.7s finished\n"
     ]
    },
    {
     "data": {
      "text/plain": [
       "0.39091138601363296"
      ]
     },
     "execution_count": 83,
     "metadata": {},
     "output_type": "execute_result"
    }
   ],
   "source": [
    "scores = cross_validate(model,X_train_transformed, y_train, cv=5, scoring = \"accuracy\")\n",
    "scores[\"test_score\"].mean()"
   ]
  },
  {
   "cell_type": "code",
   "execution_count": 45,
   "metadata": {
    "collapsed": true,
    "hidden": true
   },
   "outputs": [
    {
     "data": {
      "text/plain": [
       "[<matplotlib.lines.Line2D at 0x7fce1397d9a0>]"
      ]
     },
     "execution_count": 45,
     "metadata": {},
     "output_type": "execute_result"
    },
    {
     "data": {
      "image/png": "[encoded data removed]",
      "text/plain": [
       "<Figure size 432x288 with 1 Axes>"
      ]
     },
     "metadata": {
      "needs_background": "light"
     },
     "output_type": "display_data"
    }
   ],
   "source": [
    "plt.plot(max_depth,accuracy)"
   ]
  },
  {
   "cell_type": "markdown",
   "metadata": {
    "heading_collapsed": true
   },
   "source": [
    "## Best Single (SVC) --> 39.69%"
   ]
  },
  {
   "cell_type": "code",
   "execution_count": 87,
   "metadata": {
    "hidden": true
   },
   "outputs": [
    {
     "name": "stdout",
     "output_type": "stream",
     "text": [
      "10.4 in [10.4, 10.6, 10.8]\n",
      "[LibSVM]10.6 in [10.4, 10.6, 10.8]\n",
      "[LibSVM]10.8 in [10.4, 10.6, 10.8]\n",
      "[LibSVM]"
     ]
    }
   ],
   "source": [
    "accuracy = []\n",
    "\n",
    "# SVC --> 0.42 on test_set\n",
    "model = SVC(class_weight=\"balanced\",C = 10.4\n",
    "            ,cache_size=3000,verbose=10)\n",
    "\n",
    "model.fit(X_train_transformed, y_train)\n",
    "y_pred = model.predict(X_test_transformed)\n",
    "accuracy_score(y_test,y_pred)"
   ]
  },
  {
   "cell_type": "code",
   "execution_count": 89,
   "metadata": {
    "hidden": true
   },
   "outputs": [
    {
     "name": "stdout",
     "output_type": "stream",
     "text": [
      "[LibSVM][LibSVM][LibSVM]"
     ]
    },
    {
     "data": {
      "text/plain": [
       "0.3969197703101084"
      ]
     },
     "execution_count": 89,
     "metadata": {},
     "output_type": "execute_result"
    }
   ],
   "source": [
    "scores = cross_validate(model,X_train_transformed, y_train, cv=3, scoring = \"accuracy\")\n",
    "scores[\"test_score\"].mean()"
   ]
  },
  {
   "cell_type": "markdown",
   "metadata": {
    "heading_collapsed": true
   },
   "source": [
    "## Stacking --> Test 46.5%"
   ]
  },
  {
   "cell_type": "code",
   "execution_count": 113,
   "metadata": {
    "hidden": true
   },
   "outputs": [
    {
     "name": "stdout",
     "output_type": "stream",
     "text": [
      "[LibSVM]"
     ]
    },
    {
     "name": "stderr",
     "output_type": "stream",
     "text": [
      "[Parallel(n_jobs=1)]: Using backend SequentialBackend with 1 concurrent workers.\n",
      "[Parallel(n_jobs=1)]: Done 1800 out of 1800 | elapsed:  6.9min finished\n",
      "[Parallel(n_jobs=1)]: Using backend SequentialBackend with 1 concurrent workers.\n",
      "[Parallel(n_jobs=1)]: Done   1 out of   1 | elapsed: 39.9min remaining:    0.0s\n",
      "[Parallel(n_jobs=1)]: Done   2 out of   2 | elapsed: 77.1min remaining:    0.0s\n",
      "[Parallel(n_jobs=1)]: Done   3 out of   3 | elapsed: 114.1min remaining:    0.0s\n",
      "[Parallel(n_jobs=1)]: Done   3 out of   3 | elapsed: 114.1min finished\n",
      "[Parallel(n_jobs=1)]: Using backend SequentialBackend with 1 concurrent workers.\n"
     ]
    },
    {
     "name": "stdout",
     "output_type": "stream",
     "text": [
      "[LibSVM]"
     ]
    },
    {
     "name": "stderr",
     "output_type": "stream",
     "text": [
      "[Parallel(n_jobs=1)]: Done   1 out of   1 | elapsed:  1.5min remaining:    0.0s\n"
     ]
    },
    {
     "name": "stdout",
     "output_type": "stream",
     "text": [
      "[LibSVM]"
     ]
    },
    {
     "name": "stderr",
     "output_type": "stream",
     "text": [
      "[Parallel(n_jobs=1)]: Done   2 out of   2 | elapsed:  3.0min remaining:    0.0s\n"
     ]
    },
    {
     "name": "stdout",
     "output_type": "stream",
     "text": [
      "[LibSVM]"
     ]
    },
    {
     "name": "stderr",
     "output_type": "stream",
     "text": [
      "[Parallel(n_jobs=1)]: Done   3 out of   3 | elapsed:  4.5min remaining:    0.0s\n",
      "[Parallel(n_jobs=1)]: Done   3 out of   3 | elapsed:  4.5min finished\n",
      "[Parallel(n_jobs=1)]: Using backend SequentialBackend with 1 concurrent workers.\n",
      "[Parallel(n_jobs=1)]: Using backend SequentialBackend with 1 concurrent workers.\n",
      "[Parallel(n_jobs=1)]: Done 1800 out of 1800 | elapsed:  3.6min finished\n",
      "[Parallel(n_jobs=1)]: Using backend SequentialBackend with 1 concurrent workers.\n",
      "[Parallel(n_jobs=1)]: Done 1800 out of 1800 | elapsed:    3.9s finished\n",
      "[Parallel(n_jobs=1)]: Done   1 out of   1 | elapsed:  3.7min remaining:    0.0s\n",
      "[Parallel(n_jobs=1)]: Using backend SequentialBackend with 1 concurrent workers.\n",
      "[Parallel(n_jobs=1)]: Done 1800 out of 1800 | elapsed:  1.2min finished\n",
      "[Parallel(n_jobs=1)]: Using backend SequentialBackend with 1 concurrent workers.\n",
      "[Parallel(n_jobs=1)]: Done 1800 out of 1800 | elapsed:    3.1s finished\n",
      "[Parallel(n_jobs=1)]: Done   2 out of   2 | elapsed:  4.9min remaining:    0.0s\n",
      "[Parallel(n_jobs=1)]: Using backend SequentialBackend with 1 concurrent workers.\n",
      "[Parallel(n_jobs=1)]: Done 1800 out of 1800 | elapsed:  1.7min finished\n",
      "[Parallel(n_jobs=1)]: Using backend SequentialBackend with 1 concurrent workers.\n",
      "[Parallel(n_jobs=1)]: Done 1800 out of 1800 | elapsed:    3.3s finished\n",
      "[Parallel(n_jobs=1)]: Done   3 out of   3 | elapsed:  6.7min remaining:    0.0s\n",
      "[Parallel(n_jobs=1)]: Done   3 out of   3 | elapsed:  6.7min finished\n",
      "/home/fruntxas/.pyenv/versions/3.8.6/envs/agedetection/lib/python3.8/site-packages/sklearn/linear_model/_logistic.py:763: ConvergenceWarning: lbfgs failed to converge (status=1):\n",
      "STOP: TOTAL NO. of ITERATIONS REACHED LIMIT.\n",
      "\n",
      "Increase the number of iterations (max_iter) or scale the data as shown in:\n",
      "    https://scikit-learn.org/stable/modules/preprocessing.html\n",
      "Please also refer to the documentation for alternative solver options:\n",
      "    https://scikit-learn.org/stable/modules/linear_model.html#logistic-regression\n",
      "  n_iter_i = _check_optimize_result(\n",
      "[Parallel(n_jobs=1)]: Using backend SequentialBackend with 1 concurrent workers.\n",
      "[Parallel(n_jobs=1)]: Done 1800 out of 1800 | elapsed:   38.3s finished\n",
      "[Parallel(n_jobs=1)]: Using backend SequentialBackend with 1 concurrent workers.\n",
      "[Parallel(n_jobs=1)]: Done 1800 out of 1800 | elapsed:    1.4s finished\n"
     ]
    },
    {
     "data": {
      "text/plain": [
       "0.46569741026806"
      ]
     },
     "execution_count": 113,
     "metadata": {},
     "output_type": "execute_result"
    }
   ],
   "source": [
    "estimators = [\n",
    "    (\"RFC\",RandomForestClassifier(n_estimators = 3600, criterion=\"entropy\"\n",
    "                                ,min_samples_split=15,min_samples_leaf=11,min_weight_fraction_leaf=0\n",
    "                                ,max_depth=90,min_impurity_decrease=0\n",
    "                                ,bootstrap = False\n",
    "                                ,max_features = \"auto\",class_weight='balanced_subsample')),\n",
    "    ( \"SVC\",SVC(class_weight=\"balanced\",C = 10.4\n",
    "            ,cache_size=2000,verbose=10)),\n",
    "    (\"ETC\",ExtraTreesClassifier(verbose = 1,random_state=42, n_estimators = 1800\n",
    "                                ,min_samples_split=3\n",
    "                                ,min_samples_leaf=1\n",
    "                                \n",
    "                              ))\n",
    "]\n",
    "\n",
    "#0.45 without ETC\n",
    "\n",
    "stc = StackingClassifier(estimators=estimators, final_estimator=LogisticRegression(),cv=3,verbose=10)\n",
    "stc.fit(X_train_transformed, y_train)\n",
    "y_pred = stc.predict(X_test_transformed)\n",
    "stc.score(X_test_transformed,y_test)"
   ]
  },
  {
   "cell_type": "markdown",
   "metadata": {
    "heading_collapsed": true
   },
   "source": [
    "## Bagging --> Train: 39.89"
   ]
  },
  {
   "cell_type": "code",
   "execution_count": 98,
   "metadata": {
    "hidden": true
   },
   "outputs": [
    {
     "name": "stdout",
     "output_type": "stream",
     "text": [
      "[LibSVM][LibSVM][LibSVM][LibSVM][LibSVM][LibSVM][LibSVM][LibSVM][LibSVM][LibSVM][LibSVM][LibSVM][LibSVM][LibSVM][LibSVM][LibSVM][LibSVM][LibSVM][LibSVM][LibSVM][LibSVM][LibSVM][LibSVM][LibSVM][LibSVM][LibSVM][LibSVM][LibSVM][LibSVM][LibSVM]"
     ]
    },
    {
     "data": {
      "text/plain": [
       "0.39898985773271756"
      ]
     },
     "execution_count": 98,
     "metadata": {},
     "output_type": "execute_result"
    }
   ],
   "source": [
    "from sklearn.ensemble import BaggingClassifier\n",
    "\n",
    "svc = SVC(class_weight=\"balanced\",C = 10.4\n",
    "            ,cache_size=2000,verbose=10)\n",
    "\n",
    "bagged_model = BaggingClassifier(svc, n_estimators=10)\n",
    "\n",
    "cv_results = cross_validate(bagged_model, X_train_transformed, y_train, scoring = \"accuracy\", cv=3)\n",
    "cv_results['test_score'].mean()"
   ]
  },
  {
   "cell_type": "code",
   "execution_count": null,
   "metadata": {
    "hidden": true
   },
   "outputs": [],
   "source": []
  },
  {
   "cell_type": "markdown",
   "metadata": {
    "heading_collapsed": true
   },
   "source": [
    "## XGBoost --> Test 42.1  %"
   ]
  },
  {
   "cell_type": "code",
   "execution_count": 101,
   "metadata": {
    "hidden": true
   },
   "outputs": [],
   "source": [
    "import xgboost as xgb\n",
    "from sklearn.metrics import mean_absolute_error\n",
    "from sklearn.metrics import r2_score\n",
    "from sklearn.model_selection import RandomizedSearchCV\n",
    "from sklearn.metrics import mean_absolute_error\n",
    "from sklearn.metrics import fbeta_score, make_scorer\n",
    "from xgboost.sklearn import XGBClassifier"
   ]
  },
  {
   "cell_type": "code",
   "execution_count": 107,
   "metadata": {
    "hidden": true
   },
   "outputs": [
    {
     "name": "stdout",
     "output_type": "stream",
     "text": [
      "Fitting 3 folds for each of 10 candidates, totalling 30 fits\n"
     ]
    },
    {
     "name": "stderr",
     "output_type": "stream",
     "text": [
      "/home/fruntxas/.pyenv/versions/3.8.6/envs/agedetection/lib/python3.8/site-packages/xgboost/sklearn.py:1146: UserWarning: The use of label encoder in XGBClassifier is deprecated and will be removed in a future release. To remove this warning, do the following: 1) Pass option use_label_encoder=False when constructing XGBClassifier object; and 2) Encode your labels (y) as integers starting with 0, i.e. 0, 1, 2, ..., [num_class - 1].\n",
      "  warnings.warn(label_encoder_deprecation_msg, UserWarning)\n"
     ]
    },
    {
     "name": "stdout",
     "output_type": "stream",
     "text": [
      "[15:46:44] WARNING: ../src/learner.cc:573: \n",
      "Parameters: { \"num_classes\" } might not be used.\n",
      "\n",
      "  This may not be accurate due to some parameters are only used in language bindings but\n",
      "  passed down to XGBoost core.  Or some parameters are not used but slip through this\n",
      "  verification. Please open an issue if you find above cases.\n",
      "\n",
      "\n"
     ]
    }
   ],
   "source": [
    "parameters = {'booster':['gbtree','gblinear'],\n",
    "              'learning_rate': [0.001,0.1,0.4], \n",
    "              'n_estimators': [500,1000],\n",
    "              \"reg_alpha\"   : [0.2,0.5,1],\n",
    "              \"reg_lambda\"  : [2,5,10]\n",
    "              }\n",
    "\n",
    "xgb_model = XGBClassifier(random_state=30,num_classes=8\n",
    "                          ,objective=\"multi:softmax\",eval_metric = \"mlogloss\")\n",
    "\n",
    "grid_obj_xgb = RandomizedSearchCV(xgb_model,parameters\n",
    "                                  , cv=3,n_iter=10\n",
    "                                  ,scoring='accuracy',verbose=10,n_jobs=-1\n",
    "                                  )\n",
    "grid_obj_xgb.fit(X_train_transformed, y_train,verbose = 10)\n",
    "\n",
    "y_pred_test = grid_obj_xgb.predict(X_test_transformed)"
   ]
  },
  {
   "cell_type": "code",
   "execution_count": 108,
   "metadata": {
    "hidden": true
   },
   "outputs": [
    {
     "data": {
      "text/plain": [
       "XGBClassifier(base_score=0.5, booster='gblinear', colsample_bylevel=None,\n",
       "              colsample_bynode=None, colsample_bytree=None,\n",
       "              eval_metric='mlogloss', gamma=None, gpu_id=-1,\n",
       "              importance_type='gain', interaction_constraints=None,\n",
       "              learning_rate=0.1, max_delta_step=None, max_depth=None,\n",
       "              min_child_weight=None, missing=nan, monotone_constraints=None,\n",
       "              n_estimators=500, n_jobs=12, num_classes=8,\n",
       "              num_parallel_tree=None, objective='multi:softprob',\n",
       "              random_state=30, reg_alpha=0.2, reg_lambda=5,\n",
       "              scale_pos_weight=None, subsample=None, tree_method=None,\n",
       "              validate_parameters=1, verbosity=None)"
      ]
     },
     "execution_count": 108,
     "metadata": {},
     "output_type": "execute_result"
    }
   ],
   "source": [
    "grid_obj_xgb.best_estimator_"
   ]
  },
  {
   "cell_type": "code",
   "execution_count": 110,
   "metadata": {
    "hidden": true
   },
   "outputs": [
    {
     "data": {
      "text/plain": [
       "0.4216265333939119"
      ]
     },
     "execution_count": 110,
     "metadata": {},
     "output_type": "execute_result"
    }
   ],
   "source": [
    "accuracy_score(y_test,y_pred_test)"
   ]
  },
  {
   "cell_type": "markdown",
   "metadata": {
    "heading_collapsed": true
   },
   "source": [
    "## Confusion Matrix"
   ]
  },
  {
   "cell_type": "code",
   "execution_count": 96,
   "metadata": {
    "hidden": true
   },
   "outputs": [
    {
     "name": "stdout",
     "output_type": "stream",
     "text": [
      "Confusion matrix:\n",
      "[[246  20   5   0   2   1   0   1]\n",
      " [ 33 134 108   0  20   2   4  17]\n",
      " [ 15  68 204   0  51   3  12  10]\n",
      " [  5  34  83   2  42   5  15   5]\n",
      " [  5  34  90   0  89  20  28  21]\n",
      " [  0  18  42   0  47  17  65  32]\n",
      " [  1  16  24   0  30  16  86  77]\n",
      " [  4   9   7   0   7   0  38 231]]\n"
     ]
    }
   ],
   "source": [
    "from sklearn.metrics import confusion_matrix\n",
    "print(\"Confusion matrix:\\n%s\" % confusion_matrix(y_test, y_pred))"
   ]
  },
  {
   "cell_type": "markdown",
   "metadata": {
    "heading_collapsed": true,
    "id": "J9gqHRGS7nEy"
   },
   "source": [
    "## GridSearch Classification Report"
   ]
  },
  {
   "cell_type": "code",
   "execution_count": null,
   "metadata": {
    "hidden": true,
    "id": "VOF_sFoW7-gB"
   },
   "outputs": [],
   "source": [
    "pd.DataFrame(X_test_transformed)"
   ]
  },
  {
   "cell_type": "code",
   "execution_count": 35,
   "metadata": {
    "colab": {
     "base_uri": "https://localhost:8080/"
    },
    "executionInfo": {
     "elapsed": 23160,
     "status": "ok",
     "timestamp": 1621975703400,
     "user": {
      "displayName": "Tiago Pereira",
      "photoUrl": "https://lh3.googleusercontent.com/a-/AOh14GgTc2Zjwr7wX1qdbApHL5tu_fV3A8TkRCVnZ_SH6Hk=s64",
      "userId": "17974310180584634598"
     },
     "user_tz": -60
    },
    "hidden": true,
    "id": "_YNJzTrR7pmf",
    "outputId": "957b84d2-b054-487a-d80e-ac857d3aa3f4"
   },
   "outputs": [
    {
     "name": "stdout",
     "output_type": "stream",
     "text": [
      "              precision    recall  f1-score   support\n",
      "\n",
      "           0       0.49      0.75      0.59       220\n",
      "           1       0.31      0.19      0.23       235\n",
      "           2       0.27      0.41      0.32       293\n",
      "           3       0.24      0.11      0.15       208\n",
      "           4       0.35      0.06      0.10       191\n",
      "           5       0.14      0.08      0.10       206\n",
      "           6       0.18      0.13      0.15       200\n",
      "           7       0.19      0.20      0.19       210\n",
      "           8       0.18      0.25      0.21       201\n",
      "           9       0.30      0.48      0.37       237\n",
      "\n",
      "    accuracy                           0.28      2201\n",
      "   macro avg       0.26      0.27      0.24      2201\n",
      "weighted avg       0.27      0.28      0.25      2201\n",
      "\n"
     ]
    }
   ],
   "source": [
    "y_pred = model.best_estimator_.predict(X_test_transformed)\n",
    "pd.DataFrame(y_pred).value_counts()\n",
    "print(classification_report(y_test, y_pred))"
   ]
  },
  {
   "cell_type": "code",
   "execution_count": 113,
   "metadata": {
    "colab": {
     "base_uri": "https://localhost:8080/"
    },
    "executionInfo": {
     "elapsed": 238,
     "status": "ok",
     "timestamp": 1621965947556,
     "user": {
      "displayName": "Tiago Pereira",
      "photoUrl": "https://lh3.googleusercontent.com/a-/AOh14GgTc2Zjwr7wX1qdbApHL5tu_fV3A8TkRCVnZ_SH6Hk=s64",
      "userId": "17974310180584634598"
     },
     "user_tz": -60
    },
    "hidden": true,
    "id": "UFy-eLRttDbo",
    "outputId": "9ae050a4-e961-452b-ffa1-4cc4489e2928"
   },
   "outputs": [
    {
     "data": {
      "text/plain": [
       "array([7, 7, 7, ..., 7, 7, 7])"
      ]
     },
     "execution_count": 113,
     "metadata": {
      "tags": []
     },
     "output_type": "execute_result"
    }
   ],
   "source": [
    "y_pred"
   ]
  },
  {
   "cell_type": "code",
   "execution_count": 36,
   "metadata": {
    "executionInfo": {
     "elapsed": 13,
     "status": "ok",
     "timestamp": 1621975704218,
     "user": {
      "displayName": "Tiago Pereira",
      "photoUrl": "https://lh3.googleusercontent.com/a-/AOh14GgTc2Zjwr7wX1qdbApHL5tu_fV3A8TkRCVnZ_SH6Hk=s64",
      "userId": "17974310180584634598"
     },
     "user_tz": -60
    },
    "hidden": true,
    "id": "R8R4RtM2falh"
   },
   "outputs": [],
   "source": [
    "from sklearn.metrics import accuracy_score"
   ]
  },
  {
   "cell_type": "code",
   "execution_count": 38,
   "metadata": {
    "colab": {
     "base_uri": "https://localhost:8080/"
    },
    "executionInfo": {
     "elapsed": 221,
     "status": "ok",
     "timestamp": 1621975713983,
     "user": {
      "displayName": "Tiago Pereira",
      "photoUrl": "https://lh3.googleusercontent.com/a-/AOh14GgTc2Zjwr7wX1qdbApHL5tu_fV3A8TkRCVnZ_SH6Hk=s64",
      "userId": "17974310180584634598"
     },
     "user_tz": -60
    },
    "hidden": true,
    "id": "j2ncTAOhAjtw",
    "outputId": "2f506c65-8654-40d7-dc39-374b936c7f75"
   },
   "outputs": [
    {
     "data": {
      "text/plain": [
       "0.2780554293502953"
      ]
     },
     "execution_count": 38,
     "metadata": {
      "tags": []
     },
     "output_type": "execute_result"
    }
   ],
   "source": [
    "accuracy_score(y_test,y_pred)"
   ]
  },
  {
   "cell_type": "markdown",
   "metadata": {
    "hidden": true,
    "id": "UAPVRUbl70s1"
   },
   "source": [
    "### 5.4 Further Improvement"
   ]
  },
  {
   "cell_type": "code",
   "execution_count": null,
   "metadata": {
    "hidden": true,
    "id": "EvFqPGBN702L"
   },
   "outputs": [],
   "source": [
    "pipe = make_pipeline(PCA(),SVC(class_weight=\"balanced\"))\n",
    "param_grid = {\n",
    "    \"pca__n_components\": range(200, 600, 1),\n",
    "    \"svc__kernel\": [\"linear\"],\n",
    "    \"svc__C\": [10],#[10, 20, 50, 100, 200, 500, 1000, 2000, 5000],\n",
    "    \"svc__gamma\": [0.0001]#[0.0001, 0.0005, 0.001, 0.005, 0.01, 0.1],\n",
    "}\n",
    "\n",
    "clf = GridSearchCV(pipe, param_grid, cv=5, n_jobs=-1, scoring='f1_weighted')"
   ]
  },
  {
   "cell_type": "code",
   "execution_count": null,
   "metadata": {
    "hidden": true,
    "id": "e_F_NKMu8jvS"
   },
   "outputs": [],
   "source": [
    "clf = clf.fit(X_train, y_train)"
   ]
  },
  {
   "cell_type": "code",
   "execution_count": null,
   "metadata": {
    "hidden": true,
    "id": "0CCYpu918j16"
   },
   "outputs": [],
   "source": [
    "pd.DataFrame(clf.cv_results_).sort_values(by='rank_test_score').head(20)"
   ]
  },
  {
   "cell_type": "code",
   "execution_count": null,
   "metadata": {
    "hidden": true,
    "id": "n8duAzyg8j8X"
   },
   "outputs": [],
   "source": [
    "clf.best_estimator_"
   ]
  },
  {
   "cell_type": "code",
   "execution_count": null,
   "metadata": {
    "hidden": true,
    "id": "2U2G3LLL8ndH"
   },
   "outputs": [],
   "source": [
    "clf.best_estimator_.score(X_test, y_test)"
   ]
  },
  {
   "cell_type": "code",
   "execution_count": null,
   "metadata": {
    "hidden": true,
    "id": "0pHQVFJs8nj7"
   },
   "outputs": [],
   "source": [
    "y_pred = clf.best_estimator_.predict(X_test)\n",
    "\n",
    "print(classification_report(y_test, y_pred))"
   ]
  },
  {
   "cell_type": "code",
   "execution_count": null,
   "metadata": {
    "hidden": true,
    "id": "Vky_BBC-8qlm"
   },
   "outputs": [],
   "source": [
    "# Number of Components that give out the best score\n",
    "best_n_components = clf.get_params()['pca__n_components']\n",
    "best_n_components"
   ]
  },
  {
   "cell_type": "code",
   "execution_count": null,
   "metadata": {
    "hidden": true,
    "id": "oUVFPmNR72ql"
   },
   "outputs": [],
   "source": []
  }
 ],
 "metadata": {
  "colab": {
   "authorship_tag": "ABX9TyMLe+i7afyYSIXYc9yJXB0j",
   "collapsed_sections": [
    "begijz1M21BJ",
    "xh00esxnXkSo",
    "RZDhTeke26JQ",
    "-G_5SX6r3c4A",
    "XXsXpdUu37zh",
    "0eFYT5hM4H7m",
    "F0r7-GVP4QkV",
    "YxINAVPg6r2W",
    "cxX3oBgTNbsU",
    "0xNInasr48tm",
    "xae0idE85I4u",
    "DjAtY0_C5QQW",
    "o84pT_xg6kTq",
    "fBscILg3mWOE",
    "UAPVRUbl70s1"
   ],
   "name": "fruntxas_colab_exploration.ipynb",
   "provenance": [],
   "toc_visible": true
  },
  "hide_input": false,
  "kernelspec": {
   "display_name": "Python 3",
   "language": "python",
   "name": "python3"
  },
  "language_info": {
   "codemirror_mode": {
    "name": "ipython",
    "version": 3
   },
   "file_extension": ".py",
   "mimetype": "text/x-python",
   "name": "python",
   "nbconvert_exporter": "python",
   "pygments_lexer": "ipython3",
   "version": "3.8.6"
  },
  "toc": {
   "base_numbering": 1,
   "nav_menu": {},
   "number_sections": true,
   "sideBar": true,
   "skip_h1_title": false,
   "title_cell": "Table of Contents",
   "title_sidebar": "Contents",
   "toc_cell": false,
   "toc_position": {
    "height": "calc(100% - 180px)",
    "left": "10px",
    "top": "150px",
    "width": "384px"
   },
   "toc_section_display": true,
   "toc_window_display": true
  },
  "varInspector": {
   "cols": {
    "lenName": 16,
    "lenType": 16,
    "lenVar": 40
   },
   "kernels_config": {
    "python": {
     "delete_cmd_postfix": "",
     "delete_cmd_prefix": "del ",
     "library": "var_list.py",
     "varRefreshCmd": "print(var_dic_list())"
    },
    "r": {
     "delete_cmd_postfix": ") ",
     "delete_cmd_prefix": "rm(",
     "library": "var_list.r",
     "varRefreshCmd": "cat(var_dic_list()) "
    }
   },
   "position": {
    "height": "417.85px",
    "left": "1551px",
    "right": "20px",
    "top": "120px",
    "width": "360px"
   },
   "types_to_exclude": [
    "module",
    "function",
    "builtin_function_or_method",
    "instance",
    "_Feature"
   ],
   "window_display": true
  }
 },
 "nbformat": 4,
 "nbformat_minor": 1
}
