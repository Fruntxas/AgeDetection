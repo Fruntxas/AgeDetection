{
 "cells": [
  {
   "cell_type": "markdown",
   "metadata": {
    "heading_collapsed": true,
    "id": "begijz1M21BJ"
   },
   "source": [
    "# Imports"
   ]
  },
  {
   "cell_type": "code",
   "execution_count": 1,
   "metadata": {
    "colab": {
     "base_uri": "https://localhost:8080/"
    },
    "executionInfo": {
     "elapsed": 34640,
     "status": "ok",
     "timestamp": 1622021076357,
     "user": {
      "displayName": "Tiago Pereira",
      "photoUrl": "https://lh3.googleusercontent.com/a-/AOh14GgTc2Zjwr7wX1qdbApHL5tu_fV3A8TkRCVnZ_SH6Hk=s64",
      "userId": "17974310180584634598"
     },
     "user_tz": -60
    },
    "hidden": true,
    "id": "xJQD2C5z1tiR",
    "outputId": "a165747d-0c03-4e9c-caf4-932bc32945d6"
   },
   "outputs": [],
   "source": [
    "import os\n",
    "import cv2\n",
    "\n",
    "import numpy as np\n",
    "import pandas as pd\n",
    "import matplotlib.pyplot as plt\n",
    "import seaborn as sns\n",
    "\n",
    "import regex as re\n",
    "\n",
    "from sklearn.model_selection import train_test_split, GridSearchCV, RandomizedSearchCV\n",
    "from sklearn.metrics import classification_report, accuracy_score\n",
    "from sklearn.preprocessing import LabelEncoder\n",
    "from sklearn.svm import SVC\n",
    "from sklearn.pipeline import make_pipeline"
   ]
  },
  {
   "cell_type": "markdown",
   "metadata": {
    "id": "fBscILg3mWOE"
   },
   "source": [
    "# Loading transformed splits"
   ]
  },
  {
   "cell_type": "code",
   "execution_count": 3,
   "metadata": {},
   "outputs": [],
   "source": [
    "pca_path = \"../data/pca_files/\""
   ]
  },
  {
   "cell_type": "code",
   "execution_count": 4,
   "metadata": {
    "id": "S2jf1ZQ_nUaK"
   },
   "outputs": [
    {
     "name": "stdout",
     "output_type": "stream",
     "text": [
      "(19805, 227)\n",
      "(2201, 227)\n",
      "(19805,)\n",
      "(2201,)\n"
     ]
    }
   ],
   "source": [
    "X_test_transformed = np.load(pca_path+\"100x100x3_X_test_transformed.npy\")\n",
    "X_train_transformed = np.load(pca_path+\"100x100x3_X_train_transformed.npy\")\n",
    "y_test = np.load(pca_path+\"100x100x3_y_test.npy\")\n",
    "y_train = np.load(pca_path+\"100x100x3_y_train.npy\")\n",
    "print(X_train_transformed.shape,\".....\",y_train.shape)\n",
    "print(X_test_transformed.shape,\".....\",y_test.shape)"
   ]
  },
  {
   "cell_type": "markdown",
   "metadata": {
    "id": "TclwR2zs67ra"
   },
   "source": [
    "# Model Imports"
   ]
  },
  {
   "cell_type": "code",
   "execution_count": 5,
   "metadata": {
    "executionInfo": {
     "elapsed": 302,
     "status": "ok",
     "timestamp": 1621975645699,
     "user": {
      "displayName": "Tiago Pereira",
      "photoUrl": "https://lh3.googleusercontent.com/a-/AOh14GgTc2Zjwr7wX1qdbApHL5tu_fV3A8TkRCVnZ_SH6Hk=s64",
      "userId": "17974310180584634598"
     },
     "user_tz": -60
    },
    "id": "K253Fez5Ffx3"
   },
   "outputs": [],
   "source": [
    "from sklearn.svm import SVC\n",
    "from sklearn.ensemble import RandomForestClassifier, AdaBoostClassifier\n",
    "from sklearn.linear_model import LogisticRegression, SGDClassifier\n",
    "from sklearn.neighbors import KNeighborsClassifier, RadiusNeighborsClassifier\n",
    "from catboost import CatBoostClassifier"
   ]
  },
  {
   "cell_type": "markdown",
   "metadata": {},
   "source": [
    "## RandomForestRegressor"
   ]
  },
  {
   "cell_type": "code",
   "execution_count": null,
   "metadata": {
    "id": "X5Nw1lahlJyn"
   },
   "outputs": [
    {
     "name": "stdout",
     "output_type": "stream",
     "text": [
      "3600 in [3600, 3700, 3800, 3900]\n"
     ]
    }
   ],
   "source": [
    "accuracy = []\n",
    "\n",
    "#min_samples_leaf = [8,10,13]\n",
    "\n",
    "max_depth = [int(x) for x in np.linspace(10, 110, num = 11)]\n",
    "max_depth.append(None) # 90?\n",
    "min_weight_fraction_leaf = np.linspace(0,0.5,5)\n",
    "max_features = ['auto', 'sqrt',\"log2\"]\n",
    "\n",
    "bootstrap = [True, False]\n",
    "\n",
    "# Number of trees in random forest\n",
    "n_estimators = [int(x) for x in np.linspace(start = 3600, stop = 3900, num = 4)]\n",
    "\n",
    "#min_samples_leaf=[11,12,13,14]#np.linspace(2,30,11,dtype=\"int\")\n",
    "#,\"max_features\":[\"auto\",\"sqrt\",\"log2\"]\n",
    "\n",
    "for i in n_estimators:\n",
    "    print(i,\"in\",n_estimators)\n",
    "    # Random Forest -> 0.384\n",
    "    model = RandomForestClassifier(n_estimators = i, n_jobs = -1, criterion=\"entropy\"\n",
    "                                    ,min_samples_split=15\n",
    "                                    ,min_samples_leaf=11\n",
    "                                    ,max_depth=90\n",
    "                                    ,min_weight_fraction_leaf=0\n",
    "                                    ,)\n",
    "    model.fit(X_train_transformed, y_train)\n",
    "    y_pred = model.predict(X_test_transformed)\n",
    "    accuracy.append(accuracy_score(y_test,y_pred))"
   ]
  },
  {
   "cell_type": "code",
   "execution_count": null,
   "metadata": {},
   "outputs": [],
   "source": [
    "plt.plot(n_estimators,accuracy)"
   ]
  },
  {
   "cell_type": "code",
   "execution_count": null,
   "metadata": {},
   "outputs": [],
   "source": [
    "y_pred = model.predict(X_test_transformed)\n",
    "model.score(y_test,y_pred)"
   ]
  },
  {
   "cell_type": "markdown",
   "metadata": {},
   "source": [
    "## DecisionTree"
   ]
  },
  {
   "cell_type": "code",
   "execution_count": null,
   "metadata": {},
   "outputs": [],
   "source": [
    "accuracy = []\n",
    "\n",
    "#criterion = 'gini' # 0.207\n",
    "#splitter = 'best'\n",
    "#min_samples_leaf = [8,10,13]\n",
    "\n",
    "param_grid = {\n",
    "     #,\"min_samples_leaf\": [40,70,100]\n",
    "     #,\"max_features\":[\"auto\",\"sqrt\",\"log2\"]\n",
    "}\n",
    "\n",
    "for i in [1]:\n",
    "    print(i,\"in\",\"min_samples_leaf\")\n",
    "    # DecisionTree -> 0.231\n",
    "    #model = DecisionTreeClassifier(criterion=\"entropy\",min_samples_leaf=70,min_samples_split=70,splitter=\"best\")      \n",
    "    # RadiusNeighClassifier -> 0.164\n",
    "    #model = RadiusNeighborsClassifier(radius = 16500,n_jobs=-1,outlier_label=\"most_frequent\",weights='distance'\n",
    "    #                                  ,p=1)\n",
    "    # KNN -> 0.3 with n=22 (algo/leaf makes no diff)\n",
    "    #model = KNeighborsClassifier(n_neighbors=22,weights=\"distance\")\n",
    "    \n",
    "    model.fit(X_train_transformed, y_train)\n",
    "    y_pred = model.predict(X_test_transformed)\n",
    "    accuracy.append(accuracy_score(y_test,y_pred))"
   ]
  },
  {
   "cell_type": "code",
   "execution_count": null,
   "metadata": {},
   "outputs": [],
   "source": []
  },
  {
   "cell_type": "code",
   "execution_count": null,
   "metadata": {},
   "outputs": [],
   "source": [
    "accuracy = []\n",
    "\n",
    "#criterion = 'gini' # 0.207\n",
    "#splitter = 'best'\n",
    "#min_samples_leaf = [8,10,13]\n",
    "\n",
    "param_grid = {\n",
    "     #,\"min_samples_leaf\": [40,70,100]\n",
    "     #,\"max_features\":[\"auto\",\"sqrt\",\"log2\"]\n",
    "}\n",
    "\n",
    "for i in [1]:\n",
    "    print(i,\"in\",\"min_samples_leaf\")\n",
    "    # Random Forest -> 0.3386\n",
    "    #model = RandomForestClassifier(n_estimators = 400, n_jobs = -1, criterion=\"entropy\"\n",
    "    #                                ,min_samples_split=4\n",
    "    #                                ,min_samples_leaf=13)  \n",
    "    # DecisionTree -> 0.231\n",
    "    #model = DecisionTreeClassifier(criterion=\"entropy\",min_samples_leaf=70,min_samples_split=70,splitter=\"best\")      \n",
    "    # RadiusNeighClassifier -> 0.164\n",
    "    #model = RadiusNeighborsClassifier(radius = 16500,n_jobs=-1,outlier_label=\"most_frequent\",weights='distance'\n",
    "    #                                  ,p=1)\n",
    "    # KNN -> 0.3 with n=22 (algo/leaf makes no diff)\n",
    "    #model = KNeighborsClassifier(n_neighbors=22,weights=\"distance\")\n",
    "    \n",
    "    model.fit(X_train_transformed, y_train)\n",
    "    y_pred = model.predict(X_test_transformed)\n",
    "    accuracy.append(accuracy_score(y_test,y_pred))"
   ]
  },
  {
   "cell_type": "code",
   "execution_count": null,
   "metadata": {},
   "outputs": [],
   "source": []
  },
  {
   "cell_type": "markdown",
   "metadata": {},
   "source": [
    "#### Best (SVC)"
   ]
  },
  {
   "cell_type": "code",
   "execution_count": null,
   "metadata": {},
   "outputs": [
    {
     "name": "stdout",
     "output_type": "stream",
     "text": [
      "[LibSVM]"
     ]
    }
   ],
   "source": [
    "C = [10.75,11.25]         # C = 11 is good [10.5 - 11.5]\n",
    "accuracy = []\n",
    "\n",
    "#for i in C:\n",
    "#    print(i,\"in\",C)\n",
    "    \n",
    "    # SVC\n",
    "model = SVC(kernel=\"linear\",class_weight=\"balanced\",C = 11\n",
    "            ,cache_size=2000,verbose=10)\n",
    "\n",
    "model.fit(x, y_train)\n",
    "y_pred = model.predict(X_test_transformed)\n",
    "accuracy.append(accuracy_score(y_test,y_pred))"
   ]
  },
  {
   "cell_type": "code",
   "execution_count": 21,
   "metadata": {
    "collapsed": true
   },
   "outputs": [
    {
     "name": "stdout",
     "output_type": "stream",
     "text": [
      "[LibSVM]"
     ]
    },
    {
     "ename": "ValueError",
     "evalue": "BaseClassifier in AdaBoostClassifier ensemble is worse than random, ensemble can not be fit.",
     "output_type": "error",
     "traceback": [
      "\u001b[0;31m---------------------------------------------------------------------------\u001b[0m",
      "\u001b[0;31mValueError\u001b[0m                                Traceback (most recent call last)",
      "\u001b[0;32m<ipython-input-21-5a94337d5b0d>\u001b[0m in \u001b[0;36m<module>\u001b[0;34m\u001b[0m\n\u001b[1;32m      2\u001b[0m             ,cache_size=2000,verbose=10)\n\u001b[1;32m      3\u001b[0m \u001b[0mmodel\u001b[0m \u001b[0;34m=\u001b[0m \u001b[0mAdaBoostClassifier\u001b[0m\u001b[0;34m(\u001b[0m\u001b[0mbase_estimator\u001b[0m\u001b[0;34m=\u001b[0m\u001b[0msvc\u001b[0m\u001b[0;34m,\u001b[0m\u001b[0mn_estimators\u001b[0m\u001b[0;34m=\u001b[0m\u001b[0;36m100\u001b[0m\u001b[0;34m,\u001b[0m\u001b[0malgorithm\u001b[0m\u001b[0;34m=\u001b[0m\u001b[0;34m\"SAMME\"\u001b[0m\u001b[0;34m)\u001b[0m\u001b[0;34m\u001b[0m\u001b[0;34m\u001b[0m\u001b[0m\n\u001b[0;32m----> 4\u001b[0;31m \u001b[0mmodel\u001b[0m\u001b[0;34m.\u001b[0m\u001b[0mfit\u001b[0m\u001b[0;34m(\u001b[0m\u001b[0mX_train_transformed\u001b[0m\u001b[0;34m,\u001b[0m \u001b[0my_train\u001b[0m\u001b[0;34m)\u001b[0m\u001b[0;34m\u001b[0m\u001b[0;34m\u001b[0m\u001b[0m\n\u001b[0m\u001b[1;32m      5\u001b[0m \u001b[0my_pred\u001b[0m \u001b[0;34m=\u001b[0m \u001b[0mmodel\u001b[0m\u001b[0;34m.\u001b[0m\u001b[0mpredict\u001b[0m\u001b[0;34m(\u001b[0m\u001b[0mX_test_transformed\u001b[0m\u001b[0;34m)\u001b[0m\u001b[0;34m\u001b[0m\u001b[0;34m\u001b[0m\u001b[0m\n\u001b[1;32m      6\u001b[0m \u001b[0maccuracy_score\u001b[0m\u001b[0;34m(\u001b[0m\u001b[0my_test\u001b[0m\u001b[0;34m,\u001b[0m\u001b[0my_pred\u001b[0m\u001b[0;34m)\u001b[0m\u001b[0;34m\u001b[0m\u001b[0;34m\u001b[0m\u001b[0m\n",
      "\u001b[0;32m~/.pyenv/versions/3.8.6/envs/agedetection/lib/python3.8/site-packages/sklearn/ensemble/_weight_boosting.py\u001b[0m in \u001b[0;36mfit\u001b[0;34m(self, X, y, sample_weight)\u001b[0m\n\u001b[1;32m    441\u001b[0m \u001b[0;34m\u001b[0m\u001b[0m\n\u001b[1;32m    442\u001b[0m         \u001b[0;31m# Fit\u001b[0m\u001b[0;34m\u001b[0m\u001b[0;34m\u001b[0m\u001b[0;34m\u001b[0m\u001b[0m\n\u001b[0;32m--> 443\u001b[0;31m         \u001b[0;32mreturn\u001b[0m \u001b[0msuper\u001b[0m\u001b[0;34m(\u001b[0m\u001b[0;34m)\u001b[0m\u001b[0;34m.\u001b[0m\u001b[0mfit\u001b[0m\u001b[0;34m(\u001b[0m\u001b[0mX\u001b[0m\u001b[0;34m,\u001b[0m \u001b[0my\u001b[0m\u001b[0;34m,\u001b[0m \u001b[0msample_weight\u001b[0m\u001b[0;34m)\u001b[0m\u001b[0;34m\u001b[0m\u001b[0;34m\u001b[0m\u001b[0m\n\u001b[0m\u001b[1;32m    444\u001b[0m \u001b[0;34m\u001b[0m\u001b[0m\n\u001b[1;32m    445\u001b[0m     \u001b[0;32mdef\u001b[0m \u001b[0m_validate_estimator\u001b[0m\u001b[0;34m(\u001b[0m\u001b[0mself\u001b[0m\u001b[0;34m)\u001b[0m\u001b[0;34m:\u001b[0m\u001b[0;34m\u001b[0m\u001b[0;34m\u001b[0m\u001b[0m\n",
      "\u001b[0;32m~/.pyenv/versions/3.8.6/envs/agedetection/lib/python3.8/site-packages/sklearn/ensemble/_weight_boosting.py\u001b[0m in \u001b[0;36mfit\u001b[0;34m(self, X, y, sample_weight)\u001b[0m\n\u001b[1;32m    128\u001b[0m         \u001b[0;32mfor\u001b[0m \u001b[0miboost\u001b[0m \u001b[0;32min\u001b[0m \u001b[0mrange\u001b[0m\u001b[0;34m(\u001b[0m\u001b[0mself\u001b[0m\u001b[0;34m.\u001b[0m\u001b[0mn_estimators\u001b[0m\u001b[0;34m)\u001b[0m\u001b[0;34m:\u001b[0m\u001b[0;34m\u001b[0m\u001b[0;34m\u001b[0m\u001b[0m\n\u001b[1;32m    129\u001b[0m             \u001b[0;31m# Boosting step\u001b[0m\u001b[0;34m\u001b[0m\u001b[0;34m\u001b[0m\u001b[0;34m\u001b[0m\u001b[0m\n\u001b[0;32m--> 130\u001b[0;31m             sample_weight, estimator_weight, estimator_error = self._boost(\n\u001b[0m\u001b[1;32m    131\u001b[0m                 \u001b[0miboost\u001b[0m\u001b[0;34m,\u001b[0m\u001b[0;34m\u001b[0m\u001b[0;34m\u001b[0m\u001b[0m\n\u001b[1;32m    132\u001b[0m                 \u001b[0mX\u001b[0m\u001b[0;34m,\u001b[0m \u001b[0my\u001b[0m\u001b[0;34m,\u001b[0m\u001b[0;34m\u001b[0m\u001b[0;34m\u001b[0m\u001b[0m\n",
      "\u001b[0;32m~/.pyenv/versions/3.8.6/envs/agedetection/lib/python3.8/site-packages/sklearn/ensemble/_weight_boosting.py\u001b[0m in \u001b[0;36m_boost\u001b[0;34m(self, iboost, X, y, sample_weight, random_state)\u001b[0m\n\u001b[1;32m    504\u001b[0m \u001b[0;34m\u001b[0m\u001b[0m\n\u001b[1;32m    505\u001b[0m         \u001b[0;32melse\u001b[0m\u001b[0;34m:\u001b[0m  \u001b[0;31m# elif self.algorithm == \"SAMME\":\u001b[0m\u001b[0;34m\u001b[0m\u001b[0;34m\u001b[0m\u001b[0m\n\u001b[0;32m--> 506\u001b[0;31m             return self._boost_discrete(iboost, X, y, sample_weight,\n\u001b[0m\u001b[1;32m    507\u001b[0m                                         random_state)\n\u001b[1;32m    508\u001b[0m \u001b[0;34m\u001b[0m\u001b[0m\n",
      "\u001b[0;32m~/.pyenv/versions/3.8.6/envs/agedetection/lib/python3.8/site-packages/sklearn/ensemble/_weight_boosting.py\u001b[0m in \u001b[0;36m_boost_discrete\u001b[0;34m(self, iboost, X, y, sample_weight, random_state)\u001b[0m\n\u001b[1;32m    594\u001b[0m             \u001b[0mself\u001b[0m\u001b[0;34m.\u001b[0m\u001b[0mestimators_\u001b[0m\u001b[0;34m.\u001b[0m\u001b[0mpop\u001b[0m\u001b[0;34m(\u001b[0m\u001b[0;34m-\u001b[0m\u001b[0;36m1\u001b[0m\u001b[0;34m)\u001b[0m\u001b[0;34m\u001b[0m\u001b[0;34m\u001b[0m\u001b[0m\n\u001b[1;32m    595\u001b[0m             \u001b[0;32mif\u001b[0m \u001b[0mlen\u001b[0m\u001b[0;34m(\u001b[0m\u001b[0mself\u001b[0m\u001b[0;34m.\u001b[0m\u001b[0mestimators_\u001b[0m\u001b[0;34m)\u001b[0m \u001b[0;34m==\u001b[0m \u001b[0;36m0\u001b[0m\u001b[0;34m:\u001b[0m\u001b[0;34m\u001b[0m\u001b[0;34m\u001b[0m\u001b[0m\n\u001b[0;32m--> 596\u001b[0;31m                 raise ValueError('BaseClassifier in AdaBoostClassifier '\n\u001b[0m\u001b[1;32m    597\u001b[0m                                  \u001b[0;34m'ensemble is worse than random, ensemble '\u001b[0m\u001b[0;34m\u001b[0m\u001b[0;34m\u001b[0m\u001b[0m\n\u001b[1;32m    598\u001b[0m                                  'can not be fit.')\n",
      "\u001b[0;31mValueError\u001b[0m: BaseClassifier in AdaBoostClassifier ensemble is worse than random, ensemble can not be fit."
     ]
    }
   ],
   "source": [
    "svc = SVC(kernel=\"rbf\",class_weight=\"balanced\",C = 10.5\n",
    "            ,cache_size=2000,verbose=10)\n",
    "model = AdaBoostClassifier(base_estimator=svc,n_estimators=100,algorithm=\"SAMME\")\n",
    "model.fit(X_train_transformed, y_train)\n",
    "y_pred = model.predict(X_test_transformed)\n",
    "accuracy_score(y_test,y_pred)"
   ]
  },
  {
   "cell_type": "code",
   "execution_count": null,
   "metadata": {},
   "outputs": [],
   "source": [
    "import time\n",
    "from sklearn.ensemble import BaggingClassifier\n",
    "from sklearn.multiclass import OneVsRestClassifier\n",
    "from sklearn.svm import LinearSVC\n",
    "\n",
    "ovr_linear = OneVsRestClassifier(LinearSVC())\n",
    "ovr_linear.fit(X_train_transformed, y_train)\n",
    "end = time.time()\n",
    "print \"Single SVC\", end - start, ovr_linear.score(X_test_transformed,y_test)\n",
    "#proba = ovr_linear.predict_proba(X)\n",
    "\n",
    "n_estimators = 10\n",
    "start = time.time()\n",
    "ovr_bag_lin = OneVsRestClassifier(BaggingClassifier(LinearSVC(), max_samples=1.0 / n_estimators, n_estimators=n_estimators))\n",
    "ovr_bag_lin.fit(X_train_transformed, y_train)\n",
    "end = time.time()\n",
    "print \"Bagging SVC\", end - start, ovr_bag_lin.score(X_test_transformed,y_test)\n",
    "#proba = ovr_bag_lin.predict_proba(X)\n",
    "\n",
    "start = time.time()\n",
    "rfc = RandomForestClassifier(n_estimators = 400, n_jobs = -1, criterion=\"entropy\"\n",
    "                                    ,min_samples_split=4\n",
    "                                    ,min_samples_leaf=13)\n",
    "rfc.fit(X_train_transformed, y_train)\n",
    "end = time.time()\n",
    "print \"Random Forest\", end - start, rfc.score(X_test_transformed,y_test)\n",
    "#proba = rfc.predict_proba(X)"
   ]
  },
  {
   "cell_type": "markdown",
   "metadata": {},
   "source": [
    "#### SGDClassifier"
   ]
  },
  {
   "cell_type": "code",
   "execution_count": 29,
   "metadata": {},
   "outputs": [
    {
     "data": {
      "text/plain": [
       "0.16628805088596094"
      ]
     },
     "execution_count": 29,
     "metadata": {},
     "output_type": "execute_result"
    }
   ],
   "source": [
    "model = SGDClassifier(n_jobs=-1)\n",
    "model.fit(X_train_transformed, y_train)\n",
    "y_pred = model.predict(X_test_transformed)\n",
    "accuracy_score(y_test,y_pred)"
   ]
  },
  {
   "cell_type": "code",
   "execution_count": null,
   "metadata": {},
   "outputs": [],
   "source": []
  },
  {
   "cell_type": "code",
   "execution_count": 26,
   "metadata": {},
   "outputs": [
    {
     "data": {
      "text/plain": [
       "0.3089504770558837"
      ]
     },
     "execution_count": 26,
     "metadata": {},
     "output_type": "execute_result"
    }
   ],
   "source": [
    "accuracy_score(y_test,y_pred)"
   ]
  },
  {
   "cell_type": "code",
   "execution_count": null,
   "metadata": {},
   "outputs": [],
   "source": []
  },
  {
   "cell_type": "code",
   "execution_count": 18,
   "metadata": {
    "collapsed": true
   },
   "outputs": [
    {
     "data": {
      "text/plain": [
       "[<matplotlib.lines.Line2D at 0x7fdc36dd4460>]"
      ]
     },
     "execution_count": 18,
     "metadata": {},
     "output_type": "execute_result"
    },
    {
     "data": {
      "image/png": "[encoded data removed]",
      "text/plain": [
       "<Figure size 432x288 with 1 Axes>"
      ]
     },
     "metadata": {
      "needs_background": "light"
     },
     "output_type": "display_data"
    }
   ],
   "source": [
    "plt.plot(C,accuracy)"
   ]
  },
  {
   "cell_type": "code",
   "execution_count": null,
   "metadata": {
    "id": "XmTb1eQVl0IA"
   },
   "outputs": [],
   "source": [
    "#print(model.best_estimator_)\n",
    "y_pred = model.predict(X_test_transformed)\n",
    "print(accuracy_score(y_test,y_pred))"
   ]
  },
  {
   "cell_type": "code",
   "execution_count": 120,
   "metadata": {},
   "outputs": [
    {
     "name": "stdout",
     "output_type": "stream",
     "text": [
      "Confusion matrix:\n",
      "[[128  21  19  10   2   9   7  11   8   5]\n",
      " [ 33  39  53  14  20  19  16   8  20  13]\n",
      " [ 18  30  81  32  26  34  15  17  19  21]\n",
      " [  8  20  48  22  16  19  32  27   6  10]\n",
      " [ 11  16  42  19  20  18  23  23  14   5]\n",
      " [ 10  19  44  20  12  25  27  26  17   6]\n",
      " [ 16  11  32  18   9  28  28  31  11  16]\n",
      " [ 14  17  32  17   8  17  33  36  20  16]\n",
      " [  8  12  19   8  12  15  26  28  40  33]\n",
      " [ 18  11  13  11  14  14  19  39  40  58]]\n"
     ]
    }
   ],
   "source": [
    " "
   ]
  },
  {
   "cell_type": "code",
   "execution_count": null,
   "metadata": {
    "id": "VH3VXN2Y7MlZ"
   },
   "outputs": [],
   "source": [
    "# Fitting\n",
    "model.fit(X_train_transformed, y_train)"
   ]
  },
  {
   "cell_type": "code",
   "execution_count": null,
   "metadata": {
    "id": "he75MGk6oYYQ"
   },
   "outputs": [],
   "source": [
    "model.best_estimator_"
   ]
  },
  {
   "cell_type": "markdown",
   "metadata": {
    "id": "J9gqHRGS7nEy"
   },
   "source": [
    "### 5.3 GridSearch Classification Report"
   ]
  },
  {
   "cell_type": "code",
   "execution_count": null,
   "metadata": {
    "id": "VOF_sFoW7-gB"
   },
   "outputs": [],
   "source": [
    "pd.DataFrame(X_test_transformed)"
   ]
  },
  {
   "cell_type": "code",
   "execution_count": 35,
   "metadata": {
    "colab": {
     "base_uri": "https://localhost:8080/"
    },
    "executionInfo": {
     "elapsed": 23160,
     "status": "ok",
     "timestamp": 1621975703400,
     "user": {
      "displayName": "Tiago Pereira",
      "photoUrl": "https://lh3.googleusercontent.com/a-/AOh14GgTc2Zjwr7wX1qdbApHL5tu_fV3A8TkRCVnZ_SH6Hk=s64",
      "userId": "17974310180584634598"
     },
     "user_tz": -60
    },
    "id": "_YNJzTrR7pmf",
    "outputId": "957b84d2-b054-487a-d80e-ac857d3aa3f4"
   },
   "outputs": [
    {
     "name": "stdout",
     "output_type": "stream",
     "text": [
      "              precision    recall  f1-score   support\n",
      "\n",
      "           0       0.49      0.75      0.59       220\n",
      "           1       0.31      0.19      0.23       235\n",
      "           2       0.27      0.41      0.32       293\n",
      "           3       0.24      0.11      0.15       208\n",
      "           4       0.35      0.06      0.10       191\n",
      "           5       0.14      0.08      0.10       206\n",
      "           6       0.18      0.13      0.15       200\n",
      "           7       0.19      0.20      0.19       210\n",
      "           8       0.18      0.25      0.21       201\n",
      "           9       0.30      0.48      0.37       237\n",
      "\n",
      "    accuracy                           0.28      2201\n",
      "   macro avg       0.26      0.27      0.24      2201\n",
      "weighted avg       0.27      0.28      0.25      2201\n",
      "\n"
     ]
    }
   ],
   "source": [
    "y_pred = model.best_estimator_.predict(X_test_transformed)\n",
    "pd.DataFrame(y_pred).value_counts()\n",
    "print(classification_report(y_test, y_pred))"
   ]
  },
  {
   "cell_type": "code",
   "execution_count": 113,
   "metadata": {
    "colab": {
     "base_uri": "https://localhost:8080/"
    },
    "executionInfo": {
     "elapsed": 238,
     "status": "ok",
     "timestamp": 1621965947556,
     "user": {
      "displayName": "Tiago Pereira",
      "photoUrl": "https://lh3.googleusercontent.com/a-/AOh14GgTc2Zjwr7wX1qdbApHL5tu_fV3A8TkRCVnZ_SH6Hk=s64",
      "userId": "17974310180584634598"
     },
     "user_tz": -60
    },
    "id": "UFy-eLRttDbo",
    "outputId": "9ae050a4-e961-452b-ffa1-4cc4489e2928"
   },
   "outputs": [
    {
     "data": {
      "text/plain": [
       "array([7, 7, 7, ..., 7, 7, 7])"
      ]
     },
     "execution_count": 113,
     "metadata": {
      "tags": []
     },
     "output_type": "execute_result"
    }
   ],
   "source": [
    "y_pred"
   ]
  },
  {
   "cell_type": "code",
   "execution_count": 36,
   "metadata": {
    "executionInfo": {
     "elapsed": 13,
     "status": "ok",
     "timestamp": 1621975704218,
     "user": {
      "displayName": "Tiago Pereira",
      "photoUrl": "https://lh3.googleusercontent.com/a-/AOh14GgTc2Zjwr7wX1qdbApHL5tu_fV3A8TkRCVnZ_SH6Hk=s64",
      "userId": "17974310180584634598"
     },
     "user_tz": -60
    },
    "id": "R8R4RtM2falh"
   },
   "outputs": [],
   "source": [
    "from sklearn.metrics import accuracy_score"
   ]
  },
  {
   "cell_type": "code",
   "execution_count": 38,
   "metadata": {
    "colab": {
     "base_uri": "https://localhost:8080/"
    },
    "executionInfo": {
     "elapsed": 221,
     "status": "ok",
     "timestamp": 1621975713983,
     "user": {
      "displayName": "Tiago Pereira",
      "photoUrl": "https://lh3.googleusercontent.com/a-/AOh14GgTc2Zjwr7wX1qdbApHL5tu_fV3A8TkRCVnZ_SH6Hk=s64",
      "userId": "17974310180584634598"
     },
     "user_tz": -60
    },
    "id": "j2ncTAOhAjtw",
    "outputId": "2f506c65-8654-40d7-dc39-374b936c7f75"
   },
   "outputs": [
    {
     "data": {
      "text/plain": [
       "0.2780554293502953"
      ]
     },
     "execution_count": 38,
     "metadata": {
      "tags": []
     },
     "output_type": "execute_result"
    }
   ],
   "source": [
    "accuracy_score(y_test,y_pred)"
   ]
  },
  {
   "cell_type": "markdown",
   "metadata": {
    "id": "UAPVRUbl70s1"
   },
   "source": [
    "### 5.4 Further Improvement"
   ]
  },
  {
   "cell_type": "code",
   "execution_count": null,
   "metadata": {
    "id": "EvFqPGBN702L"
   },
   "outputs": [],
   "source": [
    "pipe = make_pipeline(PCA(),SVC(class_weight=\"balanced\"))\n",
    "param_grid = {\n",
    "    \"pca__n_components\": range(200, 600, 1),\n",
    "    \"svc__kernel\": [\"linear\"],\n",
    "    \"svc__C\": [10],#[10, 20, 50, 100, 200, 500, 1000, 2000, 5000],\n",
    "    \"svc__gamma\": [0.0001]#[0.0001, 0.0005, 0.001, 0.005, 0.01, 0.1],\n",
    "}\n",
    "\n",
    "clf = GridSearchCV(pipe, param_grid, cv=5, n_jobs=-1, scoring='f1_weighted')"
   ]
  },
  {
   "cell_type": "code",
   "execution_count": null,
   "metadata": {
    "id": "e_F_NKMu8jvS"
   },
   "outputs": [],
   "source": [
    "clf = clf.fit(X_train, y_train)"
   ]
  },
  {
   "cell_type": "code",
   "execution_count": null,
   "metadata": {
    "id": "0CCYpu918j16"
   },
   "outputs": [],
   "source": [
    "pd.DataFrame(clf.cv_results_).sort_values(by='rank_test_score').head(20)"
   ]
  },
  {
   "cell_type": "code",
   "execution_count": null,
   "metadata": {
    "id": "n8duAzyg8j8X"
   },
   "outputs": [],
   "source": [
    "clf.best_estimator_"
   ]
  },
  {
   "cell_type": "code",
   "execution_count": null,
   "metadata": {
    "id": "2U2G3LLL8ndH"
   },
   "outputs": [],
   "source": [
    "clf.best_estimator_.score(X_test, y_test)"
   ]
  },
  {
   "cell_type": "code",
   "execution_count": null,
   "metadata": {
    "id": "0pHQVFJs8nj7"
   },
   "outputs": [],
   "source": [
    "y_pred = clf.best_estimator_.predict(X_test)\n",
    "\n",
    "print(classification_report(y_test, y_pred))"
   ]
  },
  {
   "cell_type": "code",
   "execution_count": null,
   "metadata": {
    "id": "Vky_BBC-8qlm"
   },
   "outputs": [],
   "source": [
    "# Number of Components that give out the best score\n",
    "best_n_components = clf.get_params()['pca__n_components']\n",
    "best_n_components"
   ]
  },
  {
   "cell_type": "code",
   "execution_count": null,
   "metadata": {
    "id": "oUVFPmNR72ql"
   },
   "outputs": [],
   "source": []
  }
 ],
 "metadata": {
  "colab": {
   "authorship_tag": "ABX9TyMLe+i7afyYSIXYc9yJXB0j",
   "collapsed_sections": [
    "begijz1M21BJ",
    "xh00esxnXkSo",
    "RZDhTeke26JQ",
    "-G_5SX6r3c4A",
    "XXsXpdUu37zh",
    "0eFYT5hM4H7m",
    "F0r7-GVP4QkV",
    "YxINAVPg6r2W",
    "cxX3oBgTNbsU",
    "0xNInasr48tm",
    "xae0idE85I4u",
    "DjAtY0_C5QQW",
    "o84pT_xg6kTq",
    "fBscILg3mWOE",
    "UAPVRUbl70s1"
   ],
   "name": "fruntxas_colab_exploration.ipynb",
   "provenance": [],
   "toc_visible": true
  },
  "hide_input": false,
  "kernelspec": {
   "display_name": "Python 3",
   "language": "python",
   "name": "python3"
  },
  "language_info": {
   "codemirror_mode": {
    "name": "ipython",
    "version": 3
   },
   "file_extension": ".py",
   "mimetype": "text/x-python",
   "name": "python",
   "nbconvert_exporter": "python",
   "pygments_lexer": "ipython3",
   "version": "3.8.6"
  },
  "toc": {
   "base_numbering": 1,
   "nav_menu": {},
   "number_sections": true,
   "sideBar": true,
   "skip_h1_title": false,
   "title_cell": "Table of Contents",
   "title_sidebar": "Contents",
   "toc_cell": false,
   "toc_position": {
    "height": "calc(100% - 180px)",
    "left": "10px",
    "top": "150px",
    "width": "384px"
   },
   "toc_section_display": true,
   "toc_window_display": true
  },
  "varInspector": {
   "cols": {
    "lenName": 16,
    "lenType": 16,
    "lenVar": 40
   },
   "kernels_config": {
    "python": {
     "delete_cmd_postfix": "",
     "delete_cmd_prefix": "del ",
     "library": "var_list.py",
     "varRefreshCmd": "print(var_dic_list())"
    },
    "r": {
     "delete_cmd_postfix": ") ",
     "delete_cmd_prefix": "rm(",
     "library": "var_list.r",
     "varRefreshCmd": "cat(var_dic_list()) "
    }
   },
   "position": {
    "height": "417.85px",
    "left": "1551px",
    "right": "20px",
    "top": "120px",
    "width": "360px"
   },
   "types_to_exclude": [
    "module",
    "function",
    "builtin_function_or_method",
    "instance",
    "_Feature"
   ],
   "window_display": true
  }
 },
 "nbformat": 4,
 "nbformat_minor": 1
}
