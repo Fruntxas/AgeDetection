{
 "cells": [
  {
   "cell_type": "markdown",
   "metadata": {
    "id": "begijz1M21BJ"
   },
   "source": [
    "## Imports"
   ]
  },
  {
   "cell_type": "code",
   "execution_count": 24,
   "metadata": {
    "colab": {
     "base_uri": "https://localhost:8080/"
    },
    "executionInfo": {
     "elapsed": 371,
     "status": "ok",
     "timestamp": 1621877148972,
     "user": {
      "displayName": "Tiago Pereira",
      "photoUrl": "https://lh3.googleusercontent.com/a-/AOh14GgTc2Zjwr7wX1qdbApHL5tu_fV3A8TkRCVnZ_SH6Hk=s64",
      "userId": "17974310180584634598"
     },
     "user_tz": -60
    },
    "id": "xJQD2C5z1tiR",
    "outputId": "61031e96-1172-4d43-bba5-4c39a92a230b"
   },
   "outputs": [],
   "source": [
    "import os\n",
    "import cv2\n",
    "\n",
    "import numpy as np\n",
    "import pandas as pd\n",
    "import matplotlib.pyplot as plt\n",
    "import seaborn as sns\n",
    "\n",
    "import regex as re\n",
    "\n",
    "from sklearn.model_selection import train_test_split, GridSearchCV, RandomizedSearchCV\n",
    "from sklearn.metrics import classification_report, accuracy_score\n",
    "from sklearn.preprocessing import LabelEncoder\n",
    "from sklearn.svm import SVC\n",
    "from sklearn.pipeline import make_pipeline\n",
    "\n",
    "#from google.colab import drive\n",
    "#drive.mount('/content/drive/')"
   ]
  },
  {
   "cell_type": "code",
   "execution_count": null,
   "metadata": {
    "colab": {
     "base_uri": "https://localhost:8080/"
    },
    "executionInfo": {
     "elapsed": 12,
     "status": "ok",
     "timestamp": 1621854585601,
     "user": {
      "displayName": "Tiago Pereira",
      "photoUrl": "https://lh3.googleusercontent.com/a-/AOh14GgTc2Zjwr7wX1qdbApHL5tu_fV3A8TkRCVnZ_SH6Hk=s64",
      "userId": "17974310180584634598"
     },
     "user_tz": -60
    },
    "id": "G_iPNSaJSri7",
    "outputId": "27812586-b2d8-46fa-b565-0880a757b996"
   },
   "outputs": [
    {
     "name": "stdout",
     "output_type": "stream",
     "text": [
      "drive  sample_data  UTKFaces\n"
     ]
    }
   ],
   "source": [
    "!ls"
   ]
  },
  {
   "cell_type": "markdown",
   "metadata": {
    "heading_collapsed": true,
    "id": "xh00esxnXkSo"
   },
   "source": [
    "## Data Loading to Colab"
   ]
  },
  {
   "cell_type": "code",
   "execution_count": null,
   "metadata": {
    "colab": {
     "base_uri": "https://localhost:8080/"
    },
    "executionInfo": {
     "elapsed": 20,
     "status": "ok",
     "timestamp": 1621853569336,
     "user": {
      "displayName": "Tiago Pereira",
      "photoUrl": "https://lh3.googleusercontent.com/a-/AOh14GgTc2Zjwr7wX1qdbApHL5tu_fV3A8TkRCVnZ_SH6Hk=s64",
      "userId": "17974310180584634598"
     },
     "user_tz": -60
    },
    "hidden": true,
    "id": "_dDeL8WSJ97o",
    "outputId": "f3b05842-3f39-4a7c-bde4-3fffd6a4ffcd"
   },
   "outputs": [
    {
     "name": "stdout",
     "output_type": "stream",
     "text": [
      "/content/UTKFaces\n"
     ]
    }
   ],
   "source": [
    "zip_path = \"/content/drive/My Drive/UTKFace/UTKFace.zip\"\n",
    "\n",
    "!mkdir UTKFaces\n",
    "\n",
    "%cd UTKFaces"
   ]
  },
  {
   "cell_type": "code",
   "execution_count": null,
   "metadata": {
    "hidden": true,
    "id": "7cHQK5FrOT1U"
   },
   "outputs": [],
   "source": [
    "!cp \"{zip_path}\" .\n",
    "\n",
    "!unzip -q UTKFace.zip\n",
    "\n",
    "!rm UTKFace.zip"
   ]
  },
  {
   "cell_type": "markdown",
   "metadata": {
    "heading_collapsed": true,
    "id": "RZDhTeke26JQ"
   },
   "source": [
    "## Load/Show Functions"
   ]
  },
  {
   "cell_type": "code",
   "execution_count": 55,
   "metadata": {
    "hidden": true,
    "id": "c9iSYPRa11pk"
   },
   "outputs": [],
   "source": [
    "def load_images_from_folder(folder_path,height=200, width=200):\n",
    "    filenames = [f for f in os.listdir(folder_path) if not f.startswith('.')]\n",
    "    filenames.sort(key=lambda f: int(re.sub('\\D', '', f)))\n",
    "    images = []\n",
    "    \n",
    "    for filename in filenames:\n",
    "        img_cv = cv2.imread(os.path.join(folder_path,filename))\n",
    "        if img_cv is not None:\n",
    "            img = cv2.cvtColor(img_cv, cv2.COLOR_BGR2RGB)\n",
    "            img = cv2.resize(img, (height, width))\n",
    "            images.append(img)\n",
    "    return images"
   ]
  },
  {
   "cell_type": "code",
   "execution_count": 26,
   "metadata": {
    "hidden": true,
    "id": "4GoFKSDn12EF"
   },
   "outputs": [],
   "source": [
    "def load_image_data_into_dataframe(folderpath):\n",
    "    filenames = [f for f in os.listdir(folder_path)]\n",
    "    filenames.sort(key=lambda f: int(re.sub('\\D', '', f)))\n",
    "    df = pd.DataFrame()\n",
    "    \n",
    "    for filename in filenames:\n",
    "        parsed_name = filename.split('_')\n",
    "        df = df.append({'age' : int(parsed_name[0])\n",
    "                       #,'gender' : parsed_name[1],\n",
    "                       #'race' : parsed_name[2],\n",
    "                        },ignore_index=True)\n",
    "        \n",
    "    #df['gender'] = df['gender'].map({'0': 'male', '1': 'female'})\n",
    "    #df['race'] = df['race'].map({'0': 'White', '1': 'Black', '2': 'Asian', '3': 'Indian', '4': 'Others'})\n",
    "    \n",
    "    return df"
   ]
  },
  {
   "cell_type": "code",
   "execution_count": 27,
   "metadata": {
    "hidden": true,
    "id": "a4FhfWS-2rV2"
   },
   "outputs": [],
   "source": [
    "def show_images(img_list,img_df):\n",
    "    n=int(len(img_list)/5) +1 \n",
    "    f = plt.figure(figsize=(25,n*5))\n",
    "    \n",
    "    for i,img in enumerate(img_list):\n",
    "        f.add_subplot(n, 5, i + 1)\n",
    "        plt.title(f'Age: {img_df.iloc[i][\"age\"]}; Race: {img_df.iloc[i][\"race\"]} Index: {i}',\n",
    "                  fontweight=\"bold\",fontsize=15)\n",
    "        plt.imshow(img)"
   ]
  },
  {
   "cell_type": "markdown",
   "metadata": {
    "id": "4gIfJc392ry5"
   },
   "source": [
    "## Dataset Loading"
   ]
  },
  {
   "cell_type": "code",
   "execution_count": 50,
   "metadata": {
    "id": "yjzl4PLw1DH1"
   },
   "outputs": [],
   "source": [
    "folder_path = '../data/UTKFace/'"
   ]
  },
  {
   "cell_type": "code",
   "execution_count": 51,
   "metadata": {
    "colab": {
     "base_uri": "https://localhost:8080/"
    },
    "executionInfo": {
     "elapsed": 21488,
     "status": "ok",
     "timestamp": 1621873866613,
     "user": {
      "displayName": "Tiago Pereira",
      "photoUrl": "https://lh3.googleusercontent.com/a-/AOh14GgTc2Zjwr7wX1qdbApHL5tu_fV3A8TkRCVnZ_SH6Hk=s64",
      "userId": "17974310180584634598"
     },
     "user_tz": -60
    },
    "id": "E9W3XgvN170v",
    "outputId": "40e8c8f6-1ff7-4abd-ad40-06c1f27a978d"
   },
   "outputs": [
    {
     "name": "stdout",
     "output_type": "stream",
     "text": [
      "Images Loaded\n"
     ]
    }
   ],
   "source": [
    "# Loading the Images \n",
    "images=load_images_from_folder(folder_path,height=200, width=200)\n",
    "print(\"Images Loaded\")"
   ]
  },
  {
   "cell_type": "code",
   "execution_count": 30,
   "metadata": {
    "colab": {
     "base_uri": "https://localhost:8080/"
    },
    "collapsed": true,
    "executionInfo": {
     "elapsed": 62095,
     "status": "ok",
     "timestamp": 1621873744335,
     "user": {
      "displayName": "Tiago Pereira",
      "photoUrl": "https://lh3.googleusercontent.com/a-/AOh14GgTc2Zjwr7wX1qdbApHL5tu_fV3A8TkRCVnZ_SH6Hk=s64",
      "userId": "17974310180584634598"
     },
     "user_tz": -60
    },
    "id": "Y7ILGWo62naK",
    "outputId": "306a816f-c19b-41ee-8d2a-9e4d1113d980"
   },
   "outputs": [
    {
     "name": "stdout",
     "output_type": "stream",
     "text": [
      "Dataframe Loaded\n"
     ]
    }
   ],
   "source": [
    "# Loading the 3 features\n",
    "features = load_image_data_into_dataframe(folder_path)\n",
    "print(\"Dataframe Loaded\")"
   ]
  },
  {
   "cell_type": "code",
   "execution_count": 31,
   "metadata": {
    "colab": {
     "base_uri": "https://localhost:8080/"
    },
    "executionInfo": {
     "elapsed": 15,
     "status": "ok",
     "timestamp": 1621854498077,
     "user": {
      "displayName": "Tiago Pereira",
      "photoUrl": "https://lh3.googleusercontent.com/a-/AOh14GgTc2Zjwr7wX1qdbApHL5tu_fV3A8TkRCVnZ_SH6Hk=s64",
      "userId": "17974310180584634598"
     },
     "user_tz": -60
    },
    "id": "4NDJYWqt2nid",
    "outputId": "ca418f14-4bf0-40bd-fdd3-1132a0d327f6"
   },
   "outputs": [
    {
     "name": "stdout",
     "output_type": "stream",
     "text": [
      "22006\n",
      "(200, 200, 3)\n",
      "22006\n"
     ]
    }
   ],
   "source": [
    "print(len(images))\n",
    "print(images[0].shape)\n",
    "print(len(features))"
   ]
  },
  {
   "cell_type": "markdown",
   "metadata": {
    "heading_collapsed": true,
    "id": "-G_5SX6r3c4A"
   },
   "source": [
    "## Visualization"
   ]
  },
  {
   "cell_type": "code",
   "execution_count": null,
   "metadata": {
    "hidden": true,
    "id": "_CsEoMIQ2nlN"
   },
   "outputs": [],
   "source": [
    "#show_images(images[500:520],features.iloc[500:520])"
   ]
  },
  {
   "cell_type": "markdown",
   "metadata": {
    "heading_collapsed": true,
    "id": "U7rAO3Qi3hN3"
   },
   "source": [
    "## Distribution"
   ]
  },
  {
   "cell_type": "code",
   "execution_count": null,
   "metadata": {
    "hidden": true,
    "id": "ACu22OTV2noA"
   },
   "outputs": [],
   "source": [
    "f = plt.figure(figsize=(25,15))\n",
    "bins_value=[1,5,19,25,27,30,34,39,49,59,80]\n",
    "bins_value=[1,2,5,11,19,24,26,27,29,31,34,36,39,44,50,55,61,70,80]\n",
    "#bins_value = list(range(0,85,5))\n",
    "\n",
    "# Age Histogram\n",
    "f.add_subplot(211)\n",
    "sns.histplot(data=features,x = 'age', bins=bins_value)\n",
    "plt.title('Age Distribution',fontweight=\"bold\",fontsize=30)\n",
    "plt.xlabel('Age',fontsize=20)\n",
    "plt.ylabel('Frequency',fontsize=20)\n",
    "plt.xticks(bins_value, rotation = 25)\n",
    "\n",
    "# Gender Histogram\n",
    "f.add_subplot(223)\n",
    "sns.histplot(features['gender'])\n",
    "plt.title('Gender Distribution',fontweight=\"bold\",fontsize=30)\n",
    "plt.xlabel('Gender',fontsize=20)\n",
    "plt.ylabel('Frequency',fontsize=20)\n",
    "\n",
    "# Race Histogram\n",
    "f.add_subplot(224)\n",
    "sns.histplot(features['race'])\n",
    "plt.title('Race Distribution',fontweight=\"bold\",fontsize=30)\n",
    "plt.xlabel('Race',fontsize=20)\n",
    "plt.ylabel('Frequency',fontsize=20)\n",
    "plt.xticks()\n",
    "\n",
    "plt.show()"
   ]
  },
  {
   "cell_type": "markdown",
   "metadata": {
    "id": "XXsXpdUu37zh"
   },
   "source": [
    "## Variable Setup"
   ]
  },
  {
   "cell_type": "markdown",
   "metadata": {
    "id": "ybmBGT5B4CE9"
   },
   "source": [
    "**1**. Flatten the images **(200,200,3)**\n",
    "2. Labelling the target **1st Model (Age).**\n",
    "3. PCA-Only Analysis\n",
    "4. Splitting the Data\n",
    "Later. Age is to be binned on **5y intervals** ([1,5],[6,10],[11,15],...,...,[76,80])\n",
    "Later. To check: Verify if **(Age, Sex and Race)** can also be used as inputs"
   ]
  },
  {
   "cell_type": "markdown",
   "metadata": {
    "id": "0eFYT5hM4H7m"
   },
   "source": [
    "### Flatenning"
   ]
  },
  {
   "cell_type": "code",
   "execution_count": 52,
   "metadata": {
    "colab": {
     "base_uri": "https://localhost:8080/"
    },
    "executionInfo": {
     "elapsed": 4126,
     "status": "ok",
     "timestamp": 1621873870727,
     "user": {
      "displayName": "Tiago Pereira",
      "photoUrl": "https://lh3.googleusercontent.com/a-/AOh14GgTc2Zjwr7wX1qdbApHL5tu_fV3A8TkRCVnZ_SH6Hk=s64",
      "userId": "17974310180584634598"
     },
     "user_tz": -60
    },
    "id": "KXMreRGM2nqo",
    "outputId": "3d9a20a9-549c-475e-f29e-e648f2b888a3"
   },
   "outputs": [],
   "source": [
    "img_array = np.array(images)"
   ]
  },
  {
   "cell_type": "code",
   "execution_count": 33,
   "metadata": {
    "colab": {
     "base_uri": "https://localhost:8080/"
    },
    "executionInfo": {
     "elapsed": 3762,
     "status": "ok",
     "timestamp": 1621873874478,
     "user": {
      "displayName": "Tiago Pereira",
      "photoUrl": "https://lh3.googleusercontent.com/a-/AOh14GgTc2Zjwr7wX1qdbApHL5tu_fV3A8TkRCVnZ_SH6Hk=s64",
      "userId": "17974310180584634598"
     },
     "user_tz": -60
    },
    "id": "Ifhg8oeH2ns8",
    "outputId": "e8637a45-a9d4-4fc6-ee6e-5c3039e5aa31"
   },
   "outputs": [
    {
     "data": {
      "text/plain": [
       "(22006, 120000)"
      ]
     },
     "execution_count": 33,
     "metadata": {},
     "output_type": "execute_result"
    }
   ],
   "source": [
    "X = img_array.flatten().reshape(22006, img_array.shape[1]*img_array.shape[2]*img_array.shape[3])\n",
    "X.shape"
   ]
  },
  {
   "cell_type": "code",
   "execution_count": 15,
   "metadata": {
    "executionInfo": {
     "elapsed": 15,
     "status": "ok",
     "timestamp": 1621873874481,
     "user": {
      "displayName": "Tiago Pereira",
      "photoUrl": "https://lh3.googleusercontent.com/a-/AOh14GgTc2Zjwr7wX1qdbApHL5tu_fV3A8TkRCVnZ_SH6Hk=s64",
      "userId": "17974310180584634598"
     },
     "user_tz": -60
    },
    "id": "JEfpm_rIEZZy"
   },
   "outputs": [],
   "source": [
    "del img_array\n",
    "del images"
   ]
  },
  {
   "cell_type": "markdown",
   "metadata": {
    "heading_collapsed": true,
    "id": "F0r7-GVP4QkV"
   },
   "source": [
    "### Labeling Age"
   ]
  },
  {
   "cell_type": "code",
   "execution_count": 6,
   "metadata": {
    "executionInfo": {
     "elapsed": 26,
     "status": "ok",
     "timestamp": 1621873744339,
     "user": {
      "displayName": "Tiago Pereira",
      "photoUrl": "https://lh3.googleusercontent.com/a-/AOh14GgTc2Zjwr7wX1qdbApHL5tu_fV3A8TkRCVnZ_SH6Hk=s64",
      "userId": "17974310180584634598"
     },
     "user_tz": -60
    },
    "hidden": true,
    "id": "hke7O-u14TDY"
   },
   "outputs": [],
   "source": [
    "features[\"age_group\"] = pd.qcut(features['age'],10)"
   ]
  },
  {
   "cell_type": "code",
   "execution_count": 7,
   "metadata": {
    "hidden": true,
    "id": "9odB_O1ncOTA"
   },
   "outputs": [
    {
     "data": {
      "text/html": [
       "<div>\n",
       "<style scoped>\n",
       "    .dataframe tbody tr th:only-of-type {\n",
       "        vertical-align: middle;\n",
       "    }\n",
       "\n",
       "    .dataframe tbody tr th {\n",
       "        vertical-align: top;\n",
       "    }\n",
       "\n",
       "    .dataframe thead th {\n",
       "        text-align: right;\n",
       "    }\n",
       "</style>\n",
       "<table border=\"1\" class=\"dataframe\">\n",
       "  <thead>\n",
       "    <tr style=\"text-align: right;\">\n",
       "      <th></th>\n",
       "      <th>age</th>\n",
       "      <th>age_group</th>\n",
       "    </tr>\n",
       "  </thead>\n",
       "  <tbody>\n",
       "    <tr>\n",
       "      <th>0</th>\n",
       "      <td>1.0</td>\n",
       "      <td>(0.999, 5.0]</td>\n",
       "    </tr>\n",
       "    <tr>\n",
       "      <th>1</th>\n",
       "      <td>1.0</td>\n",
       "      <td>(0.999, 5.0]</td>\n",
       "    </tr>\n",
       "    <tr>\n",
       "      <th>2</th>\n",
       "      <td>1.0</td>\n",
       "      <td>(0.999, 5.0]</td>\n",
       "    </tr>\n",
       "    <tr>\n",
       "      <th>3</th>\n",
       "      <td>1.0</td>\n",
       "      <td>(0.999, 5.0]</td>\n",
       "    </tr>\n",
       "    <tr>\n",
       "      <th>4</th>\n",
       "      <td>1.0</td>\n",
       "      <td>(0.999, 5.0]</td>\n",
       "    </tr>\n",
       "  </tbody>\n",
       "</table>\n",
       "</div>"
      ],
      "text/plain": [
       "   age     age_group\n",
       "0  1.0  (0.999, 5.0]\n",
       "1  1.0  (0.999, 5.0]\n",
       "2  1.0  (0.999, 5.0]\n",
       "3  1.0  (0.999, 5.0]\n",
       "4  1.0  (0.999, 5.0]"
      ]
     },
     "execution_count": 7,
     "metadata": {},
     "output_type": "execute_result"
    }
   ],
   "source": [
    "features.head()"
   ]
  },
  {
   "cell_type": "code",
   "execution_count": 8,
   "metadata": {
    "executionInfo": {
     "elapsed": 21,
     "status": "ok",
     "timestamp": 1621873744341,
     "user": {
      "displayName": "Tiago Pereira",
      "photoUrl": "https://lh3.googleusercontent.com/a-/AOh14GgTc2Zjwr7wX1qdbApHL5tu_fV3A8TkRCVnZ_SH6Hk=s64",
      "userId": "17974310180584634598"
     },
     "user_tz": -60
    },
    "hidden": true,
    "id": "Bxum_lDBcXiu"
   },
   "outputs": [],
   "source": [
    "lbl = LabelEncoder()"
   ]
  },
  {
   "cell_type": "code",
   "execution_count": 9,
   "metadata": {
    "colab": {
     "base_uri": "https://localhost:8080/"
    },
    "executionInfo": {
     "elapsed": 1151,
     "status": "ok",
     "timestamp": 1621873745474,
     "user": {
      "displayName": "Tiago Pereira",
      "photoUrl": "https://lh3.googleusercontent.com/a-/AOh14GgTc2Zjwr7wX1qdbApHL5tu_fV3A8TkRCVnZ_SH6Hk=s64",
      "userId": "17974310180584634598"
     },
     "user_tz": -60
    },
    "hidden": true,
    "id": "I3xkwVatcXse",
    "outputId": "b471c519-9d28-49a4-f162-65444d6b8a4d"
   },
   "outputs": [
    {
     "data": {
      "text/plain": [
       "LabelEncoder()"
      ]
     },
     "execution_count": 9,
     "metadata": {},
     "output_type": "execute_result"
    }
   ],
   "source": [
    "lbl.fit(features['age_group'])"
   ]
  },
  {
   "cell_type": "code",
   "execution_count": 10,
   "metadata": {
    "executionInfo": {
     "elapsed": 12,
     "status": "ok",
     "timestamp": 1621873745475,
     "user": {
      "displayName": "Tiago Pereira",
      "photoUrl": "https://lh3.googleusercontent.com/a-/AOh14GgTc2Zjwr7wX1qdbApHL5tu_fV3A8TkRCVnZ_SH6Hk=s64",
      "userId": "17974310180584634598"
     },
     "user_tz": -60
    },
    "hidden": true,
    "id": "cqdJGZQMcXxE"
   },
   "outputs": [],
   "source": [
    "y = lbl.transform(features['age_group'])"
   ]
  },
  {
   "cell_type": "code",
   "execution_count": 20,
   "metadata": {
    "hidden": true
   },
   "outputs": [
    {
     "ename": "AttributeError",
     "evalue": "'numpy.ndarray' object has no attribute 'value'",
     "output_type": "error",
     "traceback": [
      "\u001b[0;31m---------------------------------------------------------------------------\u001b[0m",
      "\u001b[0;31mAttributeError\u001b[0m                            Traceback (most recent call last)",
      "\u001b[0;32m<ipython-input-20-1bf17f9f015f>\u001b[0m in \u001b[0;36m<module>\u001b[0;34m\u001b[0m\n\u001b[0;32m----> 1\u001b[0;31m \u001b[0my\u001b[0m\u001b[0;34m.\u001b[0m\u001b[0mvalue\u001b[0m\u001b[0;34m\u001b[0m\u001b[0;34m\u001b[0m\u001b[0m\n\u001b[0m",
      "\u001b[0;31mAttributeError\u001b[0m: 'numpy.ndarray' object has no attribute 'value'"
     ]
    }
   ],
   "source": [
    "y"
   ]
  },
  {
   "cell_type": "code",
   "execution_count": null,
   "metadata": {
    "hidden": true
   },
   "outputs": [],
   "source": []
  },
  {
   "cell_type": "code",
   "execution_count": null,
   "metadata": {
    "hidden": true
   },
   "outputs": [],
   "source": []
  },
  {
   "cell_type": "code",
   "execution_count": null,
   "metadata": {
    "hidden": true
   },
   "outputs": [],
   "source": []
  },
  {
   "cell_type": "code",
   "execution_count": 21,
   "metadata": {
    "executionInfo": {
     "elapsed": 960,
     "status": "ok",
     "timestamp": 1621873770311,
     "user": {
      "displayName": "Tiago Pereira",
      "photoUrl": "https://lh3.googleusercontent.com/a-/AOh14GgTc2Zjwr7wX1qdbApHL5tu_fV3A8TkRCVnZ_SH6Hk=s64",
      "userId": "17974310180584634598"
     },
     "user_tz": -60
    },
    "hidden": true,
    "id": "HoCnsW5rEg3V"
   },
   "outputs": [],
   "source": [
    "del features\n",
    "del lbl"
   ]
  },
  {
   "cell_type": "markdown",
   "metadata": {
    "id": "UwUDw5Fp4pf9"
   },
   "source": [
    "## PCA-Only Analysis"
   ]
  },
  {
   "cell_type": "markdown",
   "metadata": {
    "id": "uU1b5AAu8AOk"
   },
   "source": [
    "#### Incremental PCA on partial_fit"
   ]
  },
  {
   "cell_type": "code",
   "execution_count": 35,
   "metadata": {
    "id": "ofyDaWuF8AOl"
   },
   "outputs": [],
   "source": [
    "from sklearn.decomposition import IncrementalPCA"
   ]
  },
  {
   "cell_type": "code",
   "execution_count": 42,
   "metadata": {
    "colab": {
     "base_uri": "https://localhost:8080/"
    },
    "executionInfo": {
     "elapsed": 24,
     "status": "ok",
     "timestamp": 1621850280488,
     "user": {
      "displayName": "Tiago Pereira",
      "photoUrl": "https://lh3.googleusercontent.com/a-/AOh14GgTc2Zjwr7wX1qdbApHL5tu_fV3A8TkRCVnZ_SH6Hk=s64",
      "userId": "17974310180584634598"
     },
     "user_tz": -60
    },
    "id": "ZHPUgjEg8AOm",
    "outputId": "7d5ed68b-14f4-4249-d1c3-49ef5b30ca3d"
   },
   "outputs": [
    {
     "name": "stdout",
     "output_type": "stream",
     "text": [
      "22\n"
     ]
    }
   ],
   "source": [
    "num_rows, num_columns = X.shape\n",
    "#batch_size = 1000     # how many rows at a time to feed ipca\n",
    "n_components = 245\n",
    "\n",
    "pca = IncrementalPCA(copy=False,\n",
    "                  n_components=n_components\n",
    "                  ,batch_size=1000)\n",
    "\n",
    "print(num_rows // batch_size)"
   ]
  },
  {
   "cell_type": "code",
   "execution_count": 44,
   "metadata": {},
   "outputs": [
    {
     "data": {
      "text/plain": [
       "IncrementalPCA(batch_size=1000, copy=False, n_components=245)"
      ]
     },
     "execution_count": 44,
     "metadata": {},
     "output_type": "execute_result"
    }
   ],
   "source": [
    "pca.partial_fit(X[:500])"
   ]
  },
  {
   "cell_type": "code",
   "execution_count": 38,
   "metadata": {
    "colab": {
     "base_uri": "https://localhost:8080/"
    },
    "collapsed": true,
    "executionInfo": {
     "elapsed": 2388992,
     "status": "ok",
     "timestamp": 1621852669457,
     "user": {
      "displayName": "Tiago Pereira",
      "photoUrl": "https://lh3.googleusercontent.com/a-/AOh14GgTc2Zjwr7wX1qdbApHL5tu_fV3A8TkRCVnZ_SH6Hk=s64",
      "userId": "17974310180584634598"
     },
     "user_tz": -60
    },
    "id": "-WA0-kBd8AOo",
    "outputId": "ce0029f1-abb7-4c2b-e9a7-8300a45e8b26"
   },
   "outputs": [
    {
     "name": "stdout",
     "output_type": "stream",
     "text": [
      "0 / 22\n",
      "1 / 22\n"
     ]
    },
    {
     "ename": "KeyboardInterrupt",
     "evalue": "",
     "output_type": "error",
     "traceback": [
      "\u001b[0;31m---------------------------------------------------------------------------\u001b[0m",
      "\u001b[0;31mKeyboardInterrupt\u001b[0m                         Traceback (most recent call last)",
      "\u001b[0;32m<ipython-input-38-eb681b6a6973>\u001b[0m in \u001b[0;36m<module>\u001b[0;34m\u001b[0m\n\u001b[1;32m      1\u001b[0m \u001b[0;32mfor\u001b[0m \u001b[0mi\u001b[0m \u001b[0;32min\u001b[0m \u001b[0mrange\u001b[0m\u001b[0;34m(\u001b[0m\u001b[0;36m0\u001b[0m\u001b[0;34m,\u001b[0m \u001b[0mnum_rows\u001b[0m\u001b[0;34m//\u001b[0m\u001b[0mbatch_size\u001b[0m\u001b[0;34m)\u001b[0m\u001b[0;34m:\u001b[0m\u001b[0;34m\u001b[0m\u001b[0;34m\u001b[0m\u001b[0m\n\u001b[1;32m      2\u001b[0m     \u001b[0mprint\u001b[0m\u001b[0;34m(\u001b[0m\u001b[0mi\u001b[0m\u001b[0;34m,\u001b[0m\u001b[0;34m\"/\"\u001b[0m\u001b[0;34m,\u001b[0m\u001b[0mnum_rows\u001b[0m\u001b[0;34m//\u001b[0m\u001b[0mbatch_size\u001b[0m\u001b[0;34m)\u001b[0m\u001b[0;34m\u001b[0m\u001b[0;34m\u001b[0m\u001b[0m\n\u001b[0;32m----> 3\u001b[0;31m     \u001b[0mpca\u001b[0m\u001b[0;34m.\u001b[0m\u001b[0mpartial_fit\u001b[0m\u001b[0;34m(\u001b[0m\u001b[0mX\u001b[0m\u001b[0;34m[\u001b[0m\u001b[0mi\u001b[0m\u001b[0;34m*\u001b[0m\u001b[0mbatch_size\u001b[0m \u001b[0;34m:\u001b[0m \u001b[0;34m(\u001b[0m\u001b[0mi\u001b[0m\u001b[0;34m+\u001b[0m\u001b[0;36m1\u001b[0m\u001b[0;34m)\u001b[0m\u001b[0;34m*\u001b[0m\u001b[0mbatch_size\u001b[0m\u001b[0;34m]\u001b[0m\u001b[0;34m)\u001b[0m\u001b[0;34m\u001b[0m\u001b[0;34m\u001b[0m\u001b[0m\n\u001b[0m",
      "\u001b[0;32m~/.pyenv/versions/3.8.6/envs/agedetection/lib/python3.8/site-packages/sklearn/decomposition/_incremental_pca.py\u001b[0m in \u001b[0;36mpartial_fit\u001b[0;34m(self, X, y, check_input)\u001b[0m\n\u001b[1;32m    299\u001b[0m                            self.components_, X, mean_correction))\n\u001b[1;32m    300\u001b[0m \u001b[0;34m\u001b[0m\u001b[0m\n\u001b[0;32m--> 301\u001b[0;31m         \u001b[0mU\u001b[0m\u001b[0;34m,\u001b[0m \u001b[0mS\u001b[0m\u001b[0;34m,\u001b[0m \u001b[0mVt\u001b[0m \u001b[0;34m=\u001b[0m \u001b[0mlinalg\u001b[0m\u001b[0;34m.\u001b[0m\u001b[0msvd\u001b[0m\u001b[0;34m(\u001b[0m\u001b[0mX\u001b[0m\u001b[0;34m,\u001b[0m \u001b[0mfull_matrices\u001b[0m\u001b[0;34m=\u001b[0m\u001b[0;32mFalse\u001b[0m\u001b[0;34m,\u001b[0m \u001b[0mcheck_finite\u001b[0m\u001b[0;34m=\u001b[0m\u001b[0;32mFalse\u001b[0m\u001b[0;34m)\u001b[0m\u001b[0;34m\u001b[0m\u001b[0;34m\u001b[0m\u001b[0m\n\u001b[0m\u001b[1;32m    302\u001b[0m         \u001b[0mU\u001b[0m\u001b[0;34m,\u001b[0m \u001b[0mVt\u001b[0m \u001b[0;34m=\u001b[0m \u001b[0msvd_flip\u001b[0m\u001b[0;34m(\u001b[0m\u001b[0mU\u001b[0m\u001b[0;34m,\u001b[0m \u001b[0mVt\u001b[0m\u001b[0;34m,\u001b[0m \u001b[0mu_based_decision\u001b[0m\u001b[0;34m=\u001b[0m\u001b[0;32mFalse\u001b[0m\u001b[0;34m)\u001b[0m\u001b[0;34m\u001b[0m\u001b[0;34m\u001b[0m\u001b[0m\n\u001b[1;32m    303\u001b[0m         \u001b[0mexplained_variance\u001b[0m \u001b[0;34m=\u001b[0m \u001b[0mS\u001b[0m \u001b[0;34m**\u001b[0m \u001b[0;36m2\u001b[0m \u001b[0;34m/\u001b[0m \u001b[0;34m(\u001b[0m\u001b[0mn_total_samples\u001b[0m \u001b[0;34m-\u001b[0m \u001b[0;36m1\u001b[0m\u001b[0;34m)\u001b[0m\u001b[0;34m\u001b[0m\u001b[0;34m\u001b[0m\u001b[0m\n",
      "\u001b[0;32m~/.pyenv/versions/3.8.6/envs/agedetection/lib/python3.8/site-packages/scipy/linalg/decomp_svd.py\u001b[0m in \u001b[0;36msvd\u001b[0;34m(a, full_matrices, compute_uv, overwrite_a, check_finite, lapack_driver)\u001b[0m\n\u001b[1;32m    123\u001b[0m \u001b[0;34m\u001b[0m\u001b[0m\n\u001b[1;32m    124\u001b[0m     \u001b[0;31m# perform decomposition\u001b[0m\u001b[0;34m\u001b[0m\u001b[0;34m\u001b[0m\u001b[0;34m\u001b[0m\u001b[0m\n\u001b[0;32m--> 125\u001b[0;31m     u, s, v, info = gesXd(a1, compute_uv=compute_uv, lwork=lwork,\n\u001b[0m\u001b[1;32m    126\u001b[0m                           full_matrices=full_matrices, overwrite_a=overwrite_a)\n\u001b[1;32m    127\u001b[0m \u001b[0;34m\u001b[0m\u001b[0m\n",
      "\u001b[0;31mKeyboardInterrupt\u001b[0m: "
     ]
    }
   ],
   "source": [
    "#for i in range(0, num_rows//batch_size):\n",
    "#    print(i,\"/\",num_rows//batch_size)\n",
    "#    pca.partial_fit(X[i*batch_size : (i+1)*batch_size])"
   ]
  },
  {
   "cell_type": "code",
   "execution_count": null,
   "metadata": {
    "id": "HRFg-J738AOp"
   },
   "outputs": [],
   "source": [
    "#data_projected = np.zeros((num_rows,n_components))"
   ]
  },
  {
   "cell_type": "code",
   "execution_count": null,
   "metadata": {
    "colab": {
     "base_uri": "https://localhost:8080/"
    },
    "collapsed": true,
    "executionInfo": {
     "elapsed": 227,
     "status": "ok",
     "timestamp": 1621852758230,
     "user": {
      "displayName": "Tiago Pereira",
      "photoUrl": "https://lh3.googleusercontent.com/a-/AOh14GgTc2Zjwr7wX1qdbApHL5tu_fV3A8TkRCVnZ_SH6Hk=s64",
      "userId": "17974310180584634598"
     },
     "user_tz": -60
    },
    "id": "8XDC6ezJNiT_",
    "outputId": "c47a1af1-d1e1-4f7e-e490-f7790d37c52b"
   },
   "outputs": [
    {
     "data": {
      "text/plain": [
       "(22006, 500)"
      ]
     },
     "execution_count": 32,
     "metadata": {
      "tags": []
     },
     "output_type": "execute_result"
    }
   ],
   "source": [
    "#data_projected.shape"
   ]
  },
  {
   "cell_type": "code",
   "execution_count": null,
   "metadata": {
    "id": "_SE80QocNfwd"
   },
   "outputs": [],
   "source": [
    "#for i in range(0,num_rows//batch_size):\n",
    "#    data_projected[i*batch_size:(i+1) * batch_size] = pca.transform(X[i*batch_size : (i+1)*batch_size])"
   ]
  },
  {
   "cell_type": "markdown",
   "metadata": {
    "heading_collapsed": true,
    "id": "YxINAVPg6r2W"
   },
   "source": [
    "#### TruncatedSVD"
   ]
  },
  {
   "cell_type": "code",
   "execution_count": null,
   "metadata": {
    "hidden": true,
    "id": "9G059_u066oa"
   },
   "outputs": [],
   "source": [
    "from sklearn.decomposition import TruncatedSVD"
   ]
  },
  {
   "cell_type": "code",
   "execution_count": null,
   "metadata": {
    "hidden": true,
    "id": "PJmNqgqh66rV"
   },
   "outputs": [],
   "source": [
    "svd = TruncatedSVD(n_components=250)"
   ]
  },
  {
   "cell_type": "code",
   "execution_count": null,
   "metadata": {
    "hidden": true,
    "id": "epVNGxJ566uL"
   },
   "outputs": [],
   "source": [
    "svd.fit(images_input)"
   ]
  },
  {
   "cell_type": "code",
   "execution_count": null,
   "metadata": {
    "hidden": true,
    "id": "TsLO8jIm66xH"
   },
   "outputs": [],
   "source": [
    "data_projected = svd.transform(images_input)"
   ]
  },
  {
   "cell_type": "markdown",
   "metadata": {
    "heading_collapsed": true,
    "id": "cxX3oBgTNbsU"
   },
   "source": [
    "### Model Saving"
   ]
  },
  {
   "cell_type": "code",
   "execution_count": null,
   "metadata": {
    "hidden": true,
    "id": "7uYmzo8voVcj"
   },
   "outputs": [],
   "source": [
    "import joblib"
   ]
  },
  {
   "cell_type": "code",
   "execution_count": null,
   "metadata": {
    "colab": {
     "base_uri": "https://localhost:8080/"
    },
    "executionInfo": {
     "elapsed": 200,
     "status": "ok",
     "timestamp": 1621803284917,
     "user": {
      "displayName": "Tiago Pereira",
      "photoUrl": "https://lh3.googleusercontent.com/a-/AOh14GgTc2Zjwr7wX1qdbApHL5tu_fV3A8TkRCVnZ_SH6Hk=s64",
      "userId": "17974310180584634598"
     },
     "user_tz": -60
    },
    "hidden": true,
    "id": "gCTJTdiAAbwJ",
    "outputId": "523020b9-91bd-41ca-f08b-9855b68450a4"
   },
   "outputs": [
    {
     "name": "stdout",
     "output_type": "stream",
     "text": [
      "drive  sample_data  UTKFaces\n"
     ]
    }
   ],
   "source": [
    "!ls"
   ]
  },
  {
   "cell_type": "code",
   "execution_count": null,
   "metadata": {
    "colab": {
     "base_uri": "https://localhost:8080/",
     "height": 36
    },
    "executionInfo": {
     "elapsed": 336,
     "status": "ok",
     "timestamp": 1621791339602,
     "user": {
      "displayName": "Tiago Pereira",
      "photoUrl": "https://lh3.googleusercontent.com/a-/AOh14GgTc2Zjwr7wX1qdbApHL5tu_fV3A8TkRCVnZ_SH6Hk=s64",
      "userId": "17974310180584634598"
     },
     "user_tz": -60
    },
    "hidden": true,
    "id": "aiZfzv7US5q4",
    "outputId": "00a182f2-5f00-4f48-fb55-33a5dc817b39"
   },
   "outputs": [
    {
     "data": {
      "application/vnd.google.colaboratory.intrinsic+json": {
       "type": "string"
      },
      "text/plain": [
       "'ipca_1000.joblib'"
      ]
     },
     "execution_count": 34,
     "metadata": {
      "tags": []
     },
     "output_type": "execute_result"
    }
   ],
   "source": [
    "%model_name = \"ipca_\"+str(n_components)+\".joblib\"\n",
    "model_name"
   ]
  },
  {
   "cell_type": "code",
   "execution_count": null,
   "metadata": {
    "colab": {
     "base_uri": "https://localhost:8080/"
    },
    "executionInfo": {
     "elapsed": 3974,
     "status": "ok",
     "timestamp": 1621791351692,
     "user": {
      "displayName": "Tiago Pereira",
      "photoUrl": "https://lh3.googleusercontent.com/a-/AOh14GgTc2Zjwr7wX1qdbApHL5tu_fV3A8TkRCVnZ_SH6Hk=s64",
      "userId": "17974310180584634598"
     },
     "user_tz": -60
    },
    "hidden": true,
    "id": "esZl1CKKNfEt",
    "outputId": "f62f9b38-032c-4e82-d1bb-4002a2a00bc0"
   },
   "outputs": [
    {
     "data": {
      "text/plain": [
       "['ipca_1000.joblib']"
      ]
     },
     "execution_count": 35,
     "metadata": {
      "tags": []
     },
     "output_type": "execute_result"
    }
   ],
   "source": [
    "model_name = \"ipca_\"+str(n_components)+\".joblib\"\n",
    "joblib.dump(pca, model_name)"
   ]
  },
  {
   "cell_type": "code",
   "execution_count": null,
   "metadata": {
    "colab": {
     "base_uri": "https://localhost:8080/"
    },
    "executionInfo": {
     "elapsed": 337,
     "status": "ok",
     "timestamp": 1621791354860,
     "user": {
      "displayName": "Tiago Pereira",
      "photoUrl": "https://lh3.googleusercontent.com/a-/AOh14GgTc2Zjwr7wX1qdbApHL5tu_fV3A8TkRCVnZ_SH6Hk=s64",
      "userId": "17974310180584634598"
     },
     "user_tz": -60
    },
    "hidden": true,
    "id": "KaByDAUNNfHo",
    "outputId": "83657415-0eae-4941-eb87-69b0bba11370"
   },
   "outputs": [
    {
     "name": "stdout",
     "output_type": "stream",
     "text": [
      "drive  ipca_1000.joblib  sample_data  UTKFaces\n"
     ]
    }
   ],
   "source": [
    "!ls"
   ]
  },
  {
   "cell_type": "markdown",
   "metadata": {
    "id": "sy_toGmNVOAn"
   },
   "source": [
    "### 3. PCA Analysis"
   ]
  },
  {
   "cell_type": "markdown",
   "metadata": {
    "heading_collapsed": true,
    "id": "0xNInasr48tm"
   },
   "source": [
    "#### PCA Reconstruction"
   ]
  },
  {
   "cell_type": "code",
   "execution_count": null,
   "metadata": {
    "hidden": true,
    "id": "TU3SWWbC40Tn"
   },
   "outputs": [],
   "source": [
    "#data_reconstruced = pca.inverse_transform(data_projected[:200])\n",
    "#data_reconstruced.shape"
   ]
  },
  {
   "cell_type": "code",
   "execution_count": null,
   "metadata": {
    "hidden": true,
    "id": "45RkFtD5zUG9"
   },
   "outputs": [],
   "source": [
    "data_reconstruced = np.zeros((num_rows,num_columns))"
   ]
  },
  {
   "cell_type": "code",
   "execution_count": null,
   "metadata": {
    "colab": {
     "base_uri": "https://localhost:8080/",
     "height": 189
    },
    "collapsed": true,
    "executionInfo": {
     "elapsed": 2635,
     "status": "error",
     "timestamp": 1621850119147,
     "user": {
      "displayName": "Tiago Pereira",
      "photoUrl": "https://lh3.googleusercontent.com/a-/AOh14GgTc2Zjwr7wX1qdbApHL5tu_fV3A8TkRCVnZ_SH6Hk=s64",
      "userId": "17974310180584634598"
     },
     "user_tz": -60
    },
    "hidden": true,
    "id": "D54gvKRRzFU7",
    "outputId": "a233b689-6fe6-49f1-916a-2e7be9e8172d"
   },
   "outputs": [
    {
     "ename": "NameError",
     "evalue": "ignored",
     "output_type": "error",
     "traceback": [
      "\u001b[0;31m---------------------------------------------------------------------------\u001b[0m",
      "\u001b[0;31mNameError\u001b[0m                                 Traceback (most recent call last)",
      "\u001b[0;32m<ipython-input-29-0bbceb6ad25a>\u001b[0m in \u001b[0;36m<module>\u001b[0;34m()\u001b[0m\n\u001b[1;32m      1\u001b[0m \u001b[0;32mfor\u001b[0m \u001b[0mi\u001b[0m \u001b[0;32min\u001b[0m \u001b[0mrange\u001b[0m\u001b[0;34m(\u001b[0m\u001b[0;36m0\u001b[0m\u001b[0;34m,\u001b[0m\u001b[0mnum_rows\u001b[0m\u001b[0;34m//\u001b[0m\u001b[0mchunk_size\u001b[0m\u001b[0;34m)\u001b[0m\u001b[0;34m:\u001b[0m\u001b[0;34m\u001b[0m\u001b[0;34m\u001b[0m\u001b[0m\n\u001b[0;32m----> 2\u001b[0;31m     \u001b[0mdata_reconstruced\u001b[0m\u001b[0;34m[\u001b[0m\u001b[0mi\u001b[0m\u001b[0;34m*\u001b[0m\u001b[0mchunk_size\u001b[0m\u001b[0;34m:\u001b[0m\u001b[0;34m(\u001b[0m\u001b[0mi\u001b[0m\u001b[0;34m+\u001b[0m\u001b[0;36m1\u001b[0m\u001b[0;34m)\u001b[0m \u001b[0;34m*\u001b[0m \u001b[0mchunk_size\u001b[0m\u001b[0;34m]\u001b[0m \u001b[0;34m=\u001b[0m \u001b[0mpca\u001b[0m\u001b[0;34m.\u001b[0m\u001b[0minverse_transform\u001b[0m\u001b[0;34m(\u001b[0m\u001b[0mdata_projected\u001b[0m\u001b[0;34m[\u001b[0m\u001b[0mi\u001b[0m\u001b[0;34m*\u001b[0m\u001b[0mchunk_size\u001b[0m \u001b[0;34m:\u001b[0m \u001b[0;34m(\u001b[0m\u001b[0mi\u001b[0m\u001b[0;34m+\u001b[0m\u001b[0;36m1\u001b[0m\u001b[0;34m)\u001b[0m\u001b[0;34m*\u001b[0m\u001b[0mchunk_size\u001b[0m\u001b[0;34m]\u001b[0m\u001b[0;34m)\u001b[0m\u001b[0;34m\u001b[0m\u001b[0;34m\u001b[0m\u001b[0m\n\u001b[0m",
      "\u001b[0;31mNameError\u001b[0m: name 'data_reconstruced' is not defined"
     ]
    }
   ],
   "source": [
    "for i in range(0,num_rows//chunk_size):\n",
    "    data_reconstruced[i*chunk_size:(i+1) * chunk_size] = pca.inverse_transform(data_projected[i*chunk_size : (i+1)*chunk_size])"
   ]
  },
  {
   "cell_type": "code",
   "execution_count": 189,
   "metadata": {
    "colab": {
     "base_uri": "https://localhost:8080/",
     "height": 171
    },
    "collapsed": true,
    "executionInfo": {
     "elapsed": 466,
     "status": "error",
     "timestamp": 1621879783249,
     "user": {
      "displayName": "Tiago Pereira",
      "photoUrl": "https://lh3.googleusercontent.com/a-/AOh14GgTc2Zjwr7wX1qdbApHL5tu_fV3A8TkRCVnZ_SH6Hk=s64",
      "userId": "17974310180584634598"
     },
     "user_tz": -60
    },
    "hidden": true,
    "id": "7UYhNxVz40bM",
    "outputId": "9e6ba919-e91f-4b6d-acc0-18a3ad7a84fc"
   },
   "outputs": [
    {
     "ename": "NameError",
     "evalue": "ignored",
     "output_type": "error",
     "traceback": [
      "\u001b[0;31m---------------------------------------------------------------------------\u001b[0m",
      "\u001b[0;31mNameError\u001b[0m                                 Traceback (most recent call last)",
      "\u001b[0;32m<ipython-input-189-c8174ec1f710>\u001b[0m in \u001b[0;36m<module>\u001b[0;34m()\u001b[0m\n\u001b[0;32m----> 1\u001b[0;31m \u001b[0mplt\u001b[0m\u001b[0;34m.\u001b[0m\u001b[0mimshow\u001b[0m\u001b[0;34m(\u001b[0m\u001b[0;34m(\u001b[0m\u001b[0mdata_reconstruced\u001b[0m\u001b[0;34m[\u001b[0m\u001b[0;36m110\u001b[0m\u001b[0;34m]\u001b[0m\u001b[0;34m.\u001b[0m\u001b[0mreshape\u001b[0m\u001b[0;34m(\u001b[0m\u001b[0;34m(\u001b[0m\u001b[0mimg_array\u001b[0m\u001b[0;34m.\u001b[0m\u001b[0mshape\u001b[0m\u001b[0;34m[\u001b[0m\u001b[0;36m1\u001b[0m\u001b[0;34m]\u001b[0m\u001b[0;34m,\u001b[0m\u001b[0mimg_array\u001b[0m\u001b[0;34m.\u001b[0m\u001b[0mshape\u001b[0m\u001b[0;34m[\u001b[0m\u001b[0;36m2\u001b[0m\u001b[0;34m]\u001b[0m\u001b[0;34m,\u001b[0m\u001b[0mimg_array\u001b[0m\u001b[0;34m.\u001b[0m\u001b[0mshape\u001b[0m\u001b[0;34m[\u001b[0m\u001b[0;36m3\u001b[0m\u001b[0;34m]\u001b[0m\u001b[0;34m)\u001b[0m\u001b[0;34m)\u001b[0m\u001b[0;34m)\u001b[0m\u001b[0;34m.\u001b[0m\u001b[0mastype\u001b[0m\u001b[0;34m(\u001b[0m\u001b[0mnp\u001b[0m\u001b[0;34m.\u001b[0m\u001b[0muint8\u001b[0m\u001b[0;34m)\u001b[0m\u001b[0;34m)\u001b[0m\u001b[0;34m\u001b[0m\u001b[0;34m\u001b[0m\u001b[0m\n\u001b[0m",
      "\u001b[0;31mNameError\u001b[0m: name 'data_reconstruced' is not defined"
     ]
    }
   ],
   "source": [
    "plt.imshow((data_reconstruced[110].reshape((img_array.shape[1],img_array.shape[2],img_array.shape[3]))).astype(np.uint8))"
   ]
  },
  {
   "cell_type": "code",
   "execution_count": null,
   "metadata": {
    "colab": {
     "base_uri": "https://localhost:8080/",
     "height": 171
    },
    "collapsed": true,
    "executionInfo": {
     "elapsed": 241,
     "status": "error",
     "timestamp": 1621845574241,
     "user": {
      "displayName": "Tiago Pereira",
      "photoUrl": "https://lh3.googleusercontent.com/a-/AOh14GgTc2Zjwr7wX1qdbApHL5tu_fV3A8TkRCVnZ_SH6Hk=s64",
      "userId": "17974310180584634598"
     },
     "user_tz": -60
    },
    "hidden": true,
    "id": "1XYMDxRN42HV",
    "outputId": "247e68d2-5bc9-4d98-b980-ff9e4cdde268"
   },
   "outputs": [
    {
     "ename": "NameError",
     "evalue": "ignored",
     "output_type": "error",
     "traceback": [
      "\u001b[0;31m---------------------------------------------------------------------------\u001b[0m",
      "\u001b[0;31mNameError\u001b[0m                                 Traceback (most recent call last)",
      "\u001b[0;32m<ipython-input-33-11945644cdd1>\u001b[0m in \u001b[0;36m<module>\u001b[0;34m()\u001b[0m\n\u001b[0;32m----> 1\u001b[0;31m \u001b[0mplt\u001b[0m\u001b[0;34m.\u001b[0m\u001b[0mimshow\u001b[0m\u001b[0;34m(\u001b[0m\u001b[0mimages\u001b[0m\u001b[0;34m[\u001b[0m\u001b[0;36m110\u001b[0m\u001b[0;34m]\u001b[0m\u001b[0;34m)\u001b[0m\u001b[0;34m\u001b[0m\u001b[0;34m\u001b[0m\u001b[0m\n\u001b[0m",
      "\u001b[0;31mNameError\u001b[0m: name 'images' is not defined"
     ]
    }
   ],
   "source": [
    "plt.imshow(images[110])"
   ]
  },
  {
   "cell_type": "markdown",
   "metadata": {
    "id": "JP1OUwru5CjF"
   },
   "source": [
    "#### PCA Mean Faces"
   ]
  },
  {
   "cell_type": "code",
   "execution_count": 53,
   "metadata": {
    "colab": {
     "base_uri": "https://localhost:8080/",
     "height": 189
    },
    "executionInfo": {
     "elapsed": 728,
     "status": "error",
     "timestamp": 1621879793708,
     "user": {
      "displayName": "Tiago Pereira",
      "photoUrl": "https://lh3.googleusercontent.com/a-/AOh14GgTc2Zjwr7wX1qdbApHL5tu_fV3A8TkRCVnZ_SH6Hk=s64",
      "userId": "17974310180584634598"
     },
     "user_tz": -60
    },
    "id": "RW0CI8wn42KA",
    "outputId": "e53d8ebe-4f31-4a31-c54c-c23e84f41c5a"
   },
   "outputs": [
    {
     "data": {
      "text/plain": [
       "Text(0.5, 1.0, 'Mean Face of the Input')"
      ]
     },
     "execution_count": 53,
     "metadata": {},
     "output_type": "execute_result"
    },
    {
     "data": {
      "image/png": "[encoded data removed]",
      "text/plain": [
       "<Figure size 432x288 with 1 Axes>"
      ]
     },
     "metadata": {
      "needs_background": "light"
     },
     "output_type": "display_data"
    }
   ],
   "source": [
    "plt.imshow(np.mean(X,axis=0).reshape((img_array.shape[1],img_array.shape[2],img_array.shape[3])).astype(np.uint8))\n",
    "plt.title(\"Mean Face of the Input\")"
   ]
  },
  {
   "cell_type": "code",
   "execution_count": 54,
   "metadata": {
    "colab": {
     "base_uri": "https://localhost:8080/",
     "height": 189
    },
    "executionInfo": {
     "elapsed": 356,
     "status": "error",
     "timestamp": 1621879796099,
     "user": {
      "displayName": "Tiago Pereira",
      "photoUrl": "https://lh3.googleusercontent.com/a-/AOh14GgTc2Zjwr7wX1qdbApHL5tu_fV3A8TkRCVnZ_SH6Hk=s64",
      "userId": "17974310180584634598"
     },
     "user_tz": -60
    },
    "id": "-rqbf9VT42Ml",
    "outputId": "11464a05-d6f7-40e5-ef36-8f12ddb4439d"
   },
   "outputs": [
    {
     "data": {
      "text/plain": [
       "Text(0.5, 1.0, 'Mean Face of the PCA')"
      ]
     },
     "execution_count": 54,
     "metadata": {},
     "output_type": "execute_result"
    },
    {
     "data": {
      "image/png": "[encoded data removed]",
      "text/plain": [
       "<Figure size 432x288 with 1 Axes>"
      ]
     },
     "metadata": {
      "needs_background": "light"
     },
     "output_type": "display_data"
    }
   ],
   "source": [
    "plt.imshow(pca.mean_.reshape((img_array.shape[1],img_array.shape[2],img_array.shape[3])).astype(np.uint8))\n",
    "plt.title(\"Mean Face of the PCA\")"
   ]
  },
  {
   "cell_type": "markdown",
   "metadata": {
    "id": "xae0idE85I4u"
   },
   "source": [
    "#### PCA Components"
   ]
  },
  {
   "cell_type": "code",
   "execution_count": 56,
   "metadata": {
    "id": "pkv4J2Xu42PM"
   },
   "outputs": [
    {
     "data": {
      "image/png": "[encoded data removed]",
      "text/plain": [
       "<Figure size 1080x1440 with 5 Axes>"
      ]
     },
     "metadata": {
      "needs_background": "light"
     },
     "output_type": "display_data"
    }
   ],
   "source": [
    "fig = plt.figure(figsize=(15,20))\n",
    "for i in range(0,5):\n",
    "    plt.subplot(1, 5, i + 1)\n",
    "    plt.title(f'PC {i+1}', size=12)\n",
    "    plt.imshow(pca.components_[i].reshape((img_array.shape[1],img_array.shape[2],img_array.shape[3])).astype(np.uint8))"
   ]
  },
  {
   "cell_type": "code",
   "execution_count": 75,
   "metadata": {},
   "outputs": [
    {
     "ename": "SyntaxError",
     "evalue": "invalid syntax (<ipython-input-75-e655072f029e>, line 1)",
     "output_type": "error",
     "traceback": [
      "\u001b[0;36m  File \u001b[0;32m\"<ipython-input-75-e655072f029e>\"\u001b[0;36m, line \u001b[0;32m1\u001b[0m\n\u001b[0;31m    plt.imshow((pca.components_[240].reshape(img_array.shape[1],img_array.shape[2],img_array.shape[3]), cmap=plt.cm.coolwarm).astype(np.uint8))\u001b[0m\n\u001b[0m                                                                                                            ^\u001b[0m\n\u001b[0;31mSyntaxError\u001b[0m\u001b[0;31m:\u001b[0m invalid syntax\n"
     ]
    }
   ],
   "source": [
    "plt.imshow(pca.components_[240].reshape(img_array.shape[1],img_array.shape[2],img_array.shape[3]), cmap=plt.cm.coolwarm)"
   ]
  },
  {
   "cell_type": "code",
   "execution_count": 62,
   "metadata": {},
   "outputs": [
    {
     "data": {
      "text/plain": [
       "array([ 0.00980825,  0.00992892,  0.01250733, ..., -0.00763563,\n",
       "       -0.00519442, -0.00594627])"
      ]
     },
     "execution_count": 62,
     "metadata": {},
     "output_type": "execute_result"
    }
   ],
   "source": [
    "pca.components_[150]"
   ]
  },
  {
   "cell_type": "markdown",
   "metadata": {
    "heading_collapsed": true,
    "id": "DjAtY0_C5QQW"
   },
   "source": [
    "#### Choosing the number of PCA Components"
   ]
  },
  {
   "cell_type": "code",
   "execution_count": 193,
   "metadata": {
    "colab": {
     "base_uri": "https://localhost:8080/",
     "height": 279
    },
    "executionInfo": {
     "elapsed": 418,
     "status": "ok",
     "timestamp": 1621879823794,
     "user": {
      "displayName": "Tiago Pereira",
      "photoUrl": "https://lh3.googleusercontent.com/a-/AOh14GgTc2Zjwr7wX1qdbApHL5tu_fV3A8TkRCVnZ_SH6Hk=s64",
      "userId": "17974310180584634598"
     },
     "user_tz": -60
    },
    "hidden": true,
    "id": "aQdhmFIw42R7",
    "outputId": "0d2f1909-50ea-4154-eaf9-e1849d089848"
   },
   "outputs": [
    {
     "data": {
      "image/png": "[encoded data removed]",
      "text/plain": [
       "<Figure size 432x288 with 1 Axes>"
      ]
     },
     "metadata": {
      "needs_background": "light",
      "tags": []
     },
     "output_type": "display_data"
    }
   ],
   "source": [
    "plt.plot(np.cumsum(pca.explained_variance_ratio_))\n",
    "plt.xlabel('number of components')\n",
    "plt.ylabel('cumulative explained variance')\n",
    "plt.grid()\n",
    "plt.show()"
   ]
  },
  {
   "cell_type": "code",
   "execution_count": 194,
   "metadata": {
    "colab": {
     "base_uri": "https://localhost:8080/"
    },
    "executionInfo": {
     "elapsed": 461,
     "status": "ok",
     "timestamp": 1621879830437,
     "user": {
      "displayName": "Tiago Pereira",
      "photoUrl": "https://lh3.googleusercontent.com/a-/AOh14GgTc2Zjwr7wX1qdbApHL5tu_fV3A8TkRCVnZ_SH6Hk=s64",
      "userId": "17974310180584634598"
     },
     "user_tz": -60
    },
    "hidden": true,
    "id": "M62Gj-aw42UF",
    "outputId": "1e75e4e8-f567-4350-ac03-d3b6aef425c7"
   },
   "outputs": [
    {
     "data": {
      "text/plain": [
       "246"
      ]
     },
     "execution_count": 194,
     "metadata": {
      "tags": []
     },
     "output_type": "execute_result"
    }
   ],
   "source": [
    "#Minimal Number of PC components required to explain g variance\n",
    "\n",
    "g = 0.95\n",
    "\n",
    "cumulated_variance = np.cumsum(pca.explained_variance_ratio_)\n",
    "minimal_pc_count = len(cumulated_variance[cumulated_variance <= g]) + 1 # fill with the right answer\n",
    "minimal_pc_count"
   ]
  },
  {
   "cell_type": "markdown",
   "metadata": {
    "heading_collapsed": true,
    "id": "NCUd5fTv5x78"
   },
   "source": [
    "## 4 Splitting the Data"
   ]
  },
  {
   "cell_type": "code",
   "execution_count": 24,
   "metadata": {
    "executionInfo": {
     "elapsed": 5063,
     "status": "ok",
     "timestamp": 1621873879532,
     "user": {
      "displayName": "Tiago Pereira",
      "photoUrl": "https://lh3.googleusercontent.com/a-/AOh14GgTc2Zjwr7wX1qdbApHL5tu_fV3A8TkRCVnZ_SH6Hk=s64",
      "userId": "17974310180584634598"
     },
     "user_tz": -60
    },
    "hidden": true,
    "id": "n5-1ppu-42Wj"
   },
   "outputs": [
    {
     "ename": "NameError",
     "evalue": "name 'X' is not defined",
     "output_type": "error",
     "traceback": [
      "\u001b[0;31m---------------------------------------------------------------------------\u001b[0m",
      "\u001b[0;31mNameError\u001b[0m                                 Traceback (most recent call last)",
      "\u001b[0;32m<ipython-input-24-fea3c306227a>\u001b[0m in \u001b[0;36m<module>\u001b[0;34m\u001b[0m\n\u001b[1;32m      1\u001b[0m \u001b[0;31m# y has already been defined on the Labelling Age Section\u001b[0m\u001b[0;34m\u001b[0m\u001b[0;34m\u001b[0m\u001b[0;34m\u001b[0m\u001b[0m\n\u001b[0;32m----> 2\u001b[0;31m \u001b[0mX_train\u001b[0m\u001b[0;34m,\u001b[0m \u001b[0mX_test\u001b[0m\u001b[0;34m,\u001b[0m \u001b[0my_train\u001b[0m\u001b[0;34m,\u001b[0m \u001b[0my_test\u001b[0m \u001b[0;34m=\u001b[0m \u001b[0mtrain_test_split\u001b[0m\u001b[0;34m(\u001b[0m\u001b[0mX\u001b[0m\u001b[0;34m,\u001b[0m \u001b[0my\u001b[0m\u001b[0;34m,\u001b[0m \u001b[0mtest_size\u001b[0m\u001b[0;34m=\u001b[0m\u001b[0;36m0.1\u001b[0m\u001b[0;34m,\u001b[0m \u001b[0mrandom_state\u001b[0m\u001b[0;34m=\u001b[0m\u001b[0;36m42\u001b[0m\u001b[0;34m)\u001b[0m\u001b[0;34m\u001b[0m\u001b[0;34m\u001b[0m\u001b[0m\n\u001b[0m",
      "\u001b[0;31mNameError\u001b[0m: name 'X' is not defined"
     ]
    }
   ],
   "source": [
    "# y has already been defined on the Labelling Age Section\n",
    "X_train, X_test, y_train, y_test = train_test_split(X, y, test_size=0.1, random_state=42) "
   ]
  },
  {
   "cell_type": "code",
   "execution_count": 23,
   "metadata": {
    "hidden": true,
    "id": "EBhWqgHUE_NJ"
   },
   "outputs": [],
   "source": [
    "del images_input"
   ]
  },
  {
   "cell_type": "markdown",
   "metadata": {
    "heading_collapsed": true,
    "id": "dF9efBnK1wnI"
   },
   "source": [
    "## Classifying the Data"
   ]
  },
  {
   "cell_type": "markdown",
   "metadata": {
    "heading_collapsed": true,
    "hidden": true,
    "id": "o84pT_xg6kTq"
   },
   "source": [
    "### PCA fit on the train set and transform on both"
   ]
  },
  {
   "cell_type": "code",
   "execution_count": 21,
   "metadata": {
    "hidden": true,
    "id": "5GcaDsvB_mZL"
   },
   "outputs": [],
   "source": [
    "from sklearn.decomposition import IncrementalPCA"
   ]
  },
  {
   "cell_type": "code",
   "execution_count": 22,
   "metadata": {
    "colab": {
     "base_uri": "https://localhost:8080/"
    },
    "executionInfo": {
     "elapsed": 354,
     "status": "ok",
     "timestamp": 1621854819615,
     "user": {
      "displayName": "Tiago Pereira",
      "photoUrl": "https://lh3.googleusercontent.com/a-/AOh14GgTc2Zjwr7wX1qdbApHL5tu_fV3A8TkRCVnZ_SH6Hk=s64",
      "userId": "17974310180584634598"
     },
     "user_tz": -60
    },
    "hidden": true,
    "id": "m-neZjcYFHSw",
    "outputId": "037d9239-af28-4b40-cbda-1bf0df77392d"
   },
   "outputs": [
    {
     "ename": "NameError",
     "evalue": "name 'X_test' is not defined",
     "output_type": "error",
     "traceback": [
      "\u001b[0;31m---------------------------------------------------------------------------\u001b[0m",
      "\u001b[0;31mNameError\u001b[0m                                 Traceback (most recent call last)",
      "\u001b[0;32m<ipython-input-22-cf290153e199>\u001b[0m in \u001b[0;36m<module>\u001b[0;34m\u001b[0m\n\u001b[0;32m----> 1\u001b[0;31m \u001b[0mX_test\u001b[0m\u001b[0;34m.\u001b[0m\u001b[0mshape\u001b[0m\u001b[0;34m\u001b[0m\u001b[0;34m\u001b[0m\u001b[0m\n\u001b[0m",
      "\u001b[0;31mNameError\u001b[0m: name 'X_test' is not defined"
     ]
    }
   ],
   "source": [
    "X_test.shape"
   ]
  },
  {
   "cell_type": "code",
   "execution_count": 32,
   "metadata": {
    "hidden": true,
    "id": "cOfOekn_6ner"
   },
   "outputs": [
    {
     "name": "stdout",
     "output_type": "stream",
     "text": [
      "30\n"
     ]
    }
   ],
   "source": [
    "num_rows, num_columns = X_train.shape\n",
    "chunk_size = 650      # how many rows at a time to feed ipca\n",
    "n_components = 245    # 245 explains 95% variance on the 200x200 RBG Images\n",
    "\n",
    "pca = IncrementalPCA(copy=False,\n",
    "                  n_components=n_components\n",
    "                  )\n",
    "\n",
    "print(num_rows//chunk_size)"
   ]
  },
  {
   "cell_type": "code",
   "execution_count": null,
   "metadata": {
    "hidden": true,
    "id": "idZPOojA-9us"
   },
   "outputs": [
    {
     "name": "stdout",
     "output_type": "stream",
     "text": [
      "0\n",
      "1\n"
     ]
    }
   ],
   "source": [
    "for i in range(0, num_rows//chunk_size):\n",
    "    print(i)\n",
    "    pca.partial_fit(X_train[i*chunk_size : (i+1)*chunk_size])"
   ]
  },
  {
   "cell_type": "code",
   "execution_count": 30,
   "metadata": {
    "hidden": true,
    "id": "iHVe7JDo-91R"
   },
   "outputs": [],
   "source": [
    "X_train_transformed = np.zeros((X_train.shape[0],n_components))\n",
    "X_test_transformed = np.zeros((X_test.shape[0],n_components))"
   ]
  },
  {
   "cell_type": "code",
   "execution_count": 31,
   "metadata": {
    "collapsed": true,
    "hidden": true,
    "id": "jNq0KnDQ_K6D"
   },
   "outputs": [
    {
     "ename": "NotFittedError",
     "evalue": "This IncrementalPCA instance is not fitted yet. Call 'fit' with appropriate arguments before using this estimator.",
     "output_type": "error",
     "traceback": [
      "\u001b[0;31m---------------------------------------------------------------------------\u001b[0m",
      "\u001b[0;31mNotFittedError\u001b[0m                            Traceback (most recent call last)",
      "\u001b[0;32m<ipython-input-31-2c16900a534f>\u001b[0m in \u001b[0;36m<module>\u001b[0;34m\u001b[0m\n\u001b[1;32m      1\u001b[0m \u001b[0;32mfor\u001b[0m \u001b[0mi\u001b[0m \u001b[0;32min\u001b[0m \u001b[0mrange\u001b[0m\u001b[0;34m(\u001b[0m\u001b[0;36m0\u001b[0m\u001b[0;34m,\u001b[0m\u001b[0mX_train_transformed\u001b[0m\u001b[0;34m.\u001b[0m\u001b[0mshape\u001b[0m\u001b[0;34m[\u001b[0m\u001b[0;36m0\u001b[0m\u001b[0;34m]\u001b[0m\u001b[0;34m//\u001b[0m\u001b[0mchunk_size\u001b[0m\u001b[0;34m)\u001b[0m\u001b[0;34m:\u001b[0m\u001b[0;34m\u001b[0m\u001b[0;34m\u001b[0m\u001b[0m\n\u001b[0;32m----> 2\u001b[0;31m     \u001b[0mX_train_transformed\u001b[0m\u001b[0;34m[\u001b[0m\u001b[0mi\u001b[0m\u001b[0;34m*\u001b[0m\u001b[0mchunk_size\u001b[0m\u001b[0;34m:\u001b[0m\u001b[0;34m(\u001b[0m\u001b[0mi\u001b[0m\u001b[0;34m+\u001b[0m\u001b[0;36m1\u001b[0m\u001b[0;34m)\u001b[0m \u001b[0;34m*\u001b[0m \u001b[0mchunk_size\u001b[0m\u001b[0;34m]\u001b[0m \u001b[0;34m=\u001b[0m \u001b[0mpca\u001b[0m\u001b[0;34m.\u001b[0m\u001b[0mtransform\u001b[0m\u001b[0;34m(\u001b[0m\u001b[0mX_train\u001b[0m\u001b[0;34m[\u001b[0m\u001b[0mi\u001b[0m\u001b[0;34m*\u001b[0m\u001b[0mchunk_size\u001b[0m \u001b[0;34m:\u001b[0m \u001b[0;34m(\u001b[0m\u001b[0mi\u001b[0m\u001b[0;34m+\u001b[0m\u001b[0;36m1\u001b[0m\u001b[0;34m)\u001b[0m\u001b[0;34m*\u001b[0m\u001b[0mchunk_size\u001b[0m\u001b[0;34m]\u001b[0m\u001b[0;34m)\u001b[0m\u001b[0;34m\u001b[0m\u001b[0;34m\u001b[0m\u001b[0m\n\u001b[0m",
      "\u001b[0;32m~/.pyenv/versions/3.8.6/envs/agedetection/lib/python3.8/site-packages/sklearn/decomposition/_incremental_pca.py\u001b[0m in \u001b[0;36mtransform\u001b[0;34m(self, X)\u001b[0m\n\u001b[1;32m    356\u001b[0m             \u001b[0;32mreturn\u001b[0m \u001b[0mnp\u001b[0m\u001b[0;34m.\u001b[0m\u001b[0mvstack\u001b[0m\u001b[0;34m(\u001b[0m\u001b[0moutput\u001b[0m\u001b[0;34m)\u001b[0m\u001b[0;34m\u001b[0m\u001b[0;34m\u001b[0m\u001b[0m\n\u001b[1;32m    357\u001b[0m         \u001b[0;32melse\u001b[0m\u001b[0;34m:\u001b[0m\u001b[0;34m\u001b[0m\u001b[0;34m\u001b[0m\u001b[0m\n\u001b[0;32m--> 358\u001b[0;31m             \u001b[0;32mreturn\u001b[0m \u001b[0msuper\u001b[0m\u001b[0;34m(\u001b[0m\u001b[0;34m)\u001b[0m\u001b[0;34m.\u001b[0m\u001b[0mtransform\u001b[0m\u001b[0;34m(\u001b[0m\u001b[0mX\u001b[0m\u001b[0;34m)\u001b[0m\u001b[0;34m\u001b[0m\u001b[0;34m\u001b[0m\u001b[0m\n\u001b[0m",
      "\u001b[0;32m~/.pyenv/versions/3.8.6/envs/agedetection/lib/python3.8/site-packages/sklearn/decomposition/_base.py\u001b[0m in \u001b[0;36mtransform\u001b[0;34m(self, X)\u001b[0m\n\u001b[1;32m    111\u001b[0m         \u001b[0mX_new\u001b[0m \u001b[0;34m:\u001b[0m \u001b[0marray\u001b[0m\u001b[0;34m-\u001b[0m\u001b[0mlike\u001b[0m\u001b[0;34m,\u001b[0m \u001b[0mshape\u001b[0m \u001b[0;34m(\u001b[0m\u001b[0mn_samples\u001b[0m\u001b[0;34m,\u001b[0m \u001b[0mn_components\u001b[0m\u001b[0;34m)\u001b[0m\u001b[0;34m\u001b[0m\u001b[0;34m\u001b[0m\u001b[0m\n\u001b[1;32m    112\u001b[0m         \"\"\"\n\u001b[0;32m--> 113\u001b[0;31m         \u001b[0mcheck_is_fitted\u001b[0m\u001b[0;34m(\u001b[0m\u001b[0mself\u001b[0m\u001b[0;34m)\u001b[0m\u001b[0;34m\u001b[0m\u001b[0;34m\u001b[0m\u001b[0m\n\u001b[0m\u001b[1;32m    114\u001b[0m \u001b[0;34m\u001b[0m\u001b[0m\n\u001b[1;32m    115\u001b[0m         \u001b[0mX\u001b[0m \u001b[0;34m=\u001b[0m \u001b[0mself\u001b[0m\u001b[0;34m.\u001b[0m\u001b[0m_validate_data\u001b[0m\u001b[0;34m(\u001b[0m\u001b[0mX\u001b[0m\u001b[0;34m,\u001b[0m \u001b[0mdtype\u001b[0m\u001b[0;34m=\u001b[0m\u001b[0;34m[\u001b[0m\u001b[0mnp\u001b[0m\u001b[0;34m.\u001b[0m\u001b[0mfloat64\u001b[0m\u001b[0;34m,\u001b[0m \u001b[0mnp\u001b[0m\u001b[0;34m.\u001b[0m\u001b[0mfloat32\u001b[0m\u001b[0;34m]\u001b[0m\u001b[0;34m,\u001b[0m \u001b[0mreset\u001b[0m\u001b[0;34m=\u001b[0m\u001b[0;32mFalse\u001b[0m\u001b[0;34m)\u001b[0m\u001b[0;34m\u001b[0m\u001b[0;34m\u001b[0m\u001b[0m\n",
      "\u001b[0;32m~/.pyenv/versions/3.8.6/envs/agedetection/lib/python3.8/site-packages/sklearn/utils/validation.py\u001b[0m in \u001b[0;36minner_f\u001b[0;34m(*args, **kwargs)\u001b[0m\n\u001b[1;32m     61\u001b[0m             \u001b[0mextra_args\u001b[0m \u001b[0;34m=\u001b[0m \u001b[0mlen\u001b[0m\u001b[0;34m(\u001b[0m\u001b[0margs\u001b[0m\u001b[0;34m)\u001b[0m \u001b[0;34m-\u001b[0m \u001b[0mlen\u001b[0m\u001b[0;34m(\u001b[0m\u001b[0mall_args\u001b[0m\u001b[0;34m)\u001b[0m\u001b[0;34m\u001b[0m\u001b[0;34m\u001b[0m\u001b[0m\n\u001b[1;32m     62\u001b[0m             \u001b[0;32mif\u001b[0m \u001b[0mextra_args\u001b[0m \u001b[0;34m<=\u001b[0m \u001b[0;36m0\u001b[0m\u001b[0;34m:\u001b[0m\u001b[0;34m\u001b[0m\u001b[0;34m\u001b[0m\u001b[0m\n\u001b[0;32m---> 63\u001b[0;31m                 \u001b[0;32mreturn\u001b[0m \u001b[0mf\u001b[0m\u001b[0;34m(\u001b[0m\u001b[0;34m*\u001b[0m\u001b[0margs\u001b[0m\u001b[0;34m,\u001b[0m \u001b[0;34m**\u001b[0m\u001b[0mkwargs\u001b[0m\u001b[0;34m)\u001b[0m\u001b[0;34m\u001b[0m\u001b[0;34m\u001b[0m\u001b[0m\n\u001b[0m\u001b[1;32m     64\u001b[0m \u001b[0;34m\u001b[0m\u001b[0m\n\u001b[1;32m     65\u001b[0m             \u001b[0;31m# extra_args > 0\u001b[0m\u001b[0;34m\u001b[0m\u001b[0;34m\u001b[0m\u001b[0;34m\u001b[0m\u001b[0m\n",
      "\u001b[0;32m~/.pyenv/versions/3.8.6/envs/agedetection/lib/python3.8/site-packages/sklearn/utils/validation.py\u001b[0m in \u001b[0;36mcheck_is_fitted\u001b[0;34m(estimator, attributes, msg, all_or_any)\u001b[0m\n\u001b[1;32m   1096\u001b[0m \u001b[0;34m\u001b[0m\u001b[0m\n\u001b[1;32m   1097\u001b[0m     \u001b[0;32mif\u001b[0m \u001b[0;32mnot\u001b[0m \u001b[0mattrs\u001b[0m\u001b[0;34m:\u001b[0m\u001b[0;34m\u001b[0m\u001b[0;34m\u001b[0m\u001b[0m\n\u001b[0;32m-> 1098\u001b[0;31m         \u001b[0;32mraise\u001b[0m \u001b[0mNotFittedError\u001b[0m\u001b[0;34m(\u001b[0m\u001b[0mmsg\u001b[0m \u001b[0;34m%\u001b[0m \u001b[0;34m{\u001b[0m\u001b[0;34m'name'\u001b[0m\u001b[0;34m:\u001b[0m \u001b[0mtype\u001b[0m\u001b[0;34m(\u001b[0m\u001b[0mestimator\u001b[0m\u001b[0;34m)\u001b[0m\u001b[0;34m.\u001b[0m\u001b[0m__name__\u001b[0m\u001b[0;34m}\u001b[0m\u001b[0;34m)\u001b[0m\u001b[0;34m\u001b[0m\u001b[0;34m\u001b[0m\u001b[0m\n\u001b[0m\u001b[1;32m   1099\u001b[0m \u001b[0;34m\u001b[0m\u001b[0m\n\u001b[1;32m   1100\u001b[0m \u001b[0;34m\u001b[0m\u001b[0m\n",
      "\u001b[0;31mNotFittedError\u001b[0m: This IncrementalPCA instance is not fitted yet. Call 'fit' with appropriate arguments before using this estimator."
     ]
    }
   ],
   "source": [
    "for i in range(0,X_train_transformed.shape[0]//chunk_size):\n",
    "    X_train_transformed[i*chunk_size:(i+1) * chunk_size] = pca.transform(X_train[i*chunk_size : (i+1)*chunk_size])"
   ]
  },
  {
   "cell_type": "code",
   "execution_count": null,
   "metadata": {
    "hidden": true,
    "id": "bF3Sr7-_QxzO"
   },
   "outputs": [],
   "source": [
    "for i in range(0,X_test_transformed.shape[1]//chunk_size):\n",
    "    X_test_transformed[i*chunk_size:(i+1) * chunk_size] = pca.transform(X_test[i*chunk_size : (i+1)*chunk_size])"
   ]
  },
  {
   "cell_type": "code",
   "execution_count": null,
   "metadata": {
    "hidden": true,
    "id": "x7yAlVb_R0Fh"
   },
   "outputs": [],
   "source": [
    "del X_train,X_test"
   ]
  },
  {
   "cell_type": "markdown",
   "metadata": {
    "heading_collapsed": true,
    "hidden": true,
    "id": "TclwR2zs67ra"
   },
   "source": [
    "### Numpy Loads from the PCA Fit"
   ]
  },
  {
   "cell_type": "code",
   "execution_count": 3,
   "metadata": {
    "hidden": true
   },
   "outputs": [
    {
     "name": "stdout",
     "output_type": "stream",
     "text": [
      "(19805, 245)\n",
      "(2201, 245)\n",
      "(19805,)\n",
      "(2201,)\n"
     ]
    }
   ],
   "source": [
    "pca_path = \"../data/pca_files/\"\n",
    "X_test_transformed = np.load(pca_path+\"X_test_transformed.npy\")\n",
    "X_train_transformed = np.load(pca_path+\"X_train_transformed.npy\")\n",
    "y_test = np.load(pca_path+\"y_test.npy\")\n",
    "y_train = np.load(pca_path+\"y_train.npy\")\n",
    "print(X_train_transformed.shape)\n",
    "print(X_test_transformed.shape)\n",
    "print(y_train.shape)\n",
    "print(y_test.shape)"
   ]
  },
  {
   "cell_type": "markdown",
   "metadata": {
    "hidden": true
   },
   "source": [
    "### SVC Fitting!!"
   ]
  },
  {
   "cell_type": "code",
   "execution_count": 5,
   "metadata": {
    "executionInfo": {
     "elapsed": 738,
     "status": "ok",
     "timestamp": 1621878775570,
     "user": {
      "displayName": "Tiago Pereira",
      "photoUrl": "https://lh3.googleusercontent.com/a-/AOh14GgTc2Zjwr7wX1qdbApHL5tu_fV3A8TkRCVnZ_SH6Hk=s64",
      "userId": "17974310180584634598"
     },
     "user_tz": -60
    },
    "hidden": true,
    "id": "K253Fez5Ffx3"
   },
   "outputs": [],
   "source": [
    "from sklearn.svm import LinearSVC"
   ]
  },
  {
   "cell_type": "code",
   "execution_count": 22,
   "metadata": {
    "executionInfo": {
     "elapsed": 474,
     "status": "ok",
     "timestamp": 1621879890883,
     "user": {
      "displayName": "Tiago Pereira",
      "photoUrl": "https://lh3.googleusercontent.com/a-/AOh14GgTc2Zjwr7wX1qdbApHL5tu_fV3A8TkRCVnZ_SH6Hk=s64",
      "userId": "17974310180584634598"
     },
     "user_tz": -60
    },
    "hidden": true,
    "id": "FmlI2XUn6-ez"
   },
   "outputs": [],
   "source": [
    "#param_grid = {\n",
    "#    \"kernel\": [\"linear\", \"rbf\", \"sigmoid\", \"poly\"],\n",
    "#    \"C\": [10, 20, 50, 100, 200, 500, 1000, 2000, 5000],\n",
    "#    \"gamma\": [0.0001, 0.0005, 0.001, 0.005, 0.01, 0.1]}\n",
    "\n",
    "#clf = GridSearchCV(SVC(class_weight=\"balanced\",decision_function_shape='ovo')\n",
    "#                        , param_grid, cv=5, n_jobs=-1, scoring=\"accuracy\")\n",
    "\n",
    "#clf = SVC(decision_function_shape='ovo')\n",
    "#clf = SVC(decision_function_shape='ovo')\n",
    "svc = SVC(probability=True)"
   ]
  },
  {
   "cell_type": "code",
   "execution_count": 20,
   "metadata": {
    "colab": {
     "base_uri": "https://localhost:8080/"
    },
    "executionInfo": {
     "elapsed": 430,
     "status": "ok",
     "timestamp": 1621879894758,
     "user": {
      "displayName": "Tiago Pereira",
      "photoUrl": "https://lh3.googleusercontent.com/a-/AOh14GgTc2Zjwr7wX1qdbApHL5tu_fV3A8TkRCVnZ_SH6Hk=s64",
      "userId": "17974310180584634598"
     },
     "user_tz": -60
    },
    "hidden": true,
    "id": "LD-hK8HDUbJx",
    "outputId": "e1a41d3e-1215-4fa1-b875-8592b368926a"
   },
   "outputs": [
    {
     "name": "stdout",
     "output_type": "stream",
     "text": [
      "(19805, 245) ....... <class 'numpy.ndarray'>\n",
      "(19805,) ..... <class 'numpy.ndarray'>\n"
     ]
    }
   ],
   "source": [
    "print(X_train_transformed.shape,\".......\",type(X_train_transformed))\n",
    "print(y_train.shape,\".....\",type(y_train))"
   ]
  },
  {
   "cell_type": "code",
   "execution_count": 11,
   "metadata": {
    "collapsed": true,
    "hidden": true,
    "id": "TuLjN_-o-tuC"
   },
   "outputs": [
    {
     "data": {
      "text/plain": [
       "2    2502\n",
       "0    2088\n",
       "5    1987\n",
       "6    1968\n",
       "7    1955\n",
       "9    1926\n",
       "8    1923\n",
       "1    1886\n",
       "3    1823\n",
       "4    1747\n",
       "dtype: int64"
      ]
     },
     "execution_count": 11,
     "metadata": {},
     "output_type": "execute_result"
    }
   ],
   "source": [
    "pd.DataFrame(y_train).value_counts()"
   ]
  },
  {
   "cell_type": "code",
   "execution_count": 23,
   "metadata": {
    "hidden": true,
    "id": "VH3VXN2Y7MlZ"
   },
   "outputs": [
    {
     "data": {
      "text/plain": [
       "SVC(probability=True)"
      ]
     },
     "execution_count": 23,
     "metadata": {},
     "output_type": "execute_result"
    }
   ],
   "source": [
    "# Fitting\n",
    "svc.fit(X_train_transformed, y_train)"
   ]
  },
  {
   "cell_type": "code",
   "execution_count": 15,
   "metadata": {
    "collapsed": true,
    "hidden": true,
    "id": "eWC3jixTVrJU"
   },
   "outputs": [
    {
     "data": {
      "text/plain": [
       "2    293\n",
       "9    237\n",
       "1    235\n",
       "0    220\n",
       "7    210\n",
       "3    208\n",
       "5    206\n",
       "8    201\n",
       "6    200\n",
       "4    191\n",
       "dtype: int64"
      ]
     },
     "execution_count": 15,
     "metadata": {},
     "output_type": "execute_result"
    }
   ],
   "source": [
    "pd.DataFrame(y_test).value_counts()"
   ]
  },
  {
   "cell_type": "code",
   "execution_count": null,
   "metadata": {
    "hidden": true,
    "id": "YI7NXzqxZwzR"
   },
   "outputs": [],
   "source": []
  },
  {
   "cell_type": "markdown",
   "metadata": {
    "hidden": true,
    "id": "J9gqHRGS7nEy"
   },
   "source": [
    "### Classification Report"
   ]
  },
  {
   "cell_type": "code",
   "execution_count": null,
   "metadata": {
    "hidden": true,
    "id": "VOF_sFoW7-gB"
   },
   "outputs": [],
   "source": [
    "pd.DataFrame(y_train).value_counts()"
   ]
  },
  {
   "cell_type": "code",
   "execution_count": 18,
   "metadata": {
    "colab": {
     "base_uri": "https://localhost:8080/"
    },
    "executionInfo": {
     "elapsed": 19025,
     "status": "ok",
     "timestamp": 1621878666922,
     "user": {
      "displayName": "Tiago Pereira",
      "photoUrl": "https://lh3.googleusercontent.com/a-/AOh14GgTc2Zjwr7wX1qdbApHL5tu_fV3A8TkRCVnZ_SH6Hk=s64",
      "userId": "17974310180584634598"
     },
     "user_tz": -60
    },
    "hidden": true,
    "id": "_YNJzTrR7pmf",
    "outputId": "72e04879-660e-4634-afb3-7e9bb08c3d39"
   },
   "outputs": [
    {
     "name": "stdout",
     "output_type": "stream",
     "text": [
      "              precision    recall  f1-score   support\n",
      "\n",
      "           0       0.00      0.00      0.00       220\n",
      "           1       0.00      0.00      0.00       235\n",
      "           2       0.13      1.00      0.23       293\n",
      "           3       0.00      0.00      0.00       208\n",
      "           4       0.00      0.00      0.00       191\n",
      "           5       0.00      0.00      0.00       206\n",
      "           6       0.00      0.00      0.00       200\n",
      "           7       0.00      0.00      0.00       210\n",
      "           8       0.00      0.00      0.00       201\n",
      "           9       0.00      0.00      0.00       237\n",
      "\n",
      "    accuracy                           0.13      2201\n",
      "   macro avg       0.01      0.10      0.02      2201\n",
      "weighted avg       0.02      0.13      0.03      2201\n",
      "\n"
     ]
    },
    {
     "name": "stderr",
     "output_type": "stream",
     "text": [
      "/home/fruntxas/.pyenv/versions/3.8.6/envs/agedetection/lib/python3.8/site-packages/sklearn/metrics/_classification.py:1248: UndefinedMetricWarning: Precision and F-score are ill-defined and being set to 0.0 in labels with no predicted samples. Use `zero_division` parameter to control this behavior.\n",
      "  _warn_prf(average, modifier, msg_start, len(result))\n",
      "/home/fruntxas/.pyenv/versions/3.8.6/envs/agedetection/lib/python3.8/site-packages/sklearn/metrics/_classification.py:1248: UndefinedMetricWarning: Precision and F-score are ill-defined and being set to 0.0 in labels with no predicted samples. Use `zero_division` parameter to control this behavior.\n",
      "  _warn_prf(average, modifier, msg_start, len(result))\n",
      "/home/fruntxas/.pyenv/versions/3.8.6/envs/agedetection/lib/python3.8/site-packages/sklearn/metrics/_classification.py:1248: UndefinedMetricWarning: Precision and F-score are ill-defined and being set to 0.0 in labels with no predicted samples. Use `zero_division` parameter to control this behavior.\n",
      "  _warn_prf(average, modifier, msg_start, len(result))\n"
     ]
    }
   ],
   "source": [
    "y_pred = svc.predict(X_test_transformed)\n",
    "print(classification_report(y_test, y_pred))"
   ]
  },
  {
   "cell_type": "code",
   "execution_count": null,
   "metadata": {
    "hidden": true,
    "id": "j2ncTAOhAjtw"
   },
   "outputs": [],
   "source": [
    "#pd.DataFrame(y_pred).value_counts()\n",
    "#clf.score(X_test_transformed,y_test)\n",
    "#accuracy_score(y_test,y_pred)\n",
    "clf.score(X_test_transformed,y_test)"
   ]
  },
  {
   "cell_type": "markdown",
   "metadata": {
    "heading_collapsed": true,
    "hidden": true,
    "id": "UAPVRUbl70s1"
   },
   "source": [
    "### Further Improvement"
   ]
  },
  {
   "cell_type": "code",
   "execution_count": null,
   "metadata": {
    "hidden": true,
    "id": "EvFqPGBN702L"
   },
   "outputs": [],
   "source": [
    "pipe = make_pipeline(PCA(),SVC(class_weight=\"balanced\"))\n",
    "param_grid = {\n",
    "    \"pca__n_components\": range(200, 600, 1),\n",
    "    \"svc__kernel\": [\"linear\"],\n",
    "    \"svc__C\": [10],#[10, 20, 50, 100, 200, 500, 1000, 2000, 5000],\n",
    "    \"svc__gamma\": [0.0001]#[0.0001, 0.0005, 0.001, 0.005, 0.01, 0.1],\n",
    "}\n",
    "\n",
    "clf = GridSearchCV(pipe, param_grid, cv=5, n_jobs=-1, scoring='f1_weighted')"
   ]
  },
  {
   "cell_type": "code",
   "execution_count": null,
   "metadata": {
    "hidden": true,
    "id": "e_F_NKMu8jvS"
   },
   "outputs": [],
   "source": [
    "clf = clf.fit(X_train, y_train)"
   ]
  },
  {
   "cell_type": "code",
   "execution_count": null,
   "metadata": {
    "hidden": true,
    "id": "0CCYpu918j16"
   },
   "outputs": [],
   "source": [
    "pd.DataFrame(clf.cv_results_).sort_values(by='rank_test_score').head(20)"
   ]
  },
  {
   "cell_type": "code",
   "execution_count": null,
   "metadata": {
    "hidden": true,
    "id": "n8duAzyg8j8X"
   },
   "outputs": [],
   "source": [
    "clf.best_estimator_"
   ]
  },
  {
   "cell_type": "code",
   "execution_count": null,
   "metadata": {
    "hidden": true,
    "id": "2U2G3LLL8ndH"
   },
   "outputs": [],
   "source": [
    "clf.best_estimator_.score(X_test, y_test)"
   ]
  },
  {
   "cell_type": "code",
   "execution_count": null,
   "metadata": {
    "hidden": true,
    "id": "0pHQVFJs8nj7"
   },
   "outputs": [],
   "source": [
    "y_pred = clf.best_estimator_.predict(X_test)\n",
    "\n",
    "print(classification_report(y_test, y_pred))"
   ]
  },
  {
   "cell_type": "code",
   "execution_count": null,
   "metadata": {
    "hidden": true,
    "id": "Vky_BBC-8qlm"
   },
   "outputs": [],
   "source": [
    "# Number of Components that give out the best score\n",
    "best_n_components = clf.get_params()['pca__n_components']\n",
    "best_n_components"
   ]
  },
  {
   "cell_type": "code",
   "execution_count": null,
   "metadata": {
    "hidden": true,
    "id": "oUVFPmNR72ql"
   },
   "outputs": [],
   "source": []
  }
 ],
 "metadata": {
  "colab": {
   "authorship_tag": "ABX9TyP1fhu7sLLAcqxRgp0mSMG0",
   "collapsed_sections": [
    "xh00esxnXkSo",
    "RZDhTeke26JQ",
    "4gIfJc392ry5",
    "-G_5SX6r3c4A",
    "U7rAO3Qi3hN3",
    "0eFYT5hM4H7m",
    "F0r7-GVP4QkV",
    "9HXniBI66ZKe",
    "uU1b5AAu8AOk",
    "YxINAVPg6r2W",
    "cxX3oBgTNbsU",
    "0xNInasr48tm",
    "JP1OUwru5CjF",
    "xae0idE85I4u",
    "DjAtY0_C5QQW",
    "NCUd5fTv5x78",
    "o84pT_xg6kTq",
    "UAPVRUbl70s1"
   ],
   "name": "fruntxas_colab_exploration.ipynb",
   "provenance": [],
   "toc_visible": true
  },
  "hide_input": false,
  "kernelspec": {
   "display_name": "Python 3",
   "language": "python",
   "name": "python3"
  },
  "language_info": {
   "codemirror_mode": {
    "name": "ipython",
    "version": 3
   },
   "file_extension": ".py",
   "mimetype": "text/x-python",
   "name": "python",
   "nbconvert_exporter": "python",
   "pygments_lexer": "ipython3",
   "version": "3.8.6"
  },
  "toc": {
   "base_numbering": 1,
   "nav_menu": {},
   "number_sections": true,
   "sideBar": true,
   "skip_h1_title": false,
   "title_cell": "Table of Contents",
   "title_sidebar": "Contents",
   "toc_cell": false,
   "toc_position": {
    "height": "calc(100% - 180px)",
    "left": "10px",
    "top": "150px",
    "width": "212px"
   },
   "toc_section_display": true,
   "toc_window_display": true
  },
  "varInspector": {
   "cols": {
    "lenName": 16,
    "lenType": 16,
    "lenVar": 40
   },
   "kernels_config": {
    "python": {
     "delete_cmd_postfix": "",
     "delete_cmd_prefix": "del ",
     "library": "var_list.py",
     "varRefreshCmd": "print(var_dic_list())"
    },
    "r": {
     "delete_cmd_postfix": ") ",
     "delete_cmd_prefix": "rm(",
     "library": "var_list.r",
     "varRefreshCmd": "cat(var_dic_list()) "
    }
   },
   "position": {
    "height": "321.85px",
    "left": "1430px",
    "right": "20px",
    "top": "111px",
    "width": "482px"
   },
   "types_to_exclude": [
    "module",
    "function",
    "builtin_function_or_method",
    "instance",
    "_Feature"
   ],
   "window_display": true
  }
 },
 "nbformat": 4,
 "nbformat_minor": 1
}
