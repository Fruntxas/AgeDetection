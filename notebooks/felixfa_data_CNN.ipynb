{
 "cells": [
  {
   "cell_type": "markdown",
   "id": "928308cb",
   "metadata": {
    "heading_collapsed": true
   },
   "source": [
    "# Preparing"
   ]
  },
  {
   "cell_type": "markdown",
   "id": "casual-spectrum",
   "metadata": {
    "heading_collapsed": true,
    "hidden": true,
    "id": "casual-spectrum"
   },
   "source": [
    "## Imports and Functions"
   ]
  },
  {
   "cell_type": "code",
   "execution_count": 76,
   "id": "ancient-workstation",
   "metadata": {
    "hidden": true,
    "id": "ancient-workstation"
   },
   "outputs": [],
   "source": [
    "import os\n",
    "import random\n",
    "import numpy as np\n",
    "import cv2\n",
    "import matplotlib.pyplot as plt\n",
    "import pandas as pd\n",
    "import seaborn as sns\n",
    "import regex as re\n",
    "from sklearn.model_selection import train_test_split\n",
    "from tensorflow.keras.utils import to_categorical\n",
    "from tensorflow.keras import layers, models, Sequential, layers\n",
    "from tensorflow.keras.layers import Conv2D, MaxPooling2D, Flatten, Dropout, Dense\n",
    "from tensorflow.keras.callbacks import EarlyStopping"
   ]
  },
  {
   "cell_type": "markdown",
   "id": "0af49983",
   "metadata": {
    "heading_collapsed": true,
    "hidden": true
   },
   "source": [
    "### Normal"
   ]
  },
  {
   "cell_type": "code",
   "execution_count": 3,
   "id": "4b54966c",
   "metadata": {
    "hidden": true,
    "id": "4b54966c"
   },
   "outputs": [],
   "source": [
    "folder_path = '/Users/Felix/Google Drive/Felix/code/AgeRecognition/raw_data/Faces'\n",
    "#folder_path = '/content/UTKFaces/UTKFaces/Faces'"
   ]
  },
  {
   "cell_type": "code",
   "execution_count": 19,
   "id": "invisible-cholesterol",
   "metadata": {
    "hidden": true,
    "id": "invisible-cholesterol"
   },
   "outputs": [],
   "source": [
    "def load_images_from_folder(folder_path):\n",
    "    filenames = [f for f in os.listdir(folder_path) if not f.startswith('.')]\n",
    "    filenames.sort(key=lambda f: int(re.sub('\\D', '', f)))\n",
    "    images = []\n",
    "    for filename in filenames:\n",
    "        img = cv2.imread(os.path.join(folder_path,filename),cv2.IMREAD_UNCHANGED)\n",
    "        \n",
    "        scale_percent = 50 # percent of original size\n",
    "        width = int(img.shape[1] * scale_percent / 100)\n",
    "        height = int(img.shape[0] * scale_percent / 100)\n",
    "        dim = (width, height)\n",
    "        \n",
    "        # resize image\n",
    "        resized = cv2.resize(img, dim, interpolation = cv2.INTER_AREA)\n",
    "        cv2.imshow(\"Resized image\", resized)\n",
    "        #cv2.waitKey(0)\n",
    "        #cv2.destroyAllWindows()\n",
    "        if img is not None:\n",
    "            img_colors = cv2.cvtColor(resized, cv2.COLOR_BGR2RGB)\n",
    "            images.append(img_colors)\n",
    "    return images\n",
    "\n",
    "def show_all_images_from_list(img_list,img_df):\n",
    "    n=int(len(img_list)/5) +1 \n",
    "    f = plt.figure(figsize=(25,n*5))\n",
    "    for i,img in enumerate(img_list):\n",
    "        f.add_subplot(n, 5, i + 1)\n",
    "        plt.title(f'{img_df.iloc[i]}',\n",
    "                  fontweight=\"bold\",\n",
    "                  fontsize=15)\n",
    "        plt.imshow(img)\n",
    "        f.tight_layout()\n",
    "\n",
    "def load_image_data_into_dataframe(folderpath):\n",
    "\n",
    "    filenames = [f for f in os.listdir(folder_path) if not f.startswith('.')]\n",
    "    filenames.sort(key=lambda f: int(re.sub('\\D', '', f)))\n",
    "    df = pd.DataFrame()\n",
    "    for filename in filenames:\n",
    "        if filename.startswith('81'):\n",
    "            break\n",
    "        parsed_name = filename.split('_')\n",
    "        df= df.append({'age' : int(parsed_name[0]),\n",
    "                       'gender' : parsed_name[1],\n",
    "                       'race' : parsed_name[2]}, ignore_index=True)\n",
    "    df['gender'] = df['gender'].map({'0': 'male', '1': 'female'})\n",
    "    df['race'] = df['race'].map({'0': 'White', '1': 'Black', '2': 'Asian', '3': 'Indian', '4': 'Others'})\n",
    "    return df"
   ]
  },
  {
   "cell_type": "code",
   "execution_count": 20,
   "id": "attempted-aruba",
   "metadata": {
    "hidden": true,
    "id": "attempted-aruba",
    "scrolled": false
   },
   "outputs": [],
   "source": [
    "img_pic=load_images_from_folder(folder_path)"
   ]
  },
  {
   "cell_type": "code",
   "execution_count": 11,
   "id": "herbal-twist",
   "metadata": {
    "hidden": true,
    "id": "herbal-twist",
    "scrolled": false
   },
   "outputs": [],
   "source": [
    "img_df = load_image_data_into_dataframe(folder_path)"
   ]
  },
  {
   "cell_type": "markdown",
   "id": "f18f2eb9",
   "metadata": {
    "heading_collapsed": true,
    "hidden": true,
    "id": "f18f2eb9"
   },
   "source": [
    "## Targets into Age Bins (Baseline: 10%)"
   ]
  },
  {
   "cell_type": "code",
   "execution_count": 13,
   "id": "340e30ac",
   "metadata": {
    "hidden": true,
    "id": "340e30ac",
    "scrolled": true
   },
   "outputs": [],
   "source": [
    "#bins_value=[1,5,19,25,28,32,39,49,58,80]\n",
    "a=pd.qcut(img_df['age'],10)"
   ]
  },
  {
   "cell_type": "code",
   "execution_count": 14,
   "id": "7f10efb3",
   "metadata": {
    "colab": {
     "base_uri": "https://localhost:8080/"
    },
    "hidden": true,
    "id": "7f10efb3",
    "outputId": "76825a77-bcba-4e17-dbcb-09e98ba36be6",
    "scrolled": false
   },
   "outputs": [
    {
     "data": {
      "text/plain": [
       "(0.999, 5.0]    2308\n",
       "(5.0, 19.0]     2120\n",
       "(19.0, 25.0]    2795\n",
       "(25.0, 26.0]    2031\n",
       "(26.0, 29.0]    1938\n",
       "(29.0, 34.0]    2193\n",
       "(34.0, 39.0]    2168\n",
       "(39.0, 49.0]    2165\n",
       "(49.0, 58.0]    2124\n",
       "(58.0, 80.0]    2163\n",
       "Name: age, dtype: int64"
      ]
     },
     "execution_count": 14,
     "metadata": {},
     "output_type": "execute_result"
    }
   ],
   "source": [
    "a.value_counts().sort_index()"
   ]
  },
  {
   "cell_type": "code",
   "execution_count": 15,
   "id": "c25a740b",
   "metadata": {
    "hidden": true,
    "id": "c25a740b"
   },
   "outputs": [],
   "source": [
    "img_df['age_group'] = pd.qcut(img_df['age'],10).astype(str)\n",
    "img_df['age_group'] = img_df['age_group'].map({\n",
    "    '(0.999, 5.0]' : 0,\n",
    "    '(5.0, 19.0]' : 1,\n",
    "    '(19.0, 25.0]': 2,\n",
    "    '(25.0, 26.0]': 3,\n",
    "    '(26.0, 29.0]':4,\n",
    "    '(29.0, 34.0]':5,\n",
    "    '(34.0, 39.0]':6,\n",
    "    '(39.0, 49.0]':7,\n",
    "    '(49.0, 58.0]':8,\n",
    "    '(58.0, 80.0]':9})"
   ]
  },
  {
   "cell_type": "markdown",
   "id": "rxucb3l7ZEeK",
   "metadata": {
    "heading_collapsed": true,
    "hidden": true,
    "id": "rxucb3l7ZEeK"
   },
   "source": [
    "## CNN 1 Preperations (Size: Original)"
   ]
  },
  {
   "cell_type": "code",
   "execution_count": 13,
   "id": "551b8b67",
   "metadata": {
    "hidden": true,
    "id": "551b8b67"
   },
   "outputs": [],
   "source": [
    "X = img_pic\n",
    "y = img_df['age_group']\n",
    "\n",
    "X_train, X_test, y_train, y_test = train_test_split(X, y, test_size=0.1, random_state=42)\n",
    "\n",
    "X_train = np.array(X_train)\n",
    "X_test =np.array(X_test)\n",
    "y_train = np.array(y_train)\n",
    "y_test =np.array(y_test)\n",
    "X_train.shape"
   ]
  },
  {
   "cell_type": "code",
   "execution_count": 15,
   "id": "ced4cca7",
   "metadata": {
    "hidden": true,
    "id": "ced4cca7"
   },
   "outputs": [],
   "source": [
    "X_train = X_train/255 - 0.5\n",
    "X_test = X_test/255 - 0.5\n",
    "y_train_cat = to_categorical(y_train)\n",
    "y_test_cat = to_categorical(y_test)"
   ]
  },
  {
   "cell_type": "code",
   "execution_count": 16,
   "id": "e5509d4d",
   "metadata": {
    "colab": {
     "base_uri": "https://localhost:8080/",
     "height": 168
    },
    "hidden": true,
    "id": "e5509d4d",
    "outputId": "46693f4f-48e9-4ce4-9fe5-45c36c1f109b"
   },
   "outputs": [],
   "source": [
    "#np.save('X_train', X_train)\n",
    "#np.save('X_test', X_test)\n",
    "#np.save('y_train_cat', y_train_cat)\n",
    "#np.save('y_test_cat', y_test_cat)"
   ]
  },
  {
   "cell_type": "code",
   "execution_count": 20,
   "id": "ac6e8269",
   "metadata": {
    "hidden": true
   },
   "outputs": [
    {
     "name": "stdout",
     "output_type": "stream",
     "text": [
      "(19804, 200, 200, 3)\n",
      "(2201, 200, 200, 3)\n"
     ]
    }
   ],
   "source": [
    "print(X_train.shape)\n",
    "print(X_test.shape)"
   ]
  },
  {
   "cell_type": "markdown",
   "id": "d0d86c13",
   "metadata": {
    "heading_collapsed": true,
    "hidden": true
   },
   "source": [
    "## CNN 1 (Accuracy: 12,59 %)"
   ]
  },
  {
   "cell_type": "code",
   "execution_count": 28,
   "id": "8cf04849",
   "metadata": {
    "hidden": true
   },
   "outputs": [],
   "source": [
    "def initialize_model():\n",
    "    model = models.Sequential()\n",
    "    ### First convolution & max-pooling\n",
    "    model.add(layers.Conv2D(8, (4,4), input_shape=(200, 200, 3),\n",
    "                            activation='relu'))\n",
    "    model.add(layers.MaxPool2D(pool_size=(2,2)))\n",
    "\n",
    "    ### Flattening\n",
    "    model.add(layers.Flatten())\n",
    "\n",
    "    ### One fully connected\n",
    "    model.add(layers.Dense(10, activation='relu'))\n",
    "\n",
    "    ### Last layer (let's say a classification with 10 output)\n",
    "    model.add(layers.Dense(10, activation='softmax'))\n",
    "    \n",
    "    ### Model compilation\n",
    "    model.compile(loss='categorical_crossentropy',\n",
    "              optimizer='adam',\n",
    "              metrics=['accuracy'])\n",
    "    return model"
   ]
  },
  {
   "cell_type": "code",
   "execution_count": 22,
   "id": "e1867d3b",
   "metadata": {
    "hidden": true
   },
   "outputs": [
    {
     "name": "stdout",
     "output_type": "stream",
     "text": [
      "Epoch 1/10\n",
      "434/434 [==============================] - 176s 403ms/step - loss: 2.3169 - accuracy: 0.1197 - val_loss: 2.2984 - val_accuracy: 0.1355\n",
      "Epoch 2/10\n",
      "434/434 [==============================] - 120s 276ms/step - loss: 2.2996 - accuracy: 0.1236 - val_loss: 2.2968 - val_accuracy: 0.1355\n",
      "Epoch 3/10\n",
      "434/434 [==============================] - 134s 309ms/step - loss: 2.2992 - accuracy: 0.1236 - val_loss: 2.2962 - val_accuracy: 0.1355\n",
      "Epoch 4/10\n",
      "434/434 [==============================] - 127s 293ms/step - loss: 2.2991 - accuracy: 0.1236 - val_loss: 2.2961 - val_accuracy: 0.1355\n",
      "Epoch 5/10\n",
      "434/434 [==============================] - 112s 258ms/step - loss: 2.2991 - accuracy: 0.1236 - val_loss: 2.2960 - val_accuracy: 0.1355\n",
      "Epoch 6/10\n",
      "434/434 [==============================] - 149s 344ms/step - loss: 2.2991 - accuracy: 0.1236 - val_loss: 2.2960 - val_accuracy: 0.1355\n",
      "Epoch 7/10\n",
      "434/434 [==============================] - 148s 341ms/step - loss: 2.2991 - accuracy: 0.1236 - val_loss: 2.2959 - val_accuracy: 0.1355\n",
      "Epoch 8/10\n",
      "434/434 [==============================] - 149s 344ms/step - loss: 2.2991 - accuracy: 0.1236 - val_loss: 2.2959 - val_accuracy: 0.1355\n",
      "Epoch 9/10\n",
      "434/434 [==============================] - 143s 330ms/step - loss: 2.2990 - accuracy: 0.1236 - val_loss: 2.2961 - val_accuracy: 0.1355\n",
      "Epoch 10/10\n",
      "434/434 [==============================] - 121s 279ms/step - loss: 2.2991 - accuracy: 0.1236 - val_loss: 2.2960 - val_accuracy: 0.1355\n"
     ]
    },
    {
     "data": {
      "text/plain": [
       "<tensorflow.python.keras.callbacks.History at 0x15ea6cd90>"
      ]
     },
     "execution_count": 22,
     "metadata": {},
     "output_type": "execute_result"
    }
   ],
   "source": [
    "model = initialize_model()\n",
    "\n",
    "es = EarlyStopping(patience=2,restore_best_weights=True)\n",
    "\n",
    "# YOUR CODE HERE\n",
    "model.fit(X_train, y_train_cat, \n",
    "          validation_split=0.3,\n",
    "          callbacks=[es],\n",
    "          epochs=10, \n",
    "          batch_size=32, \n",
    "          verbose=1)"
   ]
  },
  {
   "cell_type": "code",
   "execution_count": 24,
   "id": "49529dc3",
   "metadata": {
    "hidden": true
   },
   "outputs": [
    {
     "name": "stdout",
     "output_type": "stream",
     "text": [
      "0.12585188448429108\n"
     ]
    }
   ],
   "source": [
    "print(model.evaluate(X_test, y_test_cat, verbose=0)[1])"
   ]
  },
  {
   "cell_type": "markdown",
   "id": "c496b694",
   "metadata": {
    "heading_collapsed": true,
    "hidden": true
   },
   "source": [
    "## CNN Preperations Image Size: 100*100"
   ]
  },
  {
   "cell_type": "code",
   "execution_count": 22,
   "id": "27f760cf",
   "metadata": {
    "hidden": true
   },
   "outputs": [],
   "source": [
    "X = img_pic\n",
    "y = img_df['age_group']\n",
    "X_train, X_test, y_train, y_test = train_test_split(X, y, test_size=0.1, random_state=42)\n",
    "\n",
    "X_train = np.array(X_train)\n",
    "X_test =np.array(X_test)\n",
    "y_train = np.array(y_train)\n",
    "y_test =np.array(y_test)\n",
    "X_train.shape"
   ]
  },
  {
   "cell_type": "code",
   "execution_count": 24,
   "id": "9cc8fb96",
   "metadata": {
    "hidden": true
   },
   "outputs": [],
   "source": [
    "X_train = X_train/255 - 0.5\n",
    "X_test = X_test/255 - 0.5\n",
    "y_train_cat = to_categorical(y_train)\n",
    "y_test_cat = to_categorical(y_test)"
   ]
  },
  {
   "cell_type": "code",
   "execution_count": 27,
   "id": "6207cc7d",
   "metadata": {
    "hidden": true
   },
   "outputs": [
    {
     "name": "stdout",
     "output_type": "stream",
     "text": [
      "(19804, 100, 100, 3)\n",
      "(2201, 100, 100, 3)\n"
     ]
    }
   ],
   "source": [
    "print(X_train.shape)\n",
    "print(X_test.shape)"
   ]
  },
  {
   "cell_type": "markdown",
   "id": "feb08584",
   "metadata": {
    "heading_collapsed": true
   },
   "source": [
    "# CNN A"
   ]
  },
  {
   "cell_type": "markdown",
   "id": "e3b9ba1d",
   "metadata": {
    "heading_collapsed": true,
    "hidden": true
   },
   "source": [
    "## CNN 2 (1 hidden with 10) 12,59%"
   ]
  },
  {
   "cell_type": "code",
   "execution_count": 30,
   "id": "1c255db8",
   "metadata": {
    "hidden": true
   },
   "outputs": [],
   "source": [
    "def initialize_model():\n",
    "    model = models.Sequential()\n",
    "    ### First convolution & max-pooling\n",
    "    model.add(layers.Conv2D(8, (4,4), input_shape=(100, 100, 3),\n",
    "                            activation='relu'))\n",
    "    model.add(layers.MaxPool2D(pool_size=(2,2)))\n",
    "\n",
    "    ### Flattening\n",
    "    model.add(layers.Flatten())\n",
    "\n",
    "    ### One fully connected\n",
    "    model.add(layers.Dense(10, activation='relu'))\n",
    "\n",
    "    ### Last layer (let's say a classification with 10 output)\n",
    "    model.add(layers.Dense(10, activation='softmax'))\n",
    "    \n",
    "    ### Model compilation\n",
    "    model.compile(loss='categorical_crossentropy',\n",
    "              optimizer='adam',\n",
    "              metrics=['accuracy'])\n",
    "    return model"
   ]
  },
  {
   "cell_type": "code",
   "execution_count": 32,
   "id": "70b89cca",
   "metadata": {
    "hidden": true
   },
   "outputs": [
    {
     "name": "stdout",
     "output_type": "stream",
     "text": [
      "Epoch 1/10\n",
      "434/434 [==============================] - 25s 57ms/step - loss: 2.3021 - accuracy: 0.1232 - val_loss: 2.2979 - val_accuracy: 0.1355\n",
      "Epoch 2/10\n",
      "434/434 [==============================] - 22s 51ms/step - loss: 2.2994 - accuracy: 0.1236 - val_loss: 2.2966 - val_accuracy: 0.1355\n",
      "Epoch 3/10\n",
      "434/434 [==============================] - 22s 51ms/step - loss: 2.2991 - accuracy: 0.1236 - val_loss: 2.2961 - val_accuracy: 0.1355\n",
      "Epoch 4/10\n",
      "434/434 [==============================] - 23s 52ms/step - loss: 2.2991 - accuracy: 0.1236 - val_loss: 2.2960 - val_accuracy: 0.1355\n",
      "Epoch 5/10\n",
      "434/434 [==============================] - 23s 52ms/step - loss: 2.2991 - accuracy: 0.1236 - val_loss: 2.2959 - val_accuracy: 0.1355\n",
      "Epoch 6/10\n",
      "434/434 [==============================] - 23s 53ms/step - loss: 2.2991 - accuracy: 0.1236 - val_loss: 2.2959 - val_accuracy: 0.1355\n",
      "Epoch 7/10\n",
      "434/434 [==============================] - 23s 52ms/step - loss: 2.2991 - accuracy: 0.1236 - val_loss: 2.2959 - val_accuracy: 0.1355\n",
      "Epoch 8/10\n",
      "434/434 [==============================] - 23s 52ms/step - loss: 2.2991 - accuracy: 0.1236 - val_loss: 2.2959 - val_accuracy: 0.1355\n",
      "Epoch 9/10\n",
      "434/434 [==============================] - 23s 53ms/step - loss: 2.2991 - accuracy: 0.1236 - val_loss: 2.2959 - val_accuracy: 0.1355\n"
     ]
    },
    {
     "data": {
      "text/plain": [
       "<tensorflow.python.keras.callbacks.History at 0x162512040>"
      ]
     },
     "execution_count": 32,
     "metadata": {},
     "output_type": "execute_result"
    }
   ],
   "source": [
    "model2 = initialize_model()\n",
    "\n",
    "es = EarlyStopping(patience=2,restore_best_weights=True)\n",
    "\n",
    "# YOUR CODE HERE\n",
    "model2.fit(X_train, y_train_cat, \n",
    "          validation_split=0.3,\n",
    "          callbacks=[es],\n",
    "          epochs=10, \n",
    "          batch_size=32, \n",
    "          verbose=1)"
   ]
  },
  {
   "cell_type": "code",
   "execution_count": 33,
   "id": "0090267c",
   "metadata": {
    "hidden": true
   },
   "outputs": [
    {
     "name": "stdout",
     "output_type": "stream",
     "text": [
      "0.12585188448429108\n"
     ]
    }
   ],
   "source": [
    "print(model2.evaluate(X_test, y_test_cat, verbose=0)[1])"
   ]
  },
  {
   "cell_type": "markdown",
   "id": "78e1cfd5",
   "metadata": {
    "heading_collapsed": true,
    "hidden": true
   },
   "source": [
    "## CNN 3 (1 hidden with 50 ) 40,25 %"
   ]
  },
  {
   "cell_type": "code",
   "execution_count": 61,
   "id": "fff5f2ca",
   "metadata": {
    "hidden": true
   },
   "outputs": [
    {
     "name": "stdout",
     "output_type": "stream",
     "text": [
      "Model: \"sequential_32\"\n",
      "_________________________________________________________________\n",
      "Layer (type)                 Output Shape              Param #   \n",
      "=================================================================\n",
      "conv2d_32 (Conv2D)           (None, 97, 97, 8)         392       \n",
      "_________________________________________________________________\n",
      "max_pooling2d_32 (MaxPooling (None, 48, 48, 8)         0         \n",
      "_________________________________________________________________\n",
      "flatten_32 (Flatten)         (None, 18432)             0         \n",
      "_________________________________________________________________\n",
      "dense_82 (Dense)             (None, 50)                921650    \n",
      "_________________________________________________________________\n",
      "dense_83 (Dense)             (None, 10)                510       \n",
      "=================================================================\n",
      "Total params: 922,552\n",
      "Trainable params: 922,552\n",
      "Non-trainable params: 0\n",
      "_________________________________________________________________\n",
      "None\n",
      "Epoch 1/10\n",
      "434/434 [==============================] - 31s 70ms/step - loss: 1.9107 - accuracy: 0.2824 - val_loss: 1.6949 - val_accuracy: 0.3682\n",
      "Epoch 2/10\n",
      "434/434 [==============================] - 25s 57ms/step - loss: 1.5876 - accuracy: 0.3982 - val_loss: 1.5984 - val_accuracy: 0.3903\n",
      "Epoch 3/10\n",
      "434/434 [==============================] - 24s 56ms/step - loss: 1.4583 - accuracy: 0.4455 - val_loss: 1.5699 - val_accuracy: 0.3968\n",
      "Epoch 4/10\n",
      "434/434 [==============================] - 24s 56ms/step - loss: 1.3783 - accuracy: 0.4783 - val_loss: 1.5951 - val_accuracy: 0.4042\n",
      "Epoch 5/10\n",
      "434/434 [==============================] - 25s 57ms/step - loss: 1.3014 - accuracy: 0.5093 - val_loss: 1.6035 - val_accuracy: 0.3903\n",
      "0.4025442898273468\n"
     ]
    }
   ],
   "source": [
    "model = models.Sequential()\n",
    "### First convolution & max-pooling\n",
    "model.add(layers.Conv2D(8, (4,4), input_shape=(100, 100, 3),\n",
    "                        activation='relu'))\n",
    "model.add(layers.MaxPool2D(pool_size=(2,2)))\n",
    "\n",
    "### Flattening\n",
    "model.add(layers.Flatten())\n",
    "\n",
    "### One fully connected\n",
    "model.add(layers.Dense(50, activation='relu'))\n",
    "\n",
    "### Last layer (let's say a classification with 10 output)\n",
    "model.add(layers.Dense(10, activation='softmax'))\n",
    "\n",
    "### Model compilation\n",
    "model.compile(loss='categorical_crossentropy',\n",
    "          optimizer='adam',\n",
    "          metrics=['accuracy'])\n",
    "print(model.summary())\n",
    "\n",
    "es = EarlyStopping(patience=2,restore_best_weights=True)\n",
    "\n",
    "# YOUR CODE HERE\n",
    "model.fit(X_train, y_train_cat, \n",
    "          validation_split=0.3,\n",
    "          callbacks=[es],\n",
    "          epochs=10, \n",
    "          batch_size=32, \n",
    "          verbose=1)\n",
    "\n",
    "print(model.evaluate(X_test, y_test_cat, verbose=0)[1])"
   ]
  },
  {
   "cell_type": "markdown",
   "id": "70e19552",
   "metadata": {
    "heading_collapsed": true,
    "hidden": true
   },
   "source": [
    "## CNN 4 (1 hidden with 100 )  40,75%"
   ]
  },
  {
   "cell_type": "code",
   "execution_count": 62,
   "id": "6bee3338",
   "metadata": {
    "hidden": true
   },
   "outputs": [
    {
     "name": "stdout",
     "output_type": "stream",
     "text": [
      "Model: \"sequential_33\"\n",
      "_________________________________________________________________\n",
      "Layer (type)                 Output Shape              Param #   \n",
      "=================================================================\n",
      "conv2d_33 (Conv2D)           (None, 97, 97, 8)         392       \n",
      "_________________________________________________________________\n",
      "max_pooling2d_33 (MaxPooling (None, 48, 48, 8)         0         \n",
      "_________________________________________________________________\n",
      "flatten_33 (Flatten)         (None, 18432)             0         \n",
      "_________________________________________________________________\n",
      "dense_84 (Dense)             (None, 100)               1843300   \n",
      "_________________________________________________________________\n",
      "dense_85 (Dense)             (None, 10)                1010      \n",
      "=================================================================\n",
      "Total params: 1,844,702\n",
      "Trainable params: 1,844,702\n",
      "Non-trainable params: 0\n",
      "_________________________________________________________________\n",
      "None\n",
      "Epoch 1/10\n",
      "434/434 [==============================] - 28s 64ms/step - loss: 1.8635 - accuracy: 0.3078 - val_loss: 1.7131 - val_accuracy: 0.3487\n",
      "Epoch 2/10\n",
      "434/434 [==============================] - 27s 61ms/step - loss: 1.5521 - accuracy: 0.4099 - val_loss: 1.5917 - val_accuracy: 0.3987\n",
      "Epoch 3/10\n",
      "434/434 [==============================] - 26s 60ms/step - loss: 1.4296 - accuracy: 0.4570 - val_loss: 1.5751 - val_accuracy: 0.4047\n",
      "Epoch 4/10\n",
      "434/434 [==============================] - 26s 61ms/step - loss: 1.3340 - accuracy: 0.4946 - val_loss: 1.5849 - val_accuracy: 0.4095\n",
      "Epoch 5/10\n",
      "434/434 [==============================] - 27s 62ms/step - loss: 1.2507 - accuracy: 0.5303 - val_loss: 1.6540 - val_accuracy: 0.4015\n",
      "0.40754202008247375\n"
     ]
    }
   ],
   "source": [
    "model = models.Sequential()\n",
    "### First convolution & max-pooling\n",
    "model.add(layers.Conv2D(8, (4,4), input_shape=(100, 100, 3),\n",
    "                        activation='relu'))\n",
    "model.add(layers.MaxPool2D(pool_size=(2,2)))\n",
    "\n",
    "### Flattening\n",
    "model.add(layers.Flatten())\n",
    "\n",
    "### One fully connected\n",
    "model.add(layers.Dense(100, activation='relu'))\n",
    "\n",
    "### Last layer (let's say a classification with 10 output)\n",
    "model.add(layers.Dense(10, activation='softmax'))\n",
    "\n",
    "### Model compilation\n",
    "model.compile(loss='categorical_crossentropy',\n",
    "          optimizer='adam',\n",
    "          metrics=['accuracy'])\n",
    "print(model.summary())\n",
    "\n",
    "es = EarlyStopping(patience=2,restore_best_weights=True)\n",
    "\n",
    "# YOUR CODE HERE\n",
    "model.fit(X_train, y_train_cat, \n",
    "          validation_split=0.3,\n",
    "          callbacks=[es],\n",
    "          epochs=10, \n",
    "          batch_size=32, \n",
    "          verbose=1)\n",
    "\n",
    "print(model.evaluate(X_test, y_test_cat, verbose=0)[1])"
   ]
  },
  {
   "cell_type": "markdown",
   "id": "2b207ffa",
   "metadata": {
    "heading_collapsed": true,
    "hidden": true
   },
   "source": [
    "## CNN 5 (2 hidden with 100,50 )  39,7%"
   ]
  },
  {
   "cell_type": "code",
   "execution_count": 50,
   "id": "78456a94",
   "metadata": {
    "hidden": true
   },
   "outputs": [
    {
     "name": "stdout",
     "output_type": "stream",
     "text": [
      "Epoch 1/10\n",
      "434/434 [==============================] - 39s 90ms/step - loss: 1.8448 - accuracy: 0.3131 - val_loss: 1.6139 - val_accuracy: 0.3785\n",
      "Epoch 2/10\n",
      "434/434 [==============================] - 30s 68ms/step - loss: 1.5327 - accuracy: 0.4123 - val_loss: 1.5671 - val_accuracy: 0.3963\n",
      "Epoch 3/10\n",
      "434/434 [==============================] - 28s 64ms/step - loss: 1.4061 - accuracy: 0.4592 - val_loss: 1.5753 - val_accuracy: 0.3958\n",
      "Epoch 4/10\n",
      "434/434 [==============================] - 35s 81ms/step - loss: 1.2902 - accuracy: 0.5039 - val_loss: 1.5731 - val_accuracy: 0.4078\n",
      "0.39709222316741943\n"
     ]
    }
   ],
   "source": [
    "model = models.Sequential()\n",
    "### First convolution & max-pooling\n",
    "model.add(layers.Conv2D(8, (4,4), input_shape=(100, 100, 3),\n",
    "                        activation='relu'))\n",
    "model.add(layers.MaxPool2D(pool_size=(2,2)))\n",
    "\n",
    "### Flattening\n",
    "model.add(layers.Flatten())\n",
    "\n",
    "### One fully connected\n",
    "model.add(layers.Dense(100, activation='relu'))\n",
    "\n",
    "### Second fully connected\n",
    "model.add(layers.Dense(50, activation='relu'))\n",
    "\n",
    "### Last layer (let's say a classification with 10 output)\n",
    "model.add(layers.Dense(10, activation='softmax'))\n",
    "\n",
    "### Model compilation\n",
    "model.compile(loss='categorical_crossentropy',\n",
    "          optimizer='adam',\n",
    "          metrics=['accuracy'])\n",
    "\n",
    "es = EarlyStopping(patience=2,restore_best_weights=True)\n",
    "\n",
    "# YOUR CODE HERE\n",
    "model.fit(X_train, y_train_cat, \n",
    "          validation_split=0.3,\n",
    "          callbacks=[es],\n",
    "          epochs=10, \n",
    "          batch_size=32, \n",
    "          verbose=1)\n",
    "\n",
    "print(model.evaluate(X_test, y_test_cat, verbose=0)[1])"
   ]
  },
  {
   "cell_type": "markdown",
   "id": "bfb2e2c2",
   "metadata": {
    "heading_collapsed": true,
    "hidden": true
   },
   "source": [
    "## CNN 6 (2 hidden with 100,100 ) 39,3%"
   ]
  },
  {
   "cell_type": "code",
   "execution_count": 51,
   "id": "02759e35",
   "metadata": {
    "hidden": true
   },
   "outputs": [
    {
     "name": "stdout",
     "output_type": "stream",
     "text": [
      "Epoch 1/10\n",
      "434/434 [==============================] - 38s 86ms/step - loss: 1.8797 - accuracy: 0.3016 - val_loss: 1.6689 - val_accuracy: 0.3716\n",
      "Epoch 2/10\n",
      "434/434 [==============================] - 41s 95ms/step - loss: 1.5824 - accuracy: 0.3960 - val_loss: 1.5832 - val_accuracy: 0.3886\n",
      "Epoch 3/10\n",
      "434/434 [==============================] - 43s 99ms/step - loss: 1.4627 - accuracy: 0.4377 - val_loss: 1.5788 - val_accuracy: 0.3928\n",
      "Epoch 4/10\n",
      "434/434 [==============================] - 37s 86ms/step - loss: 1.3620 - accuracy: 0.4750 - val_loss: 1.5654 - val_accuracy: 0.3901\n",
      "Epoch 5/10\n",
      "434/434 [==============================] - 35s 80ms/step - loss: 1.2679 - accuracy: 0.5154 - val_loss: 1.6142 - val_accuracy: 0.3906\n",
      "Epoch 6/10\n",
      "434/434 [==============================] - 35s 81ms/step - loss: 1.1718 - accuracy: 0.5511 - val_loss: 1.6562 - val_accuracy: 0.4026\n",
      "0.3930031657218933\n"
     ]
    }
   ],
   "source": [
    "model = models.Sequential()\n",
    "### First convolution & max-pooling\n",
    "model.add(layers.Conv2D(8, (4,4), input_shape=(100, 100, 3),\n",
    "                        activation='relu'))\n",
    "model.add(layers.MaxPool2D(pool_size=(2,2)))\n",
    "\n",
    "### Flattening\n",
    "model.add(layers.Flatten())\n",
    "\n",
    "### One fully connected\n",
    "model.add(layers.Dense(100, activation='relu'))\n",
    "\n",
    "### Second fully connected\n",
    "model.add(layers.Dense(100, activation='relu'))\n",
    "\n",
    "### Last layer (let's say a classification with 10 output)\n",
    "model.add(layers.Dense(10, activation='softmax'))\n",
    "\n",
    "### Model compilation\n",
    "model.compile(loss='categorical_crossentropy',\n",
    "          optimizer='adam',\n",
    "          metrics=['accuracy'])\n",
    "\n",
    "es = EarlyStopping(patience=2,restore_best_weights=True)\n",
    "\n",
    "# YOUR CODE HERE\n",
    "model.fit(X_train, y_train_cat, \n",
    "          validation_split=0.3,\n",
    "          callbacks=[es],\n",
    "          epochs=10, \n",
    "          batch_size=32, \n",
    "          verbose=1)\n",
    "\n",
    "print(model.evaluate(X_test, y_test_cat, verbose=0)[1])"
   ]
  },
  {
   "cell_type": "markdown",
   "id": "15dcce70",
   "metadata": {
    "heading_collapsed": true,
    "hidden": true
   },
   "source": [
    "## CNN 7 (3 hidden with 50,100,50 )  40,3%"
   ]
  },
  {
   "cell_type": "code",
   "execution_count": 63,
   "id": "2b8c6b96",
   "metadata": {
    "hidden": true
   },
   "outputs": [
    {
     "name": "stdout",
     "output_type": "stream",
     "text": [
      "Model: \"sequential_34\"\n",
      "_________________________________________________________________\n",
      "Layer (type)                 Output Shape              Param #   \n",
      "=================================================================\n",
      "conv2d_34 (Conv2D)           (None, 97, 97, 8)         392       \n",
      "_________________________________________________________________\n",
      "max_pooling2d_34 (MaxPooling (None, 48, 48, 8)         0         \n",
      "_________________________________________________________________\n",
      "flatten_34 (Flatten)         (None, 18432)             0         \n",
      "_________________________________________________________________\n",
      "dense_86 (Dense)             (None, 50)                921650    \n",
      "_________________________________________________________________\n",
      "dense_87 (Dense)             (None, 100)               5100      \n",
      "_________________________________________________________________\n",
      "dense_88 (Dense)             (None, 50)                5050      \n",
      "_________________________________________________________________\n",
      "dense_89 (Dense)             (None, 10)                510       \n",
      "=================================================================\n",
      "Total params: 932,702\n",
      "Trainable params: 932,702\n",
      "Non-trainable params: 0\n",
      "_________________________________________________________________\n",
      "None\n",
      "Epoch 1/10\n",
      "434/434 [==============================] - 27s 61ms/step - loss: 1.8766 - accuracy: 0.2943 - val_loss: 1.6551 - val_accuracy: 0.3718\n",
      "Epoch 2/10\n",
      "434/434 [==============================] - 25s 58ms/step - loss: 1.5660 - accuracy: 0.3991 - val_loss: 1.5547 - val_accuracy: 0.4002\n",
      "Epoch 3/10\n",
      "434/434 [==============================] - 25s 58ms/step - loss: 1.4619 - accuracy: 0.4346 - val_loss: 1.5369 - val_accuracy: 0.4115\n",
      "Epoch 4/10\n",
      "434/434 [==============================] - 27s 63ms/step - loss: 1.3829 - accuracy: 0.4599 - val_loss: 1.5742 - val_accuracy: 0.4128\n",
      "Epoch 5/10\n",
      "434/434 [==============================] - 26s 59ms/step - loss: 1.3181 - accuracy: 0.4875 - val_loss: 1.5803 - val_accuracy: 0.4019\n",
      "0.40345296263694763\n"
     ]
    }
   ],
   "source": [
    "model = models.Sequential()\n",
    "### First convolution & max-pooling\n",
    "model.add(layers.Conv2D(8, (4,4), input_shape=(100, 100, 3),\n",
    "                        activation='relu'))\n",
    "model.add(layers.MaxPool2D(pool_size=(2,2)))\n",
    "\n",
    "### Flattening\n",
    "model.add(layers.Flatten())\n",
    "\n",
    "### One fully connected\n",
    "model.add(layers.Dense(50, activation='relu'))\n",
    "\n",
    "### Second fully connected\n",
    "model.add(layers.Dense(100, activation='relu'))\n",
    "\n",
    "### Third fully connected\n",
    "model.add(layers.Dense(50, activation='relu'))\n",
    "\n",
    "### Last layer (let's say a classification with 10 output)\n",
    "model.add(layers.Dense(10, activation='softmax'))\n",
    "\n",
    "### Model compilation\n",
    "model.compile(loss='categorical_crossentropy',\n",
    "          optimizer='adam',\n",
    "          metrics=['accuracy'])\n",
    "print(model.summary())\n",
    "\n",
    "es = EarlyStopping(patience=2,restore_best_weights=True)\n",
    "\n",
    "# YOUR CODE HERE\n",
    "model.fit(X_train, y_train_cat, \n",
    "          validation_split=0.3,\n",
    "          callbacks=[es],\n",
    "          epochs=10, \n",
    "          batch_size=32, \n",
    "          verbose=1)\n",
    "\n",
    "print(model.evaluate(X_test, y_test_cat, verbose=0)[1])"
   ]
  },
  {
   "cell_type": "markdown",
   "id": "aeaef2c3",
   "metadata": {
    "heading_collapsed": true,
    "hidden": true
   },
   "source": [
    "## CNN 8 (1 hidden with 300 )  39,7%"
   ]
  },
  {
   "cell_type": "code",
   "execution_count": 56,
   "id": "14e4aa78",
   "metadata": {
    "hidden": true
   },
   "outputs": [
    {
     "name": "stdout",
     "output_type": "stream",
     "text": [
      "Model: \"sequential_27\"\n",
      "_________________________________________________________________\n",
      "Layer (type)                 Output Shape              Param #   \n",
      "=================================================================\n",
      "conv2d_27 (Conv2D)           (None, 97, 97, 8)         392       \n",
      "_________________________________________________________________\n",
      "max_pooling2d_27 (MaxPooling (None, 48, 48, 8)         0         \n",
      "_________________________________________________________________\n",
      "flatten_27 (Flatten)         (None, 18432)             0         \n",
      "_________________________________________________________________\n",
      "dense_67 (Dense)             (None, 300)               5529900   \n",
      "_________________________________________________________________\n",
      "dense_68 (Dense)             (None, 10)                3010      \n",
      "=================================================================\n",
      "Total params: 5,533,302\n",
      "Trainable params: 5,533,302\n",
      "Non-trainable params: 0\n",
      "_________________________________________________________________\n",
      "None\n",
      "Epoch 1/10\n",
      "434/434 [==============================] - 50s 108ms/step - loss: 1.8050 - accuracy: 0.3240 - val_loss: 1.6115 - val_accuracy: 0.3859\n",
      "Epoch 2/10\n",
      "434/434 [==============================] - 38s 89ms/step - loss: 1.4926 - accuracy: 0.4387 - val_loss: 1.5632 - val_accuracy: 0.3999\n",
      "Epoch 3/10\n",
      "434/434 [==============================] - 34s 78ms/step - loss: 1.3456 - accuracy: 0.4897 - val_loss: 1.5820 - val_accuracy: 0.3923\n",
      "Epoch 4/10\n",
      "434/434 [==============================] - 36s 84ms/step - loss: 1.1944 - accuracy: 0.5539 - val_loss: 1.6505 - val_accuracy: 0.3936\n",
      "0.396637886762619\n"
     ]
    }
   ],
   "source": [
    "model = models.Sequential()\n",
    "### First convolution & max-pooling\n",
    "model.add(layers.Conv2D(8, (4,4), input_shape=(100, 100, 3),\n",
    "                        activation='relu'))\n",
    "model.add(layers.MaxPool2D(pool_size=(2,2)))\n",
    "\n",
    "### Flattening\n",
    "model.add(layers.Flatten())\n",
    "\n",
    "### One fully connected\n",
    "model.add(layers.Dense(300, activation='relu'))\n",
    "\n",
    "### Last layer (let's say a classification with 10 output)\n",
    "model.add(layers.Dense(10, activation='softmax'))\n",
    "\n",
    "### Model compilation\n",
    "model.compile(loss='categorical_crossentropy',\n",
    "          optimizer='adam',\n",
    "          metrics=['accuracy'])\n",
    "\n",
    "print(model.summary())\n",
    "\n",
    "es = EarlyStopping(patience=2,restore_best_weights=True)\n",
    "\n",
    "# YOUR CODE HERE\n",
    "model.fit(X_train, y_train_cat, \n",
    "          validation_split=0.3,\n",
    "          callbacks=[es],\n",
    "          epochs=10, \n",
    "          batch_size=32, \n",
    "          verbose=1)\n",
    "\n",
    "print(model.evaluate(X_test, y_test_cat, verbose=0)[1])"
   ]
  },
  {
   "cell_type": "markdown",
   "id": "693289d9",
   "metadata": {
    "heading_collapsed": true,
    "hidden": true
   },
   "source": [
    "## CNN 9 (2 hidden with 100,20 )  39,6%"
   ]
  },
  {
   "cell_type": "code",
   "execution_count": 57,
   "id": "484c00c8",
   "metadata": {
    "hidden": true
   },
   "outputs": [
    {
     "name": "stdout",
     "output_type": "stream",
     "text": [
      "Model: \"sequential_28\"\n",
      "_________________________________________________________________\n",
      "Layer (type)                 Output Shape              Param #   \n",
      "=================================================================\n",
      "conv2d_28 (Conv2D)           (None, 97, 97, 8)         392       \n",
      "_________________________________________________________________\n",
      "max_pooling2d_28 (MaxPooling (None, 48, 48, 8)         0         \n",
      "_________________________________________________________________\n",
      "flatten_28 (Flatten)         (None, 18432)             0         \n",
      "_________________________________________________________________\n",
      "dense_69 (Dense)             (None, 100)               1843300   \n",
      "_________________________________________________________________\n",
      "dense_70 (Dense)             (None, 20)                2020      \n",
      "_________________________________________________________________\n",
      "dense_71 (Dense)             (None, 10)                210       \n",
      "=================================================================\n",
      "Total params: 1,845,922\n",
      "Trainable params: 1,845,922\n",
      "Non-trainable params: 0\n",
      "_________________________________________________________________\n",
      "None\n",
      "Epoch 1/10\n",
      "434/434 [==============================] - 37s 85ms/step - loss: 2.0009 - accuracy: 0.2466 - val_loss: 1.7194 - val_accuracy: 0.3490\n",
      "Epoch 2/10\n",
      "434/434 [==============================] - 33s 77ms/step - loss: 1.6149 - accuracy: 0.3786 - val_loss: 1.5893 - val_accuracy: 0.3869\n",
      "Epoch 3/10\n",
      "434/434 [==============================] - 32s 73ms/step - loss: 1.4757 - accuracy: 0.4348 - val_loss: 1.5874 - val_accuracy: 0.3876\n",
      "Epoch 4/10\n",
      "434/434 [==============================] - 34s 78ms/step - loss: 1.3856 - accuracy: 0.4624 - val_loss: 1.5516 - val_accuracy: 0.4037\n",
      "Epoch 5/10\n",
      "434/434 [==============================] - 34s 79ms/step - loss: 1.2869 - accuracy: 0.5021 - val_loss: 1.5798 - val_accuracy: 0.3953\n",
      "Epoch 6/10\n",
      "434/434 [==============================] - 31s 72ms/step - loss: 1.2106 - accuracy: 0.5389 - val_loss: 1.7009 - val_accuracy: 0.3711\n",
      "0.3961835503578186\n"
     ]
    }
   ],
   "source": [
    "model = models.Sequential()\n",
    "### First convolution & max-pooling\n",
    "model.add(layers.Conv2D(8, (4,4), input_shape=(100, 100, 3),\n",
    "                        activation='relu'))\n",
    "model.add(layers.MaxPool2D(pool_size=(2,2)))\n",
    "\n",
    "### Flattening\n",
    "model.add(layers.Flatten())\n",
    "\n",
    "### One fully connected\n",
    "model.add(layers.Dense(100, activation='relu'))\n",
    "\n",
    "### Second fully connected\n",
    "model.add(layers.Dense(20, activation='relu'))\n",
    "\n",
    "### Last layer (let's say a classification with 10 output)\n",
    "model.add(layers.Dense(10, activation='softmax'))\n",
    "\n",
    "### Model compilation\n",
    "model.compile(loss='categorical_crossentropy',\n",
    "          optimizer='adam',\n",
    "          metrics=['accuracy'])\n",
    "print(model.summary())\n",
    "\n",
    "es = EarlyStopping(patience=2,restore_best_weights=True)\n",
    "\n",
    "# YOUR CODE HERE\n",
    "model.fit(X_train, y_train_cat, \n",
    "          validation_split=0.3,\n",
    "          callbacks=[es],\n",
    "          epochs=10, \n",
    "          batch_size=32, \n",
    "          verbose=1)\n",
    "\n",
    "print(model.evaluate(X_test, y_test_cat, verbose=0)[1])"
   ]
  },
  {
   "cell_type": "markdown",
   "id": "bf32036d",
   "metadata": {
    "hidden": true
   },
   "source": [
    "## CNN 10 (3 hidden with 20, 50, 20 )  ???%"
   ]
  },
  {
   "cell_type": "code",
   "execution_count": 65,
   "id": "2774719f",
   "metadata": {
    "hidden": true
   },
   "outputs": [
    {
     "name": "stdout",
     "output_type": "stream",
     "text": [
      "Model: \"sequential_36\"\n",
      "_________________________________________________________________\n",
      "Layer (type)                 Output Shape              Param #   \n",
      "=================================================================\n",
      "conv2d_36 (Conv2D)           (None, 97, 97, 8)         392       \n",
      "_________________________________________________________________\n",
      "max_pooling2d_36 (MaxPooling (None, 48, 48, 8)         0         \n",
      "_________________________________________________________________\n",
      "flatten_36 (Flatten)         (None, 18432)             0         \n",
      "_________________________________________________________________\n",
      "dense_92 (Dense)             (None, 20)                368660    \n",
      "_________________________________________________________________\n",
      "dense_93 (Dense)             (None, 50)                1050      \n",
      "_________________________________________________________________\n",
      "dense_94 (Dense)             (None, 20)                1020      \n",
      "_________________________________________________________________\n",
      "dense_95 (Dense)             (None, 10)                210       \n",
      "=================================================================\n",
      "Total params: 371,332\n",
      "Trainable params: 371,332\n",
      "Non-trainable params: 0\n",
      "_________________________________________________________________\n",
      "None\n",
      "Epoch 1/10\n",
      "434/434 [==============================] - 26s 58ms/step - loss: 2.1385 - accuracy: 0.1995 - val_loss: 1.9156 - val_accuracy: 0.2874\n",
      "Epoch 2/10\n",
      "434/434 [==============================] - 26s 60ms/step - loss: 1.8006 - accuracy: 0.3172 - val_loss: 1.7053 - val_accuracy: 0.3487\n",
      "Epoch 3/10\n",
      "434/434 [==============================] - 25s 59ms/step - loss: 1.6447 - accuracy: 0.3588 - val_loss: 1.6468 - val_accuracy: 0.3605\n",
      "Epoch 4/10\n",
      "434/434 [==============================] - 29s 66ms/step - loss: 1.5767 - accuracy: 0.3816 - val_loss: 1.6141 - val_accuracy: 0.3729\n",
      "Epoch 5/10\n",
      "434/434 [==============================] - 29s 66ms/step - loss: 1.5262 - accuracy: 0.3956 - val_loss: 1.6336 - val_accuracy: 0.3743\n",
      "Epoch 6/10\n",
      "434/434 [==============================] - 34s 78ms/step - loss: 1.4854 - accuracy: 0.4111 - val_loss: 1.6602 - val_accuracy: 0.3729\n",
      "0.37437528371810913\n"
     ]
    }
   ],
   "source": [
    "model = models.Sequential()\n",
    "### First convolution & max-pooling\n",
    "model.add(layers.Conv2D(8, (4,4), input_shape=(100, 100, 3),\n",
    "                        activation='relu'))\n",
    "model.add(layers.MaxPool2D(pool_size=(2,2)))\n",
    "\n",
    "### Flattening\n",
    "model.add(layers.Flatten())\n",
    "\n",
    "### One fully connected\n",
    "model.add(layers.Dense(20, activation='relu'))\n",
    "\n",
    "### Second fully connected\n",
    "model.add(layers.Dense(50, activation='relu'))\n",
    "\n",
    "### Third fully connected\n",
    "model.add(layers.Dense(20, activation='relu'))\n",
    "\n",
    "### Last layer (let's say a classification with 10 output)\n",
    "model.add(layers.Dense(10, activation='softmax'))\n",
    "\n",
    "### Model compilation\n",
    "model.compile(loss='categorical_crossentropy',\n",
    "          optimizer='adam',\n",
    "          metrics=['accuracy'])\n",
    "print(model.summary())\n",
    "\n",
    "es = EarlyStopping(patience=2,restore_best_weights=True)\n",
    "\n",
    "# YOUR CODE HERE\n",
    "model.fit(X_train, y_train_cat, \n",
    "          validation_split=0.3,\n",
    "          callbacks=[es],\n",
    "          epochs=10, \n",
    "          batch_size=32, \n",
    "          verbose=1)\n",
    "\n",
    "print(model.evaluate(X_test, y_test_cat, verbose=0)[1])"
   ]
  },
  {
   "cell_type": "markdown",
   "id": "b4305a98",
   "metadata": {},
   "source": [
    "# CNN B"
   ]
  },
  {
   "cell_type": "markdown",
   "id": "e28b9a9f",
   "metadata": {
    "heading_collapsed": true
   },
   "source": [
    "## CNN 1 (1 hidden with 100) - (Epochs:100, Patience: 10)   41,3%\n",
    "**High_Acc - low Val_Acc**"
   ]
  },
  {
   "cell_type": "code",
   "execution_count": 64,
   "id": "863772fa",
   "metadata": {
    "hidden": true
   },
   "outputs": [
    {
     "name": "stdout",
     "output_type": "stream",
     "text": [
      "Model: \"sequential_35\"\n",
      "_________________________________________________________________\n",
      "Layer (type)                 Output Shape              Param #   \n",
      "=================================================================\n",
      "conv2d_35 (Conv2D)           (None, 97, 97, 8)         392       \n",
      "_________________________________________________________________\n",
      "max_pooling2d_35 (MaxPooling (None, 48, 48, 8)         0         \n",
      "_________________________________________________________________\n",
      "flatten_35 (Flatten)         (None, 18432)             0         \n",
      "_________________________________________________________________\n",
      "dense_90 (Dense)             (None, 100)               1843300   \n",
      "_________________________________________________________________\n",
      "dense_91 (Dense)             (None, 10)                1010      \n",
      "=================================================================\n",
      "Total params: 1,844,702\n",
      "Trainable params: 1,844,702\n",
      "Non-trainable params: 0\n",
      "_________________________________________________________________\n",
      "None\n",
      "Epoch 1/100\n",
      "434/434 [==============================] - 87s 200ms/step - loss: 1.8293 - accuracy: 0.3153 - val_loss: 1.6256 - val_accuracy: 0.3743\n",
      "Epoch 2/100\n",
      "434/434 [==============================] - 32s 73ms/step - loss: 1.5288 - accuracy: 0.4108 - val_loss: 1.5933 - val_accuracy: 0.3851\n",
      "Epoch 3/100\n",
      "434/434 [==============================] - 28s 64ms/step - loss: 1.3982 - accuracy: 0.4650 - val_loss: 1.6299 - val_accuracy: 0.3965\n",
      "Epoch 4/100\n",
      "434/434 [==============================] - 32s 73ms/step - loss: 1.3023 - accuracy: 0.5059 - val_loss: 1.5868 - val_accuracy: 0.4081\n",
      "Epoch 5/100\n",
      "434/434 [==============================] - 29s 67ms/step - loss: 1.1990 - accuracy: 0.5465 - val_loss: 1.6474 - val_accuracy: 0.4007\n",
      "Epoch 6/100\n",
      "434/434 [==============================] - 28s 65ms/step - loss: 1.1045 - accuracy: 0.5832 - val_loss: 1.7266 - val_accuracy: 0.3913\n",
      "Epoch 7/100\n",
      "434/434 [==============================] - 28s 64ms/step - loss: 1.0082 - accuracy: 0.6256 - val_loss: 1.7444 - val_accuracy: 0.4005\n",
      "Epoch 8/100\n",
      "434/434 [==============================] - 28s 65ms/step - loss: 0.9105 - accuracy: 0.6635 - val_loss: 1.8516 - val_accuracy: 0.3859\n",
      "Epoch 9/100\n",
      "434/434 [==============================] - 28s 64ms/step - loss: 0.8146 - accuracy: 0.7057 - val_loss: 1.9930 - val_accuracy: 0.3802\n",
      "Epoch 10/100\n",
      "434/434 [==============================] - 37s 85ms/step - loss: 0.7261 - accuracy: 0.7394 - val_loss: 2.1058 - val_accuracy: 0.3903\n",
      "Epoch 11/100\n",
      "434/434 [==============================] - 33s 77ms/step - loss: 0.6330 - accuracy: 0.7755 - val_loss: 2.2896 - val_accuracy: 0.3723\n",
      "Epoch 12/100\n",
      "434/434 [==============================] - 28s 64ms/step - loss: 0.5534 - accuracy: 0.8059 - val_loss: 2.5601 - val_accuracy: 0.3808\n",
      "Epoch 13/100\n",
      "434/434 [==============================] - 24s 56ms/step - loss: 0.4810 - accuracy: 0.8324 - val_loss: 2.7602 - val_accuracy: 0.3790\n",
      "Epoch 14/100\n",
      "434/434 [==============================] - 24s 56ms/step - loss: 0.4096 - accuracy: 0.8635 - val_loss: 2.9200 - val_accuracy: 0.3736\n",
      "0.41344842314720154\n"
     ]
    }
   ],
   "source": [
    "model = models.Sequential()\n",
    "### First convolution & max-pooling & Flattening\n",
    "model.add(layers.Conv2D(8, (4,4), input_shape=(100, 100, 3),activation='relu'))\n",
    "model.add(layers.MaxPool2D(pool_size=(2,2)))\n",
    "model.add(layers.Flatten())\n",
    "\n",
    "### Hidden Layers\n",
    "model.add(layers.Dense(100, activation='relu'))\n",
    "\n",
    "### Last layer \n",
    "model.add(layers.Dense(10, activation='softmax'))\n",
    "\n",
    "### Model compilation\n",
    "model.compile(loss='categorical_crossentropy',\n",
    "          optimizer='adam',\n",
    "          metrics=['accuracy'])\n",
    "print(model.summary())\n",
    "\n",
    "es = EarlyStopping(patience=10,restore_best_weights=True)\n",
    "\n",
    "# YOUR CODE HERE\n",
    "model.fit(X_train, y_train_cat, \n",
    "          validation_split=0.3,\n",
    "          callbacks=[es],\n",
    "          epochs=100, \n",
    "          batch_size=32, \n",
    "          verbose=1)\n",
    "\n",
    "print(model.evaluate(X_test, y_test_cat, verbose=0)[1])"
   ]
  },
  {
   "cell_type": "markdown",
   "id": "3b795a24",
   "metadata": {
    "heading_collapsed": true
   },
   "source": [
    "## CNN 1.2 - Dropout, Hidden Layer 50% => 41,6%"
   ]
  },
  {
   "cell_type": "code",
   "execution_count": 68,
   "id": "dda21f79",
   "metadata": {
    "hidden": true
   },
   "outputs": [
    {
     "name": "stdout",
     "output_type": "stream",
     "text": [
      "Model: \"sequential_38\"\n",
      "_________________________________________________________________\n",
      "Layer (type)                 Output Shape              Param #   \n",
      "=================================================================\n",
      "conv2d_38 (Conv2D)           (None, 97, 97, 8)         392       \n",
      "_________________________________________________________________\n",
      "max_pooling2d_38 (MaxPooling (None, 48, 48, 8)         0         \n",
      "_________________________________________________________________\n",
      "flatten_38 (Flatten)         (None, 18432)             0         \n",
      "_________________________________________________________________\n",
      "dense_97 (Dense)             (None, 100)               1843300   \n",
      "_________________________________________________________________\n",
      "dropout (Dropout)            (None, 100)               0         \n",
      "_________________________________________________________________\n",
      "dense_98 (Dense)             (None, 10)                1010      \n",
      "=================================================================\n",
      "Total params: 1,844,702\n",
      "Trainable params: 1,844,702\n",
      "Non-trainable params: 0\n",
      "_________________________________________________________________\n",
      "None\n",
      "Epoch 1/100\n",
      "434/434 [==============================] - 33s 76ms/step - loss: 2.0768 - accuracy: 0.2287 - val_loss: 1.7785 - val_accuracy: 0.3470\n",
      "Epoch 2/100\n",
      "434/434 [==============================] - 30s 70ms/step - loss: 1.8255 - accuracy: 0.3073 - val_loss: 1.6833 - val_accuracy: 0.3721\n",
      "Epoch 3/100\n",
      "434/434 [==============================] - 27s 62ms/step - loss: 1.7388 - accuracy: 0.3290 - val_loss: 1.6083 - val_accuracy: 0.3854\n",
      "Epoch 4/100\n",
      "434/434 [==============================] - 34s 78ms/step - loss: 1.6871 - accuracy: 0.3460 - val_loss: 1.6120 - val_accuracy: 0.3861\n",
      "Epoch 5/100\n",
      "434/434 [==============================] - 29s 67ms/step - loss: 1.6342 - accuracy: 0.3541 - val_loss: 1.5659 - val_accuracy: 0.3997\n",
      "Epoch 6/100\n",
      "434/434 [==============================] - 30s 70ms/step - loss: 1.6068 - accuracy: 0.3632 - val_loss: 1.5505 - val_accuracy: 0.4053\n",
      "Epoch 7/100\n",
      "434/434 [==============================] - 30s 70ms/step - loss: 1.5827 - accuracy: 0.3787 - val_loss: 1.5380 - val_accuracy: 0.4039\n",
      "Epoch 8/100\n",
      "434/434 [==============================] - 38s 87ms/step - loss: 1.5616 - accuracy: 0.3808 - val_loss: 1.5447 - val_accuracy: 0.4019\n",
      "Epoch 9/100\n",
      "434/434 [==============================] - 28s 65ms/step - loss: 1.5390 - accuracy: 0.3815 - val_loss: 1.5499 - val_accuracy: 0.3984\n",
      "Epoch 10/100\n",
      "434/434 [==============================] - 31s 72ms/step - loss: 1.5210 - accuracy: 0.3943 - val_loss: 1.5333 - val_accuracy: 0.3990\n",
      "Epoch 11/100\n",
      "434/434 [==============================] - 31s 71ms/step - loss: 1.4958 - accuracy: 0.4057 - val_loss: 1.5480 - val_accuracy: 0.3997\n",
      "Epoch 12/100\n",
      "434/434 [==============================] - 33s 75ms/step - loss: 1.4797 - accuracy: 0.4017 - val_loss: 1.5464 - val_accuracy: 0.4015\n",
      "Epoch 13/100\n",
      "434/434 [==============================] - 29s 67ms/step - loss: 1.4657 - accuracy: 0.4087 - val_loss: 1.5558 - val_accuracy: 0.4074\n",
      "Epoch 14/100\n",
      "434/434 [==============================] - 30s 69ms/step - loss: 1.4410 - accuracy: 0.4170 - val_loss: 1.5511 - val_accuracy: 0.4125\n",
      "Epoch 15/100\n",
      "434/434 [==============================] - 29s 66ms/step - loss: 1.4311 - accuracy: 0.4119 - val_loss: 1.5840 - val_accuracy: 0.4115\n",
      "Epoch 16/100\n",
      "434/434 [==============================] - 33s 75ms/step - loss: 1.4118 - accuracy: 0.4297 - val_loss: 1.5580 - val_accuracy: 0.4105\n",
      "Epoch 17/100\n",
      "434/434 [==============================] - 28s 65ms/step - loss: 1.4003 - accuracy: 0.4287 - val_loss: 1.5804 - val_accuracy: 0.4041\n",
      "Epoch 18/100\n",
      "434/434 [==============================] - 29s 66ms/step - loss: 1.3656 - accuracy: 0.4403 - val_loss: 1.5896 - val_accuracy: 0.4103\n",
      "Epoch 19/100\n",
      "434/434 [==============================] - 31s 71ms/step - loss: 1.3552 - accuracy: 0.4415 - val_loss: 1.5910 - val_accuracy: 0.3940\n",
      "Epoch 20/100\n",
      "434/434 [==============================] - 34s 77ms/step - loss: 1.3552 - accuracy: 0.4391 - val_loss: 1.6243 - val_accuracy: 0.4063\n",
      "0.415720134973526\n"
     ]
    }
   ],
   "source": [
    "model = models.Sequential()\n",
    "### First convolution & max-pooling & Flattening\n",
    "model.add(layers.Conv2D(8, (4,4), input_shape=(100, 100, 3),activation='relu'))\n",
    "model.add(layers.MaxPool2D(pool_size=(2,2)))\n",
    "model.add(layers.Flatten())\n",
    "\n",
    "### Hidden Layers\n",
    "model.add(layers.Dense(100, activation='relu'))\n",
    "model.add(Dropout(0.5))\n",
    "\n",
    "### Last layer \n",
    "model.add(layers.Dense(10, activation='softmax'))\n",
    "\n",
    "### Model compilation\n",
    "model.compile(loss='categorical_crossentropy',\n",
    "          optimizer='adam',\n",
    "          metrics=['accuracy'])\n",
    "print(model.summary())\n",
    "\n",
    "es = EarlyStopping(patience=10,restore_best_weights=True)\n",
    "\n",
    "# YOUR CODE HERE\n",
    "model.fit(X_train, y_train_cat, \n",
    "          validation_split=0.3,\n",
    "          callbacks=[es],\n",
    "          epochs=100, \n",
    "          batch_size=32, \n",
    "          verbose=1)\n",
    "\n",
    "print(model.evaluate(X_test, y_test_cat, verbose=0)[1])"
   ]
  },
  {
   "cell_type": "markdown",
   "id": "6b3810d0",
   "metadata": {
    "heading_collapsed": true
   },
   "source": [
    "## CNN 1.3 Dropout First and Hidden Layer 20%    34,6 %"
   ]
  },
  {
   "cell_type": "code",
   "execution_count": 69,
   "id": "ed30bb31",
   "metadata": {
    "hidden": true
   },
   "outputs": [
    {
     "name": "stdout",
     "output_type": "stream",
     "text": [
      "Model: \"sequential_39\"\n",
      "_________________________________________________________________\n",
      "Layer (type)                 Output Shape              Param #   \n",
      "=================================================================\n",
      "dropout_1 (Dropout)          (None, 100, 100, 3)       0         \n",
      "_________________________________________________________________\n",
      "conv2d_39 (Conv2D)           (None, 97, 97, 8)         392       \n",
      "_________________________________________________________________\n",
      "max_pooling2d_39 (MaxPooling (None, 48, 48, 8)         0         \n",
      "_________________________________________________________________\n",
      "flatten_39 (Flatten)         (None, 18432)             0         \n",
      "_________________________________________________________________\n",
      "dense_99 (Dense)             (None, 100)               1843300   \n",
      "_________________________________________________________________\n",
      "dropout_2 (Dropout)          (None, 100)               0         \n",
      "_________________________________________________________________\n",
      "dense_100 (Dense)            (None, 10)                1010      \n",
      "=================================================================\n",
      "Total params: 1,844,702\n",
      "Trainable params: 1,844,702\n",
      "Non-trainable params: 0\n",
      "_________________________________________________________________\n",
      "None\n",
      "Epoch 1/100\n",
      "434/434 [==============================] - 34s 77ms/step - loss: 2.2756 - accuracy: 0.1471 - val_loss: 2.1370 - val_accuracy: 0.2171\n",
      "Epoch 2/100\n",
      "434/434 [==============================] - 35s 82ms/step - loss: 2.0813 - accuracy: 0.1995 - val_loss: 1.9923 - val_accuracy: 0.2506\n",
      "Epoch 3/100\n",
      "434/434 [==============================] - 52s 120ms/step - loss: 2.0221 - accuracy: 0.2316 - val_loss: 1.9410 - val_accuracy: 0.3011\n",
      "Epoch 4/100\n",
      "434/434 [==============================] - 38s 87ms/step - loss: 1.9628 - accuracy: 0.2629 - val_loss: 1.8765 - val_accuracy: 0.3203\n",
      "Epoch 5/100\n",
      "434/434 [==============================] - 31s 71ms/step - loss: 1.9369 - accuracy: 0.2691 - val_loss: 1.8739 - val_accuracy: 0.3295\n",
      "Epoch 6/100\n",
      "434/434 [==============================] - 32s 73ms/step - loss: 1.9008 - accuracy: 0.2823 - val_loss: 1.8030 - val_accuracy: 0.3438\n",
      "Epoch 7/100\n",
      "434/434 [==============================] - 31s 71ms/step - loss: 1.8876 - accuracy: 0.2839 - val_loss: 1.7951 - val_accuracy: 0.3470\n",
      "Epoch 8/100\n",
      "434/434 [==============================] - 31s 71ms/step - loss: 1.8706 - accuracy: 0.2886 - val_loss: 1.7937 - val_accuracy: 0.3435\n",
      "Epoch 9/100\n",
      "434/434 [==============================] - 31s 71ms/step - loss: 1.8736 - accuracy: 0.2882 - val_loss: 1.7775 - val_accuracy: 0.3416\n",
      "Epoch 10/100\n",
      "434/434 [==============================] - 31s 72ms/step - loss: 1.8435 - accuracy: 0.3002 - val_loss: 1.7835 - val_accuracy: 0.3452\n",
      "Epoch 11/100\n",
      "434/434 [==============================] - 30s 70ms/step - loss: 1.8445 - accuracy: 0.3008 - val_loss: 1.7667 - val_accuracy: 0.3497\n",
      "Epoch 12/100\n",
      "434/434 [==============================] - 31s 70ms/step - loss: 1.8364 - accuracy: 0.3022 - val_loss: 1.7891 - val_accuracy: 0.3181\n",
      "Epoch 13/100\n",
      "434/434 [==============================] - 40s 93ms/step - loss: 1.8293 - accuracy: 0.3036 - val_loss: 1.7564 - val_accuracy: 0.3374\n",
      "Epoch 14/100\n",
      "434/434 [==============================] - 39s 91ms/step - loss: 1.8254 - accuracy: 0.3102 - val_loss: 1.7457 - val_accuracy: 0.3445\n",
      "Epoch 15/100\n",
      "434/434 [==============================] - 39s 90ms/step - loss: 1.8081 - accuracy: 0.3137 - val_loss: 1.7356 - val_accuracy: 0.3469\n",
      "Epoch 16/100\n",
      "434/434 [==============================] - 38s 87ms/step - loss: 1.8120 - accuracy: 0.3126 - val_loss: 1.7463 - val_accuracy: 0.3532\n",
      "Epoch 17/100\n",
      "434/434 [==============================] - 31s 71ms/step - loss: 1.8126 - accuracy: 0.3106 - val_loss: 1.7417 - val_accuracy: 0.3514\n",
      "Epoch 18/100\n",
      "434/434 [==============================] - 36s 83ms/step - loss: 1.8015 - accuracy: 0.3116 - val_loss: 1.7594 - val_accuracy: 0.3373\n",
      "Epoch 19/100\n",
      "434/434 [==============================] - 37s 84ms/step - loss: 1.7967 - accuracy: 0.3148 - val_loss: 1.7323 - val_accuracy: 0.3549\n",
      "Epoch 20/100\n",
      "434/434 [==============================] - 37s 84ms/step - loss: 1.7888 - accuracy: 0.3203 - val_loss: 1.7468 - val_accuracy: 0.3458\n",
      "Epoch 21/100\n",
      "434/434 [==============================] - 40s 93ms/step - loss: 1.7967 - accuracy: 0.3167 - val_loss: 1.7473 - val_accuracy: 0.3442\n",
      "Epoch 22/100\n",
      "434/434 [==============================] - 40s 92ms/step - loss: 1.7792 - accuracy: 0.3173 - val_loss: 1.7450 - val_accuracy: 0.3437\n",
      "Epoch 23/100\n",
      "434/434 [==============================] - 36s 82ms/step - loss: 1.7854 - accuracy: 0.3163 - val_loss: 1.7427 - val_accuracy: 0.3470\n",
      "Epoch 24/100\n",
      "434/434 [==============================] - 35s 81ms/step - loss: 1.7741 - accuracy: 0.3224 - val_loss: 1.7176 - val_accuracy: 0.3482\n",
      "Epoch 25/100\n",
      "434/434 [==============================] - 36s 82ms/step - loss: 1.7842 - accuracy: 0.3186 - val_loss: 1.7299 - val_accuracy: 0.3561\n",
      "Epoch 26/100\n",
      "434/434 [==============================] - 36s 82ms/step - loss: 1.7705 - accuracy: 0.3262 - val_loss: 1.7301 - val_accuracy: 0.3649\n",
      "Epoch 27/100\n",
      "434/434 [==============================] - 35s 81ms/step - loss: 1.7787 - accuracy: 0.3201 - val_loss: 1.7497 - val_accuracy: 0.3559\n",
      "Epoch 28/100\n",
      "434/434 [==============================] - 35s 79ms/step - loss: 1.7700 - accuracy: 0.3217 - val_loss: 1.7335 - val_accuracy: 0.3573\n",
      "Epoch 29/100\n",
      "434/434 [==============================] - 35s 81ms/step - loss: 1.7786 - accuracy: 0.3233 - val_loss: 1.7325 - val_accuracy: 0.3570\n",
      "Epoch 30/100\n",
      "434/434 [==============================] - 34s 78ms/step - loss: 1.7640 - accuracy: 0.3236 - val_loss: 1.7383 - val_accuracy: 0.3632\n",
      "Epoch 31/100\n",
      "434/434 [==============================] - 36s 82ms/step - loss: 1.7685 - accuracy: 0.3241 - val_loss: 1.7413 - val_accuracy: 0.3421\n",
      "Epoch 32/100\n",
      "434/434 [==============================] - 34s 78ms/step - loss: 1.7661 - accuracy: 0.3228 - val_loss: 1.7440 - val_accuracy: 0.3548\n",
      "Epoch 33/100\n",
      "434/434 [==============================] - 35s 81ms/step - loss: 1.7685 - accuracy: 0.3243 - val_loss: 1.7597 - val_accuracy: 0.3596\n",
      "Epoch 34/100\n",
      "434/434 [==============================] - 32s 73ms/step - loss: 1.7717 - accuracy: 0.3197 - val_loss: 1.7397 - val_accuracy: 0.3448\n",
      "0.34575194120407104\n"
     ]
    }
   ],
   "source": [
    "model = models.Sequential()\n",
    "### First convolution & max-pooling & Flattening\n",
    "model.add(Dropout(0.2, input_shape=(100,100,3,)))\n",
    "model.add(layers.Conv2D(8, (4,4), activation='relu'))\n",
    "model.add(layers.MaxPool2D(pool_size=(2,2)))\n",
    "model.add(layers.Flatten())\n",
    "\n",
    "### Hidden Layers\n",
    "model.add(layers.Dense(100, activation='relu'))\n",
    "model.add(Dropout(0.2))\n",
    "\n",
    "### Last layer \n",
    "model.add(layers.Dense(10, activation='softmax'))\n",
    "\n",
    "### Model compilation\n",
    "model.compile(loss='categorical_crossentropy',\n",
    "          optimizer='adam',\n",
    "          metrics=['accuracy'])\n",
    "print(model.summary())\n",
    "\n",
    "es = EarlyStopping(patience=10,restore_best_weights=True)\n",
    "\n",
    "# YOUR CODE HERE\n",
    "model.fit(X_train, y_train_cat, \n",
    "          validation_split=0.3,\n",
    "          callbacks=[es],\n",
    "          epochs=100, \n",
    "          batch_size=32, \n",
    "          verbose=1)\n",
    "\n",
    "print(model.evaluate(X_test, y_test_cat, verbose=0)[1])"
   ]
  },
  {
   "cell_type": "markdown",
   "id": "df620f05",
   "metadata": {
    "heading_collapsed": true
   },
   "source": [
    "## CNN 1.4 Dropout, Hidden Layer 40% => 40,4%"
   ]
  },
  {
   "cell_type": "code",
   "execution_count": 70,
   "id": "1a1e3f2b",
   "metadata": {
    "hidden": true
   },
   "outputs": [
    {
     "name": "stdout",
     "output_type": "stream",
     "text": [
      "Model: \"sequential_40\"\n",
      "_________________________________________________________________\n",
      "Layer (type)                 Output Shape              Param #   \n",
      "=================================================================\n",
      "conv2d_40 (Conv2D)           (None, 97, 97, 8)         392       \n",
      "_________________________________________________________________\n",
      "max_pooling2d_40 (MaxPooling (None, 48, 48, 8)         0         \n",
      "_________________________________________________________________\n",
      "flatten_40 (Flatten)         (None, 18432)             0         \n",
      "_________________________________________________________________\n",
      "dense_101 (Dense)            (None, 100)               1843300   \n",
      "_________________________________________________________________\n",
      "dropout_3 (Dropout)          (None, 100)               0         \n",
      "_________________________________________________________________\n",
      "dense_102 (Dense)            (None, 10)                1010      \n",
      "=================================================================\n",
      "Total params: 1,844,702\n",
      "Trainable params: 1,844,702\n",
      "Non-trainable params: 0\n",
      "_________________________________________________________________\n",
      "None\n",
      "Epoch 1/100\n",
      "434/434 [==============================] - 30s 69ms/step - loss: 1.9729 - accuracy: 0.2655 - val_loss: 1.7074 - val_accuracy: 0.3669\n",
      "Epoch 2/100\n",
      "434/434 [==============================] - 26s 60ms/step - loss: 1.7108 - accuracy: 0.3522 - val_loss: 1.6173 - val_accuracy: 0.3856\n",
      "Epoch 3/100\n",
      "434/434 [==============================] - 27s 63ms/step - loss: 1.6201 - accuracy: 0.3766 - val_loss: 1.5721 - val_accuracy: 0.3953\n",
      "Epoch 4/100\n",
      "434/434 [==============================] - 27s 62ms/step - loss: 1.5481 - accuracy: 0.3925 - val_loss: 1.5616 - val_accuracy: 0.3952\n",
      "Epoch 5/100\n",
      "434/434 [==============================] - 26s 60ms/step - loss: 1.5062 - accuracy: 0.4162 - val_loss: 1.5536 - val_accuracy: 0.3952\n",
      "Epoch 6/100\n",
      "434/434 [==============================] - 27s 61ms/step - loss: 1.4583 - accuracy: 0.4224 - val_loss: 1.5431 - val_accuracy: 0.4032\n",
      "Epoch 7/100\n",
      "434/434 [==============================] - 26s 60ms/step - loss: 1.4120 - accuracy: 0.4428 - val_loss: 1.5269 - val_accuracy: 0.4164\n",
      "Epoch 8/100\n",
      "434/434 [==============================] - 26s 60ms/step - loss: 1.3737 - accuracy: 0.4530 - val_loss: 1.5305 - val_accuracy: 0.4103\n",
      "Epoch 9/100\n",
      "434/434 [==============================] - 26s 60ms/step - loss: 1.3246 - accuracy: 0.4719 - val_loss: 1.5558 - val_accuracy: 0.4036\n",
      "Epoch 10/100\n",
      "434/434 [==============================] - 28s 64ms/step - loss: 1.2891 - accuracy: 0.4799 - val_loss: 1.5909 - val_accuracy: 0.4078\n",
      "Epoch 11/100\n",
      "434/434 [==============================] - 26s 61ms/step - loss: 1.2592 - accuracy: 0.4942 - val_loss: 1.5968 - val_accuracy: 0.4086\n",
      "Epoch 12/100\n",
      "434/434 [==============================] - 27s 61ms/step - loss: 1.2192 - accuracy: 0.5112 - val_loss: 1.6359 - val_accuracy: 0.4079\n",
      "Epoch 13/100\n",
      "434/434 [==============================] - 27s 62ms/step - loss: 1.1877 - accuracy: 0.5210 - val_loss: 1.6216 - val_accuracy: 0.4145\n",
      "Epoch 14/100\n",
      "434/434 [==============================] - 27s 61ms/step - loss: 1.1606 - accuracy: 0.5330 - val_loss: 1.6512 - val_accuracy: 0.4083\n",
      "Epoch 15/100\n",
      "434/434 [==============================] - 26s 61ms/step - loss: 1.1298 - accuracy: 0.5394 - val_loss: 1.7066 - val_accuracy: 0.4133\n",
      "Epoch 16/100\n",
      "434/434 [==============================] - 27s 62ms/step - loss: 1.1089 - accuracy: 0.5534 - val_loss: 1.7823 - val_accuracy: 0.4056\n",
      "Epoch 17/100\n",
      "434/434 [==============================] - 27s 62ms/step - loss: 1.0741 - accuracy: 0.5614 - val_loss: 1.7776 - val_accuracy: 0.4069\n",
      "0.40390732884407043\n"
     ]
    }
   ],
   "source": [
    "model = models.Sequential()\n",
    "### First convolution & max-pooling & Flattening\n",
    "model.add(layers.Conv2D(8, (4,4), input_shape=(100, 100, 3),activation='relu'))\n",
    "model.add(layers.MaxPool2D(pool_size=(2,2)))\n",
    "model.add(layers.Flatten())\n",
    "\n",
    "### Hidden Layers\n",
    "model.add(layers.Dense(100, activation='relu'))\n",
    "model.add(Dropout(0.4))\n",
    "\n",
    "### Last layer \n",
    "model.add(layers.Dense(10, activation='softmax'))\n",
    "\n",
    "### Model compilation\n",
    "model.compile(loss='categorical_crossentropy',\n",
    "          optimizer='adam',\n",
    "          metrics=['accuracy'])\n",
    "print(model.summary())\n",
    "\n",
    "es = EarlyStopping(patience=10,restore_best_weights=True)\n",
    "\n",
    "# YOUR CODE HERE\n",
    "model.fit(X_train, y_train_cat, \n",
    "          validation_split=0.3,\n",
    "          callbacks=[es],\n",
    "          epochs=100, \n",
    "          batch_size=32, \n",
    "          verbose=1)\n",
    "\n",
    "print(model.evaluate(X_test, y_test_cat, verbose=0)[1])"
   ]
  },
  {
   "cell_type": "markdown",
   "id": "9028c8c4",
   "metadata": {
    "heading_collapsed": true
   },
   "source": [
    "## CNN 1.5 Dropout, Hidden Layer 30% => 39,9%"
   ]
  },
  {
   "cell_type": "code",
   "execution_count": 82,
   "id": "b81526c5",
   "metadata": {
    "hidden": true
   },
   "outputs": [
    {
     "name": "stdout",
     "output_type": "stream",
     "text": [
      "Model: \"sequential_48\"\n",
      "_________________________________________________________________\n",
      "Layer (type)                 Output Shape              Param #   \n",
      "=================================================================\n",
      "conv2d_51 (Conv2D)           (None, 97, 97, 8)         392       \n",
      "_________________________________________________________________\n",
      "max_pooling2d_51 (MaxPooling (None, 48, 48, 8)         0         \n",
      "_________________________________________________________________\n",
      "flatten_47 (Flatten)         (None, 18432)             0         \n",
      "_________________________________________________________________\n",
      "dense_115 (Dense)            (None, 100)               1843300   \n",
      "_________________________________________________________________\n",
      "dropout_16 (Dropout)         (None, 100)               0         \n",
      "_________________________________________________________________\n",
      "dense_116 (Dense)            (None, 10)                1010      \n",
      "=================================================================\n",
      "Total params: 1,844,702\n",
      "Trainable params: 1,844,702\n",
      "Non-trainable params: 0\n",
      "_________________________________________________________________\n",
      "None\n",
      "Epoch 1/100\n",
      "434/434 [==============================] - 39s 89ms/step - loss: 1.9573 - accuracy: 0.2695 - val_loss: 1.7112 - val_accuracy: 0.3723\n",
      "Epoch 2/100\n",
      "434/434 [==============================] - 29s 67ms/step - loss: 1.7220 - accuracy: 0.3459 - val_loss: 1.6392 - val_accuracy: 0.3773\n",
      "Epoch 3/100\n",
      "434/434 [==============================] - 27s 63ms/step - loss: 1.6390 - accuracy: 0.3670 - val_loss: 1.6234 - val_accuracy: 0.3846\n",
      "Epoch 4/100\n",
      "434/434 [==============================] - 25s 59ms/step - loss: 1.5932 - accuracy: 0.3767 - val_loss: 1.5864 - val_accuracy: 0.3965\n",
      "Epoch 5/100\n",
      "434/434 [==============================] - 25s 58ms/step - loss: 1.5534 - accuracy: 0.3959 - val_loss: 1.5586 - val_accuracy: 0.4004\n",
      "Epoch 6/100\n",
      "434/434 [==============================] - 26s 60ms/step - loss: 1.5146 - accuracy: 0.4081 - val_loss: 1.5731 - val_accuracy: 0.3943\n",
      "Epoch 7/100\n",
      "434/434 [==============================] - 25s 58ms/step - loss: 1.4779 - accuracy: 0.4143 - val_loss: 1.5455 - val_accuracy: 0.3967\n",
      "Epoch 8/100\n",
      "434/434 [==============================] - 26s 61ms/step - loss: 1.4561 - accuracy: 0.4233 - val_loss: 1.5673 - val_accuracy: 0.3955\n",
      "Epoch 9/100\n",
      "434/434 [==============================] - 26s 61ms/step - loss: 1.4235 - accuracy: 0.4375 - val_loss: 1.5729 - val_accuracy: 0.4047\n",
      "Epoch 10/100\n",
      "434/434 [==============================] - 26s 59ms/step - loss: 1.3948 - accuracy: 0.4437 - val_loss: 1.5822 - val_accuracy: 0.4005\n",
      "Epoch 11/100\n",
      "434/434 [==============================] - 26s 59ms/step - loss: 1.3773 - accuracy: 0.4481 - val_loss: 1.6173 - val_accuracy: 0.3958\n",
      "Epoch 12/100\n",
      "434/434 [==============================] - 26s 59ms/step - loss: 1.3593 - accuracy: 0.4575 - val_loss: 1.6048 - val_accuracy: 0.3950\n",
      "Epoch 13/100\n",
      "434/434 [==============================] - 26s 59ms/step - loss: 1.3273 - accuracy: 0.4688 - val_loss: 1.6038 - val_accuracy: 0.3992\n",
      "Epoch 14/100\n",
      "434/434 [==============================] - 26s 60ms/step - loss: 1.3066 - accuracy: 0.4747 - val_loss: 1.6560 - val_accuracy: 0.4036\n",
      "Epoch 15/100\n",
      "434/434 [==============================] - 27s 62ms/step - loss: 1.3004 - accuracy: 0.4762 - val_loss: 1.6508 - val_accuracy: 0.3994\n",
      "Epoch 16/100\n",
      "434/434 [==============================] - 27s 62ms/step - loss: 1.2648 - accuracy: 0.4881 - val_loss: 1.6341 - val_accuracy: 0.4042\n",
      "Epoch 17/100\n",
      "434/434 [==============================] - 27s 62ms/step - loss: 1.2422 - accuracy: 0.4967 - val_loss: 1.7051 - val_accuracy: 0.3962\n",
      "0.3998182713985443\n"
     ]
    }
   ],
   "source": [
    "model = models.Sequential()\n",
    "### First convolution & max-pooling & Flattening\n",
    "model.add(layers.Conv2D(8, (4,4), input_shape=(100, 100, 3),activation='relu'))\n",
    "model.add(layers.MaxPool2D(pool_size=(2,2)))\n",
    "model.add(layers.Flatten())\n",
    "\n",
    "### Hidden Layers\n",
    "model.add(layers.Dense(100, activation='relu'))\n",
    "model.add(Dropout(0.3))\n",
    "\n",
    "### Last layer \n",
    "model.add(layers.Dense(10, activation='softmax'))\n",
    "\n",
    "### Model compilation\n",
    "model.compile(loss='categorical_crossentropy',\n",
    "          optimizer='adam',\n",
    "          metrics=['accuracy'])\n",
    "print(model.summary())\n",
    "\n",
    "es = EarlyStopping(patience=10,restore_best_weights=True)\n",
    "\n",
    "# YOUR CODE HERE\n",
    "model.fit(X_train, y_train_cat, \n",
    "          validation_split=0.3,\n",
    "          callbacks=[es],\n",
    "          epochs=100, \n",
    "          batch_size=32, \n",
    "          verbose=1)\n",
    "\n",
    "print(model.evaluate(X_test, y_test_cat, verbose=0)[1])"
   ]
  },
  {
   "cell_type": "markdown",
   "id": "e35c4dd7",
   "metadata": {
    "heading_collapsed": true
   },
   "source": [
    "## CNN 1.6 Dropout, Hidden Layer 20% => 41,4%"
   ]
  },
  {
   "cell_type": "code",
   "execution_count": 77,
   "id": "ef1490fa",
   "metadata": {
    "hidden": true
   },
   "outputs": [
    {
     "name": "stdout",
     "output_type": "stream",
     "text": [
      "Model: \"sequential_44\"\n",
      "_________________________________________________________________\n",
      "Layer (type)                 Output Shape              Param #   \n",
      "=================================================================\n",
      "conv2d_43 (Conv2D)           (None, 97, 97, 8)         392       \n",
      "_________________________________________________________________\n",
      "max_pooling2d_43 (MaxPooling (None, 48, 48, 8)         0         \n",
      "_________________________________________________________________\n",
      "flatten_43 (Flatten)         (None, 18432)             0         \n",
      "_________________________________________________________________\n",
      "dense_107 (Dense)            (None, 100)               1843300   \n",
      "_________________________________________________________________\n",
      "dropout_6 (Dropout)          (None, 100)               0         \n",
      "_________________________________________________________________\n",
      "dense_108 (Dense)            (None, 10)                1010      \n",
      "=================================================================\n",
      "Total params: 1,844,702\n",
      "Trainable params: 1,844,702\n",
      "Non-trainable params: 0\n",
      "_________________________________________________________________\n",
      "None\n",
      "Epoch 1/100\n",
      "434/434 [==============================] - 42s 94ms/step - loss: 1.9801 - accuracy: 0.2648 - val_loss: 1.6942 - val_accuracy: 0.3692\n",
      "Epoch 2/100\n",
      "177/434 [===========>..................] - ETA: 19s - loss: 1.6963 - accuracy: 0.3531"
     ]
    },
    {
     "ename": "KeyboardInterrupt",
     "evalue": "",
     "output_type": "error",
     "traceback": [
      "\u001b[0;31m---------------------------------------------------------------------------\u001b[0m",
      "\u001b[0;31mKeyboardInterrupt\u001b[0m                         Traceback (most recent call last)",
      "\u001b[0;32m<ipython-input-77-0bab6dc7c9a5>\u001b[0m in \u001b[0;36m<module>\u001b[0;34m\u001b[0m\n\u001b[1;32m     21\u001b[0m \u001b[0;34m\u001b[0m\u001b[0m\n\u001b[1;32m     22\u001b[0m \u001b[0;31m# YOUR CODE HERE\u001b[0m\u001b[0;34m\u001b[0m\u001b[0;34m\u001b[0m\u001b[0;34m\u001b[0m\u001b[0m\n\u001b[0;32m---> 23\u001b[0;31m model.fit(X_train, y_train_cat, \n\u001b[0m\u001b[1;32m     24\u001b[0m           \u001b[0mvalidation_split\u001b[0m\u001b[0;34m=\u001b[0m\u001b[0;36m0.3\u001b[0m\u001b[0;34m,\u001b[0m\u001b[0;34m\u001b[0m\u001b[0;34m\u001b[0m\u001b[0m\n\u001b[1;32m     25\u001b[0m           \u001b[0mcallbacks\u001b[0m\u001b[0;34m=\u001b[0m\u001b[0;34m[\u001b[0m\u001b[0mes\u001b[0m\u001b[0;34m]\u001b[0m\u001b[0;34m,\u001b[0m\u001b[0;34m\u001b[0m\u001b[0;34m\u001b[0m\u001b[0m\n",
      "\u001b[0;32m~/.pyenv/versions/3.8.6/envs/AgeDetection/lib/python3.8/site-packages/tensorflow/python/keras/engine/training.py\u001b[0m in \u001b[0;36mfit\u001b[0;34m(self, x, y, batch_size, epochs, verbose, callbacks, validation_split, validation_data, shuffle, class_weight, sample_weight, initial_epoch, steps_per_epoch, validation_steps, validation_batch_size, validation_freq, max_queue_size, workers, use_multiprocessing)\u001b[0m\n\u001b[1;32m   1181\u001b[0m                 _r=1):\n\u001b[1;32m   1182\u001b[0m               \u001b[0mcallbacks\u001b[0m\u001b[0;34m.\u001b[0m\u001b[0mon_train_batch_begin\u001b[0m\u001b[0;34m(\u001b[0m\u001b[0mstep\u001b[0m\u001b[0;34m)\u001b[0m\u001b[0;34m\u001b[0m\u001b[0;34m\u001b[0m\u001b[0m\n\u001b[0;32m-> 1183\u001b[0;31m               \u001b[0mtmp_logs\u001b[0m \u001b[0;34m=\u001b[0m \u001b[0mself\u001b[0m\u001b[0;34m.\u001b[0m\u001b[0mtrain_function\u001b[0m\u001b[0;34m(\u001b[0m\u001b[0miterator\u001b[0m\u001b[0;34m)\u001b[0m\u001b[0;34m\u001b[0m\u001b[0;34m\u001b[0m\u001b[0m\n\u001b[0m\u001b[1;32m   1184\u001b[0m               \u001b[0;32mif\u001b[0m \u001b[0mdata_handler\u001b[0m\u001b[0;34m.\u001b[0m\u001b[0mshould_sync\u001b[0m\u001b[0;34m:\u001b[0m\u001b[0;34m\u001b[0m\u001b[0;34m\u001b[0m\u001b[0m\n\u001b[1;32m   1185\u001b[0m                 \u001b[0mcontext\u001b[0m\u001b[0;34m.\u001b[0m\u001b[0masync_wait\u001b[0m\u001b[0;34m(\u001b[0m\u001b[0;34m)\u001b[0m\u001b[0;34m\u001b[0m\u001b[0;34m\u001b[0m\u001b[0m\n",
      "\u001b[0;32m~/.pyenv/versions/3.8.6/envs/AgeDetection/lib/python3.8/site-packages/tensorflow/python/eager/def_function.py\u001b[0m in \u001b[0;36m__call__\u001b[0;34m(self, *args, **kwds)\u001b[0m\n\u001b[1;32m    887\u001b[0m \u001b[0;34m\u001b[0m\u001b[0m\n\u001b[1;32m    888\u001b[0m       \u001b[0;32mwith\u001b[0m \u001b[0mOptionalXlaContext\u001b[0m\u001b[0;34m(\u001b[0m\u001b[0mself\u001b[0m\u001b[0;34m.\u001b[0m\u001b[0m_jit_compile\u001b[0m\u001b[0;34m)\u001b[0m\u001b[0;34m:\u001b[0m\u001b[0;34m\u001b[0m\u001b[0;34m\u001b[0m\u001b[0m\n\u001b[0;32m--> 889\u001b[0;31m         \u001b[0mresult\u001b[0m \u001b[0;34m=\u001b[0m \u001b[0mself\u001b[0m\u001b[0;34m.\u001b[0m\u001b[0m_call\u001b[0m\u001b[0;34m(\u001b[0m\u001b[0;34m*\u001b[0m\u001b[0margs\u001b[0m\u001b[0;34m,\u001b[0m \u001b[0;34m**\u001b[0m\u001b[0mkwds\u001b[0m\u001b[0;34m)\u001b[0m\u001b[0;34m\u001b[0m\u001b[0;34m\u001b[0m\u001b[0m\n\u001b[0m\u001b[1;32m    890\u001b[0m \u001b[0;34m\u001b[0m\u001b[0m\n\u001b[1;32m    891\u001b[0m       \u001b[0mnew_tracing_count\u001b[0m \u001b[0;34m=\u001b[0m \u001b[0mself\u001b[0m\u001b[0;34m.\u001b[0m\u001b[0mexperimental_get_tracing_count\u001b[0m\u001b[0;34m(\u001b[0m\u001b[0;34m)\u001b[0m\u001b[0;34m\u001b[0m\u001b[0;34m\u001b[0m\u001b[0m\n",
      "\u001b[0;32m~/.pyenv/versions/3.8.6/envs/AgeDetection/lib/python3.8/site-packages/tensorflow/python/eager/def_function.py\u001b[0m in \u001b[0;36m_call\u001b[0;34m(self, *args, **kwds)\u001b[0m\n\u001b[1;32m    915\u001b[0m       \u001b[0;31m# In this case we have created variables on the first call, so we run the\u001b[0m\u001b[0;34m\u001b[0m\u001b[0;34m\u001b[0m\u001b[0;34m\u001b[0m\u001b[0m\n\u001b[1;32m    916\u001b[0m       \u001b[0;31m# defunned version which is guaranteed to never create variables.\u001b[0m\u001b[0;34m\u001b[0m\u001b[0;34m\u001b[0m\u001b[0;34m\u001b[0m\u001b[0m\n\u001b[0;32m--> 917\u001b[0;31m       \u001b[0;32mreturn\u001b[0m \u001b[0mself\u001b[0m\u001b[0;34m.\u001b[0m\u001b[0m_stateless_fn\u001b[0m\u001b[0;34m(\u001b[0m\u001b[0;34m*\u001b[0m\u001b[0margs\u001b[0m\u001b[0;34m,\u001b[0m \u001b[0;34m**\u001b[0m\u001b[0mkwds\u001b[0m\u001b[0;34m)\u001b[0m  \u001b[0;31m# pylint: disable=not-callable\u001b[0m\u001b[0;34m\u001b[0m\u001b[0;34m\u001b[0m\u001b[0m\n\u001b[0m\u001b[1;32m    918\u001b[0m     \u001b[0;32melif\u001b[0m \u001b[0mself\u001b[0m\u001b[0;34m.\u001b[0m\u001b[0m_stateful_fn\u001b[0m \u001b[0;32mis\u001b[0m \u001b[0;32mnot\u001b[0m \u001b[0;32mNone\u001b[0m\u001b[0;34m:\u001b[0m\u001b[0;34m\u001b[0m\u001b[0;34m\u001b[0m\u001b[0m\n\u001b[1;32m    919\u001b[0m       \u001b[0;31m# Release the lock early so that multiple threads can perform the call\u001b[0m\u001b[0;34m\u001b[0m\u001b[0;34m\u001b[0m\u001b[0;34m\u001b[0m\u001b[0m\n",
      "\u001b[0;32m~/.pyenv/versions/3.8.6/envs/AgeDetection/lib/python3.8/site-packages/tensorflow/python/eager/function.py\u001b[0m in \u001b[0;36m__call__\u001b[0;34m(self, *args, **kwargs)\u001b[0m\n\u001b[1;32m   3021\u001b[0m       (graph_function,\n\u001b[1;32m   3022\u001b[0m        filtered_flat_args) = self._maybe_define_function(args, kwargs)\n\u001b[0;32m-> 3023\u001b[0;31m     return graph_function._call_flat(\n\u001b[0m\u001b[1;32m   3024\u001b[0m         filtered_flat_args, captured_inputs=graph_function.captured_inputs)  # pylint: disable=protected-access\n\u001b[1;32m   3025\u001b[0m \u001b[0;34m\u001b[0m\u001b[0m\n",
      "\u001b[0;32m~/.pyenv/versions/3.8.6/envs/AgeDetection/lib/python3.8/site-packages/tensorflow/python/eager/function.py\u001b[0m in \u001b[0;36m_call_flat\u001b[0;34m(self, args, captured_inputs, cancellation_manager)\u001b[0m\n\u001b[1;32m   1958\u001b[0m         and executing_eagerly):\n\u001b[1;32m   1959\u001b[0m       \u001b[0;31m# No tape is watching; skip to running the function.\u001b[0m\u001b[0;34m\u001b[0m\u001b[0;34m\u001b[0m\u001b[0;34m\u001b[0m\u001b[0m\n\u001b[0;32m-> 1960\u001b[0;31m       return self._build_call_outputs(self._inference_function.call(\n\u001b[0m\u001b[1;32m   1961\u001b[0m           ctx, args, cancellation_manager=cancellation_manager))\n\u001b[1;32m   1962\u001b[0m     forward_backward = self._select_forward_and_backward_functions(\n",
      "\u001b[0;32m~/.pyenv/versions/3.8.6/envs/AgeDetection/lib/python3.8/site-packages/tensorflow/python/eager/function.py\u001b[0m in \u001b[0;36mcall\u001b[0;34m(self, ctx, args, cancellation_manager)\u001b[0m\n\u001b[1;32m    589\u001b[0m       \u001b[0;32mwith\u001b[0m \u001b[0m_InterpolateFunctionError\u001b[0m\u001b[0;34m(\u001b[0m\u001b[0mself\u001b[0m\u001b[0;34m)\u001b[0m\u001b[0;34m:\u001b[0m\u001b[0;34m\u001b[0m\u001b[0;34m\u001b[0m\u001b[0m\n\u001b[1;32m    590\u001b[0m         \u001b[0;32mif\u001b[0m \u001b[0mcancellation_manager\u001b[0m \u001b[0;32mis\u001b[0m \u001b[0;32mNone\u001b[0m\u001b[0;34m:\u001b[0m\u001b[0;34m\u001b[0m\u001b[0;34m\u001b[0m\u001b[0m\n\u001b[0;32m--> 591\u001b[0;31m           outputs = execute.execute(\n\u001b[0m\u001b[1;32m    592\u001b[0m               \u001b[0mstr\u001b[0m\u001b[0;34m(\u001b[0m\u001b[0mself\u001b[0m\u001b[0;34m.\u001b[0m\u001b[0msignature\u001b[0m\u001b[0;34m.\u001b[0m\u001b[0mname\u001b[0m\u001b[0;34m)\u001b[0m\u001b[0;34m,\u001b[0m\u001b[0;34m\u001b[0m\u001b[0;34m\u001b[0m\u001b[0m\n\u001b[1;32m    593\u001b[0m               \u001b[0mnum_outputs\u001b[0m\u001b[0;34m=\u001b[0m\u001b[0mself\u001b[0m\u001b[0;34m.\u001b[0m\u001b[0m_num_outputs\u001b[0m\u001b[0;34m,\u001b[0m\u001b[0;34m\u001b[0m\u001b[0;34m\u001b[0m\u001b[0m\n",
      "\u001b[0;32m~/.pyenv/versions/3.8.6/envs/AgeDetection/lib/python3.8/site-packages/tensorflow/python/eager/execute.py\u001b[0m in \u001b[0;36mquick_execute\u001b[0;34m(op_name, num_outputs, inputs, attrs, ctx, name)\u001b[0m\n\u001b[1;32m     57\u001b[0m   \u001b[0;32mtry\u001b[0m\u001b[0;34m:\u001b[0m\u001b[0;34m\u001b[0m\u001b[0;34m\u001b[0m\u001b[0m\n\u001b[1;32m     58\u001b[0m     \u001b[0mctx\u001b[0m\u001b[0;34m.\u001b[0m\u001b[0mensure_initialized\u001b[0m\u001b[0;34m(\u001b[0m\u001b[0;34m)\u001b[0m\u001b[0;34m\u001b[0m\u001b[0;34m\u001b[0m\u001b[0m\n\u001b[0;32m---> 59\u001b[0;31m     tensors = pywrap_tfe.TFE_Py_Execute(ctx._handle, device_name, op_name,\n\u001b[0m\u001b[1;32m     60\u001b[0m                                         inputs, attrs, num_outputs)\n\u001b[1;32m     61\u001b[0m   \u001b[0;32mexcept\u001b[0m \u001b[0mcore\u001b[0m\u001b[0;34m.\u001b[0m\u001b[0m_NotOkStatusException\u001b[0m \u001b[0;32mas\u001b[0m \u001b[0me\u001b[0m\u001b[0;34m:\u001b[0m\u001b[0;34m\u001b[0m\u001b[0;34m\u001b[0m\u001b[0m\n",
      "\u001b[0;31mKeyboardInterrupt\u001b[0m: "
     ]
    }
   ],
   "source": [
    "model = models.Sequential()\n",
    "### First convolution & max-pooling & Flattening\n",
    "model.add(layers.Conv2D(8, (4,4), input_shape=(100, 100, 3),activation='relu'))\n",
    "model.add(layers.MaxPool2D(pool_size=(2,2)))\n",
    "model.add(layers.Flatten())\n",
    "\n",
    "### Hidden Layers\n",
    "model.add(layers.Dense(100, activation='relu'))\n",
    "model.add(Dropout(0.2))\n",
    "\n",
    "### Last layer \n",
    "model.add(layers.Dense(10, activation='softmax'))\n",
    "\n",
    "### Model compilation\n",
    "model.compile(loss='categorical_crossentropy',\n",
    "          optimizer='adam',\n",
    "          metrics=['accuracy'])\n",
    "print(model.summary())\n",
    "\n",
    "es = EarlyStopping(patience=10,restore_best_weights=True)\n",
    "\n",
    "# YOUR CODE HERE\n",
    "model.fit(X_train, y_train_cat, \n",
    "          validation_split=0.3,\n",
    "          callbacks=[es],\n",
    "          epochs=100, \n",
    "          batch_size=32, \n",
    "          verbose=1)\n",
    "\n",
    "print(model.evaluate(X_test, y_test_cat, verbose=0)[1])"
   ]
  },
  {
   "cell_type": "markdown",
   "id": "7a53c325",
   "metadata": {
    "heading_collapsed": true
   },
   "source": [
    "## CNN 2 Something new (Copy from Cifar Classification) 42,2 %"
   ]
  },
  {
   "cell_type": "code",
   "execution_count": 79,
   "id": "369ac28c",
   "metadata": {
    "hidden": true,
    "scrolled": false
   },
   "outputs": [
    {
     "name": "stdout",
     "output_type": "stream",
     "text": [
      "Model: \"sequential_46\"\n",
      "_________________________________________________________________\n",
      "Layer (type)                 Output Shape              Param #   \n",
      "=================================================================\n",
      "conv2d_47 (Conv2D)           (None, 100, 100, 32)      896       \n",
      "_________________________________________________________________\n",
      "max_pooling2d_47 (MaxPooling (None, 50, 50, 32)        0         \n",
      "_________________________________________________________________\n",
      "dropout_11 (Dropout)         (None, 50, 50, 32)        0         \n",
      "_________________________________________________________________\n",
      "conv2d_48 (Conv2D)           (None, 50, 50, 64)        18496     \n",
      "_________________________________________________________________\n",
      "max_pooling2d_48 (MaxPooling (None, 25, 25, 64)        0         \n",
      "_________________________________________________________________\n",
      "dropout_12 (Dropout)         (None, 25, 25, 64)        0         \n",
      "_________________________________________________________________\n",
      "conv2d_49 (Conv2D)           (None, 25, 25, 128)       32896     \n",
      "_________________________________________________________________\n",
      "dropout_13 (Dropout)         (None, 25, 25, 128)       0         \n",
      "_________________________________________________________________\n",
      "max_pooling2d_49 (MaxPooling (None, 12, 12, 128)       0         \n",
      "_________________________________________________________________\n",
      "flatten_45 (Flatten)         (None, 18432)             0         \n",
      "_________________________________________________________________\n",
      "dense_111 (Dense)            (None, 100)               1843300   \n",
      "_________________________________________________________________\n",
      "dropout_14 (Dropout)         (None, 100)               0         \n",
      "_________________________________________________________________\n",
      "dense_112 (Dense)            (None, 10)                1010      \n",
      "=================================================================\n",
      "Total params: 1,896,598\n",
      "Trainable params: 1,896,598\n",
      "Non-trainable params: 0\n",
      "_________________________________________________________________\n",
      "None\n",
      "Epoch 1/100\n",
      "434/434 [==============================] - 136s 311ms/step - loss: 2.0245 - accuracy: 0.2451 - val_loss: 1.7884 - val_accuracy: 0.3585\n",
      "Epoch 2/100\n",
      "434/434 [==============================] - 133s 307ms/step - loss: 1.7771 - accuracy: 0.3279 - val_loss: 1.6678 - val_accuracy: 0.3881\n",
      "Epoch 3/100\n",
      "434/434 [==============================] - 125s 288ms/step - loss: 1.6792 - accuracy: 0.3572 - val_loss: 1.6075 - val_accuracy: 0.3957\n",
      "Epoch 4/100\n",
      "434/434 [==============================] - 124s 286ms/step - loss: 1.6311 - accuracy: 0.3673 - val_loss: 1.6211 - val_accuracy: 0.3989\n",
      "Epoch 5/100\n",
      "434/434 [==============================] - 125s 288ms/step - loss: 1.5686 - accuracy: 0.3851 - val_loss: 1.5118 - val_accuracy: 0.4194\n",
      "Epoch 6/100\n",
      "434/434 [==============================] - 124s 286ms/step - loss: 1.5420 - accuracy: 0.3922 - val_loss: 1.4895 - val_accuracy: 0.4204\n",
      "Epoch 7/100\n",
      "434/434 [==============================] - 124s 287ms/step - loss: 1.5087 - accuracy: 0.4059 - val_loss: 1.5167 - val_accuracy: 0.4271\n",
      "Epoch 8/100\n",
      "434/434 [==============================] - 126s 289ms/step - loss: 1.4647 - accuracy: 0.4179 - val_loss: 1.4911 - val_accuracy: 0.4270\n",
      "Epoch 9/100\n",
      "434/434 [==============================] - 125s 287ms/step - loss: 1.4522 - accuracy: 0.4207 - val_loss: 1.4856 - val_accuracy: 0.4212\n",
      "Epoch 10/100\n",
      "434/434 [==============================] - 129s 298ms/step - loss: 1.4319 - accuracy: 0.4306 - val_loss: 1.4486 - val_accuracy: 0.4330\n",
      "Epoch 11/100\n",
      "434/434 [==============================] - 126s 290ms/step - loss: 1.4147 - accuracy: 0.4315 - val_loss: 1.4899 - val_accuracy: 0.4184\n",
      "Epoch 12/100\n",
      "434/434 [==============================] - 124s 285ms/step - loss: 1.3913 - accuracy: 0.4346 - val_loss: 1.4492 - val_accuracy: 0.4315\n",
      "Epoch 13/100\n",
      "434/434 [==============================] - 125s 289ms/step - loss: 1.3650 - accuracy: 0.4472 - val_loss: 1.4696 - val_accuracy: 0.4317\n",
      "Epoch 14/100\n",
      "434/434 [==============================] - 126s 290ms/step - loss: 1.3630 - accuracy: 0.4477 - val_loss: 1.4551 - val_accuracy: 0.4382\n",
      "Epoch 15/100\n",
      "434/434 [==============================] - 129s 298ms/step - loss: 1.3462 - accuracy: 0.4577 - val_loss: 1.4473 - val_accuracy: 0.4357\n",
      "Epoch 16/100\n",
      "434/434 [==============================] - 169s 390ms/step - loss: 1.3173 - accuracy: 0.4633 - val_loss: 1.4554 - val_accuracy: 0.4323\n",
      "Epoch 17/100\n",
      "434/434 [==============================] - 168s 388ms/step - loss: 1.3102 - accuracy: 0.4641 - val_loss: 1.4543 - val_accuracy: 0.4354\n",
      "Epoch 18/100\n",
      "434/434 [==============================] - 167s 385ms/step - loss: 1.2979 - accuracy: 0.4677 - val_loss: 1.4671 - val_accuracy: 0.4315\n",
      "Epoch 19/100\n",
      "434/434 [==============================] - 161s 371ms/step - loss: 1.2891 - accuracy: 0.4713 - val_loss: 1.4735 - val_accuracy: 0.4317\n",
      "Epoch 20/100\n",
      "434/434 [==============================] - 171s 395ms/step - loss: 1.2667 - accuracy: 0.4829 - val_loss: 1.4750 - val_accuracy: 0.4318\n",
      "Epoch 21/100\n",
      "434/434 [==============================] - 215s 497ms/step - loss: 1.2563 - accuracy: 0.4846 - val_loss: 1.4708 - val_accuracy: 0.4352\n",
      "Epoch 22/100\n",
      "434/434 [==============================] - 205s 471ms/step - loss: 1.2508 - accuracy: 0.4854 - val_loss: 1.4581 - val_accuracy: 0.4381\n",
      "Epoch 23/100\n",
      "434/434 [==============================] - 184s 423ms/step - loss: 1.2359 - accuracy: 0.4916 - val_loss: 1.4998 - val_accuracy: 0.4310\n",
      "Epoch 24/100\n",
      "434/434 [==============================] - 207s 478ms/step - loss: 1.2239 - accuracy: 0.4999 - val_loss: 1.4879 - val_accuracy: 0.4354\n",
      "Epoch 25/100\n",
      "434/434 [==============================] - 137s 315ms/step - loss: 1.2129 - accuracy: 0.5001 - val_loss: 1.4743 - val_accuracy: 0.4362\n"
     ]
    },
    {
     "data": {
      "text/plain": [
       "<tensorflow.python.keras.callbacks.History at 0x1672fd6d0>"
      ]
     },
     "execution_count": 79,
     "metadata": {},
     "output_type": "execute_result"
    }
   ],
   "source": [
    "model = models.Sequential()\n",
    "model.add(Conv2D(32, (3, 3), activation='relu', padding='same', input_shape=(100, 100, 3)))\n",
    "#model.add(Conv2D(32, (3, 3), activation='relu', padding='same'))\n",
    "model.add(MaxPooling2D((2, 2)))\n",
    "model.add(Dropout(0.2))\n",
    "model.add(Conv2D(64, (3, 3), activation='relu', padding='same'))\n",
    "#model.add(Conv2D(64, (3, 3), activation='relu', padding='same'))\n",
    "model.add(MaxPooling2D((2, 2)))\n",
    "model.add(Dropout(0.2))\n",
    "model.add(Conv2D(128, (2, 2), activation='relu', padding='same'))\n",
    "#model.add(Conv2D(128, (3, 3), activation='relu', padding='same'))\n",
    "model.add(Dropout(0.3))\n",
    "model.add(MaxPooling2D((2, 2)))\n",
    "\n",
    "model.add(Flatten())\n",
    "model.add(Dense(100, activation='relu'))\n",
    "model.add(Dropout(0.4))\n",
    "model.add(Dense(10, activation='softmax'))\n",
    "\n",
    "model.compile(loss='categorical_crossentropy',\n",
    "              optimizer='adam',\n",
    "              metrics=['accuracy'])\n",
    "\n",
    "print(model.summary())\n",
    "\n",
    "es = EarlyStopping(patience=10,restore_best_weights=True)\n",
    "\n",
    "# YOUR CODE HERE\n",
    "model.fit(X_train, y_train_cat, \n",
    "          validation_split=0.3,\n",
    "          callbacks=[es],\n",
    "          epochs=100, \n",
    "          batch_size=32, \n",
    "          verbose=1)"
   ]
  },
  {
   "cell_type": "code",
   "execution_count": 80,
   "id": "e358eaf1",
   "metadata": {
    "hidden": true
   },
   "outputs": [
    {
     "name": "stdout",
     "output_type": "stream",
     "text": [
      "0.4220808744430542\n"
     ]
    }
   ],
   "source": [
    "print(model.evaluate(X_test, y_test_cat, verbose=0)[1])"
   ]
  },
  {
   "cell_type": "code",
   "execution_count": null,
   "id": "f0a271b3",
   "metadata": {
    "hidden": true
   },
   "outputs": [],
   "source": []
  },
  {
   "cell_type": "code",
   "execution_count": null,
   "id": "b4b8ac49",
   "metadata": {
    "hidden": true
   },
   "outputs": [],
   "source": []
  },
  {
   "cell_type": "code",
   "execution_count": null,
   "id": "c09164c7",
   "metadata": {
    "hidden": true
   },
   "outputs": [],
   "source": []
  },
  {
   "cell_type": "code",
   "execution_count": null,
   "id": "4b9a8442",
   "metadata": {
    "hidden": true
   },
   "outputs": [],
   "source": []
  }
 ],
 "metadata": {
  "colab": {
   "name": "felixfa_data_exploration_visualization.ipynb",
   "provenance": [],
   "toc_visible": true
  },
  "kernelspec": {
   "display_name": "Python 3",
   "language": "python",
   "name": "python3"
  },
  "language_info": {
   "codemirror_mode": {
    "name": "ipython",
    "version": 3
   },
   "file_extension": ".py",
   "mimetype": "text/x-python",
   "name": "python",
   "nbconvert_exporter": "python",
   "pygments_lexer": "ipython3",
   "version": "3.8.6"
  },
  "toc": {
   "base_numbering": 1,
   "nav_menu": {},
   "number_sections": false,
   "sideBar": true,
   "skip_h1_title": false,
   "title_cell": "Table of Contents",
   "title_sidebar": "Contents",
   "toc_cell": false,
   "toc_position": {},
   "toc_section_display": true,
   "toc_window_display": false
  }
 },
 "nbformat": 4,
 "nbformat_minor": 5
}
