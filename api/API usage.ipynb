{
 "cells": [
  {
   "cell_type": "code",
   "execution_count": 32,
   "metadata": {},
   "outputs": [
    {
     "name": "stdout",
     "output_type": "stream",
     "text": [
      "53\n"
     ]
    }
   ],
   "source": [
    "import requests\n",
    "\n",
    "# fill the parameters for the prediction\n",
    "params = dict(\n",
    "  pickup_datetime='2012-10-06 12:10:20',\n",
    "  pickup_longitude=40.7614327,\n",
    "  pickup_latitude=-73.9798156,\n",
    "  dropoff_longitude=40.6413111,\n",
    "  dropoff_latitude=-73.9797156,\n",
    "  passenger_count=1\n",
    ")\n",
    "\n",
    "x = dict(\n",
    "  key='2012-10-06 12:10:20.0000001',\n",
    "  pickup_datetime='2021-10-06 12:10:20 UTC',\n",
    "  pickup_longitude=40.7614327,\n",
    "  pickup_latitude=-72.9798156,\n",
    "  dropoff_longitude=40.6331166,\n",
    "  dropoff_latitude=-73.8874078,    \n",
    "  passenger_count=2\n",
    ")\n",
    "\n",
    "# build the URL (server DNS, port, API endpoint, parameters)\n",
    "#taxifare_api_url = f\"http://127.0.0.1:8000/predict_fare/{x['key']}/{x['pickup_datetime']}/{x['pickup_longitude']}/{x['pickup_latitude']}/{x['dropoff_longitude']}/{x['dropoff_latitude']}/{x['passenger_count']}\"\n",
    "\n",
    "taxifare_api_url = f\"http://127.0.0.1:8000/predict_fare?key={x['key']}&pickup_datetime={x['pickup_datetime']}&pickup_longitude={x['pickup_longitude']}&pickup_latitude={x['pickup_latitude']}&dropoff_longitude={x['dropoff_longitude']}&dropoff_latitude={x['dropoff_latitude']}&passenger_count={x['passenger_count']}\"\n",
    "\n",
    "#taxifare_api_url = \"http://127.0.0.1:8080/predict_fare?key=2013-07-06%2017:18:00.0000001&pickup_datetime=2013-07-06%2017:18:00%20UTC&pickup_longitude=-73.950655&pickup_latitude=40.783282&dropoff_longitude=-73.984365&dropoff_latitude=40.769802&passenger_count=1\"\n",
    "\n",
    "taxifare_api_url = \"https://taxifare-v1-tyxhjmug3a-ew.a.run.app/predict_fare\"\n",
    "\n",
    "# retrieve the response\n",
    "response = requests.get(\n",
    "    taxifare_api_url,\n",
    "    params=params\n",
    ")\n",
    "\n",
    "if response.status_code == 200:\n",
    "    print(\"API call success\")\n",
    "else:\n",
    "    print(\"API call error\")\n",
    "\n",
    "response.status_code, response.json().get(\"prediction\", \"no prediction\"), response.json()\n"
   ]
  },
  {
   "cell_type": "markdown",
   "metadata": {},
   "source": [
    "###### taxifare_api_url"
   ]
  },
  {
   "cell_type": "code",
   "execution_count": 35,
   "metadata": {},
   "outputs": [],
   "source": [
    "params = {\n",
    "    \"pickup_datetime\": x['pickup_datetime'],\n",
    "    \"pickup_longitude\": x['pickup_longitude'],\n",
    "    \"pickup_latitude\": x['pickup_latitude'],\n",
    "    \"dropoff_longitude\": x['dropoff_longitude'],\n",
    "    \"dropoff_latitude\": x['dropoff_latitude'],\n",
    "    \"passenger_count\": x['passenger_count']\n",
    "}"
   ]
  },
  {
   "cell_type": "code",
   "execution_count": 36,
   "metadata": {},
   "outputs": [
    {
     "data": {
      "text/plain": [
       "{'pickup_datetime': 2,\n",
       " 'pickup_longitude': 40.7614327,\n",
       " 'pickup_latitude': -73.9798156,\n",
       " 'dropoff_longitude': 40.6331166,\n",
       " 'dropoff_latitude': -73.8874078,\n",
       " 'passenger_count': 2}"
      ]
     },
     "execution_count": 36,
     "metadata": {},
     "output_type": "execute_result"
    }
   ],
   "source": [
    "params"
   ]
  },
  {
   "cell_type": "code",
   "execution_count": 97,
   "metadata": {},
   "outputs": [],
   "source": [
    "import pandas as pd\n",
    "import joblib\n",
    "\n",
    "\n",
    "X_pred = pd.DataFrame([x.values()],columns=x.keys())\n",
    "\n",
    "model = joblib.load('../../../../../TaxiFareModel/teste.joblib')"
   ]
  },
  {
   "cell_type": "code",
   "execution_count": 100,
   "metadata": {},
   "outputs": [
    {
     "data": {
      "text/plain": [
       "30"
      ]
     },
     "execution_count": 100,
     "metadata": {},
     "output_type": "execute_result"
    }
   ],
   "source": [
    "pred = int(model.predict(X_pred))\n",
    "#X_pred\n",
    "pred"
   ]
  },
  {
   "cell_type": "code",
   "execution_count": null,
   "metadata": {},
   "outputs": [],
   "source": []
  }
 ],
 "metadata": {
  "hide_input": false,
  "kernelspec": {
   "display_name": "Python 3",
   "language": "python",
   "name": "python3"
  },
  "language_info": {
   "codemirror_mode": {
    "name": "ipython",
    "version": 3
   },
   "file_extension": ".py",
   "mimetype": "text/x-python",
   "name": "python",
   "nbconvert_exporter": "python",
   "pygments_lexer": "ipython3",
   "version": "3.8.6"
  },
  "toc": {
   "base_numbering": 1,
   "nav_menu": {},
   "number_sections": true,
   "sideBar": true,
   "skip_h1_title": false,
   "title_cell": "Table of Contents",
   "title_sidebar": "Contents",
   "toc_cell": false,
   "toc_position": {},
   "toc_section_display": true,
   "toc_window_display": false
  },
  "varInspector": {
   "cols": {
    "lenName": 16,
    "lenType": 16,
    "lenVar": 40
   },
   "kernels_config": {
    "python": {
     "delete_cmd_postfix": "",
     "delete_cmd_prefix": "del ",
     "library": "var_list.py",
     "varRefreshCmd": "print(var_dic_list())"
    },
    "r": {
     "delete_cmd_postfix": ") ",
     "delete_cmd_prefix": "rm(",
     "library": "var_list.r",
     "varRefreshCmd": "cat(var_dic_list()) "
    }
   },
   "types_to_exclude": [
    "module",
    "function",
    "builtin_function_or_method",
    "instance",
    "_Feature"
   ],
   "window_display": false
  }
 },
 "nbformat": 4,
 "nbformat_minor": 4
}
