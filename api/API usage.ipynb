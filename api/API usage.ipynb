{
 "cells": [
  {
   "cell_type": "code",
   "execution_count": 48,
   "metadata": {},
   "outputs": [
    {
     "name": "stdout",
     "output_type": "stream",
     "text": [
      "API call success\n"
     ]
    },
    {
     "data": {
      "text/plain": [
       "'../test_data/Tiago.png'"
      ]
     },
     "execution_count": 48,
     "metadata": {},
     "output_type": "execute_result"
    }
   ],
   "source": [
    "import requests\n",
    "\n",
    "# fill the parameters for the prediction\n",
    "\n",
    "#params = dict(\n",
    "\n",
    "\n",
    "# build the URL (server DNS, port, API endpoint, parameters)\n",
    "\n",
    "#agedetection_api_url = f\"http://127.0.0.1:8000/predict_fare?key={x['key']}&pickup_datetime={x['pickup_datetime']}&pickup_longitude={x['pickup_longitude']}&pickup_latitude={x['pickup_latitude']}&dropoff_longitude={x['dropoff_longitude']}&dropoff_latitude={x['dropoff_latitude']}&passenger_count={x['passenger_count']}\"\n",
    "#agedetection_api_url = \"https://taxifare-v1-tyxhjmug3a-ew.a.run.app/predict_fare\"\n",
    "\n",
    "array = cropped_array\n",
    "\n",
    "payload = {\n",
    "    \"image_array\":\"../test_data/Tiago.png\"\n",
    "   #1\n",
    "}\n",
    "\n",
    "agedetection_api_url = f\"http://127.0.0.1:8000/predict_age/\"#/?image_array={array}\"\n",
    "\n",
    "# retrieve the response\n",
    "response = requests.get(\n",
    "    agedetection_api_url,\n",
    "    params=payload\n",
    ")\n",
    "\n",
    "if response.status_code == 200:\n",
    "    print(\"API call success\")\n",
    "else:\n",
    "    print(\"API call error \", response.status_code)\n",
    "\n",
    "#response.json().get(\"prediction\", \"no prediction\")\n",
    "response.json()\n"
   ]
  },
  {
   "cell_type": "markdown",
   "metadata": {},
   "source": [
    "###### taxifare_api_url"
   ]
  },
  {
   "cell_type": "code",
   "execution_count": 97,
   "metadata": {},
   "outputs": [],
   "source": [
    "import pandas as pd\n",
    "import joblib\n",
    "\n",
    "\n",
    "X_pred = pd.DataFrame([x.values()],columns=x.keys())\n",
    "\n",
    "model = joblib.load('../../../../../TaxiFareModel/teste.joblib')"
   ]
  },
  {
   "cell_type": "code",
   "execution_count": 100,
   "metadata": {},
   "outputs": [
    {
     "data": {
      "text/plain": [
       "30"
      ]
     },
     "execution_count": 100,
     "metadata": {},
     "output_type": "execute_result"
    }
   ],
   "source": [
    "pred = int(model.predict(X_pred))\n",
    "#X_pred\n",
    "pred"
   ]
  },
  {
   "cell_type": "code",
   "execution_count": 51,
   "metadata": {},
   "outputs": [],
   "source": [
    "from autocrop import Cropper\n",
    "from tensorflow.keras import models\n",
    "\n",
    "cropper = Cropper(width=100, height=100)\n",
    "test_path = \"/home/fruntxas/code/felixfa/AgeDetection/test_data/\"\n",
    "cropped_array = cropper.crop(test_path+'Tiago.png')\n",
    "cropped_array = np.expand_dims(cropped_array, axis=0)\n",
    "cropped_array.shape\n",
    "\n",
    "\n",
    "model2_path = '/home/fruntxas/code/felixfa/AgeDetection/models/best_model2'\n",
    "model = models.load_model(model2_path)"
   ]
  },
  {
   "cell_type": "code",
   "execution_count": 52,
   "metadata": {},
   "outputs": [
    {
     "data": {
      "text/plain": [
       "'36-40'"
      ]
     },
     "execution_count": 52,
     "metadata": {},
     "output_type": "execute_result"
    }
   ],
   "source": [
    "y_pred = model.predict(cropped_array)\n",
    "y_pred = convert_number(int(np.argsort(y_pred[0])[-1]))\n",
    "y_pred"
   ]
  },
  {
   "cell_type": "code",
   "execution_count": 49,
   "metadata": {},
   "outputs": [
    {
     "data": {
      "text/plain": [
       "str"
      ]
     },
     "execution_count": 49,
     "metadata": {},
     "output_type": "execute_result"
    }
   ],
   "source": [
    "type(y_pred)"
   ]
  },
  {
   "cell_type": "code",
   "execution_count": 50,
   "metadata": {},
   "outputs": [
    {
     "data": {
      "text/plain": [
       "numpy.ndarray"
      ]
     },
     "execution_count": 50,
     "metadata": {},
     "output_type": "execute_result"
    }
   ],
   "source": [
    "type(array)"
   ]
  },
  {
   "cell_type": "code",
   "execution_count": null,
   "metadata": {},
   "outputs": [],
   "source": []
  },
  {
   "cell_type": "code",
   "execution_count": null,
   "metadata": {},
   "outputs": [],
   "source": []
  },
  {
   "cell_type": "code",
   "execution_count": null,
   "metadata": {},
   "outputs": [],
   "source": []
  },
  {
   "cell_type": "code",
   "execution_count": null,
   "metadata": {},
   "outputs": [],
   "source": []
  },
  {
   "cell_type": "code",
   "execution_count": null,
   "metadata": {},
   "outputs": [],
   "source": []
  },
  {
   "cell_type": "code",
   "execution_count": null,
   "metadata": {},
   "outputs": [],
   "source": []
  },
  {
   "cell_type": "code",
   "execution_count": 18,
   "metadata": {},
   "outputs": [],
   "source": [
    "def convert_number(num):\n",
    "    if num == 0:\n",
    "        return '1-5'\n",
    "    elif num == 1:\n",
    "        return '6-10'\n",
    "    elif num == 2:\n",
    "        return '11-15'\n",
    "    elif num == 3:\n",
    "        return '16-20'\n",
    "    elif num == 4:\n",
    "        return '21-25'\n",
    "    elif num == 5:\n",
    "        return '26-30'\n",
    "    elif num == 6:\n",
    "        return '31-35'\n",
    "    elif num == 7:\n",
    "        return '36-40'\n",
    "    elif num == 8:\n",
    "        return '41-45'\n",
    "    elif num == 9:\n",
    "        return '46-50'\n",
    "    elif num == 10:\n",
    "        return '51-55'\n",
    "    elif num == 11:\n",
    "        return '56-60'\n",
    "    elif num == 12:\n",
    "        return '61-65'\n",
    "    elif num == 13:\n",
    "        return '66-70'\n",
    "    elif num == 14:\n",
    "        return '71-75'\n",
    "    elif num == 15:\n",
    "        return '76-80'"
   ]
  },
  {
   "cell_type": "code",
   "execution_count": null,
   "metadata": {},
   "outputs": [],
   "source": []
  }
 ],
 "metadata": {
  "hide_input": false,
  "kernelspec": {
   "display_name": "Python 3",
   "language": "python",
   "name": "python3"
  },
  "language_info": {
   "codemirror_mode": {
    "name": "ipython",
    "version": 3
   },
   "file_extension": ".py",
   "mimetype": "text/x-python",
   "name": "python",
   "nbconvert_exporter": "python",
   "pygments_lexer": "ipython3",
   "version": "3.8.6"
  },
  "toc": {
   "base_numbering": 1,
   "nav_menu": {},
   "number_sections": true,
   "sideBar": true,
   "skip_h1_title": false,
   "title_cell": "Table of Contents",
   "title_sidebar": "Contents",
   "toc_cell": false,
   "toc_position": {},
   "toc_section_display": true,
   "toc_window_display": false
  },
  "varInspector": {
   "cols": {
    "lenName": 16,
    "lenType": 16,
    "lenVar": 40
   },
   "kernels_config": {
    "python": {
     "delete_cmd_postfix": "",
     "delete_cmd_prefix": "del ",
     "library": "var_list.py",
     "varRefreshCmd": "print(var_dic_list())"
    },
    "r": {
     "delete_cmd_postfix": ") ",
     "delete_cmd_prefix": "rm(",
     "library": "var_list.r",
     "varRefreshCmd": "cat(var_dic_list()) "
    }
   },
   "types_to_exclude": [
    "module",
    "function",
    "builtin_function_or_method",
    "instance",
    "_Feature"
   ],
   "window_display": false
  }
 },
 "nbformat": 4,
 "nbformat_minor": 4
}
